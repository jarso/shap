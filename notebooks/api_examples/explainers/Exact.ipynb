{
 "cells": [
  {
   "cell_type": "markdown",
   "metadata": {},
   "source": [
    "# `Exact` explainer\n",
    "\n",
    "This notebooks demonstrates how to use the Exact explainer on some simple datasets. The Exact explainer is model-agnostic, so it can compute Shapley values and Owen values exactly (without approximation) for any model. However, since it completely enumerates the space of masking patterns it has $O(2^M)$ complexity for Shapley values and $O(M^2)$ complexity for Owen values on a balanced clustering tree for M input features.\n",
    "\n",
    "Because the exact explainer knows that it is fully enumerating the masking space it can use optimizations that are not possible with random sampling based approaches, such as using a [grey code](https://en.wikipedia.org/wiki/Gray_code) ordering to minimize the number of inputs that change between successive masking patterns, and so potentially reduce the number of times the model needs to be called."
   ]
  },
  {
   "cell_type": "code",
   "execution_count": 1,
   "metadata": {
    "scrolled": false
   },
   "outputs": [
    {
     "name": "stderr",
     "output_type": "stream",
     "text": [
      "/home/jarek/projects/shap/venv/lib/python3.10/site-packages/tqdm/auto.py:22: TqdmWarning: IProgress not found. Please update jupyter and ipywidgets. See https://ipywidgets.readthedocs.io/en/stable/user_install.html\n",
      "  from .autonotebook import tqdm as notebook_tqdm\n"
     ]
    }
   ],
   "source": [
    "import shap\n",
    "import xgboost\n",
    "\n",
    "# get a dataset on income prediction\n",
    "X,y = shap.datasets.adult()\n",
    "\n",
    "# train an XGBoost model (but any other model type would also work)\n",
    "model = xgboost.XGBClassifier()\n",
    "model.fit(X, y);"
   ]
  },
  {
   "cell_type": "markdown",
   "metadata": {},
   "source": [
    "## Tabular data with independent (Shapley value) masking"
   ]
  },
  {
   "cell_type": "code",
   "execution_count": null,
   "metadata": {},
   "outputs": [],
   "source": [
    "# build an Exact explainer and explain the model predictions on the given dataset\n",
    "explainer = shap.explainers.Exact(model.predict_proba, X)\n",
    "shap_values = explainer(X[:100])\n",
    "\n",
    "# get just the explanations for the positive class\n",
    "shap_values = shap_values[...,1]\n",
    "print(shap_values )"
   ]
  },
  {
   "cell_type": "code",
   "execution_count": 4,
   "metadata": {},
   "outputs": [
    {
     "ename": "Exception",
     "evalue": "Model type not supported by TreeExplainer: <class 'xgboost.sklearn.XGBClassifier'>",
     "output_type": "error",
     "traceback": [
      "\u001b[0;31m---------------------------------------------------------------------------\u001b[0m",
      "\u001b[0;31mException\u001b[0m                                 Traceback (most recent call last)",
      "Input \u001b[0;32mIn [4]\u001b[0m, in \u001b[0;36m<cell line: 3>\u001b[0;34m()\u001b[0m\n\u001b[1;32m      1\u001b[0m \u001b[38;5;66;03m# same thing with TreeExplainer (pure python implementation)\u001b[39;00m\n\u001b[1;32m      2\u001b[0m \u001b[38;5;28;01mfrom\u001b[39;00m \u001b[38;5;21;01mshap\u001b[39;00m\u001b[38;5;21;01m.\u001b[39;00m\u001b[38;5;21;01mexplainers\u001b[39;00m \u001b[38;5;28;01mimport\u001b[39;00m pytree\n\u001b[0;32m----> 3\u001b[0m explainer \u001b[38;5;241m=\u001b[39m \u001b[43mshap\u001b[49m\u001b[38;5;241;43m.\u001b[39;49m\u001b[43mexplainers\u001b[49m\u001b[38;5;241;43m.\u001b[39;49m\u001b[43mpytree\u001b[49m\u001b[38;5;241;43m.\u001b[39;49m\u001b[43mTreeExplainer\u001b[49m\u001b[43m(\u001b[49m\u001b[43mmodel\u001b[49m\u001b[43m)\u001b[49m\n\u001b[1;32m      4\u001b[0m shap_values \u001b[38;5;241m=\u001b[39m explainer\u001b[38;5;241m.\u001b[39mshap_values(X)\n\u001b[1;32m      6\u001b[0m shap_values \u001b[38;5;241m=\u001b[39m shap_values[\u001b[38;5;241m.\u001b[39m\u001b[38;5;241m.\u001b[39m\u001b[38;5;241m.\u001b[39m,\u001b[38;5;241m1\u001b[39m]\n",
      "File \u001b[0;32m~/projects/shap/venv/lib/python3.10/site-packages/shap-0.40.0-py3.10-linux-x86_64.egg/shap/explainers/pytree.py:156\u001b[0m, in \u001b[0;36mTreeExplainer.__init__\u001b[0;34m(self, model, **kwargs)\u001b[0m\n\u001b[1;32m    154\u001b[0m     \u001b[38;5;28mself\u001b[39m\u001b[38;5;241m.\u001b[39mtrees \u001b[38;5;241m=\u001b[39m model\n\u001b[1;32m    155\u001b[0m \u001b[38;5;28;01melse\u001b[39;00m:\n\u001b[0;32m--> 156\u001b[0m     \u001b[38;5;28;01mraise\u001b[39;00m \u001b[38;5;167;01mException\u001b[39;00m(\u001b[38;5;124m\"\u001b[39m\u001b[38;5;124mModel type not supported by TreeExplainer: \u001b[39m\u001b[38;5;124m\"\u001b[39m \u001b[38;5;241m+\u001b[39m \u001b[38;5;28mstr\u001b[39m(\u001b[38;5;28mtype\u001b[39m(model)))\n\u001b[1;32m    158\u001b[0m \u001b[38;5;28;01mif\u001b[39;00m \u001b[38;5;28mself\u001b[39m\u001b[38;5;241m.\u001b[39mmodel_type \u001b[38;5;241m==\u001b[39m \u001b[38;5;124m\"\u001b[39m\u001b[38;5;124minternal\u001b[39m\u001b[38;5;124m\"\u001b[39m:\n\u001b[1;32m    159\u001b[0m     \u001b[38;5;66;03m# Preallocate space for the unique path data\u001b[39;00m\n\u001b[1;32m    160\u001b[0m     maxd \u001b[38;5;241m=\u001b[39m np\u001b[38;5;241m.\u001b[39mmax([t\u001b[38;5;241m.\u001b[39mmax_depth \u001b[38;5;28;01mfor\u001b[39;00m t \u001b[38;5;129;01min\u001b[39;00m \u001b[38;5;28mself\u001b[39m\u001b[38;5;241m.\u001b[39mtrees]) \u001b[38;5;241m+\u001b[39m \u001b[38;5;241m2\u001b[39m\n",
      "\u001b[0;31mException\u001b[0m: Model type not supported by TreeExplainer: <class 'xgboost.sklearn.XGBClassifier'>"
     ]
    }
   ],
   "source": [
    "# same thing with TreeExplainer (pure python implementation)\n",
    "from shap.explainers import pytree\n",
    "explainer = shap.explainers.pytree.TreeExplainer(model)\n",
    "shap_values = explainer.shap_values(X)\n",
    "\n",
    "shap_values = shap_values[...,1]\n",
    "print(shap_values )"
   ]
  },
  {
   "cell_type": "markdown",
   "metadata": {},
   "source": [
    "### Plot a global summary"
   ]
  },
  {
   "cell_type": "code",
   "execution_count": 21,
   "metadata": {},
   "outputs": [],
   "source": [
    "import xgboost\n",
    "import numpy as np\n",
    "import shap"
   ]
  },
  {
   "cell_type": "code",
   "execution_count": 22,
   "metadata": {},
   "outputs": [
    {
     "data": {
      "text/plain": [
       "array([[0.25012506, 0.        , 0.        , 0.        , 0.        ],\n",
       "       [0.        , 0.25012506, 0.        , 0.        , 0.        ],\n",
       "       [0.        , 0.        , 0.25012506, 0.        , 0.        ],\n",
       "       [0.        , 0.        , 0.        , 0.        , 0.        ],\n",
       "       [0.        , 0.        , 0.        , 0.        , 0.        ]])"
      ]
     },
     "execution_count": 22,
     "metadata": {},
     "output_type": "execute_result"
    }
   ],
   "source": [
    "# simulate some binary data and a linear outcome with an interaction term\n",
    "# note we make the features in X perfectly independent of each other to make\n",
    "# it easy to solve for the exact SHAP values\n",
    "N = 2000\n",
    "X = np.zeros((N,5))\n",
    "X[:1000,0] = 1\n",
    "X[:500,1] = 1\n",
    "X[1000:1500,1] = 1\n",
    "X[:250,2] = 1\n",
    "X[500:750,2] = 1\n",
    "X[1000:1250,2] = 1\n",
    "X[1500:1750,2] = 1\n",
    "X[:,0:3] -= 0.5\n",
    "y = 2*X[:,0] - 3*X[:,1]\n",
    "\n",
    "# ensure the variables are independent\n",
    "np.cov(X.T)\n",
    "\n"
   ]
  },
  {
   "cell_type": "code",
   "execution_count": 23,
   "metadata": {},
   "outputs": [
    {
     "name": "stdout",
     "output_type": "stream",
     "text": [
      "[0. 0. 0. 0. 0.]\n",
      "Model error = 0.0\n",
      "0:[f1<0] yes=1,no=2,missing=1,gain=4500,cover=2000\n",
      "\t1:[f0<0] yes=3,no=4,missing=3,gain=1000,cover=1000\n",
      "\t\t3:leaf=0.5,cover=500\n",
      "\t\t4:leaf=2.5,cover=500\n",
      "\t2:[f0<0] yes=5,no=6,missing=5,gain=1000,cover=1000\n",
      "\t\t5:leaf=-2.5,cover=500\n",
      "\t\t6:leaf=-0.5,cover=500\n",
      "\n"
     ]
    }
   ],
   "source": [
    "# and mean centered\n",
    "print(X.mean(0))\n",
    "\n",
    "# train a model with single tree\n",
    "Xd = xgboost.DMatrix(X, label=y)\n",
    "model = xgboost.train({'eta':1, 'max_depth':3, 'base_score': 0, \"lambda\": 0 }, Xd, 1)\n",
    "print(\"Model error =\", np.linalg.norm(y-model.predict(Xd)))\n",
    "print(model.get_dump(with_stats=True)[0])\n",
    "\n",
    "# Model error = 0.0\n",
    "# 0:[f1<0] yes=1,no=2,missing=1,gain=4500,cover=2000\n",
    "#         1:[f0<0] yes=3,no=4,missing=3,gain=1000,cover=1000\n",
    "#                 3:leaf=0.5,cover=500\n",
    "#                 4:leaf=2.5,cover=500\n",
    "#         2:[f0<0] yes=5,no=6,missing=5,gain=1000,cover=1000\n",
    "#                 5:leaf=-2.5,cover=500\n",
    "#                 6:leaf=-0.5,cover=500\n",
    "\n"
   ]
  },
  {
   "cell_type": "code",
   "execution_count": 24,
   "metadata": {},
   "outputs": [
    {
     "data": {
      "text/plain": [
       "0.0"
      ]
     },
     "execution_count": 24,
     "metadata": {},
     "output_type": "execute_result"
    }
   ],
   "source": [
    "# # make sure the SHAP values add up to marginal predictions\n",
    "pred = model.predict(Xd, output_margin=True)\n",
    "explainer = shap.TreeExplainer(model)\n",
    "shap_values = explainer.shap_values(Xd)\n",
    "np.abs(shap_values.sum(1) + explainer.expected_value - pred).max()\n",
    "\n"
   ]
  },
  {
   "cell_type": "code",
   "execution_count": 25,
   "metadata": {},
   "outputs": [
    {
     "data": {
      "image/png": "[encoded data removed]",
      "text/plain": [
       "<Figure size 576x252 with 2 Axes>"
      ]
     },
     "metadata": {
      "needs_background": "light"
     },
     "output_type": "display_data"
    }
   ],
   "source": [
    "shap.summary_plot(shap_values, X)"
   ]
  },
  {
   "cell_type": "code",
   "execution_count": null,
   "metadata": {
    "scrolled": false
   },
   "outputs": [],
   "source": [
    "shap.plots.bar(shap_values)"
   ]
  },
  {
   "cell_type": "markdown",
   "metadata": {},
   "source": [
    "### Plot a single instance"
   ]
  },
  {
   "cell_type": "code",
   "execution_count": null,
   "metadata": {},
   "outputs": [],
   "source": [
    "shap.plots.waterfall(shap_values[0])"
   ]
  },
  {
   "cell_type": "markdown",
   "metadata": {},
   "source": [
    "## Tabular data with partition (Owen value) masking\n",
    "\n",
    "While Shapley values result from treating each feature independently of the other features, it is often useful to enforce a structure on the model inputs. Enforcing such a structure produces a structure game (i.e. a game with rules about valid input feature coalitions), and when that structure is a nest set of feature grouping we get the Owen values as a recursive application of Shapley values to the group. In SHAP, we take the partitioning to the limit and build a binary herarchial clustering tree to represent the structure of the data. This structure could be chosen in many ways, but for tabular data it is often helpful to build the structure from the redundancy of information between the input features about the output label. This is what we do below:"
   ]
  },
  {
   "cell_type": "code",
   "execution_count": null,
   "metadata": {},
   "outputs": [],
   "source": [
    "# build a clustering of the features based on shared information about y\n",
    "clustering = shap.utils.hclust(X, y)"
   ]
  },
  {
   "cell_type": "code",
   "execution_count": null,
   "metadata": {},
   "outputs": [],
   "source": [
    "# above we implicitly used shap.maskers.Independent by passing a raw dataframe as the masker\n",
    "# now we explicitly use a Partition masker that uses the clustering we just computed\n",
    "masker = shap.maskers.Partition(X, clustering=clustering)\n",
    "\n",
    "# build an Exact explainer and explain the model predictions on the given dataset\n",
    "explainer = shap.explainers.Exact(model.predict_proba, masker)\n",
    "shap_values2 = explainer(X[:100])\n",
    "\n",
    "# get just the explanations for the positive class\n",
    "shap_values2 = shap_values2[...,1]"
   ]
  },
  {
   "cell_type": "markdown",
   "metadata": {},
   "source": [
    "### Plot a global summary\n",
    "\n",
    "Note that only the Relationship and Marital status features share more that 50% of their explanation power (as measured by R2) with each other, so all the other parts of the clustering tree are removed by the the default `clustering_cutoff=0.5` setting:"
   ]
  },
  {
   "cell_type": "code",
   "execution_count": null,
   "metadata": {},
   "outputs": [],
   "source": [
    "shap.plots.bar(shap_values2)"
   ]
  },
  {
   "cell_type": "markdown",
   "metadata": {},
   "source": [
    "### Plot a single instance\n",
    "\n",
    "Note that there is a strong similarity between the explanation from the Independent masker above and the Partition masker here. In general the distinctions between these methods for tabular data are not large, though the Partition masker allows for much faster runtime and potentially more realistic manipulations of the model inputs (since groups of clustered features are masked/unmasked together)."
   ]
  },
  {
   "cell_type": "code",
   "execution_count": null,
   "metadata": {},
   "outputs": [],
   "source": [
    "shap.plots.waterfall(shap_values2[0])"
   ]
  }
 ],
 "metadata": {
  "kernelspec": {
   "display_name": "Python 3 (ipykernel)",
   "language": "python",
   "name": "python3"
  },
  "language_info": {
   "codemirror_mode": {
    "name": "ipython",
    "version": 3
   },
   "file_extension": ".py",
   "mimetype": "text/x-python",
   "name": "python",
   "nbconvert_exporter": "python",
   "pygments_lexer": "ipython3",
   "version": "3.10.4"
  }
 },
 "nbformat": 4,
 "nbformat_minor": 2
}
