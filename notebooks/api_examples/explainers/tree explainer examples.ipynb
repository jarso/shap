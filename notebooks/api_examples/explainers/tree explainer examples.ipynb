{
 "cells": [
  {
   "cell_type": "code",
   "execution_count": 1,
   "id": "03594093",
   "metadata": {},
   "outputs": [
    {
     "name": "stderr",
     "output_type": "stream",
     "text": [
      "/home/jarek/projects/shap/venv/lib/python3.10/site-packages/tqdm/auto.py:22: TqdmWarning: IProgress not found. Please update jupyter and ipywidgets. See https://ipywidgets.readthedocs.io/en/stable/user_install.html\n",
      "  from .autonotebook import tqdm as notebook_tqdm\n"
     ]
    }
   ],
   "source": [
    "import xgboost\n",
    "import numpy as np\n",
    "import shap"
   ]
  },
  {
   "cell_type": "code",
   "execution_count": 2,
   "id": "3d91827c",
   "metadata": {},
   "outputs": [],
   "source": [
    "# simulate some binary data and a linear outcome with an interaction term\n",
    "# note we make the features in X perfectly independent of each other to make\n",
    "# it easy to solve for the exact SHAP values\n",
    "N = 2000\n",
    "X = np.zeros((N,5))\n",
    "X[:1000,0] = 1\n",
    "X[:500,1] = 1\n",
    "X[1000:1500,1] = 1\n",
    "X[:250,2] = 1\n",
    "X[500:750,2] = 1\n",
    "X[1000:1250,2] = 1\n",
    "X[1500:1750,2] = 1\n",
    "X[:,0:3] -= 0.5\n",
    "y = 2*X[:,0] - 3*X[:,1]"
   ]
  },
  {
   "cell_type": "code",
   "execution_count": null,
   "id": "fa194011",
   "metadata": {},
   "outputs": [],
   "source": []
  },
  {
   "cell_type": "code",
   "execution_count": 3,
   "id": "6970224c",
   "metadata": {},
   "outputs": [
    {
     "data": {
      "text/plain": [
       "array([[0.25012506, 0.        , 0.        , 0.        , 0.        ],\n",
       "       [0.        , 0.25012506, 0.        , 0.        , 0.        ],\n",
       "       [0.        , 0.        , 0.25012506, 0.        , 0.        ],\n",
       "       [0.        , 0.        , 0.        , 0.        , 0.        ],\n",
       "       [0.        , 0.        , 0.        , 0.        , 0.        ]])"
      ]
     },
     "execution_count": 3,
     "metadata": {},
     "output_type": "execute_result"
    }
   ],
   "source": [
    "# ensure the variables are independent\n",
    "np.cov(X.T)\n",
    "\n",
    "# array([[0.25012506, 0.        , 0.        , 0.        , 0.        ],\n",
    "#        [0.        , 0.25012506, 0.        , 0.        , 0.        ],\n",
    "#        [0.        , 0.        , 0.25012506, 0.        , 0.        ],\n",
    "#        [0.        , 0.        , 0.        , 0.        , 0.        ],\n",
    "#        [0.        , 0.        , 0.        , 0.        , 0.        ]])\n"
   ]
  },
  {
   "cell_type": "code",
   "execution_count": 4,
   "id": "85da08a1",
   "metadata": {},
   "outputs": [
    {
     "data": {
      "text/plain": [
       "array([0., 0., 0., 0., 0.])"
      ]
     },
     "execution_count": 4,
     "metadata": {},
     "output_type": "execute_result"
    }
   ],
   "source": [
    "# and mean centered\n",
    "X.mean(0)\n",
    "\n",
    "# array([0., 0., 0., 0., 0.])"
   ]
  },
  {
   "cell_type": "code",
   "execution_count": 5,
   "id": "d699c0e5",
   "metadata": {},
   "outputs": [
    {
     "name": "stdout",
     "output_type": "stream",
     "text": [
      "Model error = 0.0\n",
      "0:[f1<0] yes=1,no=2,missing=1,gain=4500,cover=2000\n",
      "\t1:[f0<0] yes=3,no=4,missing=3,gain=1000,cover=1000\n",
      "\t\t3:leaf=0.5,cover=500\n",
      "\t\t4:leaf=2.5,cover=500\n",
      "\t2:[f0<0] yes=5,no=6,missing=5,gain=1000,cover=1000\n",
      "\t\t5:leaf=-2.5,cover=500\n",
      "\t\t6:leaf=-0.5,cover=500\n",
      "\n"
     ]
    }
   ],
   "source": [
    "# train a model with single tree\n",
    "Xd = xgboost.DMatrix(X, label=y)\n",
    "model = xgboost.train({\n",
    "    'eta':1, 'max_depth':3, 'base_score': 0, \"lambda\": 0\n",
    "}, Xd, 1)\n",
    "print(\"Model error =\", np.linalg.norm(y-model.predict(Xd)))\n",
    "print(model.get_dump(with_stats=True)[0])\n",
    "\n",
    "# Model error = 0.0\n",
    "# 0:[f1<0] yes=1,no=2,missing=1,gain=4500,cover=2000\n",
    "#         1:[f0<0] yes=3,no=4,missing=3,gain=1000,cover=1000\n",
    "#                 3:leaf=0.5,cover=500\n",
    "#                 4:leaf=2.5,cover=500\n",
    "#         2:[f0<0] yes=5,no=6,missing=5,gain=1000,cover=1000\n",
    "#                 5:leaf=-2.5,cover=500\n",
    "#                 6:leaf=-0.5,cover=500"
   ]
  },
  {
   "cell_type": "code",
   "execution_count": 6,
   "id": "8b93bef1",
   "metadata": {},
   "outputs": [
    {
     "data": {
      "text/plain": [
       "0.0"
      ]
     },
     "execution_count": 6,
     "metadata": {},
     "output_type": "execute_result"
    }
   ],
   "source": [
    "# make sure the SHAP values add up to marginal predictions\n",
    "pred = model.predict(Xd, output_margin=True)\n",
    "explainer = shap.TreeExplainer(model)\n",
    "shap_values = explainer.shap_values(Xd)\n",
    "np.abs(shap_values.sum(1) + explainer.expected_value - pred).max()\n",
    "\n",
    "# 0.0"
   ]
  },
  {
   "cell_type": "code",
   "execution_count": 7,
   "id": "9705b161",
   "metadata": {},
   "outputs": [
    {
     "data": {
      "image/png": "[encoded data removed]",
      "text/plain": [
       "<Figure size 576x252 with 2 Axes>"
      ]
     },
     "metadata": {
      "needs_background": "light"
     },
     "output_type": "display_data"
    }
   ],
   "source": [
    "shap.summary_plot(shap_values, X)"
   ]
  },
  {
   "cell_type": "markdown",
   "id": "64d8c973",
   "metadata": {},
   "source": [
    "# now we make a banzhaf value model"
   ]
  },
  {
   "cell_type": "code",
   "execution_count": 8,
   "id": "86a105be",
   "metadata": {},
   "outputs": [],
   "source": [
    "# from shap.explainers import pytree\n",
    "\n",
    "# banz_explainer = pytree.BanzTreeExplainer(model)\n",
    "# shap_values = banz_explainer.shap_values(Xd)\n",
    "# np.abs(shap_values.sum(1) + banz_explainer.expected_value - pred).max()\n"
   ]
  },
  {
   "cell_type": "code",
   "execution_count": 9,
   "id": "a9533d19",
   "metadata": {},
   "outputs": [
    {
     "data": {
      "text/plain": [
       "array([[ 1. , -1.5,  0. ,  0. ,  0. ],\n",
       "       [ 1. , -1.5,  0. ,  0. ,  0. ],\n",
       "       [ 1. , -1.5,  0. ,  0. ,  0. ],\n",
       "       ...,\n",
       "       [-1. ,  1.5,  0. ,  0. ,  0. ],\n",
       "       [-1. ,  1.5,  0. ,  0. ,  0. ],\n",
       "       [-1. ,  1.5,  0. ,  0. ,  0. ]], dtype=float32)"
      ]
     },
     "execution_count": 9,
     "metadata": {},
     "output_type": "execute_result"
    }
   ],
   "source": [
    "# shap.summary_plot(shap_values, X)\n",
    "shap_values"
   ]
  },
  {
   "cell_type": "code",
   "execution_count": null,
   "id": "7c6470c2",
   "metadata": {},
   "outputs": [],
   "source": [
    "    "
   ]
  },
  {
   "cell_type": "code",
   "execution_count": 10,
   "id": "45d6d579",
   "metadata": {},
   "outputs": [],
   "source": [
    "# from: \n",
    "# https://towardsdatascience.com/introduction-to-shap-values-and-their-application-in-machine-learning-8003718e6827"
   ]
  },
  {
   "cell_type": "code",
   "execution_count": 11,
   "id": "d8aafe3b",
   "metadata": {},
   "outputs": [],
   "source": [
    "import pandas as pd\n",
    "\n",
    "import numpy as np\n",
    "\n",
    "import matplotlib\n",
    "import matplotlib.pyplot as plt\n",
    "\n",
    "from sklearn.datasets import *\n",
    "from sklearn.tree import *"
   ]
  },
  {
   "cell_type": "code",
   "execution_count": null,
   "id": "5fed3743",
   "metadata": {},
   "outputs": [],
   "source": [
    "# Listing 20\n",
    "\n",
    "from sklearn import datasets\n",
    "\n",
    "d = datasets.load_boston()\n",
    "df = pd.DataFrame(d['data'], columns=d['feature_names'])\n",
    "y = pd.Series(d['target'])\n",
    "X = df[['AGE', 'RAD', 'TAX', 'DIS']]\n",
    " \n",
    "tree_model = DecisionTreeRegressor(max_depth=3)\n",
    "tree_model.fit(X, y)\n",
    "fig = plt.figure(figsize=(20, 10))\n",
    "plot_tree(tree_model, feature_names=X.columns, fontsize =16)\n",
    "plt.show()"
   ]
  },
  {
   "cell_type": "code",
   "execution_count": null,
   "id": "ee64aa4b",
   "metadata": {},
   "outputs": [],
   "source": [
    "# Listing 21\n",
    "def expvalue(clf, x, S):\n",
    "    def g(node, w):\n",
    "        left_child = clf.tree_.children_left[node]\n",
    "        right_child = clf.tree_.children_right[node]\n",
    "        if left_child == right_child:  # node is a leaf \n",
    "            return w*clf.tree_.value[node].squeeze()\n",
    "        else: # internal node\n",
    "            feature = x.index[clf.tree_.feature[node]]\n",
    "            if feature in S:\n",
    "                if x.loc[feature] <= clf.tree_.threshold[node]:\n",
    "                    return g(left_child, w) \n",
    "                else:\n",
    "                    return g(right_child, w) \n",
    "            else:    \n",
    "                w_left = clf.tree_.n_node_samples[left_child] / clf.tree_.n_node_samples[node]\n",
    "                w_right = clf.tree_.n_node_samples[right_child] / clf.tree_.n_node_samples[node]\n",
    "                return g(left_child, w * w_left) + g(right_child, w * w_right)\n",
    "    return g(0,1)"
   ]
  },
  {
   "cell_type": "code",
   "execution_count": null,
   "id": "e779005f",
   "metadata": {},
   "outputs": [],
   "source": [
    "# Listing 22\n",
    "\n",
    "from itertools import combinations\n",
    "import scipy\n",
    "\n",
    "def coalitions(x, col):\n",
    "    remaining_features = [feature for feature in x.index if feature != col]\n",
    "    for feature in range(len(remaining_features) + 1):\n",
    "        for coalition in combinations(remaining_features, feature):\n",
    "            yield list(coalition)\n",
    "            \n",
    "def coalition_contribution1(model, x, col, coalition):\n",
    "    marginal_gain = expvalue(model, x, coalition + [col]) - expvalue(model, x, coalition)\n",
    "    num_coalitions = 1 / (scipy.special.comb(len(x) - 1, len(coalition)) * len(x))\n",
    "    return num_coalitions * marginal_gain  \n",
    "            \n",
    "def calculate_exact_tree_shap_values(model, X_sample):\n",
    "    if isinstance(X_sample, pd.Series):\n",
    "        X_sample = pd.DataFrame(X_sample).T\n",
    "    shap_values_list = []\n",
    "    for i in range(X_sample.shape[0]):\n",
    "        x = X_sample.iloc[i]\n",
    "        shap_values = []\n",
    "        for col in X_sample.columns:\n",
    "            shap_value =  np.sum([coalition_contribution1(model, x, col, coalition) for coalition in coalitions(x, col)])\n",
    "            shap_values.append(shap_value)\n",
    "        shap_values_list.append(shap_values)\n",
    "    return model.tree_.value[0].squeeze().item(), shap_values_list"
   ]
  },
  {
   "cell_type": "code",
   "execution_count": null,
   "id": "975f1441",
   "metadata": {},
   "outputs": [],
   "source": [
    "# Listing 23\n",
    "calculate_exact_tree_shap_values(tree_model, X.iloc[470])"
   ]
  },
  {
   "cell_type": "code",
   "execution_count": null,
   "id": "a4d6f1da",
   "metadata": {},
   "outputs": [],
   "source": [
    "# Listing 24\n",
    "def tree_shap(tree, X_explain):\n",
    "    if isinstance(X_explain, pd.Series):\n",
    "        X_explain = X_explain.values\n",
    "    elif isinstance(X_explain, pd.DataFrame):\n",
    "        X_explain = X_explain.values\n",
    "    tree = tree.tree_\n",
    "\n",
    "    if len(X_explain.shape) == 1:\n",
    "        phi = np.zeros(X_explain.shape[0])\n",
    "        calculate_tree_shap(tree, X_explain, phi)\n",
    "    elif len(X_explain.shape) == 2:\n",
    "        phi = np.zeros((X_explain.shape[0], X_explain.shape[1]))\n",
    "        for i in range(X_explain.shape[0]):\n",
    "            calculate_tree_shap(tree, X_explain[i,:], phi[i,:])\n",
    "    return tree.value.squeeze()[0].item(), phi\n",
    "  \n",
    "def extend(m, pz, po, pi): \n",
    "    l = len(m)\n",
    "    m = m.copy()\n",
    "    m.loc[l] = [pi, pz, po, 1 if l==0 else 0]  \n",
    "\n",
    "    for i in range(l - 1, -1, -1):\n",
    "        m.iloc[i+1]['w'] += po * m.iloc[i]['w'] * (i + 1) / (l + 1)\n",
    "        m.iloc[i]['w'] = pz * m.iloc[i]['w'] * (l - i) / (l + 1)\n",
    "    return m\n",
    "\n",
    "\n",
    "def unwind(m, i): \n",
    "    m = m.copy()\n",
    "    l = len(m) - 1\n",
    "    n = m.iloc[l]['w'] \n",
    "    for j in range(l - 1, -1, -1):\n",
    "        if m.iloc[i]['o'] != 0:\n",
    "            temp = m.iloc[j]['w']\n",
    "            m.iloc[j]['w'] = n * (l + 1) / ((j + 1) * m.iloc[i]['o'])\n",
    "            n = temp - m.loc[j]['w'] * m.loc[i]['z'] * (l - j) / (l + 1)\n",
    "        else:\n",
    "            m.iloc[j]['w'] = (m.iloc[j]['w'] * (l + 1)) / (m.iloc[i]['z'] * (l - j))\n",
    "\n",
    "    for j in range(i, l):\n",
    "        m.iloc[j]['d'] = m.loc[j+1]['d']\n",
    "        m.iloc[j]['z'] = m.loc[j+1]['z']\n",
    "        m.iloc[j]['o'] = m.loc[j+1]['o']\n",
    "    return m.iloc[:l] \n",
    "\n",
    "def calculate_tree_shap(tree, x, phi):\n",
    "    def tree_shap_recursive(j, m, pz, po, pi):   \n",
    "        # extend the unique path\n",
    "        m = extend(m, pz, po, pi)\n",
    "        dj = features[j]\n",
    "\n",
    "        # leaf node\n",
    "        if children_right[j] == -1:\n",
    "            for i in range(1, len(m)):\n",
    "                w = unwind(m, i).w.sum()\n",
    "                phi[int(m.iloc[i][\"d\"])] += w * (m.iloc[i][\"o\"] - m.iloc[i][\"z\"]) * values[j] \n",
    "\n",
    "        # internal node\n",
    "        else:\n",
    "            h = 0\n",
    "            cleft = children_left[j]\n",
    "            cright = children_right[j]\n",
    "\n",
    "            h = cleft if x[dj] < thresholds[j] else cright\n",
    "            c = cright if h == cleft else cleft\n",
    "            rj = node_sample_weight[j]\n",
    "            rh = node_sample_weight[h] \n",
    "            rc = node_sample_weight[c] \n",
    "            iz = 1\n",
    "            io = 1\n",
    "\n",
    "            k = 0\n",
    "            while (k < len(m)):\n",
    "                if m.loc[k]['d'] == dj:\n",
    "                    break\n",
    "                k += 1\n",
    "\n",
    "            if k != len(m):          \n",
    "                iz = m.iloc[k]['z']\n",
    "                io = m.iloc[k]['o']         \n",
    "                m = unwind(m, k)           \n",
    "\n",
    "            tree_shap_recursive(h, m, rh/rj*iz, io, dj)\n",
    "            tree_shap_recursive(c, m, rc/rj*iz, 0, dj)\n",
    "    \n",
    "    children_left = tree.children_left \n",
    "    children_right = tree.children_right \n",
    "    features = tree.feature  \n",
    "    thresholds =tree.threshold \n",
    "    values = tree.value.squeeze() \n",
    "    node_sample_weight = tree.weighted_n_node_samples\n",
    "    \n",
    "    m = pd.DataFrame({}, columns=['d', 'z', 'o', 'w'])\n",
    "    tree_shap_recursive(0, m, 1, 1, -1)"
   ]
  },
  {
   "cell_type": "code",
   "execution_count": null,
   "id": "e8e9ba9b",
   "metadata": {},
   "outputs": [],
   "source": [
    "# Listing 25\n",
    "tree_shap(tree_model, X.iloc[470])"
   ]
  },
  {
   "cell_type": "code",
   "execution_count": null,
   "id": "d913bb82",
   "metadata": {
    "scrolled": true
   },
   "outputs": [],
   "source": [
    "# phi = np.zeros((Xd.shape[0] + 1, n_outputs))\n",
    "# x_missing = np.zeros(Xd.shape[0], dtype=np.bool)\n",
    "\n",
    "# banz_explainer2 = pytree.BanzTreeExplainer.tree_shap(tree_model, Xd, x_missing, phi)\n",
    "# shap_values = banz_explainer2.shap_values(Xd)"
   ]
  },
  {
   "cell_type": "code",
   "execution_count": null,
   "id": "3f114336",
   "metadata": {},
   "outputs": [],
   "source": []
  },
  {
   "cell_type": "code",
   "execution_count": null,
   "id": "26f2e258",
   "metadata": {},
   "outputs": [],
   "source": [
    "from sklearn.model_selection import train_test_split\n",
    "import xgboost\n",
    "import shap\n",
    "import numpy as np\n",
    "import matplotlib.pylab as pl\n",
    "\n",
    "# print the JS visualization code to the notebook\n",
    "shap.initjs()"
   ]
  },
  {
   "cell_type": "code",
   "execution_count": null,
   "id": "ee210c33",
   "metadata": {},
   "outputs": [],
   "source": [
    "X,y = shap.datasets.adult()\n",
    "X_display,y_display = shap.datasets.adult(display=True)\n",
    "\n",
    "# create a train/test split\n",
    "X_train, X_test, y_train, y_test = train_test_split(X, y, test_size=0.2, random_state=7)\n",
    "d_train = xgboost.DMatrix(X_train, label=y_train)\n",
    "d_test = xgboost.DMatrix(X_test, label=y_test)\n"
   ]
  },
  {
   "cell_type": "code",
   "execution_count": null,
   "id": "dc4f10f9",
   "metadata": {},
   "outputs": [],
   "source": [
    "params = {\n",
    "    \"eta\": 0.01,\n",
    "    \"objective\": \"binary:logistic\",\n",
    "    \"subsample\": 0.5,\n",
    "    \"base_score\": np.mean(y_train),\n",
    "    \"eval_metric\": \"logloss\"\n",
    "}\n",
    "model = xgboost.train(params, d_train, 5000, evals = [(d_test, \"test\")], verbose_eval=100, early_stopping_rounds=20)"
   ]
  },
  {
   "cell_type": "code",
   "execution_count": null,
   "id": "d0e89cc1",
   "metadata": {},
   "outputs": [],
   "source": [
    "xgboost.plot_importance(model)\n",
    "pl.title(\"xgboost.plot_importance(model)\")\n",
    "pl.show()"
   ]
  },
  {
   "cell_type": "code",
   "execution_count": null,
   "id": "6ea8118a",
   "metadata": {},
   "outputs": [],
   "source": [
    "# this takes a minute or two since we are explaining over 30 thousand samples in a model with over a thousand trees\n",
    "from shap.explainers import pytree\n",
    "# explainer = pytree.TreeExplainer(model)\n",
    "# shap_values = explainer.shap_values(X)\n"
   ]
  },
  {
   "cell_type": "code",
   "execution_count": null,
   "id": "4789a944",
   "metadata": {
    "scrolled": true
   },
   "outputs": [],
   "source": [
    "# shap.force_plot(explainer.expected_value, shap_values[0,:], X_display.iloc[0,:])"
   ]
  },
  {
   "cell_type": "code",
   "execution_count": null,
   "id": "46dff7df",
   "metadata": {},
   "outputs": [],
   "source": [
    "# https://shap-lrjball.readthedocs.io/en/latest/example_notebooks/tree_explainer/Python%20Version%20of%20Tree%20SHAP.html"
   ]
  },
  {
   "cell_type": "code",
   "execution_count": null,
   "id": "82aa9a35",
   "metadata": {},
   "outputs": [],
   "source": [
    "import sklearn.ensemble\n",
    "import shap\n",
    "import numpy as np\n",
    "import numba\n",
    "import time\n",
    "import xgboost"
   ]
  },
  {
   "cell_type": "code",
   "execution_count": null,
   "id": "24fbaac2",
   "metadata": {},
   "outputs": [],
   "source": [
    "X,y = shap.datasets.boston()\n",
    "X.shape\n",
    "\n"
   ]
  },
  {
   "cell_type": "code",
   "execution_count": null,
   "id": "7d67bda8",
   "metadata": {},
   "outputs": [],
   "source": [
    "model = sklearn.ensemble.RandomForestRegressor(n_estimators=1000, max_depth=4)\n",
    "model.fit(X, y)\n",
    "\n"
   ]
  },
  {
   "cell_type": "code",
   "execution_count": null,
   "id": "9f95689a",
   "metadata": {},
   "outputs": [],
   "source": [
    "bst = xgboost.train({\"learning_rate\": 0.01, \"max_depth\": 4}, xgboost.DMatrix(X, label=y), 1000)"
   ]
  },
  {
   "cell_type": "code",
   "execution_count": null,
   "id": "4de7fbc8",
   "metadata": {},
   "outputs": [],
   "source": [
    "start = time.time()\n",
    "shap_values = bst.predict(xgboost.DMatrix(X), pred_contribs=True)\n",
    "print(time.time() - start)"
   ]
  },
  {
   "cell_type": "code",
   "execution_count": null,
   "id": "99975ff2",
   "metadata": {},
   "outputs": [],
   "source": [
    "x = np.ones(X.shape[1])\n",
    "# TreeExplainer(model).shap_values(x)"
   ]
  },
  {
   "cell_type": "code",
   "execution_count": null,
   "id": "6b354b62",
   "metadata": {},
   "outputs": [],
   "source": [
    "from sklearn.ensemble import RandomForestRegressor\n",
    "from sklearn.datasets import make_regression\n",
    "X, y = make_regression(n_features=4, n_informative=2,random_state=0, shuffle=False)\n",
    "regr = RandomForestRegressor(max_depth=2, random_state=0)\n",
    "from shap.explainers.pytree import *\n",
    "regr.fit(X, y)\n",
    "TreeExplainer(regr)"
   ]
  },
  {
   "cell_type": "code",
   "execution_count": null,
   "id": "0a6a1680",
   "metadata": {},
   "outputs": [],
   "source": [
    "X, y = make_regression(n_features=4, n_informative=2,random_state=0, shuffle=False)"
   ]
  },
  {
   "cell_type": "code",
   "execution_count": null,
   "id": "4e2af12d",
   "metadata": {},
   "outputs": [],
   "source": [
    "regr = RandomForestRegressor(max_depth=2, random_state=0)\n",
    "regr.fit(X, y)"
   ]
  },
  {
   "cell_type": "code",
   "execution_count": null,
   "id": "f878b0e7",
   "metadata": {},
   "outputs": [],
   "source": [
    "from sklearn.ensemble import RandomForestRegressor\n",
    "from sklearn.datasets import make_regression\n",
    "X, y = make_regression(n_features=4, n_informative=2,random_state=0, shuffle=False)"
   ]
  },
  {
   "cell_type": "code",
   "execution_count": null,
   "id": "ca690554",
   "metadata": {},
   "outputs": [],
   "source": [
    "print(regr.predict([[0, 0, 0, 0]]))"
   ]
  },
  {
   "cell_type": "code",
   "execution_count": null,
   "id": "088fe210",
   "metadata": {},
   "outputs": [],
   "source": [
    "start = time.time()\n",
    "pytree.TreeExplainer(regr).shap_values(X)\n",
    "print(time.time() - start)"
   ]
  },
  {
   "cell_type": "code",
   "execution_count": null,
   "id": "146e6d25",
   "metadata": {},
   "outputs": [],
   "source": []
  },
  {
   "cell_type": "code",
   "execution_count": null,
   "id": "78f2a52b",
   "metadata": {},
   "outputs": [],
   "source": [
    "from shap.explainers.pytree import TreeExplainer\n",
    "\n",
    "start = time.time()\n",
    "TreeExplainer(regr).shap_values(X)\n",
    "print(time.time() - start)"
   ]
  },
  {
   "cell_type": "code",
   "execution_count": null,
   "id": "6fa3e703",
   "metadata": {},
   "outputs": [],
   "source": [
    "# TreeExplainer(regr).banz_values(X)"
   ]
  },
  {
   "cell_type": "code",
   "execution_count": null,
   "id": "e3d3295a",
   "metadata": {},
   "outputs": [],
   "source": [
    "t = TreeExplainer(regr)"
   ]
  },
  {
   "cell_type": "code",
   "execution_count": null,
   "id": "71762030",
   "metadata": {},
   "outputs": [],
   "source": [
    "from pprint import pprint\n",
    "pprint(vars(t.trees[1]))"
   ]
  },
  {
   "cell_type": "code",
   "execution_count": null,
   "id": "bff8a8c3",
   "metadata": {},
   "outputs": [],
   "source": [
    "# pprint(t.trees[1].n_node_samples)"
   ]
  },
  {
   "cell_type": "code",
   "execution_count": null,
   "id": "08f76ecd",
   "metadata": {},
   "outputs": [],
   "source": [
    "str(type(t.trees[1]))"
   ]
  },
  {
   "cell_type": "code",
   "execution_count": null,
   "id": "87043108",
   "metadata": {},
   "outputs": [],
   "source": [
    "pprint((regr.estimators_[1].tree_.weighted_n_node_samples.astype(np.float64)))\n",
    "# pprint((regr.estimators_[1].tree_.node_sample_weight))\n"
   ]
  },
  {
   "cell_type": "code",
   "execution_count": null,
   "id": "87882600",
   "metadata": {},
   "outputs": [],
   "source": [
    "# pprint(dict(regr.estimators_[1].tree_))"
   ]
  },
  {
   "cell_type": "code",
   "execution_count": null,
   "id": "fa7bf713",
   "metadata": {
    "scrolled": true
   },
   "outputs": [],
   "source": [
    "for i in range(20):\n",
    "    pprint(t.trees[i].node_sample_weight)"
   ]
  },
  {
   "cell_type": "code",
   "execution_count": null,
   "id": "d2b80622",
   "metadata": {},
   "outputs": [],
   "source": [
    "t.banz_values(X)"
   ]
  },
  {
   "cell_type": "code",
   "execution_count": null,
   "id": "e7d68632",
   "metadata": {},
   "outputs": [],
   "source": []
  },
  {
   "cell_type": "code",
   "execution_count": null,
   "id": "cd5ecfbe",
   "metadata": {},
   "outputs": [],
   "source": []
  },
  {
   "cell_type": "code",
   "execution_count": null,
   "id": "659452e2",
   "metadata": {},
   "outputs": [],
   "source": []
  }
 ],
 "metadata": {
  "kernelspec": {
   "display_name": "Python 3 (ipykernel)",
   "language": "python",
   "name": "python3"
  },
  "language_info": {
   "codemirror_mode": {
    "name": "ipython",
    "version": 3
   },
   "file_extension": ".py",
   "mimetype": "text/x-python",
   "name": "python",
   "nbconvert_exporter": "python",
   "pygments_lexer": "ipython3",
   "version": "3.10.4"
  }
 },
 "nbformat": 4,
 "nbformat_minor": 5
}
