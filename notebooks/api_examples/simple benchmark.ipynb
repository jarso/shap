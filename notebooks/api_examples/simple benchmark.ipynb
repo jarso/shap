{
 "cells": [
  {
   "cell_type": "code",
   "execution_count": 1,
   "id": "b81d52ad",
   "metadata": {},
   "outputs": [
    {
     "name": "stdout",
     "output_type": "stream",
     "text": [
      "3.10.6 (main, Nov  2 2022, 18:53:38) [GCC 11.3.0]\n"
     ]
    }
   ],
   "source": [
    "import sys\n",
    "print(sys.version)"
   ]
  },
  {
   "cell_type": "code",
   "execution_count": 2,
   "id": "102718eb",
   "metadata": {},
   "outputs": [
    {
     "name": "stderr",
     "output_type": "stream",
     "text": [
      "/home/jarek/projects/shap/venv/lib/python3.10/site-packages/tqdm/auto.py:22: TqdmWarning: IProgress not found. Please update jupyter and ipywidgets. See https://ipywidgets.readthedocs.io/en/stable/user_install.html\n",
      "  from .autonotebook import tqdm as notebook_tqdm\n"
     ]
    }
   ],
   "source": [
    "import sklearn.ensemble\n",
    "import shap\n",
    "import numpy as np\n",
    "import numba\n",
    "import time\n",
    "import xgboost\n",
    "from sklearn.datasets import make_regression"
   ]
  },
  {
   "cell_type": "code",
   "execution_count": 3,
   "id": "5a1f0678",
   "metadata": {},
   "outputs": [
    {
     "name": "stderr",
     "output_type": "stream",
     "text": [
      "Function load_boston is deprecated; `load_boston` is deprecated in 1.0 and will be removed in 1.2.\n",
      "\n",
      "    The Boston housing prices dataset has an ethical problem. You can refer to\n",
      "    the documentation of this function for further details.\n",
      "\n",
      "    The scikit-learn maintainers therefore strongly discourage the use of this\n",
      "    dataset unless the purpose of the code is to study and educate about\n",
      "    ethical issues in data science and machine learning.\n",
      "\n",
      "    In this special case, you can fetch the dataset from the original\n",
      "    source::\n",
      "\n",
      "        import pandas as pd\n",
      "        import numpy as np\n",
      "\n",
      "        data_url = \"http://lib.stat.cmu.edu/datasets/boston\"\n",
      "        raw_df = pd.read_csv(data_url, sep=\"\\s+\", skiprows=22, header=None)\n",
      "        data = np.hstack([raw_df.values[::2, :], raw_df.values[1::2, :2]])\n",
      "        target = raw_df.values[1::2, 2]\n",
      "\n",
      "    Alternative datasets include the California housing dataset (i.e.\n",
      "    :func:`~sklearn.datasets.fetch_california_housing`) and the Ames housing\n",
      "    dataset. You can load the datasets as follows::\n",
      "\n",
      "        from sklearn.datasets import fetch_california_housing\n",
      "        housing = fetch_california_housing()\n",
      "\n",
      "    for the California housing dataset and::\n",
      "\n",
      "        from sklearn.datasets import fetch_openml\n",
      "        housing = fetch_openml(name=\"house_prices\", as_frame=True)\n",
      "\n",
      "    for the Ames housing dataset.\n"
     ]
    },
    {
     "data": {
      "text/plain": [
       "(506, 13)"
      ]
     },
     "execution_count": 3,
     "metadata": {},
     "output_type": "execute_result"
    }
   ],
   "source": [
    "X,y = shap.datasets.boston()\n",
    "X.shape"
   ]
  },
  {
   "cell_type": "code",
   "execution_count": 4,
   "id": "4422202b",
   "metadata": {},
   "outputs": [
    {
     "data": {
      "text/html": [
       "<style>#sk-container-id-1 {color: black;background-color: white;}#sk-container-id-1 pre{padding: 0;}#sk-container-id-1 div.sk-toggleable {background-color: white;}#sk-container-id-1 label.sk-toggleable__label {cursor: pointer;display: block;width: 100%;margin-bottom: 0;padding: 0.3em;box-sizing: border-box;text-align: center;}#sk-container-id-1 label.sk-toggleable__label-arrow:before {content: \"▸\";float: left;margin-right: 0.25em;color: #696969;}#sk-container-id-1 label.sk-toggleable__label-arrow:hover:before {color: black;}#sk-container-id-1 div.sk-estimator:hover label.sk-toggleable__label-arrow:before {color: black;}#sk-container-id-1 div.sk-toggleable__content {max-height: 0;max-width: 0;overflow: hidden;text-align: left;background-color: #f0f8ff;}#sk-container-id-1 div.sk-toggleable__content pre {margin: 0.2em;color: black;border-radius: 0.25em;background-color: #f0f8ff;}#sk-container-id-1 input.sk-toggleable__control:checked~div.sk-toggleable__content {max-height: 200px;max-width: 100%;overflow: auto;}#sk-container-id-1 input.sk-toggleable__control:checked~label.sk-toggleable__label-arrow:before {content: \"▾\";}#sk-container-id-1 div.sk-estimator input.sk-toggleable__control:checked~label.sk-toggleable__label {background-color: #d4ebff;}#sk-container-id-1 div.sk-label input.sk-toggleable__control:checked~label.sk-toggleable__label {background-color: #d4ebff;}#sk-container-id-1 input.sk-hidden--visually {border: 0;clip: rect(1px 1px 1px 1px);clip: rect(1px, 1px, 1px, 1px);height: 1px;margin: -1px;overflow: hidden;padding: 0;position: absolute;width: 1px;}#sk-container-id-1 div.sk-estimator {font-family: monospace;background-color: #f0f8ff;border: 1px dotted black;border-radius: 0.25em;box-sizing: border-box;margin-bottom: 0.5em;}#sk-container-id-1 div.sk-estimator:hover {background-color: #d4ebff;}#sk-container-id-1 div.sk-parallel-item::after {content: \"\";width: 100%;border-bottom: 1px solid gray;flex-grow: 1;}#sk-container-id-1 div.sk-label:hover label.sk-toggleable__label {background-color: #d4ebff;}#sk-container-id-1 div.sk-serial::before {content: \"\";position: absolute;border-left: 1px solid gray;box-sizing: border-box;top: 0;bottom: 0;left: 50%;z-index: 0;}#sk-container-id-1 div.sk-serial {display: flex;flex-direction: column;align-items: center;background-color: white;padding-right: 0.2em;padding-left: 0.2em;position: relative;}#sk-container-id-1 div.sk-item {position: relative;z-index: 1;}#sk-container-id-1 div.sk-parallel {display: flex;align-items: stretch;justify-content: center;background-color: white;position: relative;}#sk-container-id-1 div.sk-item::before, #sk-container-id-1 div.sk-parallel-item::before {content: \"\";position: absolute;border-left: 1px solid gray;box-sizing: border-box;top: 0;bottom: 0;left: 50%;z-index: -1;}#sk-container-id-1 div.sk-parallel-item {display: flex;flex-direction: column;z-index: 1;position: relative;background-color: white;}#sk-container-id-1 div.sk-parallel-item:first-child::after {align-self: flex-end;width: 50%;}#sk-container-id-1 div.sk-parallel-item:last-child::after {align-self: flex-start;width: 50%;}#sk-container-id-1 div.sk-parallel-item:only-child::after {width: 0;}#sk-container-id-1 div.sk-dashed-wrapped {border: 1px dashed gray;margin: 0 0.4em 0.5em 0.4em;box-sizing: border-box;padding-bottom: 0.4em;background-color: white;}#sk-container-id-1 div.sk-label label {font-family: monospace;font-weight: bold;display: inline-block;line-height: 1.2em;}#sk-container-id-1 div.sk-label-container {text-align: center;}#sk-container-id-1 div.sk-container {/* jupyter's `normalize.less` sets `[hidden] { display: none; }` but bootstrap.min.css set `[hidden] { display: none !important; }` so we also need the `!important` here to be able to override the default hidden behavior on the sphinx rendered scikit-learn.org. See: https://github.com/scikit-learn/scikit-learn/issues/21755 */display: inline-block !important;position: relative;}#sk-container-id-1 div.sk-text-repr-fallback {display: none;}</style><div id=\"sk-container-id-1\" class=\"sk-top-container\"><div class=\"sk-text-repr-fallback\"><pre>RandomForestRegressor(max_depth=10, n_estimators=1000)</pre><b>In a Jupyter environment, please rerun this cell to show the HTML representation or trust the notebook. <br />On GitHub, the HTML representation is unable to render, please try loading this page with nbviewer.org.</b></div><div class=\"sk-container\" hidden><div class=\"sk-item\"><div class=\"sk-estimator sk-toggleable\"><input class=\"sk-toggleable__control sk-hidden--visually\" id=\"sk-estimator-id-1\" type=\"checkbox\" checked><label for=\"sk-estimator-id-1\" class=\"sk-toggleable__label sk-toggleable__label-arrow\">RandomForestRegressor</label><div class=\"sk-toggleable__content\"><pre>RandomForestRegressor(max_depth=10, n_estimators=1000)</pre></div></div></div></div></div>"
      ],
      "text/plain": [
       "RandomForestRegressor(max_depth=10, n_estimators=1000)"
      ]
     },
     "execution_count": 4,
     "metadata": {},
     "output_type": "execute_result"
    }
   ],
   "source": [
    "X, y = make_regression(n_samples=400, n_features=16, n_informative=8,random_state=0, shuffle=False)\n",
    "\n",
    "model = sklearn.ensemble.RandomForestRegressor(n_estimators=1000, max_depth=10)\n",
    "model.fit(X, y)"
   ]
  },
  {
   "cell_type": "code",
   "execution_count": 5,
   "id": "c255f492",
   "metadata": {},
   "outputs": [],
   "source": [
    "# bst = xgboost.train({\"learning_rate\": 0.01, \"max_depth\": 4}, xgboost.DMatrix(X, label=y), 1000)"
   ]
  },
  {
   "cell_type": "code",
   "execution_count": 6,
   "id": "5ef0ac44",
   "metadata": {},
   "outputs": [],
   "source": [
    "# start = time.time()\n",
    "# shap_values = bst.predict(xgboost.DMatrix(X), pred_contribs=True)\n",
    "# print(time.time() - start)\n"
   ]
  },
  {
   "cell_type": "code",
   "execution_count": 7,
   "id": "791432a8",
   "metadata": {},
   "outputs": [
    {
     "data": {
      "text/plain": [
       "array([[ 1.76405235,  0.40015721,  0.97873798,  2.2408932 ,  1.86755799,\n",
       "        -0.97727788,  0.95008842, -0.15135721, -0.10321885,  0.4105985 ,\n",
       "         0.14404357,  1.45427351,  0.76103773,  0.12167502,  0.44386323,\n",
       "         0.33367433]])"
      ]
     },
     "execution_count": 7,
     "metadata": {},
     "output_type": "execute_result"
    }
   ],
   "source": [
    "from shap.explainers.pytree import *\n",
    "\n",
    "# x = X.head()\n",
    "x = X[:1]\n",
    "# x = X\n",
    "x"
   ]
  },
  {
   "cell_type": "code",
   "execution_count": 8,
   "id": "e5530426",
   "metadata": {},
   "outputs": [
    {
     "name": "stdout",
     "output_type": "stream",
     "text": [
      "ile drzew cext? 1000\n",
      "using treeshap and cext\n",
      "banz = False\n",
      "here37\n",
      "using dense_Tree_pred\n",
      "0.13489651679992676\n"
     ]
    },
    {
     "data": {
      "text/plain": [
       "array([[ 37.23281991,  20.30107456,  30.54561712, 171.23906631,\n",
       "         57.7996405 , -63.8705223 ,  34.23130434,   4.40778534,\n",
       "          1.77703487,   0.58573517,   2.65351456,   7.08324677,\n",
       "          1.72122824,   1.31355515,   0.34448904,   1.37721225]])"
      ]
     },
     "execution_count": 8,
     "metadata": {},
     "output_type": "execute_result"
    }
   ],
   "source": [
    "from shap import TreeExplainer as TreeCext\n",
    "start = time.time()\n",
    "t = TreeCext(model).shap_values(x, banz=False)\n",
    "print(time.time() - start)\n",
    "t"
   ]
  },
  {
   "cell_type": "code",
   "execution_count": 9,
   "id": "ae2cf1db",
   "metadata": {
    "scrolled": true
   },
   "outputs": [
    {
     "name": "stdout",
     "output_type": "stream",
     "text": [
      "ile drzew cext? 1000\n",
      "using treeshap and cext\n",
      "banz = True\n",
      "using cext banz\n",
      "0.0887906551361084\n"
     ]
    },
    {
     "data": {
      "text/plain": [
       "array([[ 60.18349734,  35.89487379,  29.25075919, 393.905911  ,\n",
       "         90.24519075, -30.15632353,  52.76623805,  13.44313922,\n",
       "          3.49392754,  -1.14201064,   3.42015687,   8.6018395 ,\n",
       "          3.84812707,   2.58968554,   0.95218814,   3.06168016]])"
      ]
     },
     "execution_count": 9,
     "metadata": {},
     "output_type": "execute_result"
    }
   ],
   "source": [
    "start = time.time()\n",
    "t = TreeCext(model).shap_values(x, banz=True)\n",
    "print(time.time() - start)\n",
    "t # TODO BLAD - dodają się zamiast zaczynac od 0 dla kazdej probki danych"
   ]
  },
  {
   "cell_type": "code",
   "execution_count": null,
   "id": "961d45d6",
   "metadata": {},
   "outputs": [],
   "source": []
  },
  {
   "cell_type": "code",
   "execution_count": null,
   "id": "c9fc6e8d",
   "metadata": {},
   "outputs": [],
   "source": []
  },
  {
   "cell_type": "code",
   "execution_count": 10,
   "id": "7d56d824",
   "metadata": {},
   "outputs": [
    {
     "name": "stdout",
     "output_type": "stream",
     "text": [
      "1.3340599536895752\n",
      "oryginalna implemenacja shap_values\n",
      "other model type\n",
      "using slow python treeshap\n",
      "[[ 37.23281991  20.30107456  30.54561712 171.23906631  57.7996405\n",
      "  -63.8705223   34.23130434   4.40778534   1.77703487   0.58573517\n",
      "    2.65351456   7.08324677   1.72122824   1.31355515   0.34448904\n",
      "    1.37721225 -10.95613933]]\n",
      "12.996456623077393\n"
     ]
    }
   ],
   "source": [
    "start = time.time()\n",
    "ex = TreeExplainer(model)\n",
    "print(time.time() - start)\n",
    "start = time.time()\n",
    "print(ex.shap_values(x))\n",
    "print(time.time() - start)"
   ]
  },
  {
   "cell_type": "code",
   "execution_count": 11,
   "id": "6ad6cc0f",
   "metadata": {
    "scrolled": true
   },
   "outputs": [
    {
     "name": "stdout",
     "output_type": "stream",
     "text": [
      "nasza implementacja banz values\n",
      "other model type\n",
      "wlasciwe obliczenia w sekundzie: 0.023442745208740234\n",
      "dwa wymiary\n",
      "typ resa: <class 'list'>, <class 'list'>\n",
      "4.698397874832153\n"
     ]
    },
    {
     "data": {
      "text/plain": [
       "array([[ 3.51173281e+01,  1.87952565e+01,  2.86345474e+01,\n",
       "         1.63018360e+02,  5.43228146e+01, -7.03032853e+01,\n",
       "         3.09257751e+01,  2.97140120e+00,  1.61414093e+00,\n",
       "         1.59193500e-01,  2.30206194e+00,  5.72311055e+00,\n",
       "         1.15148742e+00,  1.13902961e+00,  4.10570855e-02,\n",
       "         1.18671544e+00]])"
      ]
     },
     "execution_count": 11,
     "metadata": {},
     "output_type": "execute_result"
    }
   ],
   "source": [
    "start = time.time()\n",
    "res = ex.banz_values(x)\n",
    "print(time.time() - start)\n",
    "res"
   ]
  },
  {
   "cell_type": "code",
   "execution_count": 12,
   "id": "159df599",
   "metadata": {
    "scrolled": true
   },
   "outputs": [],
   "source": [
    "# start = time.time()\n",
    "# res = ex.banz_values(x, jit=True)\n",
    "# print(time.time() - start)\n",
    "# res"
   ]
  },
  {
   "cell_type": "code",
   "execution_count": 13,
   "id": "2ec44ed3",
   "metadata": {},
   "outputs": [
    {
     "ename": "KeyboardInterrupt",
     "evalue": "",
     "output_type": "error",
     "traceback": [
      "\u001b[0;31m---------------------------------------------------------------------------\u001b[0m",
      "\u001b[0;31mKeyboardInterrupt\u001b[0m                         Traceback (most recent call last)",
      "Input \u001b[0;32mIn [13]\u001b[0m, in \u001b[0;36m<cell line: 2>\u001b[0;34m()\u001b[0m\n\u001b[1;32m      1\u001b[0m line \u001b[38;5;241m=\u001b[39m np\u001b[38;5;241m.\u001b[39masarray(x[:\u001b[38;5;241m1\u001b[39m])\n\u001b[0;32m----> 2\u001b[0m \u001b[43mex\u001b[49m\u001b[38;5;241;43m.\u001b[39;49m\u001b[43mbrute_banz\u001b[49m\u001b[43m(\u001b[49m\u001b[43mline\u001b[49m\u001b[43m[\u001b[49m\u001b[38;5;241;43m0\u001b[39;49m\u001b[43m]\u001b[49m\u001b[43m,\u001b[49m\u001b[43m \u001b[49m\u001b[38;5;241;43m0\u001b[39;49m\u001b[43m)\u001b[49m\n",
      "File \u001b[0;32m~/projects/shap/venv/lib/python3.10/site-packages/shap-0.40.1-py3.10-linux-x86_64.egg/shap/explainers/pytree.py:383\u001b[0m, in \u001b[0;36mTreeExplainer.brute_banz\u001b[0;34m(self, x, i)\u001b[0m\n\u001b[1;32m    380\u001b[0m p \u001b[38;5;241m=\u001b[39m [_a \u001b[38;5;28;01mfor\u001b[39;00m _a \u001b[38;5;129;01min\u001b[39;00m \u001b[38;5;28mlist\u001b[39m(\u001b[38;5;28mrange\u001b[39m(n)) \u001b[38;5;28;01mif\u001b[39;00m _a \u001b[38;5;241m!=\u001b[39m i]\n\u001b[1;32m    381\u001b[0m \u001b[38;5;28;01mfor\u001b[39;00m _S \u001b[38;5;129;01min\u001b[39;00m powerset(p):\n\u001b[1;32m    382\u001b[0m     \u001b[38;5;66;03m# _tmp = (product(range(1, n - len(_S))) / product(range(len(_S) + 1, n)))\u001b[39;00m\n\u001b[0;32m--> 383\u001b[0m     _tmp \u001b[38;5;241m=\u001b[39m (\u001b[38;5;28mself\u001b[39m\u001b[38;5;241m.\u001b[39mcoalition_value(x, _S \u001b[38;5;241m+\u001b[39m [i]) \u001b[38;5;241m-\u001b[39m \u001b[38;5;28;43mself\u001b[39;49m\u001b[38;5;241;43m.\u001b[39;49m\u001b[43mcoalition_value\u001b[49m\u001b[43m(\u001b[49m\u001b[43mx\u001b[49m\u001b[43m,\u001b[49m\u001b[43m \u001b[49m\u001b[43m_S\u001b[49m\u001b[43m)\u001b[49m)\n\u001b[1;32m    384\u001b[0m     to_return \u001b[38;5;241m+\u001b[39m\u001b[38;5;241m=\u001b[39m _tmp\n\u001b[1;32m    386\u001b[0m \u001b[38;5;28;01mreturn\u001b[39;00m to_return \u001b[38;5;241m/\u001b[39m \u001b[38;5;241m2\u001b[39m \u001b[38;5;241m*\u001b[39m\u001b[38;5;241m*\u001b[39m (n \u001b[38;5;241m-\u001b[39m \u001b[38;5;241m1\u001b[39m)\n",
      "File \u001b[0;32m~/projects/shap/venv/lib/python3.10/site-packages/shap-0.40.1-py3.10-linux-x86_64.egg/shap/explainers/pytree.py:364\u001b[0m, in \u001b[0;36mTreeExplainer.coalition_value\u001b[0;34m(self, x, _S)\u001b[0m\n\u001b[1;32m    360\u001b[0m             r \u001b[38;5;241m=\u001b[39m [_x \u001b[38;5;241m/\u001b[39m tree\u001b[38;5;241m.\u001b[39mnode_sample_weight[\u001b[38;5;241m0\u001b[39m] \u001b[38;5;28;01mfor\u001b[39;00m _x \u001b[38;5;129;01min\u001b[39;00m tree\u001b[38;5;241m.\u001b[39mnode_sample_weight]\n\u001b[1;32m    361\u001b[0m             \u001b[38;5;28;01mreturn\u001b[39;00m (r[tree\u001b[38;5;241m.\u001b[39mchildren_left[v]] \u001b[38;5;241m*\u001b[39m desc(_S, tree\u001b[38;5;241m.\u001b[39mchildren_left[v], tree) \u001b[38;5;241m+\u001b[39m\n\u001b[1;32m    362\u001b[0m                     r[tree\u001b[38;5;241m.\u001b[39mchildren_right[v]] \u001b[38;5;241m*\u001b[39m desc(_S, tree\u001b[38;5;241m.\u001b[39mchildren_right[v], tree)) \u001b[38;5;241m/\u001b[39m r[v]\n\u001b[0;32m--> 364\u001b[0m \u001b[38;5;28;01mreturn\u001b[39;00m (reduce(\u001b[38;5;28;01mlambda\u001b[39;00m a, b: a \u001b[38;5;241m+\u001b[39m b, [desc(_S, \u001b[38;5;241m0\u001b[39m, i) \u001b[38;5;28;01mfor\u001b[39;00m i \u001b[38;5;129;01min\u001b[39;00m \u001b[38;5;28mself\u001b[39m\u001b[38;5;241m.\u001b[39mtrees])) \u001b[38;5;241m/\u001b[39m \u001b[38;5;28mlen\u001b[39m(\u001b[38;5;28mself\u001b[39m\u001b[38;5;241m.\u001b[39mtrees)\n",
      "File \u001b[0;32m~/projects/shap/venv/lib/python3.10/site-packages/shap-0.40.1-py3.10-linux-x86_64.egg/shap/explainers/pytree.py:364\u001b[0m, in \u001b[0;36m<listcomp>\u001b[0;34m(.0)\u001b[0m\n\u001b[1;32m    360\u001b[0m             r \u001b[38;5;241m=\u001b[39m [_x \u001b[38;5;241m/\u001b[39m tree\u001b[38;5;241m.\u001b[39mnode_sample_weight[\u001b[38;5;241m0\u001b[39m] \u001b[38;5;28;01mfor\u001b[39;00m _x \u001b[38;5;129;01min\u001b[39;00m tree\u001b[38;5;241m.\u001b[39mnode_sample_weight]\n\u001b[1;32m    361\u001b[0m             \u001b[38;5;28;01mreturn\u001b[39;00m (r[tree\u001b[38;5;241m.\u001b[39mchildren_left[v]] \u001b[38;5;241m*\u001b[39m desc(_S, tree\u001b[38;5;241m.\u001b[39mchildren_left[v], tree) \u001b[38;5;241m+\u001b[39m\n\u001b[1;32m    362\u001b[0m                     r[tree\u001b[38;5;241m.\u001b[39mchildren_right[v]] \u001b[38;5;241m*\u001b[39m desc(_S, tree\u001b[38;5;241m.\u001b[39mchildren_right[v], tree)) \u001b[38;5;241m/\u001b[39m r[v]\n\u001b[0;32m--> 364\u001b[0m \u001b[38;5;28;01mreturn\u001b[39;00m (reduce(\u001b[38;5;28;01mlambda\u001b[39;00m a, b: a \u001b[38;5;241m+\u001b[39m b, [\u001b[43mdesc\u001b[49m\u001b[43m(\u001b[49m\u001b[43m_S\u001b[49m\u001b[43m,\u001b[49m\u001b[43m \u001b[49m\u001b[38;5;241;43m0\u001b[39;49m\u001b[43m,\u001b[49m\u001b[43m \u001b[49m\u001b[43mi\u001b[49m\u001b[43m)\u001b[49m \u001b[38;5;28;01mfor\u001b[39;00m i \u001b[38;5;129;01min\u001b[39;00m \u001b[38;5;28mself\u001b[39m\u001b[38;5;241m.\u001b[39mtrees])) \u001b[38;5;241m/\u001b[39m \u001b[38;5;28mlen\u001b[39m(\u001b[38;5;28mself\u001b[39m\u001b[38;5;241m.\u001b[39mtrees)\n",
      "File \u001b[0;32m~/projects/shap/venv/lib/python3.10/site-packages/shap-0.40.1-py3.10-linux-x86_64.egg/shap/explainers/pytree.py:362\u001b[0m, in \u001b[0;36mTreeExplainer.coalition_value.<locals>.desc\u001b[0;34m(_set, v, tree)\u001b[0m\n\u001b[1;32m    359\u001b[0m \u001b[38;5;28;01melse\u001b[39;00m:\n\u001b[1;32m    360\u001b[0m     r \u001b[38;5;241m=\u001b[39m [_x \u001b[38;5;241m/\u001b[39m tree\u001b[38;5;241m.\u001b[39mnode_sample_weight[\u001b[38;5;241m0\u001b[39m] \u001b[38;5;28;01mfor\u001b[39;00m _x \u001b[38;5;129;01min\u001b[39;00m tree\u001b[38;5;241m.\u001b[39mnode_sample_weight]\n\u001b[1;32m    361\u001b[0m     \u001b[38;5;28;01mreturn\u001b[39;00m (r[tree\u001b[38;5;241m.\u001b[39mchildren_left[v]] \u001b[38;5;241m*\u001b[39m desc(_S, tree\u001b[38;5;241m.\u001b[39mchildren_left[v], tree) \u001b[38;5;241m+\u001b[39m\n\u001b[0;32m--> 362\u001b[0m             r[tree\u001b[38;5;241m.\u001b[39mchildren_right[v]] \u001b[38;5;241m*\u001b[39m \u001b[43mdesc\u001b[49m\u001b[43m(\u001b[49m\u001b[43m_S\u001b[49m\u001b[43m,\u001b[49m\u001b[43m \u001b[49m\u001b[43mtree\u001b[49m\u001b[38;5;241;43m.\u001b[39;49m\u001b[43mchildren_right\u001b[49m\u001b[43m[\u001b[49m\u001b[43mv\u001b[49m\u001b[43m]\u001b[49m\u001b[43m,\u001b[49m\u001b[43m \u001b[49m\u001b[43mtree\u001b[49m\u001b[43m)\u001b[49m) \u001b[38;5;241m/\u001b[39m r[v]\n",
      "File \u001b[0;32m~/projects/shap/venv/lib/python3.10/site-packages/shap-0.40.1-py3.10-linux-x86_64.egg/shap/explainers/pytree.py:362\u001b[0m, in \u001b[0;36mTreeExplainer.coalition_value.<locals>.desc\u001b[0;34m(_set, v, tree)\u001b[0m\n\u001b[1;32m    359\u001b[0m \u001b[38;5;28;01melse\u001b[39;00m:\n\u001b[1;32m    360\u001b[0m     r \u001b[38;5;241m=\u001b[39m [_x \u001b[38;5;241m/\u001b[39m tree\u001b[38;5;241m.\u001b[39mnode_sample_weight[\u001b[38;5;241m0\u001b[39m] \u001b[38;5;28;01mfor\u001b[39;00m _x \u001b[38;5;129;01min\u001b[39;00m tree\u001b[38;5;241m.\u001b[39mnode_sample_weight]\n\u001b[1;32m    361\u001b[0m     \u001b[38;5;28;01mreturn\u001b[39;00m (r[tree\u001b[38;5;241m.\u001b[39mchildren_left[v]] \u001b[38;5;241m*\u001b[39m desc(_S, tree\u001b[38;5;241m.\u001b[39mchildren_left[v], tree) \u001b[38;5;241m+\u001b[39m\n\u001b[0;32m--> 362\u001b[0m             r[tree\u001b[38;5;241m.\u001b[39mchildren_right[v]] \u001b[38;5;241m*\u001b[39m \u001b[43mdesc\u001b[49m\u001b[43m(\u001b[49m\u001b[43m_S\u001b[49m\u001b[43m,\u001b[49m\u001b[43m \u001b[49m\u001b[43mtree\u001b[49m\u001b[38;5;241;43m.\u001b[39;49m\u001b[43mchildren_right\u001b[49m\u001b[43m[\u001b[49m\u001b[43mv\u001b[49m\u001b[43m]\u001b[49m\u001b[43m,\u001b[49m\u001b[43m \u001b[49m\u001b[43mtree\u001b[49m\u001b[43m)\u001b[49m) \u001b[38;5;241m/\u001b[39m r[v]\n",
      "File \u001b[0;32m~/projects/shap/venv/lib/python3.10/site-packages/shap-0.40.1-py3.10-linux-x86_64.egg/shap/explainers/pytree.py:358\u001b[0m, in \u001b[0;36mTreeExplainer.coalition_value.<locals>.desc\u001b[0;34m(_set, v, tree)\u001b[0m\n\u001b[1;32m    356\u001b[0m         \u001b[38;5;28;01mreturn\u001b[39;00m desc(_S, tree\u001b[38;5;241m.\u001b[39mchildren_left[v], tree)\n\u001b[1;32m    357\u001b[0m     \u001b[38;5;28;01melse\u001b[39;00m:\n\u001b[0;32m--> 358\u001b[0m         \u001b[38;5;28;01mreturn\u001b[39;00m \u001b[43mdesc\u001b[49m\u001b[43m(\u001b[49m\u001b[43m_S\u001b[49m\u001b[43m,\u001b[49m\u001b[43m \u001b[49m\u001b[43mtree\u001b[49m\u001b[38;5;241;43m.\u001b[39;49m\u001b[43mchildren_right\u001b[49m\u001b[43m[\u001b[49m\u001b[43mv\u001b[49m\u001b[43m]\u001b[49m\u001b[43m,\u001b[49m\u001b[43m \u001b[49m\u001b[43mtree\u001b[49m\u001b[43m)\u001b[49m\n\u001b[1;32m    359\u001b[0m \u001b[38;5;28;01melse\u001b[39;00m:\n\u001b[1;32m    360\u001b[0m     r \u001b[38;5;241m=\u001b[39m [_x \u001b[38;5;241m/\u001b[39m tree\u001b[38;5;241m.\u001b[39mnode_sample_weight[\u001b[38;5;241m0\u001b[39m] \u001b[38;5;28;01mfor\u001b[39;00m _x \u001b[38;5;129;01min\u001b[39;00m tree\u001b[38;5;241m.\u001b[39mnode_sample_weight]\n",
      "File \u001b[0;32m~/projects/shap/venv/lib/python3.10/site-packages/shap-0.40.1-py3.10-linux-x86_64.egg/shap/explainers/pytree.py:362\u001b[0m, in \u001b[0;36mTreeExplainer.coalition_value.<locals>.desc\u001b[0;34m(_set, v, tree)\u001b[0m\n\u001b[1;32m    359\u001b[0m \u001b[38;5;28;01melse\u001b[39;00m:\n\u001b[1;32m    360\u001b[0m     r \u001b[38;5;241m=\u001b[39m [_x \u001b[38;5;241m/\u001b[39m tree\u001b[38;5;241m.\u001b[39mnode_sample_weight[\u001b[38;5;241m0\u001b[39m] \u001b[38;5;28;01mfor\u001b[39;00m _x \u001b[38;5;129;01min\u001b[39;00m tree\u001b[38;5;241m.\u001b[39mnode_sample_weight]\n\u001b[1;32m    361\u001b[0m     \u001b[38;5;28;01mreturn\u001b[39;00m (r[tree\u001b[38;5;241m.\u001b[39mchildren_left[v]] \u001b[38;5;241m*\u001b[39m desc(_S, tree\u001b[38;5;241m.\u001b[39mchildren_left[v], tree) \u001b[38;5;241m+\u001b[39m\n\u001b[0;32m--> 362\u001b[0m             r[tree\u001b[38;5;241m.\u001b[39mchildren_right[v]] \u001b[38;5;241m*\u001b[39m \u001b[43mdesc\u001b[49m\u001b[43m(\u001b[49m\u001b[43m_S\u001b[49m\u001b[43m,\u001b[49m\u001b[43m \u001b[49m\u001b[43mtree\u001b[49m\u001b[38;5;241;43m.\u001b[39;49m\u001b[43mchildren_right\u001b[49m\u001b[43m[\u001b[49m\u001b[43mv\u001b[49m\u001b[43m]\u001b[49m\u001b[43m,\u001b[49m\u001b[43m \u001b[49m\u001b[43mtree\u001b[49m\u001b[43m)\u001b[49m) \u001b[38;5;241m/\u001b[39m r[v]\n",
      "File \u001b[0;32m~/projects/shap/venv/lib/python3.10/site-packages/shap-0.40.1-py3.10-linux-x86_64.egg/shap/explainers/pytree.py:362\u001b[0m, in \u001b[0;36mTreeExplainer.coalition_value.<locals>.desc\u001b[0;34m(_set, v, tree)\u001b[0m\n\u001b[1;32m    359\u001b[0m \u001b[38;5;28;01melse\u001b[39;00m:\n\u001b[1;32m    360\u001b[0m     r \u001b[38;5;241m=\u001b[39m [_x \u001b[38;5;241m/\u001b[39m tree\u001b[38;5;241m.\u001b[39mnode_sample_weight[\u001b[38;5;241m0\u001b[39m] \u001b[38;5;28;01mfor\u001b[39;00m _x \u001b[38;5;129;01min\u001b[39;00m tree\u001b[38;5;241m.\u001b[39mnode_sample_weight]\n\u001b[1;32m    361\u001b[0m     \u001b[38;5;28;01mreturn\u001b[39;00m (r[tree\u001b[38;5;241m.\u001b[39mchildren_left[v]] \u001b[38;5;241m*\u001b[39m desc(_S, tree\u001b[38;5;241m.\u001b[39mchildren_left[v], tree) \u001b[38;5;241m+\u001b[39m\n\u001b[0;32m--> 362\u001b[0m             r[tree\u001b[38;5;241m.\u001b[39mchildren_right[v]] \u001b[38;5;241m*\u001b[39m \u001b[43mdesc\u001b[49m\u001b[43m(\u001b[49m\u001b[43m_S\u001b[49m\u001b[43m,\u001b[49m\u001b[43m \u001b[49m\u001b[43mtree\u001b[49m\u001b[38;5;241;43m.\u001b[39;49m\u001b[43mchildren_right\u001b[49m\u001b[43m[\u001b[49m\u001b[43mv\u001b[49m\u001b[43m]\u001b[49m\u001b[43m,\u001b[49m\u001b[43m \u001b[49m\u001b[43mtree\u001b[49m\u001b[43m)\u001b[49m) \u001b[38;5;241m/\u001b[39m r[v]\n",
      "File \u001b[0;32m~/projects/shap/venv/lib/python3.10/site-packages/shap-0.40.1-py3.10-linux-x86_64.egg/shap/explainers/pytree.py:361\u001b[0m, in \u001b[0;36mTreeExplainer.coalition_value.<locals>.desc\u001b[0;34m(_set, v, tree)\u001b[0m\n\u001b[1;32m    359\u001b[0m \u001b[38;5;28;01melse\u001b[39;00m:\n\u001b[1;32m    360\u001b[0m     r \u001b[38;5;241m=\u001b[39m [_x \u001b[38;5;241m/\u001b[39m tree\u001b[38;5;241m.\u001b[39mnode_sample_weight[\u001b[38;5;241m0\u001b[39m] \u001b[38;5;28;01mfor\u001b[39;00m _x \u001b[38;5;129;01min\u001b[39;00m tree\u001b[38;5;241m.\u001b[39mnode_sample_weight]\n\u001b[0;32m--> 361\u001b[0m     \u001b[38;5;28;01mreturn\u001b[39;00m (r[tree\u001b[38;5;241m.\u001b[39mchildren_left[v]] \u001b[38;5;241m*\u001b[39m \u001b[43mdesc\u001b[49m\u001b[43m(\u001b[49m\u001b[43m_S\u001b[49m\u001b[43m,\u001b[49m\u001b[43m \u001b[49m\u001b[43mtree\u001b[49m\u001b[38;5;241;43m.\u001b[39;49m\u001b[43mchildren_left\u001b[49m\u001b[43m[\u001b[49m\u001b[43mv\u001b[49m\u001b[43m]\u001b[49m\u001b[43m,\u001b[49m\u001b[43m \u001b[49m\u001b[43mtree\u001b[49m\u001b[43m)\u001b[49m \u001b[38;5;241m+\u001b[39m\n\u001b[1;32m    362\u001b[0m             r[tree\u001b[38;5;241m.\u001b[39mchildren_right[v]] \u001b[38;5;241m*\u001b[39m desc(_S, tree\u001b[38;5;241m.\u001b[39mchildren_right[v], tree)) \u001b[38;5;241m/\u001b[39m r[v]\n",
      "\u001b[0;31mKeyboardInterrupt\u001b[0m: "
     ]
    }
   ],
   "source": [
    "line = np.asarray(x[:1])\n",
    "ex.brute_banz(line[0], 0)"
   ]
  },
  {
   "cell_type": "code",
   "execution_count": null,
   "id": "12c7c911",
   "metadata": {},
   "outputs": [],
   "source": [
    "ex.brute_shap(line[0], 0)"
   ]
  },
  {
   "cell_type": "code",
   "execution_count": null,
   "id": "c1cbd11d",
   "metadata": {},
   "outputs": [],
   "source": []
  },
  {
   "cell_type": "code",
   "execution_count": null,
   "id": "028a93ff",
   "metadata": {},
   "outputs": [],
   "source": []
  }
 ],
 "metadata": {
  "kernelspec": {
   "display_name": "Python 3 (ipykernel)",
   "language": "python",
   "name": "python3"
  },
  "language_info": {
   "codemirror_mode": {
    "name": "ipython",
    "version": 3
   },
   "file_extension": ".py",
   "mimetype": "text/x-python",
   "name": "python",
   "nbconvert_exporter": "python",
   "pygments_lexer": "ipython3",
   "version": "3.10.6"
  }
 },
 "nbformat": 4,
 "nbformat_minor": 5
}
