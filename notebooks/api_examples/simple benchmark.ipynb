{
 "cells": [
  {
   "cell_type": "code",
   "execution_count": 7,
   "id": "102718eb",
   "metadata": {},
   "outputs": [
    {
     "name": "stdout",
     "output_type": "stream",
     "text": [
      "3.10.6 (main, Nov 14 2022, 16:10:14) [GCC 11.3.0]\n"
     ]
    }
   ],
   "source": [
    "import sys\n",
    "print(sys.version)\n",
    "\n",
    "import sklearn.ensemble\n",
    "import shap\n",
    "import numpy as np\n",
    "import pandas as pd\n",
    "import numba\n",
    "import time\n",
    "import json\n",
    "import xgboost\n",
    "from sklearn.datasets import make_regression\n",
    "from sklearn.model_selection import train_test_split\n",
    "\n",
    "import matplotlib.pyplot as plt\n",
    "import seaborn as sns\n",
    "\n",
    "from sklearn.model_selection import train_test_split\n",
    "import shap.benchmark\n",
    "\n",
    "from shap import TreeExplainer as TreeCext\n",
    "\n",
    "from shap.explainers.pytree import *\n",
    "\n",
    "import lightgbm as lgb\n"
   ]
  },
  {
   "cell_type": "code",
   "execution_count": 2,
   "id": "d072a5d8",
   "metadata": {},
   "outputs": [],
   "source": [
    "import warnings\n",
    "warnings.filterwarnings('ignore')"
   ]
  },
  {
   "cell_type": "code",
   "execution_count": 4,
   "id": "6f510ddd",
   "metadata": {},
   "outputs": [],
   "source": [
    "def run_explain(name, data, explainer, vals=False):\n",
    "    measure_time = time.perf_counter\n",
    "    start = measure_time()\n",
    "    values = explainer(data)\n",
    "    end = measure_time()\n",
    "    print(\"name: {}, time: {}\".format(name, end - start))\n",
    "    return [name, values if vals else [], end - start]\n",
    "\n",
    "def run_diff_explainers(model, data):\n",
    "\n",
    "#     # use an independent masker\n",
    "#     masker = shap.maskers.Independent(X_train)\n",
    "#     pmasker = shap.maskers.Partition(X_train)\n",
    "    explainers = [\n",
    "        (\"Tree\", shap.explainers.Tree(model)),\n",
    "        (\"TreeBanz\", shap.explainers.Tree(model,  use_banz=True)),\n",
    "        (\"NEW TreeBanz\", shap.explainers.Tree(model,  use_banz=True, change_deltas=True)),\n",
    "    #     (\"Tree approx.\", shap.explainers.Tree(model, masker, approximate=True)),\n",
    "    #     (\"Exact\", shap.explainers.Exact(model.predict, masker)),\n",
    "    ]\n",
    "\n",
    "    return [run_explain(name, data, exp) for name, exp in explainers]"
   ]
  },
  {
   "cell_type": "code",
   "execution_count": 5,
   "id": "e43a06ac",
   "metadata": {},
   "outputs": [],
   "source": [
    "def run_explain2(name, data, explainer):\n",
    "    measure_time = time.perf_counter\n",
    "    start = measure_time()\n",
    "    values = explainer(data)\n",
    "    end = measure_time()\n",
    "    print(\"name: {}, time: {}\".format(name, end - start))\n",
    "    return [name, values, end - start]\n",
    "\n",
    "def run_diff_explainers2(model, data):\n",
    "\n",
    "#     # use an independent masker\n",
    "#     masker = shap.maskers.Independent(X_train)\n",
    "#     pmasker = shap.maskers.Partition(X_train)\n",
    "    explainers = [\n",
    "        (\"Tree\", shap.explainers.Tree(model)),\n",
    "        (\"TreeBanz\", shap.explainers.Tree(model,  use_banz=True)),\n",
    "        (\"NEW TreeBanz\", shap.explainers.Tree(model,  use_banz=True, change_deltas=True)),\n",
    "    #     (\"Tree approx.\", shap.explainers.Tree(model, masker, approximate=True)),\n",
    "    #     (\"Exact\", shap.explainers.Exact(model.predict, masker)),\n",
    "    ]\n",
    "\n",
    "    return [run_explain2(name, data, exp) for name, exp in explainers]"
   ]
  },
  {
   "cell_type": "code",
   "execution_count": 3,
   "id": "5a1f0678",
   "metadata": {},
   "outputs": [
    {
     "name": "stdout",
     "output_type": "stream",
     "text": [
      "['CRIM', 'ZN', 'INDUS', 'CHAS', 'NOX', 'RM', 'AGE', 'DIS', 'RAD', 'TAX', 'PTRATIO', 'B', 'LSTAT']\n",
      "13\n",
      "(506, 13)\n",
      "(506,)\n"
     ]
    }
   ],
   "source": [
    "np.set_printoptions(threshold=sys.maxsize)\n",
    "# X,y = shap.datasets.communitiesandcrime()\n",
    "X,y = shap.datasets.boston()\n",
    "print(X.columns.values.tolist())\n",
    "print(len(X.columns.values.tolist()))\n",
    "\n",
    "print(X.shape)\n",
    "print(y.shape)"
   ]
  },
  {
   "cell_type": "code",
   "execution_count": 6,
   "id": "2b594289",
   "metadata": {},
   "outputs": [
    {
     "data": {
      "text/plain": [
       "1"
      ]
     },
     "execution_count": 6,
     "metadata": {},
     "output_type": "execute_result"
    }
   ],
   "source": [
    "# X,y = shap.datasets.boston()\n",
    "# X = X.values\n",
    "# X_train, X_test, y_train, y_test = train_test_split(X, y, random_state=0)\n",
    "\n",
    "# model = sklearn.ensemble.RandomForestRegressor(n_estimators=1000, max_depth=13)\n",
    "# model.fit(X_train, y_train)\n",
    "\n",
    "# TreeBanzCext = shap.explainers.Tree(model, use_banz=True, change_deltas=True)\n",
    "# TreeBanzCext(X_test)\n",
    "\n",
    "1\n",
    "# ex = TreeExplainer(model)\n",
    "# res_banz_py = ex.banz_values(X_test)\n"
   ]
  },
  {
   "cell_type": "code",
   "execution_count": 7,
   "id": "694370f4",
   "metadata": {},
   "outputs": [],
   "source": [
    "# Zobaczmy na tym datasecie jaka glebokosc daje najlepsze wyszkolenie\n",
    "\n",
    "# X,y = shap.datasets.boston()\n",
    "# X = X.values\n",
    "# X_train, X_test, y_train, y_test = train_test_split(X, y, random_state=0)\n",
    "\n",
    "# scores = {}\n",
    "# mean = 5\n",
    "\n",
    "# for i in range(1,13):\n",
    "#     pass\n",
    "#     print(i)\n",
    "#     scores[i] = 0\n",
    "#     for j in range(mean):\n",
    "#         model = sklearn.ensemble.RandomForestRegressor(n_estimators=1000, max_depth=i)\n",
    "#         model.fit(X_train, y_train)\n",
    "#         scores[i] = scores[i] + model.score(X_test, y_test)\n",
    "#     scores[i] = scores[i] / mean\n",
    "\n",
    "# scores"
   ]
  },
  {
   "cell_type": "code",
   "execution_count": 8,
   "id": "1009a932",
   "metadata": {},
   "outputs": [],
   "source": [
    "def item_generator(json_input, lookup_key):\n",
    "    if isinstance(json_input, dict):\n",
    "        for k, v in json_input.items():\n",
    "            if k == lookup_key:\n",
    "                yield v\n",
    "            else:\n",
    "                yield from item_generator(v, lookup_key)\n",
    "    elif isinstance(json_input, list):\n",
    "        for item in json_input:\n",
    "            yield from item_generator(item, lookup_key)\n",
    "\n",
    "def tree_depth(json_text):\n",
    "    json_input = json.loads(json_text)\n",
    "    return max(list(item_generator(json_input, 'depth'))) + 1\n"
   ]
  },
  {
   "cell_type": "code",
   "execution_count": 9,
   "id": "2f6f9a7d",
   "metadata": {},
   "outputs": [
    {
     "name": "stdout",
     "output_type": "stream",
     "text": [
      "(32561, 12)\n",
      "(506, 13)\n",
      "(1994, 101)\n",
      "(1000, 60)\n",
      "(442, 10)\n",
      "(50, 224, 224, 3)\n",
      "(1000, 60)\n",
      "(150, 4)\n",
      "(14264, 79)\n"
     ]
    }
   ],
   "source": [
    "import shap.datasets as ds\n",
    "\n",
    "def a(x):\n",
    "    X, y = x\n",
    "    print(X.shape)\n",
    "\n",
    "a(ds.adult())\n",
    "a(ds.boston())\n",
    "a(ds.communitiesandcrime())\n",
    "a(ds.corrgroups60())\n",
    "a(ds.diabetes())\n",
    "a(ds.imagenet50())\n",
    "# a(ds.imdb())\n",
    "a(ds.independentlinear60())\n",
    "a(ds.iris())\n",
    "a(ds.nhanesi())"
   ]
  },
  {
   "cell_type": "code",
   "execution_count": 10,
   "id": "c260fa39",
   "metadata": {},
   "outputs": [
    {
     "name": "stdout",
     "output_type": "stream",
     "text": [
      "1\n",
      "{1: 0.35595893770551873}\n"
     ]
    }
   ],
   "source": [
    "# Zobaczmy na tym datasecie jaka glebokosc daje najlepsze wyszkolenie\n",
    "\n",
    "X,y = shap.datasets.nhanesi()\n",
    "X = X.values\n",
    "X_train, X_test, y_train, y_test = train_test_split(X, y, random_state=7, test_size=0.2)\n",
    "\n",
    "xgb_full = xgboost.DMatrix(X, label=y)\n",
    "xgb_train = xgboost.DMatrix(X_train, label=y_train)\n",
    "xgb_test = xgboost.DMatrix(X_test, label=y_test)\n",
    "\n",
    "scores = {}\n",
    "mean_depths = {}\n",
    "stddev_depths = {}\n",
    "full_depths = {}\n",
    "\n",
    "mean = 10\n",
    "\n",
    "for i in range(1,2,1):\n",
    "# for i in range(1,32,1):\n",
    "    print(i)\n",
    "    scores[i] = 0\n",
    "    mean_depths[i] = 0\n",
    "    stddev_depths[i] = 0\n",
    "    for j in range(mean):\n",
    "        params = {\n",
    "            \"eta\": 0.002,\n",
    "            \"max_depth\": 3,\n",
    "            \"objective\": \"survival:cox\",\n",
    "            \"subsample\": 0.5\n",
    "        }\n",
    "#         model = xgboost.train(params, xgb_train, 10000, evals = [(xgb_test, \"test\")], verbose_eval=1000)\n",
    "        model = xgboost.XGBRegressor(n_estimators=1000, max_depth=i, subsample=0.5)\n",
    "#         X_train, X_test, y_train, y_test = train_test_split(X, y, random_state=0)\n",
    "        model.fit(X_train, y_train, eval_set=[(X_test, y_test)], verbose=False, early_stopping_rounds=10)\n",
    "        scores[i] = scores[i] + model.score(X_test, y_test)\n",
    "        \n",
    "        booster = model.get_booster()\n",
    "        tree_df = booster.trees_to_dataframe()\n",
    "#         print(\"rysuje drzewo\")\n",
    "#         xgboost.plotting.plot_tree(booster)\n",
    "#         print(booster.get_dump(dump_format = \"json\").head())\n",
    "        depths = [tree_depth(x) for x in booster.get_dump(dump_format = \"json\")]\n",
    "        full_depths[i] = depths\n",
    "        mean_depths[i] = mean_depths[i] + np.mean(depths)\n",
    "        stddev_depths[i] = stddev_depths[i] + np.std(depths)\n",
    "        \n",
    "    scores[i] = scores[i] / mean\n",
    "    mean_depths[i] = mean_depths[i] / mean\n",
    "    stddev_depths[i] = stddev_depths[i] / mean\n",
    "\n",
    "print(scores)\n",
    "# print(mean_depths)\n",
    "# print(stddev_depths)\n"
   ]
  },
  {
   "cell_type": "code",
   "execution_count": 11,
   "id": "8963df53",
   "metadata": {},
   "outputs": [
    {
     "name": "stdout",
     "output_type": "stream",
     "text": [
      "[0]\ttest-cox-nloglik:9.28408\n",
      "[1000]\ttest-cox-nloglik:8.60854\n",
      "[2000]\ttest-cox-nloglik:8.53116\n",
      "[3000]\ttest-cox-nloglik:8.49403\n",
      "[4000]\ttest-cox-nloglik:8.47058\n",
      "[4999]\ttest-cox-nloglik:8.45255\n"
     ]
    },
    {
     "data": {
      "text/plain": [
       "0.8354598601693753"
      ]
     },
     "execution_count": 11,
     "metadata": {},
     "output_type": "execute_result"
    }
   ],
   "source": [
    "#przyklad lundberga:\n",
    "X,y = shap.datasets.nhanesi()\n",
    "X_display,y_display = shap.datasets.nhanesi(display=True) # human readable feature values\n",
    "\n",
    "xgb_full = xgboost.DMatrix(X, label=y)\n",
    "\n",
    "# create a train/test split\n",
    "X_train, X_test, y_train, y_test = train_test_split(X, y, test_size=0.2, random_state=7)\n",
    "xgb_train = xgboost.DMatrix(X_train, label=y_train)\n",
    "xgb_test = xgboost.DMatrix(X_test, label=y_test)\n",
    "\n",
    "# use validation set to choose # of trees\n",
    "params = {\n",
    "    \"eta\": 0.002,\n",
    "    \"max_depth\": 3,\n",
    "    \"objective\": \"survival:cox\",\n",
    "    \"subsample\": 0.5\n",
    "}\n",
    "# model_train = xgboost.train(params, xgb_train, 10000, evals = [(xgb_test, \"test\")], verbose_eval=1000)\n",
    "\n",
    "# train final model on the full data set\n",
    "params = {\n",
    "    \"eta\": 0.002,\n",
    "    \"max_depth\": 3, \n",
    "    \"objective\": \"survival:cox\",\n",
    "    \"subsample\": 0.5\n",
    "}\n",
    "model_full = xgboost.train(params, xgb_full, 5000, evals = [(xgb_full, \"test\")], verbose_eval=1000)\n",
    "\n",
    "def c_statistic_harrell(pred, labels):\n",
    "    total = 0\n",
    "    matches = 0\n",
    "    for i in range(len(labels)):\n",
    "        for j in range(len(labels)):\n",
    "            if labels[j] > 0 and abs(labels[i]) > labels[j]:\n",
    "                total += 1\n",
    "                if pred[j] > pred[i]:\n",
    "                    matches += 1\n",
    "    return matches/total\n",
    "\n",
    "# see how well we can order people by survival\n",
    "c_statistic_harrell(model_full.predict(xgb_test, ntree_limit=5000), y_test)"
   ]
  },
  {
   "cell_type": "code",
   "execution_count": 12,
   "id": "07a45d3c",
   "metadata": {},
   "outputs": [
    {
     "name": "stdout",
     "output_type": "stream",
     "text": [
      "16.95208156660044\n",
      "-92.30155036647064\n"
     ]
    }
   ],
   "source": [
    "from sklearn.metrics import mean_squared_error as MSE\n",
    "from sklearn.metrics import r2_score\n",
    "\n",
    "res = model_full.predict(xgb_test)\n",
    "\n",
    "print(np.sqrt(MSE(res, y_test)))\n",
    "print(r2_score(res, y_test))"
   ]
  },
  {
   "cell_type": "code",
   "execution_count": 13,
   "id": "a5659dda",
   "metadata": {},
   "outputs": [
    {
     "name": "stdout",
     "output_type": "stream",
     "text": [
      "(1048575, 21)\n"
     ]
    },
    {
     "data": {
      "text/plain": [
       "0    3\n",
       "1    5\n",
       "2    3\n",
       "3    7\n",
       "4    3\n",
       "Name: CLASIFFICATION_FINAL, dtype: int64"
      ]
     },
     "execution_count": 13,
     "metadata": {},
     "output_type": "execute_result"
    }
   ],
   "source": [
    "covid = pd.read_csv('../../data/Covid Data.csv')\n",
    "\n",
    "print(covid.shape)\n",
    "\n",
    "cols = ['PNEUMONIA','DIABETES', 'COPD', 'ASTHMA', 'INMSUPR','HIPERTENSION', \n",
    "        'OTHER_DISEASE', 'CARDIOVASCULAR', 'OBESITY','RENAL_CHRONIC', 'TOBACCO']\n",
    "for col in cols :\n",
    "    covid = covid[(covid[col] == 1)|(covid[col] == 2)]\n",
    "    \n",
    "covid['DEATH'] = [2 if row=='9999-99-99' else 1 for row in covid['DATE_DIED']]\n",
    "\n",
    "covid['DEATH'].value_counts()\n",
    "\n",
    "covid.drop(columns=['INTUBED','ICU','DATE_DIED'],inplace=True)\n",
    "\n",
    "covid['PREGNANT'] = covid['PREGNANT'].replace(97,2)\n",
    "covid['PREGNANT'] = covid['PREGNANT'].replace(98,2)\n",
    "\n",
    "y = covid['CLASIFFICATION_FINAL']\n",
    "X = covid.drop('CLASIFFICATION_FINAL', axis=1)\n",
    "\n",
    "y.head()"
   ]
  },
  {
   "cell_type": "code",
   "execution_count": 14,
   "id": "2c9bc407",
   "metadata": {},
   "outputs": [
    {
     "name": "stdout",
     "output_type": "stream",
     "text": [
      "training\n",
      "testing\n",
      "Logistic Regression Accuracy : 0.5364896040111008\n"
     ]
    }
   ],
   "source": [
    "X_train, X_test, y_train, y_test = train_test_split(X, y, test_size=0.2, random_state=7)\n",
    "\n",
    "from sklearn.linear_model import LogisticRegression\n",
    "\n",
    "log_reg = LogisticRegression()\n",
    "print(\"training\")\n",
    "log_reg.fit(X_train, y_train)\n",
    "print(\"testing\")\n",
    "print(\"Logistic Regression Accuracy :\", log_reg.score(X_test, y_test))"
   ]
  },
  {
   "cell_type": "code",
   "execution_count": null,
   "id": "c2a41929",
   "metadata": {},
   "outputs": [],
   "source": []
  },
  {
   "cell_type": "code",
   "execution_count": null,
   "id": "7036657f",
   "metadata": {},
   "outputs": [],
   "source": []
  },
  {
   "cell_type": "code",
   "execution_count": 15,
   "id": "7baf464d",
   "metadata": {},
   "outputs": [
    {
     "name": "stdout",
     "output_type": "stream",
     "text": [
      "13: 0.5464198096873156\n",
      "--------------------------------\n"
     ]
    },
    {
     "data": {
      "text/plain": [
       "0.5261497041910735"
      ]
     },
     "execution_count": 15,
     "metadata": {},
     "output_type": "execute_result"
    }
   ],
   "source": [
    "i=13\n",
    "model = sklearn.ensemble.RandomForestClassifier(max_depth=i)\n",
    "model.fit(X_train, y_train)\n",
    "print(\"{}: {}\\n--------------------------------\".format(i, model.score(X_test, y_test)))\n",
    "model_default = sklearn.ensemble.RandomForestClassifier()\n",
    "model_default.fit(X_train, y_train)\n",
    "model_default.score(X_test, y_test)"
   ]
  },
  {
   "cell_type": "code",
   "execution_count": 16,
   "id": "f2c002fc",
   "metadata": {},
   "outputs": [
    {
     "data": {
      "text/plain": [
       "(205031, 18)"
      ]
     },
     "execution_count": 16,
     "metadata": {},
     "output_type": "execute_result"
    }
   ],
   "source": [
    "X_test.shape"
   ]
  },
  {
   "cell_type": "code",
   "execution_count": 17,
   "id": "ddfd3377",
   "metadata": {},
   "outputs": [
    {
     "name": "stdout",
     "output_type": "stream",
     "text": [
      "25: (25, 18)\n",
      "ile drzew cext? 100\n",
      "ile drzew cext? 100\n",
      "ile drzew cext? 100\n",
      "running with BANZ=False\n",
      "using treeshap and cext\n",
      "here37\n",
      "using dense_Tree_pred\n",
      "name: Tree, time: 4.139129353003227\n",
      "running with BANZ=True\n",
      "using treeshap and cext\n",
      "using BANZ\n",
      "name: TreeBanz, time: 1.354392198001733\n",
      "running with BANZ=True\n",
      "using treeshap and cext\n",
      "using BANZ\n",
      "name: NEW TreeBanz, time: 1.3189490680015297\n",
      "ile drzew cext? 100\n",
      "ile drzew cext? 100\n",
      "ile drzew cext? 100\n",
      "running with BANZ=False\n",
      "using treeshap and cext\n",
      "here37\n",
      "using dense_Tree_pred\n",
      "name: Tree, time: 159.22741826499987\n",
      "running with BANZ=True\n",
      "using treeshap and cext\n",
      "using BANZ\n",
      "name: TreeBanz, time: 22.751373607999994\n",
      "running with BANZ=True\n",
      "using treeshap and cext\n",
      "using BANZ\n",
      "name: NEW TreeBanz, time: 21.405153003001033\n",
      "219.28350472450256\n",
      "------------------------\n"
     ]
    }
   ],
   "source": [
    "for i in range(25,26,20):\n",
    "    X_2 = X_test[:i]\n",
    "    print(\"{}: {}\".format(i, X_2.shape))\n",
    "    start = time.time()\n",
    "    run_diff_explainers(model, X_2)\n",
    "    run_diff_explainers(model_default, X_2)\n",
    "    print(time.time()-start)\n",
    "    print(\"------------------------\")"
   ]
  },
  {
   "cell_type": "code",
   "execution_count": null,
   "id": "35e0e562",
   "metadata": {},
   "outputs": [],
   "source": []
  },
  {
   "cell_type": "code",
   "execution_count": 18,
   "id": "131792b5",
   "metadata": {},
   "outputs": [
    {
     "name": "stdout",
     "output_type": "stream",
     "text": [
      "time to train: 193.23614311218262\n"
     ]
    },
    {
     "data": {
      "text/plain": [
       "0.5474489223580824"
      ]
     },
     "execution_count": 18,
     "metadata": {},
     "output_type": "execute_result"
    }
   ],
   "source": [
    "from sklearn.preprocessing import LabelEncoder\n",
    "le = LabelEncoder()\n",
    "y_train = le.fit_transform(y_train)\n",
    "y_test = le.fit_transform(y_test)\n",
    "\n",
    "# model = xgboost.XGBClassifier(max_depth=13)\n",
    "model_xgb = xgboost.XGBClassifier()\n",
    "start = time.time()\n",
    "model_xgb.fit(X_train, y_train)\n",
    "end = time.time() - start\n",
    "print(\"time to train: {}\".format(end))\n",
    "model_xgb.score(X_test, y_test)"
   ]
  },
  {
   "cell_type": "code",
   "execution_count": 19,
   "id": "c8e01e74",
   "metadata": {},
   "outputs": [
    {
     "data": {
      "text/plain": [
       "(205031, 18)"
      ]
     },
     "execution_count": 19,
     "metadata": {},
     "output_type": "execute_result"
    }
   ],
   "source": [
    "X_test.shape"
   ]
  },
  {
   "cell_type": "code",
   "execution_count": 20,
   "id": "f25e18d2",
   "metadata": {
    "scrolled": true
   },
   "outputs": [
    {
     "name": "stdout",
     "output_type": "stream",
     "text": [
      "ile drzew cext? 700\n",
      "ile drzew cext? 700\n",
      "ile drzew cext? 700\n",
      "running with BANZ=False\n",
      "name: Tree, time: 161.54650388800292\n",
      "running with BANZ=True\n",
      "name: TreeBanz, time: 139.84836968799937\n",
      "running with BANZ=True\n",
      "name: NEW TreeBanz, time: 159.61856063099913\n"
     ]
    },
    {
     "data": {
      "text/plain": [
       "13"
      ]
     },
     "execution_count": 20,
     "metadata": {},
     "output_type": "execute_result"
    }
   ],
   "source": [
    "run_diff_explainers(model_xgb, X_test)\n",
    "13"
   ]
  },
  {
   "cell_type": "code",
   "execution_count": null,
   "id": "40dbb66e",
   "metadata": {},
   "outputs": [],
   "source": []
  },
  {
   "cell_type": "code",
   "execution_count": 21,
   "id": "7a023f6f",
   "metadata": {},
   "outputs": [
    {
     "name": "stdout",
     "output_type": "stream",
     "text": [
      "time to train: 0.07662582397460938\n"
     ]
    },
    {
     "data": {
      "text/plain": [
       "1.0"
      ]
     },
     "execution_count": 21,
     "metadata": {},
     "output_type": "execute_result"
    }
   ],
   "source": [
    "from sklearn.datasets import load_wine\n",
    "X, y = load_wine(return_X_y=True)\n",
    "X_train, X_test, y_train, y_test = train_test_split(X, y, random_state=0, test_size=0.3)\n",
    "\n",
    "model = sklearn.ensemble.RandomForestClassifier()\n",
    "start = time.time()\n",
    "model.fit(X_train, y_train)\n",
    "end = time.time() - start\n",
    "print(\"time to train: {}\".format(end))\n",
    "model.score(X_test, y_test)"
   ]
  },
  {
   "cell_type": "code",
   "execution_count": 22,
   "id": "8b554ef3",
   "metadata": {},
   "outputs": [
    {
     "name": "stdout",
     "output_type": "stream",
     "text": [
      "ile drzew cext? 100\n",
      "ile drzew cext? 100\n",
      "ile drzew cext? 100\n",
      "running with BANZ=False\n",
      "using treeshap and cext\n",
      "here37\n",
      "using dense_Tree_pred\n",
      "name: Tree, time: 0.014697544997034129\n",
      "running with BANZ=True\n",
      "using treeshap and cext\n",
      "using BANZ\n",
      "name: TreeBanz, time: 0.019886000001861248\n",
      "running with BANZ=True\n",
      "using treeshap and cext\n",
      "using BANZ\n",
      "name: NEW TreeBanz, time: 0.018931869002699386\n"
     ]
    },
    {
     "data": {
      "text/plain": [
       "13"
      ]
     },
     "execution_count": 22,
     "metadata": {},
     "output_type": "execute_result"
    }
   ],
   "source": [
    "run_diff_explainers(model, X)\n",
    "13"
   ]
  },
  {
   "cell_type": "markdown",
   "id": "d04eeeb2",
   "metadata": {},
   "source": [
    "## FRAUD DATABASE"
   ]
  },
  {
   "cell_type": "code",
   "execution_count": 8,
   "id": "79ace7a7",
   "metadata": {},
   "outputs": [],
   "source": [
    "from sklearn.preprocessing import OneHotEncoder, StandardScaler\n",
    "\n",
    "df = pd.read_csv('../../data/Base.csv')\n",
    "# remove \"device_fraud_count\"\n",
    "df = df.drop(['device_fraud_count'], axis=1, errors='ignore') # It's 0 for all rows\n",
    "\n",
    "df['fraud_bool'].value_counts()\n",
    "\n",
    "X = df.drop(['fraud_bool'], axis=1)\n",
    "y = df['fraud_bool']\n",
    "\n",
    "\n",
    "# Train test split by 'month', month 0-5 are train, 6-7 are test data as proposed in the paper\n",
    "X_train = X[X['month']<6]\n",
    "X_test = X[X['month']>=6]\n",
    "y_train = y[X['month']<6]\n",
    "y_test = y[X['month']>=6]\n",
    "\n",
    "X_train.drop('month', axis=1, inplace=True)\n",
    "X_test.drop('month', axis=1, inplace=True)\n",
    "\n",
    "# y_train = le.fit_transform(y_train)\n",
    "# y_test = le.fit_transform(y_test)\n",
    "\n",
    "# onehot encoding for categorical variables\n",
    "s = (X_train.dtypes == 'object')\n",
    "object_cols = list(s[s].index)\n",
    "\n",
    "ohe = OneHotEncoder(sparse=False, handle_unknown='ignore')\n",
    "ohe_cols_train = pd.DataFrame(ohe.fit_transform(X_train[object_cols]))\n",
    "ohe_cols_test = pd.DataFrame(ohe.transform(X_test[object_cols]))\n",
    "\n",
    "ohe_cols_train.index = X_train.index\n",
    "ohe_cols_test.index = X_test.index\n",
    "\n",
    "num_X_train = X_train.drop(object_cols, axis=1)\n",
    "num_X_test = X_test.drop(object_cols, axis=1)\n",
    "\n",
    "X_train = pd.concat([num_X_train, ohe_cols_train], axis=1)\n",
    "X_test = pd.concat([num_X_test, ohe_cols_test], axis=1)\n",
    "\n",
    "# Scale data\n",
    "scaler = StandardScaler()\n",
    "scaler.fit(X_train)\n",
    "\n",
    "X_train = scaler.transform(X_train)\n",
    "X_test = scaler.transform(X_test)\n",
    "\n"
   ]
  },
  {
   "cell_type": "code",
   "execution_count": 30,
   "id": "d81d896a",
   "metadata": {},
   "outputs": [
    {
     "name": "stdout",
     "output_type": "stream",
     "text": [
      "time to train: 195.41889309883118\n"
     ]
    },
    {
     "data": {
      "text/plain": [
       "0.9859714844569316"
      ]
     },
     "execution_count": 30,
     "metadata": {},
     "output_type": "execute_result"
    }
   ],
   "source": [
    "model_ranfor = sklearn.ensemble.RandomForestClassifier()\n",
    "start = time.process_time()\n",
    "model_ranfor.fit(X_train, y_train)\n",
    "end = time.process_time() - start\n",
    "print(\"time to train: {}\".format(end))\n",
    "model_ranfor.score(X_test, y_test)"
   ]
  },
  {
   "cell_type": "code",
   "execution_count": 10,
   "id": "09d03ced",
   "metadata": {},
   "outputs": [
    {
     "name": "stdout",
     "output_type": "stream",
     "text": [
      "ile drzew cext? 100\n",
      "ile drzew cext? 100\n"
     ]
    }
   ],
   "source": [
    "TreeShap = shap.explainers.Tree(model_ranfor)\n",
    "TreeBanz = shap.explainers.Tree(model_ranfor, use_banz=True)"
   ]
  },
  {
   "cell_type": "code",
   "execution_count": null,
   "id": "0c2afdd0",
   "metadata": {},
   "outputs": [
    {
     "name": "stdout",
     "output_type": "stream",
     "text": [
      "depth=1, n_est=100\n",
      "time to train: 16.320430692000173\n",
      "score:0.9859617288828404\n",
      "depth=1, n_est=300\n",
      "time to train: 46.59783549099984\n",
      "score:0.9859617288828404\n",
      "depth=1, n_est=500\n",
      "time to train: 77.749164415\n",
      "score:0.9859617288828404\n",
      "depth=1, n_est=700\n",
      "time to train: 109.2559695179998\n",
      "score:0.9859617288828404\n",
      "depth=1, n_est=900\n",
      "time to train: 142.3578384870002\n",
      "score:0.9859617288828404\n",
      "depth=1, n_est=1100\n",
      "time to train: 170.24236431500003\n",
      "score:0.9859617288828404\n",
      "depth=1, n_est=1300\n",
      "time to train: 201.21230461199957\n",
      "score:0.9859617288828404\n",
      "depth=1, n_est=1500\n",
      "time to train: 237.76735550599915\n",
      "score:0.9859617288828404\n",
      "depth=1, n_est=1700\n",
      "time to train: 266.74735338700066\n",
      "score:0.9859617288828404\n",
      "depth=1, n_est=1900\n"
     ]
    }
   ],
   "source": [
    "accurs = {}\n",
    "for i in range(1,20):\n",
    "    for j in range(100, 2000, 200):\n",
    "        print(\"depth={}, n_est={}\".format(i, j))\n",
    "        model = sklearn.ensemble.RandomForestClassifier(max_depth=i, n_estimators=j)\n",
    "        start = time.process_time()\n",
    "        model.fit(X_train, y_train)\n",
    "        end = time.process_time() - start\n",
    "        print(\"time to train: {}\".format(end))\n",
    "        score = model.score(X_test, y_test)\n",
    "        print(\"score:{}\".format(score))\n",
    "        accurs[(i, j)] = score\n",
    "\n",
    "# ts = TreeShap(X_test[0])\n",
    "accurs"
   ]
  },
  {
   "cell_type": "code",
   "execution_count": 28,
   "id": "288df278",
   "metadata": {},
   "outputs": [],
   "source": [
    "# ts[0]"
   ]
  },
  {
   "cell_type": "code",
   "execution_count": 29,
   "id": "0d6cea35",
   "metadata": {},
   "outputs": [],
   "source": [
    "# TreeBanz(X_test[0])"
   ]
  },
  {
   "cell_type": "code",
   "execution_count": 32,
   "id": "562ee3f7",
   "metadata": {},
   "outputs": [
    {
     "name": "stdout",
     "output_type": "stream",
     "text": [
      "(205011, 50)\n",
      "ile drzew cext? 100\n",
      "ile drzew cext? 100\n",
      "ile drzew cext? 100\n",
      "running with BANZ=False\n",
      "using treeshap and cext\n",
      "here37\n",
      "using dense_Tree_pred\n",
      "name: Tree, time: 102.87892459999966\n",
      "running with BANZ=True\n",
      "using treeshap and cext\n",
      "using BANZ\n",
      "name: TreeBanz, time: 18.98152260400002\n",
      "running with BANZ=True\n",
      "using treeshap and cext\n",
      "using BANZ\n",
      "name: NEW TreeBanz, time: 18.911746034000316\n"
     ]
    },
    {
     "data": {
      "text/plain": [
       "13"
      ]
     },
     "execution_count": 32,
     "metadata": {},
     "output_type": "execute_result"
    }
   ],
   "source": [
    "print(X_test.shape)\n",
    "run_diff_explainers(model_ranfor, X_test[:100])\n",
    "13"
   ]
  },
  {
   "cell_type": "code",
   "execution_count": 33,
   "id": "26e77e7e",
   "metadata": {},
   "outputs": [
    {
     "name": "stdout",
     "output_type": "stream",
     "text": [
      "39.08\n",
      "2.261327044016411\n"
     ]
    }
   ],
   "source": [
    "depths = [x.get_depth() for x in model_ranfor.estimators_]\n",
    "print(np.mean(depths))\n",
    "print(np.std(depths))"
   ]
  },
  {
   "cell_type": "code",
   "execution_count": 34,
   "id": "1da19988",
   "metadata": {},
   "outputs": [
    {
     "name": "stdout",
     "output_type": "stream",
     "text": [
      "time to train: 130.6226954460144\n",
      "score:0.985966606669886\n"
     ]
    }
   ],
   "source": [
    "model = sklearn.ensemble.RandomForestClassifier(max_depth=13)\n",
    "start = time.time()\n",
    "model.fit(X_train, y_train)\n",
    "end = time.time() - start\n",
    "print(\"time to train: {}\".format(end))\n",
    "print(\"score:{}\".format(model.score(X_test, y_test)))"
   ]
  },
  {
   "cell_type": "code",
   "execution_count": 35,
   "id": "fe8d5c51",
   "metadata": {},
   "outputs": [
    {
     "name": "stdout",
     "output_type": "stream",
     "text": [
      "(205011, 50)\n",
      "ile drzew cext? 100\n",
      "ile drzew cext? 100\n",
      "ile drzew cext? 100\n",
      "running with BANZ=False\n",
      "using treeshap and cext\n",
      "here37\n",
      "using dense_Tree_pred\n",
      "name: Tree, time: 73.04433978500037\n",
      "running with BANZ=True\n",
      "using treeshap and cext\n",
      "using BANZ\n",
      "name: TreeBanz, time: 29.116902256000685\n",
      "running with BANZ=True\n",
      "using treeshap and cext\n",
      "using BANZ\n",
      "name: NEW TreeBanz, time: 28.97886926299998\n",
      "13.0\n",
      "0.0\n"
     ]
    }
   ],
   "source": [
    "print(X_test.shape)\n",
    "run_diff_explainers(model, X_test[:1000])\n",
    "\n",
    "depths = [x.get_depth() for x in model.estimators_]\n",
    "print(np.mean(depths))\n",
    "print(np.std(depths))"
   ]
  },
  {
   "cell_type": "code",
   "execution_count": 36,
   "id": "81687b0b",
   "metadata": {},
   "outputs": [
    {
     "name": "stdout",
     "output_type": "stream",
     "text": [
      "ile drzew cext? 100\n",
      "ile drzew cext? 100\n",
      "ile drzew cext? 100\n",
      "running with BANZ=False\n",
      "using treeshap and cext\n",
      "here37\n",
      "using dense_Tree_pred\n",
      "name: Tree, time: 0.7606005440002264\n",
      "running with BANZ=True\n",
      "using treeshap and cext\n",
      "using BANZ\n",
      "name: TreeBanz, time: 0.30262768200009305\n",
      "running with BANZ=True\n",
      "using treeshap and cext\n",
      "using BANZ\n",
      "name: NEW TreeBanz, time: 0.3306810789999872\n"
     ]
    },
    {
     "data": {
      "text/plain": [
       "13"
      ]
     },
     "execution_count": 36,
     "metadata": {},
     "output_type": "execute_result"
    }
   ],
   "source": [
    "run_diff_explainers(model, X_test[:10])\n",
    "13"
   ]
  },
  {
   "cell_type": "code",
   "execution_count": 19,
   "id": "2a182853",
   "metadata": {},
   "outputs": [],
   "source": [
    "# X_train.values"
   ]
  },
  {
   "cell_type": "code",
   "execution_count": 20,
   "id": "e6e4df26",
   "metadata": {},
   "outputs": [
    {
     "name": "stdout",
     "output_type": "stream",
     "text": [
      "[20]\ttraining's binary_logloss: 0.0442617\tvalid_0's binary_logloss: 0.0580862\n",
      "[40]\ttraining's binary_logloss: 0.0418452\tvalid_0's binary_logloss: 0.0561485\n",
      "[60]\ttraining's binary_logloss: 0.0403772\tvalid_0's binary_logloss: 0.0556362\n",
      "[80]\ttraining's binary_logloss: 0.0391924\tvalid_0's binary_logloss: 0.0555138\n",
      "[100]\ttraining's binary_logloss: 0.0381692\tvalid_0's binary_logloss: 0.0554788\n",
      "Testing accuracy 0.9858\n"
     ]
    }
   ],
   "source": [
    "model = lgb.LGBMClassifier(learning_rate=0.09,max_depth=-5,random_state=42)\n",
    "model.fit(X_train,y_train,eval_set=[(X_test,y_test),(X_train,y_train)],\n",
    "          verbose=20,eval_metric='logloss')\n",
    "print('Testing accuracy {:.4f}'.format(model.score(X_test,y_test)))"
   ]
  },
  {
   "cell_type": "code",
   "execution_count": 21,
   "id": "50753c50",
   "metadata": {},
   "outputs": [
    {
     "name": "stdout",
     "output_type": "stream",
     "text": [
      "ile drzew cext? 100\n",
      "ile drzew cext? 100\n",
      "ile drzew cext? 100\n",
      "running with BANZ=False\n",
      "name: Tree, time: 36.54892278099999\n",
      "running with BANZ=True\n",
      "name: TreeBanz, time: 36.33925635799994\n",
      "running with BANZ=True\n",
      "name: NEW TreeBanz, time: 37.22288930800005\n"
     ]
    },
    {
     "data": {
      "text/plain": [
       "[['Tree', [], 36.54892278099999],\n",
       " ['TreeBanz', [], 36.33925635799994],\n",
       " ['NEW TreeBanz', [], 37.22288930800005]]"
      ]
     },
     "execution_count": 21,
     "metadata": {},
     "output_type": "execute_result"
    }
   ],
   "source": [
    "run_diff_explainers(model, X_test)"
   ]
  },
  {
   "cell_type": "code",
   "execution_count": null,
   "id": "b7ef89fc",
   "metadata": {},
   "outputs": [],
   "source": []
  },
  {
   "cell_type": "code",
   "execution_count": 22,
   "id": "594dada0",
   "metadata": {},
   "outputs": [
    {
     "name": "stdout",
     "output_type": "stream",
     "text": [
      "time to train: 63.67227816581726\n"
     ]
    },
    {
     "data": {
      "text/plain": [
       "0.9857519840398807"
      ]
     },
     "execution_count": 22,
     "metadata": {},
     "output_type": "execute_result"
    }
   ],
   "source": [
    "model_xgb = xgboost.XGBClassifier()\n",
    "start = time.time()\n",
    "model_xgb.fit(X_train, y_train)\n",
    "end = time.time() - start\n",
    "print(\"time to train: {}\".format(end))\n",
    "model_xgb.score(X_test, y_test)"
   ]
  },
  {
   "cell_type": "code",
   "execution_count": 23,
   "id": "7fbf1d9c",
   "metadata": {},
   "outputs": [
    {
     "name": "stdout",
     "output_type": "stream",
     "text": [
      "ile drzew cext? 100\n",
      "ile drzew cext? 100\n",
      "ile drzew cext? 100\n",
      "running with BANZ=False\n",
      "name: Tree, time: 36.48176613600003\n",
      "running with BANZ=True\n",
      "name: TreeBanz, time: 35.63589179900009\n",
      "running with BANZ=True\n",
      "name: NEW TreeBanz, time: 30.255851040999914\n"
     ]
    },
    {
     "data": {
      "text/plain": [
       "[['Tree', [], 36.48176613600003],\n",
       " ['TreeBanz', [], 35.63589179900009],\n",
       " ['NEW TreeBanz', [], 30.255851040999914]]"
      ]
     },
     "execution_count": 23,
     "metadata": {},
     "output_type": "execute_result"
    }
   ],
   "source": [
    "run_diff_explainers(model_xgb, X_test)\n"
   ]
  },
  {
   "cell_type": "code",
   "execution_count": 24,
   "id": "012fde03",
   "metadata": {},
   "outputs": [
    {
     "name": "stdout",
     "output_type": "stream",
     "text": [
      "Learning rate set to 0.178397\n",
      "0:\tlearn: 0.3688708\ttotal: 106ms\tremaining: 1m 46s\n",
      "1:\tlearn: 0.2148498\ttotal: 177ms\tremaining: 1m 28s\n",
      "2:\tlearn: 0.1335962\ttotal: 224ms\tremaining: 1m 14s\n",
      "3:\tlearn: 0.0981844\ttotal: 275ms\tremaining: 1m 8s\n",
      "4:\tlearn: 0.0745458\ttotal: 344ms\tremaining: 1m 8s\n",
      "5:\tlearn: 0.0624702\ttotal: 392ms\tremaining: 1m 4s\n",
      "6:\tlearn: 0.0559513\ttotal: 457ms\tremaining: 1m 4s\n",
      "7:\tlearn: 0.0521974\ttotal: 531ms\tremaining: 1m 5s\n",
      "8:\tlearn: 0.0499171\ttotal: 580ms\tremaining: 1m 3s\n",
      "9:\tlearn: 0.0485291\ttotal: 669ms\tremaining: 1m 6s\n",
      "10:\tlearn: 0.0473686\ttotal: 722ms\tremaining: 1m 4s\n",
      "11:\tlearn: 0.0465688\ttotal: 776ms\tremaining: 1m 3s\n",
      "12:\tlearn: 0.0460627\ttotal: 823ms\tremaining: 1m 2s\n",
      "13:\tlearn: 0.0455899\ttotal: 867ms\tremaining: 1m 1s\n",
      "14:\tlearn: 0.0452433\ttotal: 919ms\tremaining: 1m\n",
      "15:\tlearn: 0.0449628\ttotal: 965ms\tremaining: 59.4s\n",
      "16:\tlearn: 0.0448016\ttotal: 1.03s\tremaining: 59.8s\n",
      "17:\tlearn: 0.0445507\ttotal: 1.08s\tremaining: 59s\n",
      "18:\tlearn: 0.0443940\ttotal: 1.13s\tremaining: 58.5s\n",
      "19:\tlearn: 0.0441702\ttotal: 1.19s\tremaining: 58.3s\n",
      "20:\tlearn: 0.0439973\ttotal: 1.24s\tremaining: 57.8s\n",
      "21:\tlearn: 0.0438394\ttotal: 1.28s\tremaining: 57s\n",
      "22:\tlearn: 0.0437203\ttotal: 1.33s\tremaining: 56.4s\n",
      "23:\tlearn: 0.0435596\ttotal: 1.4s\tremaining: 56.9s\n",
      "24:\tlearn: 0.0434739\ttotal: 1.44s\tremaining: 56.2s\n",
      "25:\tlearn: 0.0433968\ttotal: 1.49s\tremaining: 55.9s\n",
      "26:\tlearn: 0.0433036\ttotal: 1.56s\tremaining: 56.3s\n",
      "27:\tlearn: 0.0432242\ttotal: 1.61s\tremaining: 55.9s\n",
      "28:\tlearn: 0.0431399\ttotal: 1.71s\tremaining: 57.4s\n",
      "29:\tlearn: 0.0430782\ttotal: 1.77s\tremaining: 57.3s\n",
      "30:\tlearn: 0.0429963\ttotal: 1.82s\tremaining: 57s\n",
      "31:\tlearn: 0.0429386\ttotal: 1.87s\tremaining: 56.5s\n",
      "32:\tlearn: 0.0428836\ttotal: 1.91s\tremaining: 56.1s\n",
      "33:\tlearn: 0.0428256\ttotal: 1.96s\tremaining: 55.8s\n",
      "34:\tlearn: 0.0427622\ttotal: 2.04s\tremaining: 56.1s\n",
      "35:\tlearn: 0.0427057\ttotal: 2.1s\tremaining: 56.1s\n",
      "36:\tlearn: 0.0426561\ttotal: 2.14s\tremaining: 55.8s\n",
      "37:\tlearn: 0.0425848\ttotal: 2.21s\tremaining: 55.9s\n",
      "38:\tlearn: 0.0425440\ttotal: 2.27s\tremaining: 55.9s\n",
      "39:\tlearn: 0.0424925\ttotal: 2.33s\tremaining: 56s\n",
      "40:\tlearn: 0.0424545\ttotal: 2.38s\tremaining: 55.8s\n",
      "41:\tlearn: 0.0424134\ttotal: 2.43s\tremaining: 55.4s\n",
      "42:\tlearn: 0.0423760\ttotal: 2.48s\tremaining: 55.1s\n",
      "43:\tlearn: 0.0423356\ttotal: 2.58s\tremaining: 56s\n",
      "44:\tlearn: 0.0422936\ttotal: 2.62s\tremaining: 55.6s\n",
      "45:\tlearn: 0.0422399\ttotal: 2.7s\tremaining: 56.1s\n",
      "46:\tlearn: 0.0422162\ttotal: 2.77s\tremaining: 56.1s\n",
      "47:\tlearn: 0.0421748\ttotal: 2.81s\tremaining: 55.8s\n",
      "48:\tlearn: 0.0421343\ttotal: 2.86s\tremaining: 55.5s\n",
      "49:\tlearn: 0.0420819\ttotal: 2.92s\tremaining: 55.4s\n",
      "50:\tlearn: 0.0420593\ttotal: 2.99s\tremaining: 55.6s\n",
      "51:\tlearn: 0.0420308\ttotal: 3.05s\tremaining: 55.7s\n",
      "52:\tlearn: 0.0420027\ttotal: 3.1s\tremaining: 55.4s\n",
      "53:\tlearn: 0.0419723\ttotal: 3.15s\tremaining: 55.3s\n",
      "54:\tlearn: 0.0419417\ttotal: 3.21s\tremaining: 55.2s\n",
      "55:\tlearn: 0.0419115\ttotal: 3.27s\tremaining: 55.2s\n",
      "56:\tlearn: 0.0418705\ttotal: 3.32s\tremaining: 54.9s\n",
      "57:\tlearn: 0.0418396\ttotal: 3.37s\tremaining: 54.8s\n",
      "58:\tlearn: 0.0418052\ttotal: 3.46s\tremaining: 55.1s\n",
      "59:\tlearn: 0.0417786\ttotal: 3.54s\tremaining: 55.5s\n",
      "60:\tlearn: 0.0417523\ttotal: 3.59s\tremaining: 55.3s\n",
      "61:\tlearn: 0.0417339\ttotal: 3.67s\tremaining: 55.5s\n",
      "62:\tlearn: 0.0417033\ttotal: 3.72s\tremaining: 55.3s\n",
      "63:\tlearn: 0.0416755\ttotal: 3.78s\tremaining: 55.3s\n",
      "64:\tlearn: 0.0416424\ttotal: 3.83s\tremaining: 55.1s\n",
      "65:\tlearn: 0.0416238\ttotal: 3.88s\tremaining: 54.9s\n",
      "66:\tlearn: 0.0415997\ttotal: 3.93s\tremaining: 54.7s\n",
      "67:\tlearn: 0.0415686\ttotal: 3.98s\tremaining: 54.5s\n",
      "68:\tlearn: 0.0415462\ttotal: 4.06s\tremaining: 54.7s\n",
      "69:\tlearn: 0.0415185\ttotal: 4.13s\tremaining: 54.9s\n",
      "70:\tlearn: 0.0414966\ttotal: 4.2s\tremaining: 55s\n",
      "71:\tlearn: 0.0414826\ttotal: 4.25s\tremaining: 54.7s\n",
      "72:\tlearn: 0.0414631\ttotal: 4.31s\tremaining: 54.7s\n",
      "73:\tlearn: 0.0414476\ttotal: 4.35s\tremaining: 54.5s\n",
      "74:\tlearn: 0.0414247\ttotal: 4.4s\tremaining: 54.3s\n",
      "75:\tlearn: 0.0414028\ttotal: 4.47s\tremaining: 54.3s\n",
      "76:\tlearn: 0.0413862\ttotal: 4.55s\tremaining: 54.6s\n",
      "77:\tlearn: 0.0413587\ttotal: 4.6s\tremaining: 54.4s\n",
      "78:\tlearn: 0.0413450\ttotal: 4.66s\tremaining: 54.3s\n",
      "79:\tlearn: 0.0413224\ttotal: 4.71s\tremaining: 54.1s\n",
      "80:\tlearn: 0.0413086\ttotal: 4.77s\tremaining: 54.1s\n",
      "81:\tlearn: 0.0412795\ttotal: 4.82s\tremaining: 54s\n",
      "82:\tlearn: 0.0412648\ttotal: 4.86s\tremaining: 53.7s\n",
      "83:\tlearn: 0.0412364\ttotal: 4.91s\tremaining: 53.5s\n",
      "84:\tlearn: 0.0412127\ttotal: 4.96s\tremaining: 53.4s\n",
      "85:\tlearn: 0.0411941\ttotal: 5.05s\tremaining: 53.7s\n",
      "86:\tlearn: 0.0411729\ttotal: 5.1s\tremaining: 53.5s\n",
      "87:\tlearn: 0.0411470\ttotal: 5.16s\tremaining: 53.5s\n",
      "88:\tlearn: 0.0411206\ttotal: 5.2s\tremaining: 53.3s\n",
      "89:\tlearn: 0.0411001\ttotal: 5.25s\tremaining: 53.1s\n",
      "90:\tlearn: 0.0410838\ttotal: 5.3s\tremaining: 53s\n",
      "91:\tlearn: 0.0410647\ttotal: 5.35s\tremaining: 52.8s\n",
      "92:\tlearn: 0.0410421\ttotal: 5.4s\tremaining: 52.7s\n",
      "93:\tlearn: 0.0410185\ttotal: 5.44s\tremaining: 52.5s\n",
      "94:\tlearn: 0.0409987\ttotal: 5.51s\tremaining: 52.5s\n",
      "95:\tlearn: 0.0409845\ttotal: 5.59s\tremaining: 52.6s\n",
      "96:\tlearn: 0.0409737\ttotal: 5.64s\tremaining: 52.5s\n",
      "97:\tlearn: 0.0409613\ttotal: 5.7s\tremaining: 52.5s\n",
      "98:\tlearn: 0.0409515\ttotal: 5.76s\tremaining: 52.4s\n",
      "99:\tlearn: 0.0409352\ttotal: 5.81s\tremaining: 52.3s\n",
      "100:\tlearn: 0.0409166\ttotal: 5.85s\tremaining: 52.1s\n",
      "101:\tlearn: 0.0408907\ttotal: 5.9s\tremaining: 51.9s\n",
      "102:\tlearn: 0.0408781\ttotal: 5.95s\tremaining: 51.8s\n",
      "103:\tlearn: 0.0408621\ttotal: 6.04s\tremaining: 52.1s\n",
      "104:\tlearn: 0.0408455\ttotal: 6.09s\tremaining: 51.9s\n",
      "105:\tlearn: 0.0408313\ttotal: 6.15s\tremaining: 51.9s\n",
      "106:\tlearn: 0.0408112\ttotal: 6.21s\tremaining: 51.8s\n",
      "107:\tlearn: 0.0407969\ttotal: 6.26s\tremaining: 51.7s\n",
      "108:\tlearn: 0.0407814\ttotal: 6.3s\tremaining: 51.5s\n",
      "109:\tlearn: 0.0407637\ttotal: 6.35s\tremaining: 51.4s\n",
      "110:\tlearn: 0.0407463\ttotal: 6.4s\tremaining: 51.2s\n",
      "111:\tlearn: 0.0407251\ttotal: 6.45s\tremaining: 51.2s\n",
      "112:\tlearn: 0.0407040\ttotal: 6.54s\tremaining: 51.4s\n",
      "113:\tlearn: 0.0406900\ttotal: 6.61s\tremaining: 51.4s\n",
      "114:\tlearn: 0.0406679\ttotal: 6.66s\tremaining: 51.3s\n",
      "115:\tlearn: 0.0406521\ttotal: 6.71s\tremaining: 51.1s\n",
      "116:\tlearn: 0.0406367\ttotal: 6.77s\tremaining: 51.1s\n",
      "117:\tlearn: 0.0406271\ttotal: 6.81s\tremaining: 50.9s\n",
      "118:\tlearn: 0.0406147\ttotal: 6.85s\tremaining: 50.7s\n",
      "119:\tlearn: 0.0405957\ttotal: 6.9s\tremaining: 50.6s\n",
      "120:\tlearn: 0.0405806\ttotal: 6.95s\tremaining: 50.5s\n",
      "121:\tlearn: 0.0405604\ttotal: 7.02s\tremaining: 50.6s\n",
      "122:\tlearn: 0.0405376\ttotal: 7.08s\tremaining: 50.5s\n",
      "123:\tlearn: 0.0405190\ttotal: 7.15s\tremaining: 50.5s\n",
      "124:\tlearn: 0.0404976\ttotal: 7.2s\tremaining: 50.4s\n",
      "125:\tlearn: 0.0404885\ttotal: 7.24s\tremaining: 50.2s\n",
      "126:\tlearn: 0.0404778\ttotal: 7.29s\tremaining: 50.1s\n",
      "127:\tlearn: 0.0404645\ttotal: 7.34s\tremaining: 50s\n",
      "128:\tlearn: 0.0404461\ttotal: 7.39s\tremaining: 49.9s\n",
      "129:\tlearn: 0.0404235\ttotal: 7.43s\tremaining: 49.7s\n",
      "130:\tlearn: 0.0404084\ttotal: 7.5s\tremaining: 49.7s\n",
      "131:\tlearn: 0.0403972\ttotal: 7.59s\tremaining: 49.9s\n",
      "132:\tlearn: 0.0403773\ttotal: 7.66s\tremaining: 50s\n",
      "133:\tlearn: 0.0403605\ttotal: 7.71s\tremaining: 49.8s\n",
      "134:\tlearn: 0.0403475\ttotal: 7.77s\tremaining: 49.8s\n",
      "135:\tlearn: 0.0403348\ttotal: 7.81s\tremaining: 49.6s\n",
      "136:\tlearn: 0.0403117\ttotal: 7.86s\tremaining: 49.5s\n",
      "137:\tlearn: 0.0402953\ttotal: 7.9s\tremaining: 49.4s\n",
      "138:\tlearn: 0.0402840\ttotal: 7.97s\tremaining: 49.4s\n",
      "139:\tlearn: 0.0402659\ttotal: 8.05s\tremaining: 49.4s\n",
      "140:\tlearn: 0.0402527\ttotal: 8.1s\tremaining: 49.3s\n",
      "141:\tlearn: 0.0402393\ttotal: 8.15s\tremaining: 49.3s\n",
      "142:\tlearn: 0.0402341\ttotal: 8.2s\tremaining: 49.1s\n",
      "143:\tlearn: 0.0402187\ttotal: 8.25s\tremaining: 49s\n",
      "144:\tlearn: 0.0402064\ttotal: 8.31s\tremaining: 49s\n",
      "145:\tlearn: 0.0401989\ttotal: 8.36s\tremaining: 48.9s\n",
      "146:\tlearn: 0.0401849\ttotal: 8.41s\tremaining: 48.8s\n",
      "147:\tlearn: 0.0401745\ttotal: 8.47s\tremaining: 48.8s\n",
      "148:\tlearn: 0.0401648\ttotal: 8.54s\tremaining: 48.8s\n",
      "149:\tlearn: 0.0401509\ttotal: 8.59s\tremaining: 48.7s\n",
      "150:\tlearn: 0.0401313\ttotal: 8.67s\tremaining: 48.8s\n",
      "151:\tlearn: 0.0401225\ttotal: 8.72s\tremaining: 48.6s\n",
      "152:\tlearn: 0.0401064\ttotal: 8.76s\tremaining: 48.5s\n",
      "153:\tlearn: 0.0400969\ttotal: 8.81s\tremaining: 48.4s\n",
      "154:\tlearn: 0.0400863\ttotal: 8.85s\tremaining: 48.3s\n",
      "155:\tlearn: 0.0400712\ttotal: 8.94s\tremaining: 48.4s\n",
      "156:\tlearn: 0.0400475\ttotal: 9.02s\tremaining: 48.4s\n",
      "157:\tlearn: 0.0400333\ttotal: 9.06s\tremaining: 48.3s\n",
      "158:\tlearn: 0.0400264\ttotal: 9.13s\tremaining: 48.3s\n",
      "159:\tlearn: 0.0400152\ttotal: 9.18s\tremaining: 48.2s\n",
      "160:\tlearn: 0.0399987\ttotal: 9.24s\tremaining: 48.1s\n",
      "161:\tlearn: 0.0399893\ttotal: 9.28s\tremaining: 48s\n",
      "162:\tlearn: 0.0399740\ttotal: 9.32s\tremaining: 47.9s\n",
      "163:\tlearn: 0.0399561\ttotal: 9.37s\tremaining: 47.8s\n"
     ]
    },
    {
     "name": "stdout",
     "output_type": "stream",
     "text": [
      "164:\tlearn: 0.0399463\ttotal: 9.45s\tremaining: 47.8s\n",
      "165:\tlearn: 0.0399298\ttotal: 9.52s\tremaining: 47.9s\n",
      "166:\tlearn: 0.0399158\ttotal: 9.57s\tremaining: 47.7s\n",
      "167:\tlearn: 0.0398991\ttotal: 9.63s\tremaining: 47.7s\n",
      "168:\tlearn: 0.0398907\ttotal: 9.68s\tremaining: 47.6s\n",
      "169:\tlearn: 0.0398785\ttotal: 9.74s\tremaining: 47.5s\n",
      "170:\tlearn: 0.0398638\ttotal: 9.78s\tremaining: 47.4s\n",
      "171:\tlearn: 0.0398526\ttotal: 9.82s\tremaining: 47.3s\n",
      "172:\tlearn: 0.0398389\ttotal: 9.88s\tremaining: 47.2s\n",
      "173:\tlearn: 0.0398288\ttotal: 9.96s\tremaining: 47.3s\n",
      "174:\tlearn: 0.0398164\ttotal: 10s\tremaining: 47.3s\n",
      "175:\tlearn: 0.0398122\ttotal: 10.1s\tremaining: 47.2s\n",
      "176:\tlearn: 0.0397974\ttotal: 10.1s\tremaining: 47.1s\n",
      "177:\tlearn: 0.0397850\ttotal: 10.2s\tremaining: 47s\n",
      "178:\tlearn: 0.0397704\ttotal: 10.2s\tremaining: 46.9s\n",
      "179:\tlearn: 0.0397587\ttotal: 10.3s\tremaining: 46.8s\n",
      "180:\tlearn: 0.0397440\ttotal: 10.3s\tremaining: 46.7s\n",
      "181:\tlearn: 0.0397356\ttotal: 10.4s\tremaining: 46.6s\n",
      "182:\tlearn: 0.0397184\ttotal: 10.4s\tremaining: 46.5s\n",
      "183:\tlearn: 0.0397050\ttotal: 10.5s\tremaining: 46.5s\n",
      "184:\tlearn: 0.0396935\ttotal: 10.5s\tremaining: 46.5s\n",
      "185:\tlearn: 0.0396791\ttotal: 10.6s\tremaining: 46.4s\n",
      "186:\tlearn: 0.0396660\ttotal: 10.7s\tremaining: 46.4s\n",
      "187:\tlearn: 0.0396543\ttotal: 10.7s\tremaining: 46.3s\n",
      "188:\tlearn: 0.0396510\ttotal: 10.8s\tremaining: 46.2s\n",
      "189:\tlearn: 0.0396385\ttotal: 10.8s\tremaining: 46.1s\n",
      "190:\tlearn: 0.0396227\ttotal: 10.9s\tremaining: 46s\n",
      "191:\tlearn: 0.0396106\ttotal: 10.9s\tremaining: 45.9s\n",
      "192:\tlearn: 0.0395958\ttotal: 11s\tremaining: 45.9s\n",
      "193:\tlearn: 0.0395843\ttotal: 11s\tremaining: 45.9s\n",
      "194:\tlearn: 0.0395693\ttotal: 11.1s\tremaining: 45.8s\n",
      "195:\tlearn: 0.0395563\ttotal: 11.2s\tremaining: 45.8s\n",
      "196:\tlearn: 0.0395400\ttotal: 11.2s\tremaining: 45.6s\n",
      "197:\tlearn: 0.0395243\ttotal: 11.3s\tremaining: 45.6s\n",
      "198:\tlearn: 0.0395133\ttotal: 11.3s\tremaining: 45.5s\n",
      "199:\tlearn: 0.0395042\ttotal: 11.3s\tremaining: 45.4s\n",
      "200:\tlearn: 0.0394979\ttotal: 11.4s\tremaining: 45.3s\n",
      "201:\tlearn: 0.0394869\ttotal: 11.4s\tremaining: 45.2s\n",
      "202:\tlearn: 0.0394803\ttotal: 11.5s\tremaining: 45.2s\n",
      "203:\tlearn: 0.0394654\ttotal: 11.6s\tremaining: 45.1s\n",
      "204:\tlearn: 0.0394540\ttotal: 11.6s\tremaining: 45.1s\n",
      "205:\tlearn: 0.0394386\ttotal: 11.7s\tremaining: 45.1s\n",
      "206:\tlearn: 0.0394213\ttotal: 11.7s\tremaining: 45s\n",
      "207:\tlearn: 0.0394118\ttotal: 11.8s\tremaining: 44.9s\n",
      "208:\tlearn: 0.0393956\ttotal: 11.8s\tremaining: 44.8s\n",
      "209:\tlearn: 0.0393867\ttotal: 11.9s\tremaining: 44.8s\n",
      "210:\tlearn: 0.0393686\ttotal: 12s\tremaining: 44.8s\n",
      "211:\tlearn: 0.0393589\ttotal: 12s\tremaining: 44.8s\n",
      "212:\tlearn: 0.0393443\ttotal: 12.1s\tremaining: 44.8s\n",
      "213:\tlearn: 0.0393338\ttotal: 12.2s\tremaining: 44.7s\n",
      "214:\tlearn: 0.0393277\ttotal: 12.2s\tremaining: 44.6s\n",
      "215:\tlearn: 0.0393144\ttotal: 12.3s\tremaining: 44.5s\n",
      "216:\tlearn: 0.0393062\ttotal: 12.3s\tremaining: 44.4s\n",
      "217:\tlearn: 0.0392855\ttotal: 12.4s\tremaining: 44.3s\n",
      "218:\tlearn: 0.0392772\ttotal: 12.4s\tremaining: 44.2s\n",
      "219:\tlearn: 0.0392642\ttotal: 12.5s\tremaining: 44.2s\n",
      "220:\tlearn: 0.0392511\ttotal: 12.5s\tremaining: 44.2s\n",
      "221:\tlearn: 0.0392385\ttotal: 12.6s\tremaining: 44.2s\n",
      "222:\tlearn: 0.0392329\ttotal: 12.7s\tremaining: 44.1s\n",
      "223:\tlearn: 0.0392192\ttotal: 12.7s\tremaining: 44s\n",
      "224:\tlearn: 0.0392070\ttotal: 12.8s\tremaining: 44s\n",
      "225:\tlearn: 0.0391890\ttotal: 12.8s\tremaining: 43.9s\n",
      "226:\tlearn: 0.0391754\ttotal: 12.9s\tremaining: 43.8s\n",
      "227:\tlearn: 0.0391614\ttotal: 12.9s\tremaining: 43.7s\n",
      "228:\tlearn: 0.0391522\ttotal: 13s\tremaining: 43.6s\n",
      "229:\tlearn: 0.0391449\ttotal: 13.1s\tremaining: 43.7s\n",
      "230:\tlearn: 0.0391296\ttotal: 13.1s\tremaining: 43.6s\n",
      "231:\tlearn: 0.0391095\ttotal: 13.2s\tremaining: 43.6s\n",
      "232:\tlearn: 0.0391033\ttotal: 13.2s\tremaining: 43.5s\n",
      "233:\tlearn: 0.0390930\ttotal: 13.2s\tremaining: 43.4s\n",
      "234:\tlearn: 0.0390769\ttotal: 13.3s\tremaining: 43.3s\n",
      "235:\tlearn: 0.0390566\ttotal: 13.3s\tremaining: 43.2s\n",
      "236:\tlearn: 0.0390434\ttotal: 13.4s\tremaining: 43.2s\n",
      "237:\tlearn: 0.0390393\ttotal: 13.5s\tremaining: 43.1s\n",
      "238:\tlearn: 0.0390253\ttotal: 13.6s\tremaining: 43.2s\n",
      "239:\tlearn: 0.0390216\ttotal: 13.7s\tremaining: 43.2s\n",
      "240:\tlearn: 0.0390080\ttotal: 13.7s\tremaining: 43.2s\n",
      "241:\tlearn: 0.0389926\ttotal: 13.8s\tremaining: 43.1s\n",
      "242:\tlearn: 0.0389822\ttotal: 13.8s\tremaining: 43.1s\n",
      "243:\tlearn: 0.0389678\ttotal: 13.9s\tremaining: 43s\n",
      "244:\tlearn: 0.0389519\ttotal: 13.9s\tremaining: 42.9s\n",
      "245:\tlearn: 0.0389395\ttotal: 14s\tremaining: 42.8s\n",
      "246:\tlearn: 0.0389289\ttotal: 14.1s\tremaining: 42.8s\n",
      "247:\tlearn: 0.0389128\ttotal: 14.1s\tremaining: 42.8s\n",
      "248:\tlearn: 0.0388991\ttotal: 14.2s\tremaining: 42.7s\n",
      "249:\tlearn: 0.0388842\ttotal: 14.2s\tremaining: 42.7s\n",
      "250:\tlearn: 0.0388691\ttotal: 14.3s\tremaining: 42.6s\n",
      "251:\tlearn: 0.0388543\ttotal: 14.3s\tremaining: 42.5s\n",
      "252:\tlearn: 0.0388410\ttotal: 14.4s\tremaining: 42.4s\n",
      "253:\tlearn: 0.0388363\ttotal: 14.4s\tremaining: 42.3s\n",
      "254:\tlearn: 0.0388231\ttotal: 14.5s\tremaining: 42.3s\n",
      "255:\tlearn: 0.0388118\ttotal: 14.6s\tremaining: 42.4s\n",
      "256:\tlearn: 0.0387984\ttotal: 14.6s\tremaining: 42.3s\n",
      "257:\tlearn: 0.0387857\ttotal: 14.7s\tremaining: 42.2s\n",
      "258:\tlearn: 0.0387745\ttotal: 14.7s\tremaining: 42.2s\n",
      "259:\tlearn: 0.0387701\ttotal: 14.8s\tremaining: 42.1s\n",
      "260:\tlearn: 0.0387497\ttotal: 14.8s\tremaining: 42s\n",
      "261:\tlearn: 0.0387335\ttotal: 14.9s\tremaining: 41.9s\n",
      "262:\tlearn: 0.0387247\ttotal: 14.9s\tremaining: 41.8s\n",
      "263:\tlearn: 0.0387088\ttotal: 15s\tremaining: 41.8s\n",
      "264:\tlearn: 0.0386997\ttotal: 15s\tremaining: 41.7s\n",
      "265:\tlearn: 0.0386827\ttotal: 15.1s\tremaining: 41.8s\n",
      "266:\tlearn: 0.0386745\ttotal: 15.2s\tremaining: 41.7s\n",
      "267:\tlearn: 0.0386713\ttotal: 15.2s\tremaining: 41.6s\n",
      "268:\tlearn: 0.0386605\ttotal: 15.3s\tremaining: 41.6s\n",
      "269:\tlearn: 0.0386469\ttotal: 15.3s\tremaining: 41.5s\n",
      "270:\tlearn: 0.0386342\ttotal: 15.4s\tremaining: 41.5s\n",
      "271:\tlearn: 0.0386149\ttotal: 15.5s\tremaining: 41.5s\n",
      "272:\tlearn: 0.0385999\ttotal: 15.6s\tremaining: 41.4s\n",
      "273:\tlearn: 0.0385895\ttotal: 15.6s\tremaining: 41.3s\n",
      "274:\tlearn: 0.0385750\ttotal: 15.7s\tremaining: 41.3s\n",
      "275:\tlearn: 0.0385665\ttotal: 15.7s\tremaining: 41.2s\n",
      "276:\tlearn: 0.0385467\ttotal: 15.8s\tremaining: 41.1s\n",
      "277:\tlearn: 0.0385352\ttotal: 15.8s\tremaining: 41.1s\n",
      "278:\tlearn: 0.0385231\ttotal: 15.9s\tremaining: 41s\n",
      "279:\tlearn: 0.0385103\ttotal: 15.9s\tremaining: 41s\n",
      "280:\tlearn: 0.0385012\ttotal: 16s\tremaining: 40.9s\n",
      "281:\tlearn: 0.0384878\ttotal: 16.1s\tremaining: 40.9s\n",
      "282:\tlearn: 0.0384773\ttotal: 16.1s\tremaining: 40.9s\n",
      "283:\tlearn: 0.0384704\ttotal: 16.2s\tremaining: 40.8s\n",
      "284:\tlearn: 0.0384595\ttotal: 16.2s\tremaining: 40.7s\n",
      "285:\tlearn: 0.0384459\ttotal: 16.3s\tremaining: 40.7s\n",
      "286:\tlearn: 0.0384348\ttotal: 16.4s\tremaining: 40.6s\n",
      "287:\tlearn: 0.0384280\ttotal: 16.4s\tremaining: 40.6s\n",
      "288:\tlearn: 0.0384176\ttotal: 16.5s\tremaining: 40.6s\n",
      "289:\tlearn: 0.0384093\ttotal: 16.5s\tremaining: 40.5s\n",
      "290:\tlearn: 0.0384068\ttotal: 16.6s\tremaining: 40.4s\n",
      "291:\tlearn: 0.0383993\ttotal: 16.6s\tremaining: 40.4s\n",
      "292:\tlearn: 0.0383824\ttotal: 16.7s\tremaining: 40.3s\n",
      "293:\tlearn: 0.0383653\ttotal: 16.7s\tremaining: 40.2s\n",
      "294:\tlearn: 0.0383547\ttotal: 16.8s\tremaining: 40.2s\n",
      "295:\tlearn: 0.0383443\ttotal: 16.8s\tremaining: 40.1s\n",
      "296:\tlearn: 0.0383334\ttotal: 16.9s\tremaining: 40s\n",
      "297:\tlearn: 0.0383200\ttotal: 17s\tremaining: 40s\n",
      "298:\tlearn: 0.0383177\ttotal: 17s\tremaining: 40s\n",
      "299:\tlearn: 0.0383070\ttotal: 17.1s\tremaining: 39.9s\n",
      "300:\tlearn: 0.0382992\ttotal: 17.1s\tremaining: 39.8s\n",
      "301:\tlearn: 0.0382868\ttotal: 17.2s\tremaining: 39.7s\n",
      "302:\tlearn: 0.0382799\ttotal: 17.2s\tremaining: 39.6s\n",
      "303:\tlearn: 0.0382702\ttotal: 17.3s\tremaining: 39.6s\n",
      "304:\tlearn: 0.0382634\ttotal: 17.3s\tremaining: 39.5s\n",
      "305:\tlearn: 0.0382499\ttotal: 17.4s\tremaining: 39.5s\n",
      "306:\tlearn: 0.0382390\ttotal: 17.5s\tremaining: 39.4s\n",
      "307:\tlearn: 0.0382306\ttotal: 17.5s\tremaining: 39.4s\n",
      "308:\tlearn: 0.0382257\ttotal: 17.6s\tremaining: 39.3s\n",
      "309:\tlearn: 0.0382217\ttotal: 17.6s\tremaining: 39.2s\n",
      "310:\tlearn: 0.0382076\ttotal: 17.7s\tremaining: 39.1s\n",
      "311:\tlearn: 0.0382046\ttotal: 17.7s\tremaining: 39.1s\n",
      "312:\tlearn: 0.0381940\ttotal: 17.8s\tremaining: 39s\n",
      "313:\tlearn: 0.0381864\ttotal: 17.8s\tremaining: 39s\n",
      "314:\tlearn: 0.0381769\ttotal: 17.9s\tremaining: 38.9s\n",
      "315:\tlearn: 0.0381654\ttotal: 17.9s\tremaining: 38.8s\n",
      "316:\tlearn: 0.0381558\ttotal: 18s\tremaining: 38.8s\n",
      "317:\tlearn: 0.0381478\ttotal: 18.1s\tremaining: 38.8s\n",
      "318:\tlearn: 0.0381381\ttotal: 18.1s\tremaining: 38.7s\n",
      "319:\tlearn: 0.0381231\ttotal: 18.2s\tremaining: 38.6s\n",
      "320:\tlearn: 0.0381121\ttotal: 18.2s\tremaining: 38.5s\n",
      "321:\tlearn: 0.0381016\ttotal: 18.3s\tremaining: 38.5s\n",
      "322:\tlearn: 0.0380895\ttotal: 18.3s\tremaining: 38.4s\n",
      "323:\tlearn: 0.0380881\ttotal: 18.4s\tremaining: 38.3s\n",
      "324:\tlearn: 0.0380718\ttotal: 18.4s\tremaining: 38.3s\n"
     ]
    },
    {
     "name": "stdout",
     "output_type": "stream",
     "text": [
      "325:\tlearn: 0.0380547\ttotal: 18.5s\tremaining: 38.3s\n",
      "326:\tlearn: 0.0380423\ttotal: 18.6s\tremaining: 38.2s\n",
      "327:\tlearn: 0.0380320\ttotal: 18.6s\tremaining: 38.1s\n",
      "328:\tlearn: 0.0380258\ttotal: 18.7s\tremaining: 38.1s\n",
      "329:\tlearn: 0.0380146\ttotal: 18.7s\tremaining: 38s\n",
      "330:\tlearn: 0.0379961\ttotal: 18.8s\tremaining: 38s\n",
      "331:\tlearn: 0.0379834\ttotal: 18.9s\tremaining: 37.9s\n",
      "332:\tlearn: 0.0379805\ttotal: 18.9s\tremaining: 37.9s\n",
      "333:\tlearn: 0.0379636\ttotal: 19s\tremaining: 37.8s\n",
      "334:\tlearn: 0.0379496\ttotal: 19s\tremaining: 37.8s\n",
      "335:\tlearn: 0.0379377\ttotal: 19.1s\tremaining: 37.7s\n",
      "336:\tlearn: 0.0379264\ttotal: 19.1s\tremaining: 37.6s\n",
      "337:\tlearn: 0.0379073\ttotal: 19.2s\tremaining: 37.5s\n",
      "338:\tlearn: 0.0378976\ttotal: 19.2s\tremaining: 37.5s\n",
      "339:\tlearn: 0.0378896\ttotal: 19.3s\tremaining: 37.4s\n",
      "340:\tlearn: 0.0378823\ttotal: 19.3s\tremaining: 37.3s\n",
      "341:\tlearn: 0.0378732\ttotal: 19.4s\tremaining: 37.3s\n",
      "342:\tlearn: 0.0378641\ttotal: 19.4s\tremaining: 37.2s\n",
      "343:\tlearn: 0.0378538\ttotal: 19.5s\tremaining: 37.2s\n",
      "344:\tlearn: 0.0378431\ttotal: 19.6s\tremaining: 37.1s\n",
      "345:\tlearn: 0.0378275\ttotal: 19.6s\tremaining: 37.1s\n",
      "346:\tlearn: 0.0378149\ttotal: 19.7s\tremaining: 37s\n",
      "347:\tlearn: 0.0378056\ttotal: 19.7s\tremaining: 37s\n",
      "348:\tlearn: 0.0378018\ttotal: 19.8s\tremaining: 36.9s\n",
      "349:\tlearn: 0.0377956\ttotal: 19.8s\tremaining: 36.8s\n",
      "350:\tlearn: 0.0377824\ttotal: 19.9s\tremaining: 36.7s\n",
      "351:\tlearn: 0.0377728\ttotal: 19.9s\tremaining: 36.7s\n",
      "352:\tlearn: 0.0377630\ttotal: 20s\tremaining: 36.7s\n",
      "353:\tlearn: 0.0377578\ttotal: 20.1s\tremaining: 36.6s\n",
      "354:\tlearn: 0.0377402\ttotal: 20.1s\tremaining: 36.5s\n",
      "355:\tlearn: 0.0377258\ttotal: 20.1s\tremaining: 36.5s\n",
      "356:\tlearn: 0.0377141\ttotal: 20.2s\tremaining: 36.4s\n",
      "357:\tlearn: 0.0377101\ttotal: 20.3s\tremaining: 36.3s\n",
      "358:\tlearn: 0.0377036\ttotal: 20.3s\tremaining: 36.2s\n",
      "359:\tlearn: 0.0376969\ttotal: 20.3s\tremaining: 36.2s\n",
      "360:\tlearn: 0.0376862\ttotal: 20.4s\tremaining: 36.1s\n",
      "361:\tlearn: 0.0376789\ttotal: 20.5s\tremaining: 36.1s\n",
      "362:\tlearn: 0.0376646\ttotal: 20.5s\tremaining: 36s\n",
      "363:\tlearn: 0.0376551\ttotal: 20.6s\tremaining: 36s\n",
      "364:\tlearn: 0.0376426\ttotal: 20.6s\tremaining: 35.9s\n",
      "365:\tlearn: 0.0376370\ttotal: 20.7s\tremaining: 35.9s\n",
      "366:\tlearn: 0.0376272\ttotal: 20.7s\tremaining: 35.8s\n",
      "367:\tlearn: 0.0376181\ttotal: 20.8s\tremaining: 35.7s\n",
      "368:\tlearn: 0.0376097\ttotal: 20.8s\tremaining: 35.6s\n",
      "369:\tlearn: 0.0375957\ttotal: 20.9s\tremaining: 35.6s\n",
      "370:\tlearn: 0.0375807\ttotal: 21s\tremaining: 35.5s\n",
      "371:\tlearn: 0.0375729\ttotal: 21s\tremaining: 35.5s\n",
      "372:\tlearn: 0.0375681\ttotal: 21.1s\tremaining: 35.4s\n",
      "373:\tlearn: 0.0375662\ttotal: 21.1s\tremaining: 35.4s\n",
      "374:\tlearn: 0.0375489\ttotal: 21.2s\tremaining: 35.3s\n",
      "375:\tlearn: 0.0375409\ttotal: 21.2s\tremaining: 35.2s\n",
      "376:\tlearn: 0.0375249\ttotal: 21.3s\tremaining: 35.2s\n",
      "377:\tlearn: 0.0375145\ttotal: 21.3s\tremaining: 35.1s\n",
      "378:\tlearn: 0.0375097\ttotal: 21.4s\tremaining: 35.1s\n",
      "379:\tlearn: 0.0374954\ttotal: 21.5s\tremaining: 35s\n",
      "380:\tlearn: 0.0374888\ttotal: 21.5s\tremaining: 35s\n",
      "381:\tlearn: 0.0374782\ttotal: 21.6s\tremaining: 34.9s\n",
      "382:\tlearn: 0.0374712\ttotal: 21.6s\tremaining: 34.8s\n",
      "383:\tlearn: 0.0374563\ttotal: 21.7s\tremaining: 34.8s\n",
      "384:\tlearn: 0.0374472\ttotal: 21.7s\tremaining: 34.7s\n",
      "385:\tlearn: 0.0374349\ttotal: 21.8s\tremaining: 34.6s\n",
      "386:\tlearn: 0.0374280\ttotal: 21.8s\tremaining: 34.6s\n",
      "387:\tlearn: 0.0374161\ttotal: 21.9s\tremaining: 34.5s\n",
      "388:\tlearn: 0.0374064\ttotal: 21.9s\tremaining: 34.5s\n",
      "389:\tlearn: 0.0373982\ttotal: 22s\tremaining: 34.4s\n",
      "390:\tlearn: 0.0373918\ttotal: 22.1s\tremaining: 34.4s\n",
      "391:\tlearn: 0.0373780\ttotal: 22.1s\tremaining: 34.3s\n",
      "392:\tlearn: 0.0373725\ttotal: 22.2s\tremaining: 34.2s\n",
      "393:\tlearn: 0.0373577\ttotal: 22.2s\tremaining: 34.2s\n",
      "394:\tlearn: 0.0373477\ttotal: 22.3s\tremaining: 34.2s\n",
      "395:\tlearn: 0.0373299\ttotal: 22.4s\tremaining: 34.1s\n",
      "396:\tlearn: 0.0373204\ttotal: 22.4s\tremaining: 34.1s\n",
      "397:\tlearn: 0.0373056\ttotal: 22.5s\tremaining: 34.1s\n",
      "398:\tlearn: 0.0372937\ttotal: 22.6s\tremaining: 34s\n",
      "399:\tlearn: 0.0372838\ttotal: 22.6s\tremaining: 34s\n",
      "400:\tlearn: 0.0372772\ttotal: 22.7s\tremaining: 33.9s\n",
      "401:\tlearn: 0.0372685\ttotal: 22.8s\tremaining: 33.8s\n",
      "402:\tlearn: 0.0372575\ttotal: 22.8s\tremaining: 33.8s\n",
      "403:\tlearn: 0.0372494\ttotal: 22.8s\tremaining: 33.7s\n",
      "404:\tlearn: 0.0372358\ttotal: 22.9s\tremaining: 33.7s\n",
      "405:\tlearn: 0.0372270\ttotal: 23s\tremaining: 33.6s\n",
      "406:\tlearn: 0.0372200\ttotal: 23s\tremaining: 33.6s\n",
      "407:\tlearn: 0.0372094\ttotal: 23.1s\tremaining: 33.5s\n",
      "408:\tlearn: 0.0372020\ttotal: 23.1s\tremaining: 33.4s\n",
      "409:\tlearn: 0.0371962\ttotal: 23.2s\tremaining: 33.4s\n",
      "410:\tlearn: 0.0371884\ttotal: 23.2s\tremaining: 33.3s\n",
      "411:\tlearn: 0.0371771\ttotal: 23.3s\tremaining: 33.2s\n",
      "412:\tlearn: 0.0371671\ttotal: 23.4s\tremaining: 33.2s\n",
      "413:\tlearn: 0.0371574\ttotal: 23.4s\tremaining: 33.2s\n",
      "414:\tlearn: 0.0371463\ttotal: 23.5s\tremaining: 33.1s\n",
      "415:\tlearn: 0.0371380\ttotal: 23.6s\tremaining: 33.1s\n",
      "416:\tlearn: 0.0371254\ttotal: 23.6s\tremaining: 33s\n",
      "417:\tlearn: 0.0371189\ttotal: 23.7s\tremaining: 33s\n",
      "418:\tlearn: 0.0371047\ttotal: 23.7s\tremaining: 32.9s\n",
      "419:\tlearn: 0.0370970\ttotal: 23.8s\tremaining: 32.9s\n",
      "420:\tlearn: 0.0370895\ttotal: 23.8s\tremaining: 32.8s\n",
      "421:\tlearn: 0.0370867\ttotal: 23.9s\tremaining: 32.7s\n",
      "422:\tlearn: 0.0370756\ttotal: 24s\tremaining: 32.7s\n",
      "423:\tlearn: 0.0370742\ttotal: 24s\tremaining: 32.6s\n",
      "424:\tlearn: 0.0370693\ttotal: 24.1s\tremaining: 32.6s\n",
      "425:\tlearn: 0.0370581\ttotal: 24.1s\tremaining: 32.5s\n",
      "426:\tlearn: 0.0370463\ttotal: 24.2s\tremaining: 32.4s\n",
      "427:\tlearn: 0.0370380\ttotal: 24.2s\tremaining: 32.4s\n",
      "428:\tlearn: 0.0370297\ttotal: 24.3s\tremaining: 32.3s\n",
      "429:\tlearn: 0.0370274\ttotal: 24.3s\tremaining: 32.2s\n",
      "430:\tlearn: 0.0370181\ttotal: 24.4s\tremaining: 32.2s\n",
      "431:\tlearn: 0.0370116\ttotal: 24.4s\tremaining: 32.1s\n",
      "432:\tlearn: 0.0369989\ttotal: 24.5s\tremaining: 32.1s\n",
      "433:\tlearn: 0.0369877\ttotal: 24.6s\tremaining: 32s\n",
      "434:\tlearn: 0.0369820\ttotal: 24.6s\tremaining: 32s\n",
      "435:\tlearn: 0.0369714\ttotal: 24.7s\tremaining: 31.9s\n",
      "436:\tlearn: 0.0369646\ttotal: 24.7s\tremaining: 31.9s\n",
      "437:\tlearn: 0.0369569\ttotal: 24.8s\tremaining: 31.8s\n",
      "438:\tlearn: 0.0369474\ttotal: 24.8s\tremaining: 31.7s\n",
      "439:\tlearn: 0.0369354\ttotal: 24.9s\tremaining: 31.7s\n",
      "440:\tlearn: 0.0369256\ttotal: 25s\tremaining: 31.7s\n",
      "441:\tlearn: 0.0369101\ttotal: 25.1s\tremaining: 31.7s\n",
      "442:\tlearn: 0.0369004\ttotal: 25.1s\tremaining: 31.6s\n",
      "443:\tlearn: 0.0368924\ttotal: 25.2s\tremaining: 31.6s\n",
      "444:\tlearn: 0.0368814\ttotal: 25.3s\tremaining: 31.5s\n",
      "445:\tlearn: 0.0368758\ttotal: 25.3s\tremaining: 31.5s\n",
      "446:\tlearn: 0.0368632\ttotal: 25.4s\tremaining: 31.5s\n",
      "447:\tlearn: 0.0368546\ttotal: 25.5s\tremaining: 31.4s\n",
      "448:\tlearn: 0.0368449\ttotal: 25.6s\tremaining: 31.4s\n",
      "449:\tlearn: 0.0368290\ttotal: 25.6s\tremaining: 31.3s\n",
      "450:\tlearn: 0.0368198\ttotal: 25.7s\tremaining: 31.3s\n",
      "451:\tlearn: 0.0368097\ttotal: 25.8s\tremaining: 31.3s\n",
      "452:\tlearn: 0.0367996\ttotal: 25.9s\tremaining: 31.3s\n",
      "453:\tlearn: 0.0367896\ttotal: 26s\tremaining: 31.3s\n",
      "454:\tlearn: 0.0367757\ttotal: 26.1s\tremaining: 31.3s\n",
      "455:\tlearn: 0.0367647\ttotal: 26.2s\tremaining: 31.3s\n",
      "456:\tlearn: 0.0367549\ttotal: 26.3s\tremaining: 31.2s\n",
      "457:\tlearn: 0.0367421\ttotal: 26.3s\tremaining: 31.2s\n",
      "458:\tlearn: 0.0367336\ttotal: 26.4s\tremaining: 31.1s\n",
      "459:\tlearn: 0.0367294\ttotal: 26.5s\tremaining: 31.1s\n",
      "460:\tlearn: 0.0367207\ttotal: 26.5s\tremaining: 31s\n",
      "461:\tlearn: 0.0367093\ttotal: 26.6s\tremaining: 31s\n",
      "462:\tlearn: 0.0367085\ttotal: 26.6s\tremaining: 30.9s\n",
      "463:\tlearn: 0.0367028\ttotal: 26.7s\tremaining: 30.8s\n",
      "464:\tlearn: 0.0366951\ttotal: 26.8s\tremaining: 30.8s\n",
      "465:\tlearn: 0.0366900\ttotal: 26.8s\tremaining: 30.7s\n",
      "466:\tlearn: 0.0366811\ttotal: 26.9s\tremaining: 30.7s\n",
      "467:\tlearn: 0.0366764\ttotal: 26.9s\tremaining: 30.6s\n",
      "468:\tlearn: 0.0366671\ttotal: 27s\tremaining: 30.6s\n",
      "469:\tlearn: 0.0366536\ttotal: 27.1s\tremaining: 30.5s\n",
      "470:\tlearn: 0.0366481\ttotal: 27.1s\tremaining: 30.5s\n",
      "471:\tlearn: 0.0366437\ttotal: 27.2s\tremaining: 30.4s\n",
      "472:\tlearn: 0.0366313\ttotal: 27.2s\tremaining: 30.3s\n",
      "473:\tlearn: 0.0366282\ttotal: 27.3s\tremaining: 30.3s\n",
      "474:\tlearn: 0.0366173\ttotal: 27.3s\tremaining: 30.2s\n",
      "475:\tlearn: 0.0366060\ttotal: 27.4s\tremaining: 30.2s\n",
      "476:\tlearn: 0.0365929\ttotal: 27.5s\tremaining: 30.2s\n",
      "477:\tlearn: 0.0365791\ttotal: 27.6s\tremaining: 30.1s\n",
      "478:\tlearn: 0.0365734\ttotal: 27.6s\tremaining: 30s\n",
      "479:\tlearn: 0.0365652\ttotal: 27.7s\tremaining: 30s\n",
      "480:\tlearn: 0.0365488\ttotal: 27.7s\tremaining: 29.9s\n",
      "481:\tlearn: 0.0365449\ttotal: 27.8s\tremaining: 29.9s\n",
      "482:\tlearn: 0.0365397\ttotal: 27.8s\tremaining: 29.8s\n",
      "483:\tlearn: 0.0365360\ttotal: 27.9s\tremaining: 29.7s\n",
      "484:\tlearn: 0.0365307\ttotal: 27.9s\tremaining: 29.7s\n",
      "485:\tlearn: 0.0365246\ttotal: 28s\tremaining: 29.6s\n",
      "486:\tlearn: 0.0365144\ttotal: 28.1s\tremaining: 29.5s\n"
     ]
    },
    {
     "name": "stdout",
     "output_type": "stream",
     "text": [
      "487:\tlearn: 0.0365073\ttotal: 28.1s\tremaining: 29.5s\n",
      "488:\tlearn: 0.0364990\ttotal: 28.2s\tremaining: 29.4s\n",
      "489:\tlearn: 0.0364871\ttotal: 28.2s\tremaining: 29.4s\n",
      "490:\tlearn: 0.0364836\ttotal: 28.3s\tremaining: 29.3s\n",
      "491:\tlearn: 0.0364789\ttotal: 28.3s\tremaining: 29.2s\n",
      "492:\tlearn: 0.0364689\ttotal: 28.4s\tremaining: 29.2s\n",
      "493:\tlearn: 0.0364598\ttotal: 28.5s\tremaining: 29.1s\n",
      "494:\tlearn: 0.0364490\ttotal: 28.5s\tremaining: 29.1s\n",
      "495:\tlearn: 0.0364416\ttotal: 28.6s\tremaining: 29s\n",
      "496:\tlearn: 0.0364328\ttotal: 28.6s\tremaining: 29s\n",
      "497:\tlearn: 0.0364246\ttotal: 28.7s\tremaining: 28.9s\n",
      "498:\tlearn: 0.0364094\ttotal: 28.7s\tremaining: 28.8s\n",
      "499:\tlearn: 0.0364049\ttotal: 28.8s\tremaining: 28.8s\n",
      "500:\tlearn: 0.0364015\ttotal: 28.8s\tremaining: 28.7s\n",
      "501:\tlearn: 0.0363943\ttotal: 28.9s\tremaining: 28.7s\n",
      "502:\tlearn: 0.0363850\ttotal: 29s\tremaining: 28.7s\n",
      "503:\tlearn: 0.0363803\ttotal: 29.1s\tremaining: 28.6s\n",
      "504:\tlearn: 0.0363679\ttotal: 29.1s\tremaining: 28.6s\n",
      "505:\tlearn: 0.0363572\ttotal: 29.2s\tremaining: 28.5s\n",
      "506:\tlearn: 0.0363522\ttotal: 29.2s\tremaining: 28.4s\n",
      "507:\tlearn: 0.0363410\ttotal: 29.3s\tremaining: 28.4s\n",
      "508:\tlearn: 0.0363268\ttotal: 29.3s\tremaining: 28.3s\n",
      "509:\tlearn: 0.0363140\ttotal: 29.4s\tremaining: 28.3s\n",
      "510:\tlearn: 0.0363090\ttotal: 29.5s\tremaining: 28.2s\n",
      "511:\tlearn: 0.0363013\ttotal: 29.5s\tremaining: 28.1s\n",
      "512:\tlearn: 0.0362967\ttotal: 29.6s\tremaining: 28.1s\n",
      "513:\tlearn: 0.0362875\ttotal: 29.6s\tremaining: 28s\n",
      "514:\tlearn: 0.0362821\ttotal: 29.7s\tremaining: 27.9s\n",
      "515:\tlearn: 0.0362706\ttotal: 29.7s\tremaining: 27.9s\n",
      "516:\tlearn: 0.0362628\ttotal: 29.8s\tremaining: 27.8s\n",
      "517:\tlearn: 0.0362491\ttotal: 29.9s\tremaining: 27.8s\n",
      "518:\tlearn: 0.0362410\ttotal: 29.9s\tremaining: 27.7s\n",
      "519:\tlearn: 0.0362334\ttotal: 30s\tremaining: 27.7s\n",
      "520:\tlearn: 0.0362204\ttotal: 30s\tremaining: 27.6s\n",
      "521:\tlearn: 0.0362129\ttotal: 30.1s\tremaining: 27.6s\n",
      "522:\tlearn: 0.0362100\ttotal: 30.1s\tremaining: 27.5s\n",
      "523:\tlearn: 0.0362043\ttotal: 30.2s\tremaining: 27.4s\n",
      "524:\tlearn: 0.0361948\ttotal: 30.2s\tremaining: 27.3s\n",
      "525:\tlearn: 0.0361827\ttotal: 30.3s\tremaining: 27.3s\n",
      "526:\tlearn: 0.0361762\ttotal: 30.3s\tremaining: 27.2s\n",
      "527:\tlearn: 0.0361727\ttotal: 30.4s\tremaining: 27.2s\n",
      "528:\tlearn: 0.0361651\ttotal: 30.5s\tremaining: 27.1s\n",
      "529:\tlearn: 0.0361583\ttotal: 30.5s\tremaining: 27.1s\n",
      "530:\tlearn: 0.0361520\ttotal: 30.6s\tremaining: 27s\n",
      "531:\tlearn: 0.0361405\ttotal: 30.6s\tremaining: 27s\n",
      "532:\tlearn: 0.0361358\ttotal: 30.7s\tremaining: 26.9s\n",
      "533:\tlearn: 0.0361323\ttotal: 30.8s\tremaining: 26.9s\n",
      "534:\tlearn: 0.0361287\ttotal: 30.8s\tremaining: 26.8s\n",
      "535:\tlearn: 0.0361175\ttotal: 30.9s\tremaining: 26.7s\n",
      "536:\tlearn: 0.0361136\ttotal: 30.9s\tremaining: 26.7s\n",
      "537:\tlearn: 0.0361046\ttotal: 31s\tremaining: 26.6s\n",
      "538:\tlearn: 0.0360922\ttotal: 31.1s\tremaining: 26.6s\n",
      "539:\tlearn: 0.0360800\ttotal: 31.1s\tremaining: 26.5s\n",
      "540:\tlearn: 0.0360744\ttotal: 31.2s\tremaining: 26.4s\n",
      "541:\tlearn: 0.0360651\ttotal: 31.2s\tremaining: 26.4s\n",
      "542:\tlearn: 0.0360539\ttotal: 31.3s\tremaining: 26.3s\n",
      "543:\tlearn: 0.0360448\ttotal: 31.3s\tremaining: 26.3s\n",
      "544:\tlearn: 0.0360367\ttotal: 31.5s\tremaining: 26.3s\n",
      "545:\tlearn: 0.0360279\ttotal: 31.5s\tremaining: 26.2s\n",
      "546:\tlearn: 0.0360167\ttotal: 31.6s\tremaining: 26.2s\n",
      "547:\tlearn: 0.0360021\ttotal: 31.6s\tremaining: 26.1s\n",
      "548:\tlearn: 0.0359891\ttotal: 31.7s\tremaining: 26s\n",
      "549:\tlearn: 0.0359849\ttotal: 31.7s\tremaining: 26s\n",
      "550:\tlearn: 0.0359769\ttotal: 31.8s\tremaining: 25.9s\n",
      "551:\tlearn: 0.0359644\ttotal: 31.8s\tremaining: 25.8s\n",
      "552:\tlearn: 0.0359522\ttotal: 31.9s\tremaining: 25.8s\n",
      "553:\tlearn: 0.0359495\ttotal: 32s\tremaining: 25.7s\n",
      "554:\tlearn: 0.0359363\ttotal: 32s\tremaining: 25.7s\n",
      "555:\tlearn: 0.0359224\ttotal: 32.1s\tremaining: 25.6s\n",
      "556:\tlearn: 0.0359176\ttotal: 32.1s\tremaining: 25.5s\n",
      "557:\tlearn: 0.0359077\ttotal: 32.2s\tremaining: 25.5s\n",
      "558:\tlearn: 0.0358941\ttotal: 32.2s\tremaining: 25.4s\n",
      "559:\tlearn: 0.0358929\ttotal: 32.3s\tremaining: 25.3s\n",
      "560:\tlearn: 0.0358845\ttotal: 32.3s\tremaining: 25.3s\n",
      "561:\tlearn: 0.0358705\ttotal: 32.4s\tremaining: 25.2s\n",
      "562:\tlearn: 0.0358605\ttotal: 32.4s\tremaining: 25.2s\n",
      "563:\tlearn: 0.0358500\ttotal: 32.5s\tremaining: 25.1s\n",
      "564:\tlearn: 0.0358417\ttotal: 32.5s\tremaining: 25.1s\n",
      "565:\tlearn: 0.0358306\ttotal: 32.6s\tremaining: 25s\n",
      "566:\tlearn: 0.0358197\ttotal: 32.6s\tremaining: 24.9s\n",
      "567:\tlearn: 0.0358117\ttotal: 32.7s\tremaining: 24.9s\n",
      "568:\tlearn: 0.0358046\ttotal: 32.8s\tremaining: 24.8s\n",
      "569:\tlearn: 0.0358009\ttotal: 32.8s\tremaining: 24.8s\n",
      "570:\tlearn: 0.0357920\ttotal: 32.9s\tremaining: 24.7s\n",
      "571:\tlearn: 0.0357795\ttotal: 33s\tremaining: 24.7s\n",
      "572:\tlearn: 0.0357760\ttotal: 33s\tremaining: 24.6s\n",
      "573:\tlearn: 0.0357651\ttotal: 33.1s\tremaining: 24.5s\n",
      "574:\tlearn: 0.0357624\ttotal: 33.1s\tremaining: 24.5s\n",
      "575:\tlearn: 0.0357563\ttotal: 33.2s\tremaining: 24.4s\n",
      "576:\tlearn: 0.0357554\ttotal: 33.2s\tremaining: 24.4s\n",
      "577:\tlearn: 0.0357442\ttotal: 33.3s\tremaining: 24.3s\n",
      "578:\tlearn: 0.0357260\ttotal: 33.3s\tremaining: 24.2s\n",
      "579:\tlearn: 0.0357206\ttotal: 33.4s\tremaining: 24.2s\n",
      "580:\tlearn: 0.0357145\ttotal: 33.4s\tremaining: 24.1s\n",
      "581:\tlearn: 0.0357078\ttotal: 33.5s\tremaining: 24.1s\n",
      "582:\tlearn: 0.0356924\ttotal: 33.5s\tremaining: 24s\n",
      "583:\tlearn: 0.0356783\ttotal: 33.6s\tremaining: 23.9s\n",
      "584:\tlearn: 0.0356629\ttotal: 33.7s\tremaining: 23.9s\n",
      "585:\tlearn: 0.0356487\ttotal: 33.7s\tremaining: 23.8s\n",
      "586:\tlearn: 0.0356465\ttotal: 33.8s\tremaining: 23.8s\n",
      "587:\tlearn: 0.0356388\ttotal: 33.9s\tremaining: 23.7s\n",
      "588:\tlearn: 0.0356228\ttotal: 33.9s\tremaining: 23.7s\n",
      "589:\tlearn: 0.0356081\ttotal: 34s\tremaining: 23.6s\n",
      "590:\tlearn: 0.0355976\ttotal: 34s\tremaining: 23.6s\n",
      "591:\tlearn: 0.0355897\ttotal: 34.1s\tremaining: 23.5s\n",
      "592:\tlearn: 0.0355799\ttotal: 34.2s\tremaining: 23.4s\n",
      "593:\tlearn: 0.0355740\ttotal: 34.2s\tremaining: 23.4s\n",
      "594:\tlearn: 0.0355714\ttotal: 34.3s\tremaining: 23.3s\n",
      "595:\tlearn: 0.0355663\ttotal: 34.3s\tremaining: 23.3s\n",
      "596:\tlearn: 0.0355581\ttotal: 34.4s\tremaining: 23.2s\n",
      "597:\tlearn: 0.0355520\ttotal: 34.4s\tremaining: 23.1s\n",
      "598:\tlearn: 0.0355328\ttotal: 34.5s\tremaining: 23.1s\n",
      "599:\tlearn: 0.0355215\ttotal: 34.6s\tremaining: 23s\n",
      "600:\tlearn: 0.0355121\ttotal: 34.6s\tremaining: 23s\n",
      "601:\tlearn: 0.0354990\ttotal: 34.7s\tremaining: 22.9s\n",
      "602:\tlearn: 0.0354940\ttotal: 34.7s\tremaining: 22.9s\n",
      "603:\tlearn: 0.0354845\ttotal: 34.8s\tremaining: 22.8s\n",
      "604:\tlearn: 0.0354719\ttotal: 34.8s\tremaining: 22.7s\n",
      "605:\tlearn: 0.0354643\ttotal: 34.9s\tremaining: 22.7s\n",
      "606:\tlearn: 0.0354602\ttotal: 34.9s\tremaining: 22.6s\n",
      "607:\tlearn: 0.0354479\ttotal: 35s\tremaining: 22.6s\n",
      "608:\tlearn: 0.0354363\ttotal: 35s\tremaining: 22.5s\n",
      "609:\tlearn: 0.0354277\ttotal: 35.1s\tremaining: 22.4s\n",
      "610:\tlearn: 0.0354166\ttotal: 35.1s\tremaining: 22.4s\n",
      "611:\tlearn: 0.0354095\ttotal: 35.2s\tremaining: 22.3s\n",
      "612:\tlearn: 0.0353991\ttotal: 35.2s\tremaining: 22.2s\n",
      "613:\tlearn: 0.0353893\ttotal: 35.3s\tremaining: 22.2s\n",
      "614:\tlearn: 0.0353795\ttotal: 35.4s\tremaining: 22.1s\n",
      "615:\tlearn: 0.0353736\ttotal: 35.4s\tremaining: 22.1s\n",
      "616:\tlearn: 0.0353637\ttotal: 35.5s\tremaining: 22s\n",
      "617:\tlearn: 0.0353590\ttotal: 35.5s\tremaining: 22s\n",
      "618:\tlearn: 0.0353520\ttotal: 35.6s\tremaining: 21.9s\n",
      "619:\tlearn: 0.0353393\ttotal: 35.6s\tremaining: 21.8s\n",
      "620:\tlearn: 0.0353291\ttotal: 35.7s\tremaining: 21.8s\n",
      "621:\tlearn: 0.0353219\ttotal: 35.7s\tremaining: 21.7s\n",
      "622:\tlearn: 0.0353133\ttotal: 35.8s\tremaining: 21.7s\n",
      "623:\tlearn: 0.0353038\ttotal: 35.9s\tremaining: 21.6s\n",
      "624:\tlearn: 0.0353005\ttotal: 35.9s\tremaining: 21.5s\n",
      "625:\tlearn: 0.0352946\ttotal: 36s\tremaining: 21.5s\n",
      "626:\tlearn: 0.0352869\ttotal: 36.1s\tremaining: 21.5s\n",
      "627:\tlearn: 0.0352838\ttotal: 36.1s\tremaining: 21.4s\n",
      "628:\tlearn: 0.0352759\ttotal: 36.2s\tremaining: 21.3s\n",
      "629:\tlearn: 0.0352701\ttotal: 36.2s\tremaining: 21.3s\n",
      "630:\tlearn: 0.0352584\ttotal: 36.3s\tremaining: 21.2s\n",
      "631:\tlearn: 0.0352494\ttotal: 36.3s\tremaining: 21.2s\n",
      "632:\tlearn: 0.0352422\ttotal: 36.4s\tremaining: 21.1s\n",
      "633:\tlearn: 0.0352326\ttotal: 36.4s\tremaining: 21s\n",
      "634:\tlearn: 0.0352206\ttotal: 36.5s\tremaining: 21s\n",
      "635:\tlearn: 0.0352116\ttotal: 36.5s\tremaining: 20.9s\n",
      "636:\tlearn: 0.0351983\ttotal: 36.6s\tremaining: 20.8s\n",
      "637:\tlearn: 0.0351939\ttotal: 36.6s\tremaining: 20.8s\n",
      "638:\tlearn: 0.0351889\ttotal: 36.7s\tremaining: 20.7s\n",
      "639:\tlearn: 0.0351776\ttotal: 36.8s\tremaining: 20.7s\n",
      "640:\tlearn: 0.0351714\ttotal: 36.8s\tremaining: 20.6s\n",
      "641:\tlearn: 0.0351603\ttotal: 36.8s\tremaining: 20.5s\n",
      "642:\tlearn: 0.0351533\ttotal: 36.9s\tremaining: 20.5s\n",
      "643:\tlearn: 0.0351401\ttotal: 37s\tremaining: 20.4s\n",
      "644:\tlearn: 0.0351369\ttotal: 37s\tremaining: 20.4s\n",
      "645:\tlearn: 0.0351334\ttotal: 37.1s\tremaining: 20.3s\n",
      "646:\tlearn: 0.0351218\ttotal: 37.1s\tremaining: 20.3s\n"
     ]
    },
    {
     "name": "stdout",
     "output_type": "stream",
     "text": [
      "647:\tlearn: 0.0351058\ttotal: 37.2s\tremaining: 20.2s\n",
      "648:\tlearn: 0.0350983\ttotal: 37.3s\tremaining: 20.2s\n",
      "649:\tlearn: 0.0350974\ttotal: 37.3s\tremaining: 20.1s\n",
      "650:\tlearn: 0.0350915\ttotal: 37.4s\tremaining: 20s\n",
      "651:\tlearn: 0.0350901\ttotal: 37.4s\tremaining: 20s\n",
      "652:\tlearn: 0.0350853\ttotal: 37.5s\tremaining: 19.9s\n",
      "653:\tlearn: 0.0350837\ttotal: 37.6s\tremaining: 19.9s\n",
      "654:\tlearn: 0.0350783\ttotal: 37.6s\tremaining: 19.8s\n",
      "655:\tlearn: 0.0350690\ttotal: 37.7s\tremaining: 19.8s\n",
      "656:\tlearn: 0.0350607\ttotal: 37.7s\tremaining: 19.7s\n",
      "657:\tlearn: 0.0350556\ttotal: 37.8s\tremaining: 19.6s\n",
      "658:\tlearn: 0.0350470\ttotal: 37.9s\tremaining: 19.6s\n",
      "659:\tlearn: 0.0350360\ttotal: 37.9s\tremaining: 19.5s\n",
      "660:\tlearn: 0.0350234\ttotal: 38s\tremaining: 19.5s\n",
      "661:\tlearn: 0.0350121\ttotal: 38s\tremaining: 19.4s\n",
      "662:\tlearn: 0.0350026\ttotal: 38.1s\tremaining: 19.4s\n",
      "663:\tlearn: 0.0349992\ttotal: 38.2s\tremaining: 19.3s\n",
      "664:\tlearn: 0.0349959\ttotal: 38.2s\tremaining: 19.3s\n",
      "665:\tlearn: 0.0349907\ttotal: 38.3s\tremaining: 19.2s\n",
      "666:\tlearn: 0.0349841\ttotal: 38.3s\tremaining: 19.1s\n",
      "667:\tlearn: 0.0349743\ttotal: 38.4s\tremaining: 19.1s\n",
      "668:\tlearn: 0.0349646\ttotal: 38.4s\tremaining: 19s\n",
      "669:\tlearn: 0.0349538\ttotal: 38.5s\tremaining: 19s\n",
      "670:\tlearn: 0.0349458\ttotal: 38.6s\tremaining: 18.9s\n",
      "671:\tlearn: 0.0349361\ttotal: 38.6s\tremaining: 18.8s\n",
      "672:\tlearn: 0.0349291\ttotal: 38.7s\tremaining: 18.8s\n",
      "673:\tlearn: 0.0349218\ttotal: 38.7s\tremaining: 18.7s\n",
      "674:\tlearn: 0.0349111\ttotal: 38.8s\tremaining: 18.7s\n",
      "675:\tlearn: 0.0349021\ttotal: 38.8s\tremaining: 18.6s\n",
      "676:\tlearn: 0.0349003\ttotal: 38.9s\tremaining: 18.5s\n",
      "677:\tlearn: 0.0348866\ttotal: 38.9s\tremaining: 18.5s\n",
      "678:\tlearn: 0.0348848\ttotal: 39s\tremaining: 18.4s\n",
      "679:\tlearn: 0.0348742\ttotal: 39s\tremaining: 18.4s\n",
      "680:\tlearn: 0.0348665\ttotal: 39.1s\tremaining: 18.3s\n",
      "681:\tlearn: 0.0348571\ttotal: 39.2s\tremaining: 18.3s\n",
      "682:\tlearn: 0.0348468\ttotal: 39.2s\tremaining: 18.2s\n",
      "683:\tlearn: 0.0348391\ttotal: 39.3s\tremaining: 18.2s\n",
      "684:\tlearn: 0.0348260\ttotal: 39.4s\tremaining: 18.1s\n",
      "685:\tlearn: 0.0348194\ttotal: 39.4s\tremaining: 18s\n",
      "686:\tlearn: 0.0348117\ttotal: 39.5s\tremaining: 18s\n",
      "687:\tlearn: 0.0348006\ttotal: 39.5s\tremaining: 17.9s\n",
      "688:\tlearn: 0.0347956\ttotal: 39.6s\tremaining: 17.9s\n",
      "689:\tlearn: 0.0347876\ttotal: 39.6s\tremaining: 17.8s\n",
      "690:\tlearn: 0.0347806\ttotal: 39.7s\tremaining: 17.7s\n",
      "691:\tlearn: 0.0347701\ttotal: 39.7s\tremaining: 17.7s\n",
      "692:\tlearn: 0.0347589\ttotal: 39.8s\tremaining: 17.6s\n",
      "693:\tlearn: 0.0347477\ttotal: 39.8s\tremaining: 17.6s\n",
      "694:\tlearn: 0.0347365\ttotal: 39.9s\tremaining: 17.5s\n",
      "695:\tlearn: 0.0347287\ttotal: 39.9s\tremaining: 17.4s\n",
      "696:\tlearn: 0.0347125\ttotal: 40s\tremaining: 17.4s\n",
      "697:\tlearn: 0.0347018\ttotal: 40.1s\tremaining: 17.3s\n",
      "698:\tlearn: 0.0346951\ttotal: 40.2s\tremaining: 17.3s\n",
      "699:\tlearn: 0.0346844\ttotal: 40.2s\tremaining: 17.2s\n",
      "700:\tlearn: 0.0346745\ttotal: 40.3s\tremaining: 17.2s\n",
      "701:\tlearn: 0.0346653\ttotal: 40.3s\tremaining: 17.1s\n",
      "702:\tlearn: 0.0346579\ttotal: 40.4s\tremaining: 17.1s\n",
      "703:\tlearn: 0.0346539\ttotal: 40.5s\tremaining: 17s\n",
      "704:\tlearn: 0.0346405\ttotal: 40.5s\tremaining: 17s\n",
      "705:\tlearn: 0.0346306\ttotal: 40.6s\tremaining: 16.9s\n",
      "706:\tlearn: 0.0346182\ttotal: 40.6s\tremaining: 16.8s\n",
      "707:\tlearn: 0.0346121\ttotal: 40.7s\tremaining: 16.8s\n",
      "708:\tlearn: 0.0346014\ttotal: 40.8s\tremaining: 16.7s\n",
      "709:\tlearn: 0.0345880\ttotal: 40.8s\tremaining: 16.7s\n",
      "710:\tlearn: 0.0345761\ttotal: 40.9s\tremaining: 16.6s\n",
      "711:\tlearn: 0.0345705\ttotal: 40.9s\tremaining: 16.6s\n",
      "712:\tlearn: 0.0345634\ttotal: 41s\tremaining: 16.5s\n",
      "713:\tlearn: 0.0345527\ttotal: 41.1s\tremaining: 16.5s\n",
      "714:\tlearn: 0.0345437\ttotal: 41.1s\tremaining: 16.4s\n",
      "715:\tlearn: 0.0345334\ttotal: 41.2s\tremaining: 16.3s\n",
      "716:\tlearn: 0.0345271\ttotal: 41.2s\tremaining: 16.3s\n",
      "717:\tlearn: 0.0345255\ttotal: 41.3s\tremaining: 16.2s\n",
      "718:\tlearn: 0.0345143\ttotal: 41.3s\tremaining: 16.2s\n",
      "719:\tlearn: 0.0345113\ttotal: 41.4s\tremaining: 16.1s\n",
      "720:\tlearn: 0.0345058\ttotal: 41.5s\tremaining: 16.1s\n",
      "721:\tlearn: 0.0345035\ttotal: 41.5s\tremaining: 16s\n",
      "722:\tlearn: 0.0344927\ttotal: 41.6s\tremaining: 15.9s\n",
      "723:\tlearn: 0.0344894\ttotal: 41.7s\tremaining: 15.9s\n",
      "724:\tlearn: 0.0344773\ttotal: 41.7s\tremaining: 15.8s\n",
      "725:\tlearn: 0.0344652\ttotal: 41.8s\tremaining: 15.8s\n",
      "726:\tlearn: 0.0344545\ttotal: 41.9s\tremaining: 15.7s\n",
      "727:\tlearn: 0.0344470\ttotal: 41.9s\tremaining: 15.7s\n",
      "728:\tlearn: 0.0344432\ttotal: 42s\tremaining: 15.6s\n",
      "729:\tlearn: 0.0344408\ttotal: 42s\tremaining: 15.5s\n",
      "730:\tlearn: 0.0344356\ttotal: 42.1s\tremaining: 15.5s\n",
      "731:\tlearn: 0.0344300\ttotal: 42.1s\tremaining: 15.4s\n",
      "732:\tlearn: 0.0344241\ttotal: 42.2s\tremaining: 15.4s\n",
      "733:\tlearn: 0.0344135\ttotal: 42.2s\tremaining: 15.3s\n",
      "734:\tlearn: 0.0344021\ttotal: 42.3s\tremaining: 15.2s\n",
      "735:\tlearn: 0.0343914\ttotal: 42.4s\tremaining: 15.2s\n",
      "736:\tlearn: 0.0343823\ttotal: 42.4s\tremaining: 15.1s\n",
      "737:\tlearn: 0.0343783\ttotal: 42.5s\tremaining: 15.1s\n",
      "738:\tlearn: 0.0343681\ttotal: 42.6s\tremaining: 15s\n",
      "739:\tlearn: 0.0343575\ttotal: 42.6s\tremaining: 15s\n",
      "740:\tlearn: 0.0343488\ttotal: 42.7s\tremaining: 14.9s\n",
      "741:\tlearn: 0.0343389\ttotal: 42.7s\tremaining: 14.9s\n",
      "742:\tlearn: 0.0343329\ttotal: 42.8s\tremaining: 14.8s\n",
      "743:\tlearn: 0.0343185\ttotal: 42.8s\tremaining: 14.7s\n",
      "744:\tlearn: 0.0343084\ttotal: 42.9s\tremaining: 14.7s\n",
      "745:\tlearn: 0.0343000\ttotal: 43s\tremaining: 14.6s\n",
      "746:\tlearn: 0.0342966\ttotal: 43s\tremaining: 14.6s\n",
      "747:\tlearn: 0.0342881\ttotal: 43.1s\tremaining: 14.5s\n",
      "748:\tlearn: 0.0342794\ttotal: 43.1s\tremaining: 14.4s\n",
      "749:\tlearn: 0.0342726\ttotal: 43.2s\tremaining: 14.4s\n",
      "750:\tlearn: 0.0342661\ttotal: 43.2s\tremaining: 14.3s\n",
      "751:\tlearn: 0.0342614\ttotal: 43.3s\tremaining: 14.3s\n",
      "752:\tlearn: 0.0342499\ttotal: 43.4s\tremaining: 14.2s\n",
      "753:\tlearn: 0.0342467\ttotal: 43.4s\tremaining: 14.2s\n",
      "754:\tlearn: 0.0342351\ttotal: 43.5s\tremaining: 14.1s\n",
      "755:\tlearn: 0.0342253\ttotal: 43.6s\tremaining: 14.1s\n",
      "756:\tlearn: 0.0342151\ttotal: 43.6s\tremaining: 14s\n",
      "757:\tlearn: 0.0342071\ttotal: 43.7s\tremaining: 13.9s\n",
      "758:\tlearn: 0.0341946\ttotal: 43.7s\tremaining: 13.9s\n",
      "759:\tlearn: 0.0341907\ttotal: 43.8s\tremaining: 13.8s\n",
      "760:\tlearn: 0.0341811\ttotal: 43.8s\tremaining: 13.8s\n",
      "761:\tlearn: 0.0341720\ttotal: 43.9s\tremaining: 13.7s\n",
      "762:\tlearn: 0.0341626\ttotal: 44s\tremaining: 13.7s\n",
      "763:\tlearn: 0.0341519\ttotal: 44s\tremaining: 13.6s\n",
      "764:\tlearn: 0.0341415\ttotal: 44.1s\tremaining: 13.5s\n",
      "765:\tlearn: 0.0341385\ttotal: 44.1s\tremaining: 13.5s\n",
      "766:\tlearn: 0.0341354\ttotal: 44.2s\tremaining: 13.4s\n",
      "767:\tlearn: 0.0341198\ttotal: 44.2s\tremaining: 13.4s\n",
      "768:\tlearn: 0.0341137\ttotal: 44.3s\tremaining: 13.3s\n",
      "769:\tlearn: 0.0341039\ttotal: 44.3s\tremaining: 13.2s\n",
      "770:\tlearn: 0.0340986\ttotal: 44.4s\tremaining: 13.2s\n",
      "771:\tlearn: 0.0340911\ttotal: 44.5s\tremaining: 13.1s\n",
      "772:\tlearn: 0.0340814\ttotal: 44.6s\tremaining: 13.1s\n",
      "773:\tlearn: 0.0340728\ttotal: 44.7s\tremaining: 13s\n",
      "774:\tlearn: 0.0340658\ttotal: 44.7s\tremaining: 13s\n",
      "775:\tlearn: 0.0340612\ttotal: 44.8s\tremaining: 12.9s\n",
      "776:\tlearn: 0.0340572\ttotal: 44.9s\tremaining: 12.9s\n",
      "777:\tlearn: 0.0340450\ttotal: 45s\tremaining: 12.8s\n",
      "778:\tlearn: 0.0340354\ttotal: 45s\tremaining: 12.8s\n",
      "779:\tlearn: 0.0340290\ttotal: 45.1s\tremaining: 12.7s\n",
      "780:\tlearn: 0.0340164\ttotal: 45.1s\tremaining: 12.7s\n",
      "781:\tlearn: 0.0340067\ttotal: 45.2s\tremaining: 12.6s\n",
      "782:\tlearn: 0.0340037\ttotal: 45.2s\tremaining: 12.5s\n",
      "783:\tlearn: 0.0339897\ttotal: 45.3s\tremaining: 12.5s\n",
      "784:\tlearn: 0.0339780\ttotal: 45.3s\tremaining: 12.4s\n",
      "785:\tlearn: 0.0339683\ttotal: 45.4s\tremaining: 12.4s\n",
      "786:\tlearn: 0.0339602\ttotal: 45.5s\tremaining: 12.3s\n",
      "787:\tlearn: 0.0339433\ttotal: 45.6s\tremaining: 12.3s\n",
      "788:\tlearn: 0.0339336\ttotal: 45.6s\tremaining: 12.2s\n",
      "789:\tlearn: 0.0339293\ttotal: 45.6s\tremaining: 12.1s\n",
      "790:\tlearn: 0.0339263\ttotal: 45.7s\tremaining: 12.1s\n",
      "791:\tlearn: 0.0339132\ttotal: 45.8s\tremaining: 12s\n",
      "792:\tlearn: 0.0339090\ttotal: 45.8s\tremaining: 12s\n",
      "793:\tlearn: 0.0338974\ttotal: 45.9s\tremaining: 11.9s\n",
      "794:\tlearn: 0.0338910\ttotal: 46s\tremaining: 11.8s\n",
      "795:\tlearn: 0.0338880\ttotal: 46s\tremaining: 11.8s\n",
      "796:\tlearn: 0.0338863\ttotal: 46s\tremaining: 11.7s\n",
      "797:\tlearn: 0.0338807\ttotal: 46.1s\tremaining: 11.7s\n",
      "798:\tlearn: 0.0338736\ttotal: 46.1s\tremaining: 11.6s\n",
      "799:\tlearn: 0.0338669\ttotal: 46.2s\tremaining: 11.5s\n",
      "800:\tlearn: 0.0338639\ttotal: 46.2s\tremaining: 11.5s\n",
      "801:\tlearn: 0.0338552\ttotal: 46.3s\tremaining: 11.4s\n",
      "802:\tlearn: 0.0338450\ttotal: 46.4s\tremaining: 11.4s\n",
      "803:\tlearn: 0.0338376\ttotal: 46.4s\tremaining: 11.3s\n",
      "804:\tlearn: 0.0338267\ttotal: 46.5s\tremaining: 11.3s\n",
      "805:\tlearn: 0.0338236\ttotal: 46.5s\tremaining: 11.2s\n",
      "806:\tlearn: 0.0338212\ttotal: 46.6s\tremaining: 11.1s\n",
      "807:\tlearn: 0.0338142\ttotal: 46.6s\tremaining: 11.1s\n"
     ]
    },
    {
     "name": "stdout",
     "output_type": "stream",
     "text": [
      "808:\tlearn: 0.0338058\ttotal: 46.7s\tremaining: 11s\n",
      "809:\tlearn: 0.0337969\ttotal: 46.7s\tremaining: 11s\n",
      "810:\tlearn: 0.0337931\ttotal: 46.8s\tremaining: 10.9s\n",
      "811:\tlearn: 0.0337839\ttotal: 46.8s\tremaining: 10.8s\n",
      "812:\tlearn: 0.0337768\ttotal: 46.9s\tremaining: 10.8s\n",
      "813:\tlearn: 0.0337704\ttotal: 47s\tremaining: 10.7s\n",
      "814:\tlearn: 0.0337676\ttotal: 47s\tremaining: 10.7s\n",
      "815:\tlearn: 0.0337589\ttotal: 47.1s\tremaining: 10.6s\n",
      "816:\tlearn: 0.0337492\ttotal: 47.1s\tremaining: 10.6s\n",
      "817:\tlearn: 0.0337438\ttotal: 47.2s\tremaining: 10.5s\n",
      "818:\tlearn: 0.0337377\ttotal: 47.2s\tremaining: 10.4s\n",
      "819:\tlearn: 0.0337340\ttotal: 47.3s\tremaining: 10.4s\n",
      "820:\tlearn: 0.0337270\ttotal: 47.3s\tremaining: 10.3s\n",
      "821:\tlearn: 0.0337197\ttotal: 47.4s\tremaining: 10.3s\n",
      "822:\tlearn: 0.0337126\ttotal: 47.5s\tremaining: 10.2s\n",
      "823:\tlearn: 0.0337013\ttotal: 47.5s\tremaining: 10.1s\n",
      "824:\tlearn: 0.0336885\ttotal: 47.6s\tremaining: 10.1s\n",
      "825:\tlearn: 0.0336797\ttotal: 47.6s\tremaining: 10s\n",
      "826:\tlearn: 0.0336708\ttotal: 47.7s\tremaining: 9.98s\n",
      "827:\tlearn: 0.0336653\ttotal: 47.7s\tremaining: 9.92s\n",
      "828:\tlearn: 0.0336600\ttotal: 47.8s\tremaining: 9.86s\n",
      "829:\tlearn: 0.0336517\ttotal: 47.9s\tremaining: 9.82s\n",
      "830:\tlearn: 0.0336460\ttotal: 48s\tremaining: 9.76s\n",
      "831:\tlearn: 0.0336313\ttotal: 48s\tremaining: 9.7s\n",
      "832:\tlearn: 0.0336253\ttotal: 48.1s\tremaining: 9.64s\n",
      "833:\tlearn: 0.0336157\ttotal: 48.1s\tremaining: 9.58s\n",
      "834:\tlearn: 0.0336072\ttotal: 48.2s\tremaining: 9.52s\n",
      "835:\tlearn: 0.0335994\ttotal: 48.2s\tremaining: 9.46s\n",
      "836:\tlearn: 0.0335925\ttotal: 48.3s\tremaining: 9.4s\n",
      "837:\tlearn: 0.0335882\ttotal: 48.3s\tremaining: 9.34s\n",
      "838:\tlearn: 0.0335763\ttotal: 48.4s\tremaining: 9.29s\n",
      "839:\tlearn: 0.0335680\ttotal: 48.5s\tremaining: 9.23s\n",
      "840:\tlearn: 0.0335539\ttotal: 48.5s\tremaining: 9.18s\n",
      "841:\tlearn: 0.0335484\ttotal: 48.6s\tremaining: 9.12s\n",
      "842:\tlearn: 0.0335437\ttotal: 48.6s\tremaining: 9.06s\n",
      "843:\tlearn: 0.0335333\ttotal: 48.7s\tremaining: 9s\n",
      "844:\tlearn: 0.0335266\ttotal: 48.8s\tremaining: 8.94s\n",
      "845:\tlearn: 0.0335198\ttotal: 48.8s\tremaining: 8.89s\n",
      "846:\tlearn: 0.0335130\ttotal: 48.9s\tremaining: 8.83s\n",
      "847:\tlearn: 0.0335096\ttotal: 49s\tremaining: 8.78s\n",
      "848:\tlearn: 0.0335000\ttotal: 49s\tremaining: 8.71s\n",
      "849:\tlearn: 0.0334952\ttotal: 49s\tremaining: 8.65s\n",
      "850:\tlearn: 0.0334809\ttotal: 49.1s\tremaining: 8.6s\n",
      "851:\tlearn: 0.0334761\ttotal: 49.1s\tremaining: 8.54s\n",
      "852:\tlearn: 0.0334668\ttotal: 49.2s\tremaining: 8.48s\n",
      "853:\tlearn: 0.0334587\ttotal: 49.3s\tremaining: 8.42s\n",
      "854:\tlearn: 0.0334509\ttotal: 49.3s\tremaining: 8.37s\n",
      "855:\tlearn: 0.0334468\ttotal: 49.4s\tremaining: 8.3s\n",
      "856:\tlearn: 0.0334399\ttotal: 49.5s\tremaining: 8.26s\n",
      "857:\tlearn: 0.0334337\ttotal: 49.5s\tremaining: 8.2s\n",
      "858:\tlearn: 0.0334231\ttotal: 49.6s\tremaining: 8.14s\n",
      "859:\tlearn: 0.0334191\ttotal: 49.7s\tremaining: 8.08s\n",
      "860:\tlearn: 0.0334116\ttotal: 49.7s\tremaining: 8.03s\n",
      "861:\tlearn: 0.0334047\ttotal: 49.8s\tremaining: 7.97s\n",
      "862:\tlearn: 0.0334023\ttotal: 49.8s\tremaining: 7.91s\n",
      "863:\tlearn: 0.0333936\ttotal: 49.9s\tremaining: 7.85s\n",
      "864:\tlearn: 0.0333873\ttotal: 49.9s\tremaining: 7.79s\n",
      "865:\tlearn: 0.0333861\ttotal: 50s\tremaining: 7.74s\n",
      "866:\tlearn: 0.0333798\ttotal: 50.1s\tremaining: 7.68s\n",
      "867:\tlearn: 0.0333728\ttotal: 50.1s\tremaining: 7.62s\n",
      "868:\tlearn: 0.0333640\ttotal: 50.2s\tremaining: 7.56s\n",
      "869:\tlearn: 0.0333538\ttotal: 50.2s\tremaining: 7.5s\n",
      "870:\tlearn: 0.0333451\ttotal: 50.3s\tremaining: 7.45s\n",
      "871:\tlearn: 0.0333374\ttotal: 50.3s\tremaining: 7.39s\n",
      "872:\tlearn: 0.0333338\ttotal: 50.4s\tremaining: 7.33s\n",
      "873:\tlearn: 0.0333288\ttotal: 50.4s\tremaining: 7.27s\n",
      "874:\tlearn: 0.0333227\ttotal: 50.5s\tremaining: 7.21s\n",
      "875:\tlearn: 0.0333136\ttotal: 50.6s\tremaining: 7.16s\n",
      "876:\tlearn: 0.0333111\ttotal: 50.6s\tremaining: 7.1s\n",
      "877:\tlearn: 0.0333060\ttotal: 50.7s\tremaining: 7.04s\n",
      "878:\tlearn: 0.0332996\ttotal: 50.7s\tremaining: 6.98s\n",
      "879:\tlearn: 0.0332870\ttotal: 50.8s\tremaining: 6.92s\n",
      "880:\tlearn: 0.0332825\ttotal: 50.8s\tremaining: 6.86s\n",
      "881:\tlearn: 0.0332732\ttotal: 50.9s\tremaining: 6.8s\n",
      "882:\tlearn: 0.0332632\ttotal: 50.9s\tremaining: 6.75s\n",
      "883:\tlearn: 0.0332594\ttotal: 51s\tremaining: 6.69s\n",
      "884:\tlearn: 0.0332515\ttotal: 51s\tremaining: 6.63s\n",
      "885:\tlearn: 0.0332438\ttotal: 51.1s\tremaining: 6.58s\n",
      "886:\tlearn: 0.0332389\ttotal: 51.2s\tremaining: 6.52s\n",
      "887:\tlearn: 0.0332344\ttotal: 51.2s\tremaining: 6.46s\n",
      "888:\tlearn: 0.0332262\ttotal: 51.2s\tremaining: 6.4s\n",
      "889:\tlearn: 0.0332165\ttotal: 51.3s\tremaining: 6.34s\n",
      "890:\tlearn: 0.0332080\ttotal: 51.3s\tremaining: 6.28s\n",
      "891:\tlearn: 0.0331997\ttotal: 51.4s\tremaining: 6.22s\n",
      "892:\tlearn: 0.0331940\ttotal: 51.5s\tremaining: 6.17s\n",
      "893:\tlearn: 0.0331847\ttotal: 51.6s\tremaining: 6.12s\n",
      "894:\tlearn: 0.0331722\ttotal: 51.6s\tremaining: 6.06s\n",
      "895:\tlearn: 0.0331654\ttotal: 51.7s\tremaining: 6s\n",
      "896:\tlearn: 0.0331618\ttotal: 51.7s\tremaining: 5.94s\n",
      "897:\tlearn: 0.0331541\ttotal: 51.8s\tremaining: 5.88s\n",
      "898:\tlearn: 0.0331441\ttotal: 51.9s\tremaining: 5.83s\n",
      "899:\tlearn: 0.0331376\ttotal: 51.9s\tremaining: 5.77s\n",
      "900:\tlearn: 0.0331300\ttotal: 52s\tremaining: 5.71s\n",
      "901:\tlearn: 0.0331271\ttotal: 52s\tremaining: 5.65s\n",
      "902:\tlearn: 0.0331165\ttotal: 52.1s\tremaining: 5.6s\n",
      "903:\tlearn: 0.0331096\ttotal: 52.2s\tremaining: 5.54s\n",
      "904:\tlearn: 0.0331038\ttotal: 52.2s\tremaining: 5.48s\n",
      "905:\tlearn: 0.0330971\ttotal: 52.2s\tremaining: 5.42s\n",
      "906:\tlearn: 0.0330916\ttotal: 52.3s\tremaining: 5.36s\n",
      "907:\tlearn: 0.0330815\ttotal: 52.4s\tremaining: 5.31s\n",
      "908:\tlearn: 0.0330757\ttotal: 52.5s\tremaining: 5.25s\n",
      "909:\tlearn: 0.0330696\ttotal: 52.5s\tremaining: 5.19s\n",
      "910:\tlearn: 0.0330642\ttotal: 52.6s\tremaining: 5.14s\n",
      "911:\tlearn: 0.0330558\ttotal: 52.7s\tremaining: 5.08s\n",
      "912:\tlearn: 0.0330483\ttotal: 52.7s\tremaining: 5.02s\n",
      "913:\tlearn: 0.0330461\ttotal: 52.8s\tremaining: 4.96s\n",
      "914:\tlearn: 0.0330389\ttotal: 52.8s\tremaining: 4.91s\n",
      "915:\tlearn: 0.0330309\ttotal: 52.9s\tremaining: 4.85s\n",
      "916:\tlearn: 0.0330186\ttotal: 52.9s\tremaining: 4.79s\n",
      "917:\tlearn: 0.0330159\ttotal: 53s\tremaining: 4.73s\n",
      "918:\tlearn: 0.0330033\ttotal: 53s\tremaining: 4.67s\n",
      "919:\tlearn: 0.0330015\ttotal: 53.1s\tremaining: 4.62s\n",
      "920:\tlearn: 0.0329950\ttotal: 53.2s\tremaining: 4.56s\n",
      "921:\tlearn: 0.0329868\ttotal: 53.2s\tremaining: 4.5s\n",
      "922:\tlearn: 0.0329795\ttotal: 53.3s\tremaining: 4.45s\n",
      "923:\tlearn: 0.0329747\ttotal: 53.3s\tremaining: 4.39s\n",
      "924:\tlearn: 0.0329648\ttotal: 53.4s\tremaining: 4.33s\n",
      "925:\tlearn: 0.0329594\ttotal: 53.5s\tremaining: 4.27s\n",
      "926:\tlearn: 0.0329484\ttotal: 53.5s\tremaining: 4.21s\n",
      "927:\tlearn: 0.0329460\ttotal: 53.6s\tremaining: 4.16s\n",
      "928:\tlearn: 0.0329350\ttotal: 53.6s\tremaining: 4.1s\n",
      "929:\tlearn: 0.0329218\ttotal: 53.7s\tremaining: 4.04s\n",
      "930:\tlearn: 0.0329165\ttotal: 53.7s\tremaining: 3.98s\n",
      "931:\tlearn: 0.0329079\ttotal: 53.8s\tremaining: 3.92s\n",
      "932:\tlearn: 0.0329007\ttotal: 53.8s\tremaining: 3.87s\n",
      "933:\tlearn: 0.0328878\ttotal: 53.9s\tremaining: 3.81s\n",
      "934:\tlearn: 0.0328821\ttotal: 54s\tremaining: 3.75s\n",
      "935:\tlearn: 0.0328738\ttotal: 54s\tremaining: 3.69s\n",
      "936:\tlearn: 0.0328705\ttotal: 54.1s\tremaining: 3.64s\n",
      "937:\tlearn: 0.0328685\ttotal: 54.2s\tremaining: 3.58s\n",
      "938:\tlearn: 0.0328653\ttotal: 54.2s\tremaining: 3.52s\n",
      "939:\tlearn: 0.0328594\ttotal: 54.3s\tremaining: 3.46s\n",
      "940:\tlearn: 0.0328497\ttotal: 54.3s\tremaining: 3.4s\n",
      "941:\tlearn: 0.0328444\ttotal: 54.4s\tremaining: 3.35s\n",
      "942:\tlearn: 0.0328355\ttotal: 54.4s\tremaining: 3.29s\n",
      "943:\tlearn: 0.0328266\ttotal: 54.5s\tremaining: 3.23s\n",
      "944:\tlearn: 0.0328150\ttotal: 54.6s\tremaining: 3.18s\n",
      "945:\tlearn: 0.0328119\ttotal: 54.6s\tremaining: 3.12s\n",
      "946:\tlearn: 0.0328034\ttotal: 54.7s\tremaining: 3.06s\n",
      "947:\tlearn: 0.0327954\ttotal: 54.7s\tremaining: 3s\n",
      "948:\tlearn: 0.0327876\ttotal: 54.8s\tremaining: 2.94s\n",
      "949:\tlearn: 0.0327817\ttotal: 54.8s\tremaining: 2.89s\n",
      "950:\tlearn: 0.0327719\ttotal: 54.9s\tremaining: 2.83s\n",
      "951:\tlearn: 0.0327609\ttotal: 55s\tremaining: 2.77s\n",
      "952:\tlearn: 0.0327469\ttotal: 55s\tremaining: 2.71s\n",
      "953:\tlearn: 0.0327389\ttotal: 55.1s\tremaining: 2.65s\n",
      "954:\tlearn: 0.0327324\ttotal: 55.1s\tremaining: 2.6s\n",
      "955:\tlearn: 0.0327307\ttotal: 55.2s\tremaining: 2.54s\n",
      "956:\tlearn: 0.0327163\ttotal: 55.2s\tremaining: 2.48s\n",
      "957:\tlearn: 0.0327060\ttotal: 55.3s\tremaining: 2.42s\n",
      "958:\tlearn: 0.0327033\ttotal: 55.3s\tremaining: 2.36s\n",
      "959:\tlearn: 0.0326949\ttotal: 55.4s\tremaining: 2.31s\n",
      "960:\tlearn: 0.0326888\ttotal: 55.4s\tremaining: 2.25s\n",
      "961:\tlearn: 0.0326799\ttotal: 55.5s\tremaining: 2.19s\n",
      "962:\tlearn: 0.0326746\ttotal: 55.5s\tremaining: 2.13s\n",
      "963:\tlearn: 0.0326681\ttotal: 55.6s\tremaining: 2.08s\n",
      "964:\tlearn: 0.0326616\ttotal: 55.7s\tremaining: 2.02s\n",
      "965:\tlearn: 0.0326556\ttotal: 55.7s\tremaining: 1.96s\n",
      "966:\tlearn: 0.0326485\ttotal: 55.8s\tremaining: 1.9s\n",
      "967:\tlearn: 0.0326411\ttotal: 55.8s\tremaining: 1.85s\n",
      "968:\tlearn: 0.0326320\ttotal: 55.9s\tremaining: 1.79s\n",
      "969:\tlearn: 0.0326182\ttotal: 56s\tremaining: 1.73s\n"
     ]
    },
    {
     "name": "stdout",
     "output_type": "stream",
     "text": [
      "970:\tlearn: 0.0326129\ttotal: 56s\tremaining: 1.67s\n",
      "971:\tlearn: 0.0326056\ttotal: 56.1s\tremaining: 1.62s\n",
      "972:\tlearn: 0.0325986\ttotal: 56.1s\tremaining: 1.56s\n",
      "973:\tlearn: 0.0325946\ttotal: 56.2s\tremaining: 1.5s\n",
      "974:\tlearn: 0.0325925\ttotal: 56.3s\tremaining: 1.44s\n",
      "975:\tlearn: 0.0325820\ttotal: 56.3s\tremaining: 1.38s\n",
      "976:\tlearn: 0.0325696\ttotal: 56.4s\tremaining: 1.33s\n",
      "977:\tlearn: 0.0325642\ttotal: 56.4s\tremaining: 1.27s\n",
      "978:\tlearn: 0.0325598\ttotal: 56.5s\tremaining: 1.21s\n",
      "979:\tlearn: 0.0325580\ttotal: 56.6s\tremaining: 1.15s\n",
      "980:\tlearn: 0.0325567\ttotal: 56.6s\tremaining: 1.1s\n",
      "981:\tlearn: 0.0325495\ttotal: 56.6s\tremaining: 1.04s\n",
      "982:\tlearn: 0.0325432\ttotal: 56.7s\tremaining: 981ms\n",
      "983:\tlearn: 0.0325352\ttotal: 56.7s\tremaining: 923ms\n",
      "984:\tlearn: 0.0325242\ttotal: 56.8s\tremaining: 865ms\n",
      "985:\tlearn: 0.0325135\ttotal: 56.8s\tremaining: 807ms\n",
      "986:\tlearn: 0.0325050\ttotal: 56.9s\tremaining: 749ms\n",
      "987:\tlearn: 0.0324934\ttotal: 57s\tremaining: 692ms\n",
      "988:\tlearn: 0.0324857\ttotal: 57.1s\tremaining: 635ms\n",
      "989:\tlearn: 0.0324765\ttotal: 57.1s\tremaining: 577ms\n",
      "990:\tlearn: 0.0324662\ttotal: 57.2s\tremaining: 519ms\n",
      "991:\tlearn: 0.0324589\ttotal: 57.2s\tremaining: 461ms\n",
      "992:\tlearn: 0.0324525\ttotal: 57.3s\tremaining: 404ms\n",
      "993:\tlearn: 0.0324480\ttotal: 57.3s\tremaining: 346ms\n",
      "994:\tlearn: 0.0324425\ttotal: 57.4s\tremaining: 288ms\n",
      "995:\tlearn: 0.0324348\ttotal: 57.4s\tremaining: 231ms\n",
      "996:\tlearn: 0.0324270\ttotal: 57.5s\tremaining: 173ms\n",
      "997:\tlearn: 0.0324193\ttotal: 57.6s\tremaining: 115ms\n",
      "998:\tlearn: 0.0324140\ttotal: 57.6s\tremaining: 57.7ms\n",
      "999:\tlearn: 0.0324103\ttotal: 57.7s\tremaining: 0us\n",
      "time to train: 58.273521423339844\n"
     ]
    },
    {
     "data": {
      "text/plain": [
       "0.9860056289662505"
      ]
     },
     "execution_count": 24,
     "metadata": {},
     "output_type": "execute_result"
    }
   ],
   "source": [
    "import catboost\n",
    "model_cat = catboost.CatBoostClassifier()\n",
    "start = time.time()\n",
    "model_cat.fit(X_train, y_train)\n",
    "end = time.time() - start\n",
    "print(\"time to train: {}\".format(end))\n",
    "model_cat.score(X_test, y_test)"
   ]
  },
  {
   "cell_type": "code",
   "execution_count": 25,
   "id": "9db0be13",
   "metadata": {},
   "outputs": [
    {
     "name": "stdout",
     "output_type": "stream",
     "text": [
      "ile drzew cext? 1000\n",
      "ile drzew cext? 1000\n",
      "ile drzew cext? 1000\n",
      "running with BANZ=False\n",
      "name: Tree, time: 27.358798308000132\n",
      "running with BANZ=True\n",
      "name: TreeBanz, time: 22.530438375999893\n",
      "running with BANZ=True\n",
      "name: NEW TreeBanz, time: 22.473151386000154\n"
     ]
    },
    {
     "data": {
      "text/plain": [
       "[['Tree', [], 27.358798308000132],\n",
       " ['TreeBanz', [], 22.530438375999893],\n",
       " ['NEW TreeBanz', [], 22.473151386000154]]"
      ]
     },
     "execution_count": 25,
     "metadata": {},
     "output_type": "execute_result"
    }
   ],
   "source": [
    "run_diff_explainers(model_cat, X_train)"
   ]
  },
  {
   "cell_type": "code",
   "execution_count": 41,
   "id": "f7437e5f",
   "metadata": {},
   "outputs": [],
   "source": [
    "# koniec czesci nowej - fraudy"
   ]
  },
  {
   "cell_type": "code",
   "execution_count": 42,
   "id": "683c9870",
   "metadata": {},
   "outputs": [
    {
     "name": "stdout",
     "output_type": "stream",
     "text": [
      "1\n"
     ]
    },
    {
     "data": {
      "image/png": "[encoded data removed]",
      "text/plain": [
       "<Figure size 432x288 with 1 Axes>"
      ]
     },
     "metadata": {
      "needs_background": "light"
     },
     "output_type": "display_data"
    },
    {
     "data": {
      "image/png": "[encoded data removed]",
      "text/plain": [
       "<Figure size 432x288 with 1 Axes>"
      ]
     },
     "metadata": {
      "needs_background": "light"
     },
     "output_type": "display_data"
    }
   ],
   "source": [
    "# narysujmy sobie zaleznosc wytrenowania i glebokosci\n",
    "sns.set()\n",
    "n = max(scores) + 1\n",
    "# n = len(scores) + 1\n",
    "to_plot_scores = [0] * n\n",
    "to_plot_mean = [0] * n\n",
    "to_plot_stddev = [0] * n\n",
    "\n",
    "for i in scores.keys():\n",
    "    print(i)\n",
    "    to_plot_scores[i] = scores[i]\n",
    "    to_plot_mean[i] = mean_depths[i]\n",
    "    to_plot_stddev[i] = stddev_depths[i]\n",
    "    \n",
    "to_plot_scores.remove(0)\n",
    "to_plot_mean.remove(0)\n",
    "to_plot_stddev.remove(0)\n",
    "\n",
    "plt.title(\"Average score of models\")\n",
    "plt.ylabel(\"Accuracy in %\")\n",
    "plt.xlabel(\"Max tree depth\")\n",
    "plt.plot(to_plot_scores)\n",
    "plt.show()\n",
    "    \n",
    "# ax = sns.heatmap(quality)\n",
    "# plt.show()\n",
    "# print(to_plot_mean)\n",
    "# print(to_plot_stddev)\n",
    "\n",
    "plt.title(\"Mean depth of tree in ensemble\")\n",
    "plt.ylabel(\"Mean depth\")\n",
    "plt.xlabel(\"Max tree depth\")\n",
    "plt.errorbar(range(len(to_plot_mean)), to_plot_mean, to_plot_stddev, linestyle='None', marker='^')\n",
    "plt.show()"
   ]
  },
  {
   "cell_type": "code",
   "execution_count": 43,
   "id": "6bbb5824",
   "metadata": {},
   "outputs": [
    {
     "ename": "ValueError",
     "evalue": "DataFrame.dtypes for data must be int, float, bool or category.  When\ncategorical type is supplied, DMatrix parameter `enable_categorical` must\nbe set to `True`. Invalid columns:payment_type, employment_status, housing_status, source, device_os",
     "output_type": "error",
     "traceback": [
      "\u001b[0;31m---------------------------------------------------------------------------\u001b[0m",
      "\u001b[0;31mValueError\u001b[0m                                Traceback (most recent call last)",
      "Input \u001b[0;32mIn [43]\u001b[0m, in \u001b[0;36m<cell line: 6>\u001b[0;34m()\u001b[0m\n\u001b[1;32m      3\u001b[0m X_train, X_test, y_train, y_test \u001b[38;5;241m=\u001b[39m train_test_split(X, y, random_state\u001b[38;5;241m=\u001b[39m\u001b[38;5;241m0\u001b[39m, test_size\u001b[38;5;241m=\u001b[39m\u001b[38;5;241m0.3\u001b[39m)\n\u001b[1;32m      5\u001b[0m model \u001b[38;5;241m=\u001b[39m xgboost\u001b[38;5;241m.\u001b[39mXGBRegressor(n_estimators\u001b[38;5;241m=\u001b[39m\u001b[38;5;241m5000\u001b[39m, max_depth\u001b[38;5;241m=\u001b[39m\u001b[38;5;241m2\u001b[39m, subsample\u001b[38;5;241m=\u001b[39m\u001b[38;5;241m0.5\u001b[39m)\n\u001b[0;32m----> 6\u001b[0m \u001b[43mmodel\u001b[49m\u001b[38;5;241;43m.\u001b[39;49m\u001b[43mfit\u001b[49m\u001b[43m(\u001b[49m\u001b[43mX_train\u001b[49m\u001b[43m,\u001b[49m\u001b[43m \u001b[49m\u001b[43my_train\u001b[49m\u001b[43m,\u001b[49m\u001b[43m \u001b[49m\u001b[43meval_set\u001b[49m\u001b[38;5;241;43m=\u001b[39;49m\u001b[43m[\u001b[49m\u001b[43m(\u001b[49m\u001b[43mX_test\u001b[49m\u001b[43m,\u001b[49m\u001b[43m \u001b[49m\u001b[43my_test\u001b[49m\u001b[43m)\u001b[49m\u001b[43m]\u001b[49m\u001b[43m,\u001b[49m\u001b[43m \u001b[49m\u001b[43mverbose\u001b[49m\u001b[38;5;241;43m=\u001b[39;49m\u001b[38;5;28;43;01mFalse\u001b[39;49;00m\u001b[43m,\u001b[49m\u001b[43m \u001b[49m\u001b[43mearly_stopping_rounds\u001b[49m\u001b[38;5;241;43m=\u001b[39;49m\u001b[38;5;241;43m10\u001b[39;49m\u001b[43m)\u001b[49m\n\u001b[1;32m      7\u001b[0m res \u001b[38;5;241m=\u001b[39m model\u001b[38;5;241m.\u001b[39mpredict(X_test)\n\u001b[1;32m      9\u001b[0m c_statistic_harrell(model\u001b[38;5;241m.\u001b[39mpredict(X_test), y_test)\n",
      "File \u001b[0;32m~/projects/shap/venv/lib/python3.10/site-packages/xgboost/core.py:532\u001b[0m, in \u001b[0;36m_deprecate_positional_args.<locals>.inner_f\u001b[0;34m(*args, **kwargs)\u001b[0m\n\u001b[1;32m    530\u001b[0m \u001b[38;5;28;01mfor\u001b[39;00m k, arg \u001b[38;5;129;01min\u001b[39;00m \u001b[38;5;28mzip\u001b[39m(sig\u001b[38;5;241m.\u001b[39mparameters, args):\n\u001b[1;32m    531\u001b[0m     kwargs[k] \u001b[38;5;241m=\u001b[39m arg\n\u001b[0;32m--> 532\u001b[0m \u001b[38;5;28;01mreturn\u001b[39;00m \u001b[43mf\u001b[49m\u001b[43m(\u001b[49m\u001b[38;5;241;43m*\u001b[39;49m\u001b[38;5;241;43m*\u001b[39;49m\u001b[43mkwargs\u001b[49m\u001b[43m)\u001b[49m\n",
      "File \u001b[0;32m~/projects/shap/venv/lib/python3.10/site-packages/xgboost/sklearn.py:931\u001b[0m, in \u001b[0;36mXGBModel.fit\u001b[0;34m(self, X, y, sample_weight, base_margin, eval_set, eval_metric, early_stopping_rounds, verbose, xgb_model, sample_weight_eval_set, base_margin_eval_set, feature_weights, callbacks)\u001b[0m\n\u001b[1;32m    880\u001b[0m \u001b[38;5;124;03m\"\"\"Fit gradient boosting model.\u001b[39;00m\n\u001b[1;32m    881\u001b[0m \n\u001b[1;32m    882\u001b[0m \u001b[38;5;124;03mNote that calling ``fit()`` multiple times will cause the model object to be\u001b[39;00m\n\u001b[0;32m   (...)\u001b[0m\n\u001b[1;32m    928\u001b[0m \u001b[38;5;124;03m        Use `callbacks` in :py:meth:`__init__` or :py:meth:`set_params` instead.\u001b[39;00m\n\u001b[1;32m    929\u001b[0m \u001b[38;5;124;03m\"\"\"\u001b[39;00m\n\u001b[1;32m    930\u001b[0m evals_result: TrainingCallback\u001b[38;5;241m.\u001b[39mEvalsLog \u001b[38;5;241m=\u001b[39m {}\n\u001b[0;32m--> 931\u001b[0m train_dmatrix, evals \u001b[38;5;241m=\u001b[39m \u001b[43m_wrap_evaluation_matrices\u001b[49m\u001b[43m(\u001b[49m\n\u001b[1;32m    932\u001b[0m \u001b[43m    \u001b[49m\u001b[43mmissing\u001b[49m\u001b[38;5;241;43m=\u001b[39;49m\u001b[38;5;28;43mself\u001b[39;49m\u001b[38;5;241;43m.\u001b[39;49m\u001b[43mmissing\u001b[49m\u001b[43m,\u001b[49m\n\u001b[1;32m    933\u001b[0m \u001b[43m    \u001b[49m\u001b[43mX\u001b[49m\u001b[38;5;241;43m=\u001b[39;49m\u001b[43mX\u001b[49m\u001b[43m,\u001b[49m\n\u001b[1;32m    934\u001b[0m \u001b[43m    \u001b[49m\u001b[43my\u001b[49m\u001b[38;5;241;43m=\u001b[39;49m\u001b[43my\u001b[49m\u001b[43m,\u001b[49m\n\u001b[1;32m    935\u001b[0m \u001b[43m    \u001b[49m\u001b[43mgroup\u001b[49m\u001b[38;5;241;43m=\u001b[39;49m\u001b[38;5;28;43;01mNone\u001b[39;49;00m\u001b[43m,\u001b[49m\n\u001b[1;32m    936\u001b[0m \u001b[43m    \u001b[49m\u001b[43mqid\u001b[49m\u001b[38;5;241;43m=\u001b[39;49m\u001b[38;5;28;43;01mNone\u001b[39;49;00m\u001b[43m,\u001b[49m\n\u001b[1;32m    937\u001b[0m \u001b[43m    \u001b[49m\u001b[43msample_weight\u001b[49m\u001b[38;5;241;43m=\u001b[39;49m\u001b[43msample_weight\u001b[49m\u001b[43m,\u001b[49m\n\u001b[1;32m    938\u001b[0m \u001b[43m    \u001b[49m\u001b[43mbase_margin\u001b[49m\u001b[38;5;241;43m=\u001b[39;49m\u001b[43mbase_margin\u001b[49m\u001b[43m,\u001b[49m\n\u001b[1;32m    939\u001b[0m \u001b[43m    \u001b[49m\u001b[43mfeature_weights\u001b[49m\u001b[38;5;241;43m=\u001b[39;49m\u001b[43mfeature_weights\u001b[49m\u001b[43m,\u001b[49m\n\u001b[1;32m    940\u001b[0m \u001b[43m    \u001b[49m\u001b[43meval_set\u001b[49m\u001b[38;5;241;43m=\u001b[39;49m\u001b[43meval_set\u001b[49m\u001b[43m,\u001b[49m\n\u001b[1;32m    941\u001b[0m \u001b[43m    \u001b[49m\u001b[43msample_weight_eval_set\u001b[49m\u001b[38;5;241;43m=\u001b[39;49m\u001b[43msample_weight_eval_set\u001b[49m\u001b[43m,\u001b[49m\n\u001b[1;32m    942\u001b[0m \u001b[43m    \u001b[49m\u001b[43mbase_margin_eval_set\u001b[49m\u001b[38;5;241;43m=\u001b[39;49m\u001b[43mbase_margin_eval_set\u001b[49m\u001b[43m,\u001b[49m\n\u001b[1;32m    943\u001b[0m \u001b[43m    \u001b[49m\u001b[43meval_group\u001b[49m\u001b[38;5;241;43m=\u001b[39;49m\u001b[38;5;28;43;01mNone\u001b[39;49;00m\u001b[43m,\u001b[49m\n\u001b[1;32m    944\u001b[0m \u001b[43m    \u001b[49m\u001b[43meval_qid\u001b[49m\u001b[38;5;241;43m=\u001b[39;49m\u001b[38;5;28;43;01mNone\u001b[39;49;00m\u001b[43m,\u001b[49m\n\u001b[1;32m    945\u001b[0m \u001b[43m    \u001b[49m\u001b[43mcreate_dmatrix\u001b[49m\u001b[38;5;241;43m=\u001b[39;49m\u001b[38;5;28;43;01mlambda\u001b[39;49;00m\u001b[43m \u001b[49m\u001b[38;5;241;43m*\u001b[39;49m\u001b[38;5;241;43m*\u001b[39;49m\u001b[43mkwargs\u001b[49m\u001b[43m:\u001b[49m\u001b[43m \u001b[49m\u001b[43mDMatrix\u001b[49m\u001b[43m(\u001b[49m\u001b[43mnthread\u001b[49m\u001b[38;5;241;43m=\u001b[39;49m\u001b[38;5;28;43mself\u001b[39;49m\u001b[38;5;241;43m.\u001b[39;49m\u001b[43mn_jobs\u001b[49m\u001b[43m,\u001b[49m\u001b[43m \u001b[49m\u001b[38;5;241;43m*\u001b[39;49m\u001b[38;5;241;43m*\u001b[39;49m\u001b[43mkwargs\u001b[49m\u001b[43m)\u001b[49m\u001b[43m,\u001b[49m\n\u001b[1;32m    946\u001b[0m \u001b[43m    \u001b[49m\u001b[43menable_categorical\u001b[49m\u001b[38;5;241;43m=\u001b[39;49m\u001b[38;5;28;43mself\u001b[39;49m\u001b[38;5;241;43m.\u001b[39;49m\u001b[43menable_categorical\u001b[49m\u001b[43m,\u001b[49m\n\u001b[1;32m    947\u001b[0m \u001b[43m\u001b[49m\u001b[43m)\u001b[49m\n\u001b[1;32m    948\u001b[0m params \u001b[38;5;241m=\u001b[39m \u001b[38;5;28mself\u001b[39m\u001b[38;5;241m.\u001b[39mget_xgb_params()\n\u001b[1;32m    950\u001b[0m \u001b[38;5;28;01mif\u001b[39;00m callable(\u001b[38;5;28mself\u001b[39m\u001b[38;5;241m.\u001b[39mobjective):\n",
      "File \u001b[0;32m~/projects/shap/venv/lib/python3.10/site-packages/xgboost/sklearn.py:401\u001b[0m, in \u001b[0;36m_wrap_evaluation_matrices\u001b[0;34m(missing, X, y, group, qid, sample_weight, base_margin, feature_weights, eval_set, sample_weight_eval_set, base_margin_eval_set, eval_group, eval_qid, create_dmatrix, enable_categorical)\u001b[0m\n\u001b[1;32m    381\u001b[0m \u001b[38;5;28;01mdef\u001b[39;00m \u001b[38;5;21m_wrap_evaluation_matrices\u001b[39m(\n\u001b[1;32m    382\u001b[0m     missing: \u001b[38;5;28mfloat\u001b[39m,\n\u001b[1;32m    383\u001b[0m     X: Any,\n\u001b[0;32m   (...)\u001b[0m\n\u001b[1;32m    396\u001b[0m     enable_categorical: \u001b[38;5;28mbool\u001b[39m,\n\u001b[1;32m    397\u001b[0m ) \u001b[38;5;241m-\u001b[39m\u001b[38;5;241m>\u001b[39m Tuple[Any, List[Tuple[Any, \u001b[38;5;28mstr\u001b[39m]]]:\n\u001b[1;32m    398\u001b[0m     \u001b[38;5;124;03m\"\"\"Convert array_like evaluation matrices into DMatrix.  Perform validation on the way.\u001b[39;00m\n\u001b[1;32m    399\u001b[0m \n\u001b[1;32m    400\u001b[0m \u001b[38;5;124;03m    \"\"\"\u001b[39;00m\n\u001b[0;32m--> 401\u001b[0m     train_dmatrix \u001b[38;5;241m=\u001b[39m \u001b[43mcreate_dmatrix\u001b[49m\u001b[43m(\u001b[49m\n\u001b[1;32m    402\u001b[0m \u001b[43m        \u001b[49m\u001b[43mdata\u001b[49m\u001b[38;5;241;43m=\u001b[39;49m\u001b[43mX\u001b[49m\u001b[43m,\u001b[49m\n\u001b[1;32m    403\u001b[0m \u001b[43m        \u001b[49m\u001b[43mlabel\u001b[49m\u001b[38;5;241;43m=\u001b[39;49m\u001b[43my\u001b[49m\u001b[43m,\u001b[49m\n\u001b[1;32m    404\u001b[0m \u001b[43m        \u001b[49m\u001b[43mgroup\u001b[49m\u001b[38;5;241;43m=\u001b[39;49m\u001b[43mgroup\u001b[49m\u001b[43m,\u001b[49m\n\u001b[1;32m    405\u001b[0m \u001b[43m        \u001b[49m\u001b[43mqid\u001b[49m\u001b[38;5;241;43m=\u001b[39;49m\u001b[43mqid\u001b[49m\u001b[43m,\u001b[49m\n\u001b[1;32m    406\u001b[0m \u001b[43m        \u001b[49m\u001b[43mweight\u001b[49m\u001b[38;5;241;43m=\u001b[39;49m\u001b[43msample_weight\u001b[49m\u001b[43m,\u001b[49m\n\u001b[1;32m    407\u001b[0m \u001b[43m        \u001b[49m\u001b[43mbase_margin\u001b[49m\u001b[38;5;241;43m=\u001b[39;49m\u001b[43mbase_margin\u001b[49m\u001b[43m,\u001b[49m\n\u001b[1;32m    408\u001b[0m \u001b[43m        \u001b[49m\u001b[43mfeature_weights\u001b[49m\u001b[38;5;241;43m=\u001b[39;49m\u001b[43mfeature_weights\u001b[49m\u001b[43m,\u001b[49m\n\u001b[1;32m    409\u001b[0m \u001b[43m        \u001b[49m\u001b[43mmissing\u001b[49m\u001b[38;5;241;43m=\u001b[39;49m\u001b[43mmissing\u001b[49m\u001b[43m,\u001b[49m\n\u001b[1;32m    410\u001b[0m \u001b[43m        \u001b[49m\u001b[43menable_categorical\u001b[49m\u001b[38;5;241;43m=\u001b[39;49m\u001b[43menable_categorical\u001b[49m\u001b[43m,\u001b[49m\n\u001b[1;32m    411\u001b[0m \u001b[43m    \u001b[49m\u001b[43m)\u001b[49m\n\u001b[1;32m    413\u001b[0m     n_validation \u001b[38;5;241m=\u001b[39m \u001b[38;5;241m0\u001b[39m \u001b[38;5;28;01mif\u001b[39;00m eval_set \u001b[38;5;129;01mis\u001b[39;00m \u001b[38;5;28;01mNone\u001b[39;00m \u001b[38;5;28;01melse\u001b[39;00m \u001b[38;5;28mlen\u001b[39m(eval_set)\n\u001b[1;32m    415\u001b[0m     \u001b[38;5;28;01mdef\u001b[39;00m \u001b[38;5;21mvalidate_or_none\u001b[39m(meta: Optional[Sequence], name: \u001b[38;5;28mstr\u001b[39m) \u001b[38;5;241m-\u001b[39m\u001b[38;5;241m>\u001b[39m Sequence:\n",
      "File \u001b[0;32m~/projects/shap/venv/lib/python3.10/site-packages/xgboost/sklearn.py:945\u001b[0m, in \u001b[0;36mXGBModel.fit.<locals>.<lambda>\u001b[0;34m(**kwargs)\u001b[0m\n\u001b[1;32m    880\u001b[0m \u001b[38;5;124;03m\"\"\"Fit gradient boosting model.\u001b[39;00m\n\u001b[1;32m    881\u001b[0m \n\u001b[1;32m    882\u001b[0m \u001b[38;5;124;03mNote that calling ``fit()`` multiple times will cause the model object to be\u001b[39;00m\n\u001b[0;32m   (...)\u001b[0m\n\u001b[1;32m    928\u001b[0m \u001b[38;5;124;03m        Use `callbacks` in :py:meth:`__init__` or :py:meth:`set_params` instead.\u001b[39;00m\n\u001b[1;32m    929\u001b[0m \u001b[38;5;124;03m\"\"\"\u001b[39;00m\n\u001b[1;32m    930\u001b[0m evals_result: TrainingCallback\u001b[38;5;241m.\u001b[39mEvalsLog \u001b[38;5;241m=\u001b[39m {}\n\u001b[1;32m    931\u001b[0m train_dmatrix, evals \u001b[38;5;241m=\u001b[39m _wrap_evaluation_matrices(\n\u001b[1;32m    932\u001b[0m     missing\u001b[38;5;241m=\u001b[39m\u001b[38;5;28mself\u001b[39m\u001b[38;5;241m.\u001b[39mmissing,\n\u001b[1;32m    933\u001b[0m     X\u001b[38;5;241m=\u001b[39mX,\n\u001b[1;32m    934\u001b[0m     y\u001b[38;5;241m=\u001b[39my,\n\u001b[1;32m    935\u001b[0m     group\u001b[38;5;241m=\u001b[39m\u001b[38;5;28;01mNone\u001b[39;00m,\n\u001b[1;32m    936\u001b[0m     qid\u001b[38;5;241m=\u001b[39m\u001b[38;5;28;01mNone\u001b[39;00m,\n\u001b[1;32m    937\u001b[0m     sample_weight\u001b[38;5;241m=\u001b[39msample_weight,\n\u001b[1;32m    938\u001b[0m     base_margin\u001b[38;5;241m=\u001b[39mbase_margin,\n\u001b[1;32m    939\u001b[0m     feature_weights\u001b[38;5;241m=\u001b[39mfeature_weights,\n\u001b[1;32m    940\u001b[0m     eval_set\u001b[38;5;241m=\u001b[39meval_set,\n\u001b[1;32m    941\u001b[0m     sample_weight_eval_set\u001b[38;5;241m=\u001b[39msample_weight_eval_set,\n\u001b[1;32m    942\u001b[0m     base_margin_eval_set\u001b[38;5;241m=\u001b[39mbase_margin_eval_set,\n\u001b[1;32m    943\u001b[0m     eval_group\u001b[38;5;241m=\u001b[39m\u001b[38;5;28;01mNone\u001b[39;00m,\n\u001b[1;32m    944\u001b[0m     eval_qid\u001b[38;5;241m=\u001b[39m\u001b[38;5;28;01mNone\u001b[39;00m,\n\u001b[0;32m--> 945\u001b[0m     create_dmatrix\u001b[38;5;241m=\u001b[39m\u001b[38;5;28;01mlambda\u001b[39;00m \u001b[38;5;241m*\u001b[39m\u001b[38;5;241m*\u001b[39mkwargs: \u001b[43mDMatrix\u001b[49m\u001b[43m(\u001b[49m\u001b[43mnthread\u001b[49m\u001b[38;5;241;43m=\u001b[39;49m\u001b[38;5;28;43mself\u001b[39;49m\u001b[38;5;241;43m.\u001b[39;49m\u001b[43mn_jobs\u001b[49m\u001b[43m,\u001b[49m\u001b[43m \u001b[49m\u001b[38;5;241;43m*\u001b[39;49m\u001b[38;5;241;43m*\u001b[39;49m\u001b[43mkwargs\u001b[49m\u001b[43m)\u001b[49m,\n\u001b[1;32m    946\u001b[0m     enable_categorical\u001b[38;5;241m=\u001b[39m\u001b[38;5;28mself\u001b[39m\u001b[38;5;241m.\u001b[39menable_categorical,\n\u001b[1;32m    947\u001b[0m )\n\u001b[1;32m    948\u001b[0m params \u001b[38;5;241m=\u001b[39m \u001b[38;5;28mself\u001b[39m\u001b[38;5;241m.\u001b[39mget_xgb_params()\n\u001b[1;32m    950\u001b[0m \u001b[38;5;28;01mif\u001b[39;00m callable(\u001b[38;5;28mself\u001b[39m\u001b[38;5;241m.\u001b[39mobjective):\n",
      "File \u001b[0;32m~/projects/shap/venv/lib/python3.10/site-packages/xgboost/core.py:532\u001b[0m, in \u001b[0;36m_deprecate_positional_args.<locals>.inner_f\u001b[0;34m(*args, **kwargs)\u001b[0m\n\u001b[1;32m    530\u001b[0m \u001b[38;5;28;01mfor\u001b[39;00m k, arg \u001b[38;5;129;01min\u001b[39;00m \u001b[38;5;28mzip\u001b[39m(sig\u001b[38;5;241m.\u001b[39mparameters, args):\n\u001b[1;32m    531\u001b[0m     kwargs[k] \u001b[38;5;241m=\u001b[39m arg\n\u001b[0;32m--> 532\u001b[0m \u001b[38;5;28;01mreturn\u001b[39;00m \u001b[43mf\u001b[49m\u001b[43m(\u001b[49m\u001b[38;5;241;43m*\u001b[39;49m\u001b[38;5;241;43m*\u001b[39;49m\u001b[43mkwargs\u001b[49m\u001b[43m)\u001b[49m\n",
      "File \u001b[0;32m~/projects/shap/venv/lib/python3.10/site-packages/xgboost/core.py:643\u001b[0m, in \u001b[0;36mDMatrix.__init__\u001b[0;34m(self, data, label, weight, base_margin, missing, silent, feature_names, feature_types, nthread, group, qid, label_lower_bound, label_upper_bound, feature_weights, enable_categorical)\u001b[0m\n\u001b[1;32m    640\u001b[0m     \u001b[38;5;28;01massert\u001b[39;00m \u001b[38;5;28mself\u001b[39m\u001b[38;5;241m.\u001b[39mhandle \u001b[38;5;129;01mis\u001b[39;00m \u001b[38;5;129;01mnot\u001b[39;00m \u001b[38;5;28;01mNone\u001b[39;00m\n\u001b[1;32m    641\u001b[0m     \u001b[38;5;28;01mreturn\u001b[39;00m\n\u001b[0;32m--> 643\u001b[0m handle, feature_names, feature_types \u001b[38;5;241m=\u001b[39m \u001b[43mdispatch_data_backend\u001b[49m\u001b[43m(\u001b[49m\n\u001b[1;32m    644\u001b[0m \u001b[43m    \u001b[49m\u001b[43mdata\u001b[49m\u001b[43m,\u001b[49m\n\u001b[1;32m    645\u001b[0m \u001b[43m    \u001b[49m\u001b[43mmissing\u001b[49m\u001b[38;5;241;43m=\u001b[39;49m\u001b[38;5;28;43mself\u001b[39;49m\u001b[38;5;241;43m.\u001b[39;49m\u001b[43mmissing\u001b[49m\u001b[43m,\u001b[49m\n\u001b[1;32m    646\u001b[0m \u001b[43m    \u001b[49m\u001b[43mthreads\u001b[49m\u001b[38;5;241;43m=\u001b[39;49m\u001b[38;5;28;43mself\u001b[39;49m\u001b[38;5;241;43m.\u001b[39;49m\u001b[43mnthread\u001b[49m\u001b[43m,\u001b[49m\n\u001b[1;32m    647\u001b[0m \u001b[43m    \u001b[49m\u001b[43mfeature_names\u001b[49m\u001b[38;5;241;43m=\u001b[39;49m\u001b[43mfeature_names\u001b[49m\u001b[43m,\u001b[49m\n\u001b[1;32m    648\u001b[0m \u001b[43m    \u001b[49m\u001b[43mfeature_types\u001b[49m\u001b[38;5;241;43m=\u001b[39;49m\u001b[43mfeature_types\u001b[49m\u001b[43m,\u001b[49m\n\u001b[1;32m    649\u001b[0m \u001b[43m    \u001b[49m\u001b[43menable_categorical\u001b[49m\u001b[38;5;241;43m=\u001b[39;49m\u001b[43menable_categorical\u001b[49m\u001b[43m,\u001b[49m\n\u001b[1;32m    650\u001b[0m \u001b[43m\u001b[49m\u001b[43m)\u001b[49m\n\u001b[1;32m    651\u001b[0m \u001b[38;5;28;01massert\u001b[39;00m handle \u001b[38;5;129;01mis\u001b[39;00m \u001b[38;5;129;01mnot\u001b[39;00m \u001b[38;5;28;01mNone\u001b[39;00m\n\u001b[1;32m    652\u001b[0m \u001b[38;5;28mself\u001b[39m\u001b[38;5;241m.\u001b[39mhandle \u001b[38;5;241m=\u001b[39m handle\n",
      "File \u001b[0;32m~/projects/shap/venv/lib/python3.10/site-packages/xgboost/data.py:896\u001b[0m, in \u001b[0;36mdispatch_data_backend\u001b[0;34m(data, missing, threads, feature_names, feature_types, enable_categorical)\u001b[0m\n\u001b[1;32m    894\u001b[0m     \u001b[38;5;28;01mreturn\u001b[39;00m _from_tuple(data, missing, threads, feature_names, feature_types)\n\u001b[1;32m    895\u001b[0m \u001b[38;5;28;01mif\u001b[39;00m _is_pandas_df(data):\n\u001b[0;32m--> 896\u001b[0m     \u001b[38;5;28;01mreturn\u001b[39;00m \u001b[43m_from_pandas_df\u001b[49m\u001b[43m(\u001b[49m\u001b[43mdata\u001b[49m\u001b[43m,\u001b[49m\u001b[43m \u001b[49m\u001b[43menable_categorical\u001b[49m\u001b[43m,\u001b[49m\u001b[43m \u001b[49m\u001b[43mmissing\u001b[49m\u001b[43m,\u001b[49m\u001b[43m \u001b[49m\u001b[43mthreads\u001b[49m\u001b[43m,\u001b[49m\n\u001b[1;32m    897\u001b[0m \u001b[43m                           \u001b[49m\u001b[43mfeature_names\u001b[49m\u001b[43m,\u001b[49m\u001b[43m \u001b[49m\u001b[43mfeature_types\u001b[49m\u001b[43m)\u001b[49m\n\u001b[1;32m    898\u001b[0m \u001b[38;5;28;01mif\u001b[39;00m _is_pandas_series(data):\n\u001b[1;32m    899\u001b[0m     \u001b[38;5;28;01mreturn\u001b[39;00m _from_pandas_series(\n\u001b[1;32m    900\u001b[0m         data, missing, threads, enable_categorical, feature_names, feature_types\n\u001b[1;32m    901\u001b[0m     )\n",
      "File \u001b[0;32m~/projects/shap/venv/lib/python3.10/site-packages/xgboost/data.py:345\u001b[0m, in \u001b[0;36m_from_pandas_df\u001b[0;34m(data, enable_categorical, missing, nthread, feature_names, feature_types)\u001b[0m\n\u001b[1;32m    337\u001b[0m \u001b[38;5;28;01mdef\u001b[39;00m \u001b[38;5;21m_from_pandas_df\u001b[39m(\n\u001b[1;32m    338\u001b[0m     data: DataFrame,\n\u001b[1;32m    339\u001b[0m     enable_categorical: \u001b[38;5;28mbool\u001b[39m,\n\u001b[0;32m   (...)\u001b[0m\n\u001b[1;32m    343\u001b[0m     feature_types: Optional[List[\u001b[38;5;28mstr\u001b[39m]],\n\u001b[1;32m    344\u001b[0m ) \u001b[38;5;241m-\u001b[39m\u001b[38;5;241m>\u001b[39m Tuple[ctypes\u001b[38;5;241m.\u001b[39mc_void_p, FeatureNames, Optional[List[\u001b[38;5;28mstr\u001b[39m]]]:\n\u001b[0;32m--> 345\u001b[0m     data, feature_names, feature_types \u001b[38;5;241m=\u001b[39m \u001b[43m_transform_pandas_df\u001b[49m\u001b[43m(\u001b[49m\n\u001b[1;32m    346\u001b[0m \u001b[43m        \u001b[49m\u001b[43mdata\u001b[49m\u001b[43m,\u001b[49m\u001b[43m \u001b[49m\u001b[43menable_categorical\u001b[49m\u001b[43m,\u001b[49m\u001b[43m \u001b[49m\u001b[43mfeature_names\u001b[49m\u001b[43m,\u001b[49m\u001b[43m \u001b[49m\u001b[43mfeature_types\u001b[49m\n\u001b[1;32m    347\u001b[0m \u001b[43m    \u001b[49m\u001b[43m)\u001b[49m\n\u001b[1;32m    348\u001b[0m     \u001b[38;5;28;01mreturn\u001b[39;00m _from_numpy_array(data, missing, nthread, feature_names, feature_types)\n",
      "File \u001b[0;32m~/projects/shap/venv/lib/python3.10/site-packages/xgboost/data.py:283\u001b[0m, in \u001b[0;36m_transform_pandas_df\u001b[0;34m(data, enable_categorical, feature_names, feature_types, meta, meta_type)\u001b[0m\n\u001b[1;32m    274\u001b[0m     \u001b[38;5;28;01mreturn\u001b[39;00m is_int \u001b[38;5;129;01mor\u001b[39;00m is_bool\n\u001b[1;32m    276\u001b[0m \u001b[38;5;28;01mif\u001b[39;00m \u001b[38;5;129;01mnot\u001b[39;00m \u001b[38;5;28mall\u001b[39m(\n\u001b[1;32m    277\u001b[0m     dtype\u001b[38;5;241m.\u001b[39mname \u001b[38;5;129;01min\u001b[39;00m _pandas_dtype_mapper\n\u001b[1;32m    278\u001b[0m     \u001b[38;5;129;01mor\u001b[39;00m is_sparse(dtype)\n\u001b[0;32m   (...)\u001b[0m\n\u001b[1;32m    281\u001b[0m     \u001b[38;5;28;01mfor\u001b[39;00m dtype \u001b[38;5;129;01min\u001b[39;00m data\u001b[38;5;241m.\u001b[39mdtypes\n\u001b[1;32m    282\u001b[0m ):\n\u001b[0;32m--> 283\u001b[0m     \u001b[43m_invalid_dataframe_dtype\u001b[49m\u001b[43m(\u001b[49m\u001b[43mdata\u001b[49m\u001b[43m)\u001b[49m\n\u001b[1;32m    285\u001b[0m \u001b[38;5;66;03m# handle feature names\u001b[39;00m\n\u001b[1;32m    286\u001b[0m \u001b[38;5;28;01mif\u001b[39;00m feature_names \u001b[38;5;129;01mis\u001b[39;00m \u001b[38;5;28;01mNone\u001b[39;00m \u001b[38;5;129;01mand\u001b[39;00m meta \u001b[38;5;129;01mis\u001b[39;00m \u001b[38;5;28;01mNone\u001b[39;00m:\n",
      "File \u001b[0;32m~/projects/shap/venv/lib/python3.10/site-packages/xgboost/data.py:247\u001b[0m, in \u001b[0;36m_invalid_dataframe_dtype\u001b[0;34m(data)\u001b[0m\n\u001b[1;32m    242\u001b[0m         err \u001b[38;5;241m=\u001b[39m \u001b[38;5;124m\"\u001b[39m\u001b[38;5;124m\"\u001b[39m\n\u001b[1;32m    244\u001b[0m     msg \u001b[38;5;241m=\u001b[39m \u001b[38;5;124m\"\"\"\u001b[39m\u001b[38;5;124mDataFrame.dtypes for data must be int, float, bool or category.  When\u001b[39m\n\u001b[1;32m    245\u001b[0m \u001b[38;5;124mcategorical type is supplied, DMatrix parameter `enable_categorical` must\u001b[39m\n\u001b[1;32m    246\u001b[0m \u001b[38;5;124mbe set to `True`.\u001b[39m\u001b[38;5;124m\"\"\"\u001b[39m \u001b[38;5;241m+\u001b[39m err\n\u001b[0;32m--> 247\u001b[0m     \u001b[38;5;28;01mraise\u001b[39;00m \u001b[38;5;167;01mValueError\u001b[39;00m(msg)\n",
      "\u001b[0;31mValueError\u001b[0m: DataFrame.dtypes for data must be int, float, bool or category.  When\ncategorical type is supplied, DMatrix parameter `enable_categorical` must\nbe set to `True`. Invalid columns:payment_type, employment_status, housing_status, source, device_os"
     ]
    }
   ],
   "source": [
    "# sprobujmy odtworzyc ten rezultat\n",
    "\n",
    "X_train, X_test, y_train, y_test = train_test_split(X, y, random_state=0, test_size=0.3)\n",
    "\n",
    "model = xgboost.XGBRegressor(n_estimators=5000, max_depth=2, subsample=0.5)\n",
    "model.fit(X_train, y_train, eval_set=[(X_test, y_test)], verbose=False, early_stopping_rounds=10)\n",
    "res = model.predict(X_test)\n",
    "\n",
    "c_statistic_harrell(model.predict(X_test), y_test)"
   ]
  },
  {
   "cell_type": "code",
   "execution_count": null,
   "id": "3142ae87",
   "metadata": {},
   "outputs": [],
   "source": [
    "for i in range(1,10):\n",
    "    model = xgboost.XGBRegressor(n_estimators=1000, max_depth=i, subsample=0.5)\n",
    "    model.fit(X_train, y_train, eval_set=[(X_test, y_test)], verbose=False, early_stopping_rounds=10)\n",
    "    res = model.predict(X_test)\n",
    "\n",
    "    print(\"{}: {}\".format(i, c_statistic_harrell(model.predict(X_test), y_test)))"
   ]
  },
  {
   "cell_type": "code",
   "execution_count": null,
   "id": "2b6e6104",
   "metadata": {},
   "outputs": [],
   "source": [
    "scores = {}\n",
    "mean_depths = {}\n",
    "stddev_depths = {}\n",
    "full_depths = {}\n",
    "\n",
    "mean = 10\n",
    "\n",
    "for i in range(1,32):\n",
    "    print(i)\n",
    "    scores[i] = 0\n",
    "    mean_depths[i] = 0\n",
    "    stddev_depths[i] = 0\n",
    "    for j in range(mean):\n",
    "        model = xgboost.XGBRegressor(n_estimators=(100+i*100), max_depth=16, subsample=0.3)\n",
    "        X_train, X_test, y_train, y_test = train_test_split(X, y, random_state=0)\n",
    "        model.fit(X_train, y_train, eval_set=[(X_test, y_test)], early_stopping_rounds=10, verbose=False)\n",
    "        scores[i] = scores[i] + model.score(X_test, y_test)\n",
    "        \n",
    "        booster = model.get_booster()\n",
    "        tree_df = booster.trees_to_dataframe()\n",
    "#         print(\"rysuje drzewo\")\n",
    "#         xgboost.plotting.plot_tree(booster)\n",
    "        depths = [tree_depth(x) for x in booster.get_dump(dump_format = \"json\")]\n",
    "        full_depths[i] = depths\n",
    "        mean_depths[i] = mean_depths[i] + np.mean(depths)\n",
    "        stddev_depths[i] = stddev_depths[i] + np.std(depths)\n",
    "        \n",
    "    scores[i] = scores[i] / mean\n",
    "    mean_depths[i] = mean_depths[i] / mean\n",
    "    stddev_depths[i] = stddev_depths[i] / mean"
   ]
  },
  {
   "cell_type": "code",
   "execution_count": null,
   "id": "e15eb42c",
   "metadata": {},
   "outputs": [],
   "source": [
    "print(scores)"
   ]
  },
  {
   "cell_type": "code",
   "execution_count": null,
   "id": "aa5f1ddb",
   "metadata": {},
   "outputs": [],
   "source": [
    "# narysujmy sobie zaleznosc wytrenowania i glebokosci w XGBoost\n",
    "sns.set()\n",
    "n = len(scores)\n",
    "to_plot_scores = [0] * n\n",
    "to_plot_mean = [0] * n\n",
    "to_plot_stddev = [0] * n\n",
    "\n",
    "for i in scores.keys():\n",
    "    to_plot_scores[i-1] = scores[i]\n",
    "    to_plot_mean[i-1] = mean_depths[i]\n",
    "    to_plot_stddev[i-1] = stddev_depths[i]\n",
    "\n",
    "plt.title(\"Average score of models\")\n",
    "plt.ylabel(\"Accuracy in %\")\n",
    "plt.xlabel(\"Max tree depth\")\n",
    "plt.plot(to_plot_scores)\n",
    "plt.show()\n",
    "    \n",
    "# ax = sns.heatmap(quality)\n",
    "# plt.show()\n",
    "# print(to_plot_mean)\n",
    "# print(to_plot_stddev)\n",
    "\n",
    "plt.title(\"Mean depth of tree in ensemble\")\n",
    "plt.ylabel(\"Mean depth\")\n",
    "plt.xlabel(\"Max tree depth\")\n",
    "plt.errorbar(range(len(to_plot_mean)), to_plot_mean, to_plot_stddev, linestyle='None', marker='^')\n",
    "plt.show()"
   ]
  },
  {
   "cell_type": "code",
   "execution_count": null,
   "id": "3d1db2f2",
   "metadata": {},
   "outputs": [],
   "source": [
    "print(X.values)"
   ]
  },
  {
   "cell_type": "code",
   "execution_count": null,
   "id": "af13298f",
   "metadata": {
    "scrolled": true
   },
   "outputs": [],
   "source": [
    "res_shap_cext = {}\n",
    "res_banz_cext = {}\n",
    "\n",
    "time_shap_cext = {}\n",
    "time_banz_cext = {}\n",
    "\n",
    "model_quality = {}\n",
    "\n",
    "X,y = shap.datasets.boston()\n",
    "X = X.values\n",
    "X_train, X_test, y_train, y_test = train_test_split(X, y, random_state=0)\n",
    "\n",
    "for j in range (2,26,2):\n",
    "    for i in range(100, 1000, 100):\n",
    "        model = sklearn.ensemble.RandomForestRegressor(n_estimators=i, max_depth=j)\n",
    "        model.fit(X_train, y_train)\n",
    "        \n",
    "        model_quality[(i, j)] = c_statistic_harrell(model.predict(X_test), y_test)\n",
    "        \n",
    "        print(\"------------------------------\")\n",
    "        print(j, i)\n",
    "        print(\"---\")\n",
    "        \n",
    "        start = time.time()\n",
    "        res_shap_cext[(i, j)] = TreeCext(model).shap_values(X_test, banz=False)\n",
    "        time_shap_cext[(i, j)] = time.time() - start\n",
    "        print(time_shap_cext[(i, j)])\n",
    "\n",
    "        start = time.time()\n",
    "        res_banz_cext[(i, j)] = TreeCext(model).shap_values(X_test, banz=True)\n",
    "        time_banz_cext[(i, j)] = time.time() - start\n",
    "        print(time_banz_cext[(i, j)])"
   ]
  },
  {
   "cell_type": "code",
   "execution_count": null,
   "id": "85f2ebdc",
   "metadata": {},
   "outputs": [],
   "source": [
    "time_shap_cext_prop = [ [time_shap_cext[(i, j)] for j in range (2,26,2)] for i in range(100, 1000, 100)]\n",
    "time_banz_cext_prop = [ [time_banz_cext[(i, j)] for j in range (2,26,2)] for i in range(100\n",
    "                                                                                        , 1000, 100)]"
   ]
  },
  {
   "cell_type": "code",
   "execution_count": null,
   "id": "4f73ae71",
   "metadata": {},
   "outputs": [],
   "source": [
    "time_diffs_banz_shap = \\\n",
    "    [ [ (time_shap_cext[(i, j)] - time_banz_cext[(i, j)]) / time_shap_cext[(i, j)] * 100 \\\n",
    "       for j in range (2,26,2)] for i in range(100, 1000, 100) ]"
   ]
  },
  {
   "cell_type": "code",
   "execution_count": null,
   "id": "5815e156",
   "metadata": {},
   "outputs": [],
   "source": [
    "plt.figure(figsize=(12, 9))\n",
    "sns.heatmap(time_diffs_banz_shap, annot=True, fmt=\".1f\", linewidth=.5,\\\n",
    "           xticklabels=range(2,26,2), yticklabels=range(100, 1000, 100))\n",
    "plt.title(\"Percentage of time improvement for TreeShap vs BANZ\")\n",
    "plt.ylabel(\"No. of trees\")\n",
    "plt.xlabel(\"Max tree depth\")\n",
    "plt.show()"
   ]
  },
  {
   "cell_type": "code",
   "execution_count": null,
   "id": "fc7e0649",
   "metadata": {},
   "outputs": [],
   "source": [
    "plot_qualities = [[model_quality[(i, j)] for j in range (2,26,2)] for i in range(100, 1000, 100)]\n",
    "\n",
    "plt.figure(figsize=(12, 9))\n",
    "sns.heatmap(plot_qualities, annot=True, fmt=\".3f\", linewidth=.5,\\\n",
    "           xticklabels=range(2,26,2), yticklabels=range(100, 1000, 100))\n",
    "plt.title(\"C-index quality for model\")\n",
    "plt.ylabel(\"No. of trees\")\n",
    "plt.xlabel(\"Max tree depth\")\n",
    "plt.show()"
   ]
  },
  {
   "cell_type": "code",
   "execution_count": null,
   "id": "f9effb10",
   "metadata": {},
   "outputs": [],
   "source": [
    "res_shap_cext_prop = [[res_shap_cext[(i, j)] for j in range (2,26,2)] for i in range(100, 1000, 100)]\n",
    "res_banz_cext_prop = [[res_banz_cext[(i, j)] for j in range (2,26,2)] for i in range(100, 1000, 100)]\n",
    "time_shap_cext_prop = [[time_shap_cext[(i, j)] for j in range (2,26,2)] for i in range(100, 1000, 100)]\n",
    "time_banz_cext_prop = [[time_banz_cext[(i, j)] for j in range (2,26,2)] for i in range(100, 1000, 100)]"
   ]
  },
  {
   "cell_type": "code",
   "execution_count": null,
   "id": "2b677c98",
   "metadata": {},
   "outputs": [],
   "source": []
  },
  {
   "cell_type": "code",
   "execution_count": null,
   "id": "b87bcfde",
   "metadata": {},
   "outputs": [],
   "source": [
    "X,y = shap.datasets.nhanesi()\n",
    "X = X.values\n",
    "X_train, X_test, y_train, y_test = train_test_split(X, y, random_state=7, test_size=0.2)\n",
    "\n",
    "xgb_full = xgboost.DMatrix(X, label=y)\n",
    "xgb_train = xgboost.DMatrix(X_train, label=y_train)\n",
    "xgb_test = xgboost.DMatrix(X_test, label=y_test)"
   ]
  },
  {
   "cell_type": "code",
   "execution_count": null,
   "id": "15577c39",
   "metadata": {},
   "outputs": [],
   "source": [
    "params = {\n",
    "    \"eta\": 0.2,\n",
    "    \"max_depth\": 4, \n",
    "    \"objective\": \"survival:cox\",\n",
    "    \"subsample\": 0.5,\n",
    "}\n",
    "model_full = xgboost.train(params, xgb_full, 5000, evals = [(xgb_full, \"test\")], verbose_eval=1000,\\\n",
    "                           early_stopping_rounds=250)"
   ]
  },
  {
   "cell_type": "code",
   "execution_count": null,
   "id": "6738d99b",
   "metadata": {},
   "outputs": [],
   "source": [
    "c_statistic_harrell(model_full.predict(xgb_full), y)"
   ]
  },
  {
   "cell_type": "code",
   "execution_count": null,
   "id": "46c6c77a",
   "metadata": {},
   "outputs": [],
   "source": []
  },
  {
   "cell_type": "code",
   "execution_count": null,
   "id": "961d45d6",
   "metadata": {},
   "outputs": [],
   "source": []
  },
  {
   "cell_type": "code",
   "execution_count": null,
   "id": "536ecb79",
   "metadata": {
    "scrolled": true
   },
   "outputs": [],
   "source": [
    "run_diff_explainers(model_full, xgb_train, xgb_full)"
   ]
  },
  {
   "cell_type": "code",
   "execution_count": null,
   "id": "de26803f",
   "metadata": {},
   "outputs": [],
   "source": []
  },
  {
   "cell_type": "code",
   "execution_count": null,
   "id": "dfa0e22d",
   "metadata": {},
   "outputs": [],
   "source": []
  },
  {
   "cell_type": "code",
   "execution_count": null,
   "id": "0e56ce3a",
   "metadata": {},
   "outputs": [],
   "source": [
    "model = xgboost.XGBRegressor(n_estimators=1000, max_depth=5, subsample=0.3)\n",
    "X_train, X_test, y_train, y_test = train_test_split(X, y, random_state=0)\n",
    "model.fit(X_train, y_train, eval_set=[(X_test, y_test)], early_stopping_rounds=10, verbose=False)\n",
    "\n",
    "booster = model.get_booster()\n",
    "tree_df = booster.trees_to_dataframe()"
   ]
  },
  {
   "cell_type": "code",
   "execution_count": null,
   "id": "f9e1130e",
   "metadata": {},
   "outputs": [],
   "source": [
    "tree_df"
   ]
  },
  {
   "cell_type": "code",
   "execution_count": null,
   "id": "792a0ff1",
   "metadata": {},
   "outputs": [],
   "source": [
    "plt.plot([x * 10 for x in scores.values()])\n",
    "plt.plot(mean_depths.values())\n",
    "plt.plot(stddev_depths.values())\n",
    "\n",
    "plt.show()\n",
    "\n",
    "# wychodza glebokosci po 13 jak da mu sie wolna reke"
   ]
  },
  {
   "cell_type": "code",
   "execution_count": null,
   "id": "31105c4e",
   "metadata": {},
   "outputs": [],
   "source": []
  },
  {
   "cell_type": "code",
   "execution_count": null,
   "id": "58738ffc",
   "metadata": {},
   "outputs": [],
   "source": []
  },
  {
   "cell_type": "code",
   "execution_count": null,
   "id": "f957cb49",
   "metadata": {},
   "outputs": [],
   "source": []
  },
  {
   "cell_type": "code",
   "execution_count": null,
   "id": "bdd0bc19",
   "metadata": {},
   "outputs": [],
   "source": [
    "def show_results(attributions):\n",
    "    a = attributions[1000]\n",
    "    # print(a[0][1])\n",
    "\n",
    "\n",
    "#     plt.stackplot(range(len(a[0][1].values[0])), a[0][1].values[0], a[1][1].values[0], a[2][1].values[0],\n",
    "#                  labels=[\"Tree\", \"TreeBanz\", \"NEW TreeBanz\"])\n",
    "    \n",
    "    plt.plot(range(len(a[0][1].values[0])), a[0][1].values[0])\n",
    "    plt.plot(range(len(a[0][1].values[0])), a[1][1].values[0])\n",
    "    plt.plot(range(len(a[0][1].values[0])), a[2][1].values[0])\n",
    "    \n",
    "    plt.legend()\n",
    "    # plt.subplot(a)\n",
    "    plt.show()\n",
    "\n",
    "    shap.plots.bar(a[0][1][0]) #tree\n",
    "    shap.plots.bar(a[1][1][0]) #treeBanz\n",
    "    shap.plots.bar(a[2][1][0]) #NEWtreeBanz"
   ]
  },
  {
   "cell_type": "code",
   "execution_count": null,
   "id": "c9fc6e8d",
   "metadata": {
    "scrolled": false
   },
   "outputs": [],
   "source": [
    "X,y = shap.datasets.boston()\n",
    "X = X.values\n",
    "\n",
    "model = xgboost.XGBRegressor(n_estimators=1000, max_depth=32, subsample=0.3)\n",
    "X_train, X_test, y_train, y_test = train_test_split(X, y, random_state=0)\n",
    "model.fit(X_train, y_train, eval_set=[(X_test, y_test)], early_stopping_rounds=10, verbose=False)\n",
    "X_eval = X_test[:1]\n",
    "\n",
    "attributions = run_diff_explainers(model, X_train, X_eval)\n",
    "\n",
    "# show_results(attributions)\n",
    "c_statistic_harrell(model, X_test, y_test)"
   ]
  },
  {
   "cell_type": "code",
   "execution_count": null,
   "id": "f38cfd96",
   "metadata": {},
   "outputs": [],
   "source": []
  },
  {
   "cell_type": "code",
   "execution_count": null,
   "id": "ba1eb457",
   "metadata": {
    "scrolled": false
   },
   "outputs": [],
   "source": [
    "X,y = shap.datasets.nhanesi()\n",
    "X = X.values\n",
    "\n",
    "\n",
    "for i in range(1,15):\n",
    "    print(\"i={}\".format(i))\n",
    "    model = sklearn.ensemble.RandomForestRegressor(n_estimators=1000, max_depth=i)\n",
    "    X_train, X_test, y_train, y_test = train_test_split(X, y, random_state=0)\n",
    "    model.fit(X_train, y_train)\n",
    "    X_eval = X_test[:1]\n",
    "\n",
    "    attributions = run_diff_explainers(model, X_train, X_eval)\n",
    "\n",
    "    y_predict = model.predict(X_test)\n",
    "    # show_results(attributions)\n",
    "    print(\"c-index:{}\".format(c_statistic_harrell(y_predict, y_test)))\n",
    "    print(\"mse:{}\".format(np.sqrt(MSE(y_predict, y_test))))\n",
    "    print(\"----------------------\\n\")"
   ]
  },
  {
   "cell_type": "code",
   "execution_count": null,
   "id": "4b9345d6",
   "metadata": {},
   "outputs": [],
   "source": [
    "x_ax = range(len(y_test))\n",
    "plt.figure(figsize=(16, 8), dpi=100)\n",
    "plt.plot(x_ax, y_test, label=\"original\")\n",
    "plt.plot(x_ax, y_predict, label=\"predicted\")\n",
    "plt.title(\"Boston dataset test and predicted data\")\n",
    "plt.xlabel('X')\n",
    "plt.ylabel('Price')\n",
    "plt.legend(loc='best',fancybox=True, shadow=True)\n",
    "plt.grid(True)\n",
    "plt.show()"
   ]
  },
  {
   "cell_type": "code",
   "execution_count": null,
   "id": "dae4d5fc",
   "metadata": {},
   "outputs": [],
   "source": [
    "v = {}\n",
    "for i in range(3):\n",
    "    v[i] = [(x / attributions[1000][i][1].values[0][0]) for x in attributions[1000][i][1].values[0]]\n",
    "\n",
    "v"
   ]
  },
  {
   "cell_type": "code",
   "execution_count": null,
   "id": "cdb9e284",
   "metadata": {},
   "outputs": [],
   "source": [
    "shap.plots.beeswarm(a[0][1])\n",
    "shap.plots.beeswarm(a[1][1])"
   ]
  },
  {
   "cell_type": "code",
   "execution_count": null,
   "id": "2afa770f",
   "metadata": {},
   "outputs": [],
   "source": [
    "# # dry run to get all the code warmed up for valid runtime measurements\n",
    "# for name, exp in explainers:\n",
    "#     exp(X_eval[:1])\n",
    "\n",
    "# explain with all the explainers\n",
    "attributions = [run_explain(name, exp, X_eval) for name, exp in explainers]"
   ]
  },
  {
   "cell_type": "code",
   "execution_count": null,
   "id": "2a3156f5",
   "metadata": {},
   "outputs": [],
   "source": []
  },
  {
   "cell_type": "code",
   "execution_count": null,
   "id": "4422202b",
   "metadata": {},
   "outputs": [],
   "source": [
    "X, y = make_regression(n_samples=400, n_features=16, n_informative=8,random_state=0, shuffle=False)\n",
    "\n",
    "model = sklearn.ensemble.RandomForestRegressor(n_estimators=1000, max_depth=10)\n",
    "model.fit(X, y)"
   ]
  },
  {
   "cell_type": "code",
   "execution_count": null,
   "id": "c255f492",
   "metadata": {},
   "outputs": [],
   "source": [
    "# bst = xgboost.train({\"learning_rate\": 0.01, \"max_depth\": 4}, xgboost.DMatrix(X, label=y), 1000)"
   ]
  },
  {
   "cell_type": "code",
   "execution_count": null,
   "id": "5ef0ac44",
   "metadata": {},
   "outputs": [],
   "source": [
    "# start = time.time()\n",
    "# shap_values = bst.predict(xgboost.DMatrix(X), pred_contribs=True)\n",
    "# print(time.time() - start)\n"
   ]
  },
  {
   "cell_type": "code",
   "execution_count": null,
   "id": "791432a8",
   "metadata": {},
   "outputs": [],
   "source": [
    "\n",
    "# x = X.head()\n",
    "# x = X[:1]\n",
    "x = X\n",
    "x"
   ]
  },
  {
   "cell_type": "code",
   "execution_count": null,
   "id": "e5530426",
   "metadata": {},
   "outputs": [],
   "source": [
    "start = time.time()\n",
    "res_shap_cext = TreeCext(model).shap_values(X, banz=False)\n",
    "time_shap_cext = time.time() - start\n",
    "time_shap_cext"
   ]
  },
  {
   "cell_type": "code",
   "execution_count": null,
   "id": "ae2cf1db",
   "metadata": {
    "scrolled": true
   },
   "outputs": [],
   "source": [
    "start = time.time()\n",
    "res_banz_cext = TreeCext(model).shap_values(X, banz=True)\n",
    "time_banz_cext = time.time() - start\n",
    "time_banz_cext"
   ]
  },
  {
   "cell_type": "code",
   "execution_count": null,
   "id": "7c740851",
   "metadata": {},
   "outputs": [],
   "source": [
    "res_shap_cext"
   ]
  },
  {
   "cell_type": "code",
   "execution_count": null,
   "id": "0bbd4fc5",
   "metadata": {},
   "outputs": [],
   "source": [
    "res_banz_cext"
   ]
  },
  {
   "cell_type": "code",
   "execution_count": null,
   "id": "b0754c61",
   "metadata": {},
   "outputs": [],
   "source": []
  },
  {
   "cell_type": "code",
   "execution_count": null,
   "id": "7d56d824",
   "metadata": {},
   "outputs": [],
   "source": [
    "ex = TreeExplainer(model)\n",
    "start = time.time()\n",
    "res_shap_py = ex.shap_values(x)\n",
    "time_shap_py = time.time() - start"
   ]
  },
  {
   "cell_type": "code",
   "execution_count": null,
   "id": "6ad6cc0f",
   "metadata": {
    "scrolled": true
   },
   "outputs": [],
   "source": [
    "start = time.time()\n",
    "res_banz_py = ex.banz_values(x)\n",
    "time_banz_py = time.time() - start"
   ]
  },
  {
   "cell_type": "code",
   "execution_count": null,
   "id": "159df599",
   "metadata": {
    "scrolled": true
   },
   "outputs": [],
   "source": []
  },
  {
   "cell_type": "code",
   "execution_count": null,
   "id": "2ec44ed3",
   "metadata": {},
   "outputs": [],
   "source": [
    "line = np.asarray(x[:1])\n",
    "ex.brute_banz(line[0], 0)"
   ]
  },
  {
   "cell_type": "code",
   "execution_count": null,
   "id": "12c7c911",
   "metadata": {},
   "outputs": [],
   "source": [
    "ex.brute_shap(line[0], 0)"
   ]
  },
  {
   "cell_type": "code",
   "execution_count": null,
   "id": "c1cbd11d",
   "metadata": {},
   "outputs": [],
   "source": []
  },
  {
   "cell_type": "code",
   "execution_count": null,
   "id": "b227893d",
   "metadata": {},
   "outputs": [],
   "source": [
    "results_dict_cext = {}\n",
    "results_dict_cext['banz'] = {}\n",
    "results_dict_cext['shap'] = {}"
   ]
  },
  {
   "cell_type": "code",
   "execution_count": null,
   "id": "b1ae57c2",
   "metadata": {},
   "outputs": [],
   "source": [
    "for i in range(1, 10):\n",
    "    X, y = make_regression(n_samples=200 * i, n_features=16, n_informative=8,random_state=0, shuffle=False)\n",
    "\n",
    "    model = sklearn.ensemble.RandomForestRegressor(n_estimators=1000 + 100 * i, max_depth=10 + i)\n",
    "    model.fit(X, y)\n",
    "    \n",
    "    start = time.time()\n",
    "    res_shap_cext = TreeCext(model).shap_values(x, banz=False)\n",
    "    res_shap = time.time() - start\n",
    "    \n",
    "    start = time.time()\n",
    "    res_banz_cext = TreeCext(model).shap_values(x, banz=True)\n",
    "    res_banz = time.time() - start\n",
    "    \n",
    "    print(res_shap)\n",
    "    print(res_banz)\n",
    "    results_dict_cext['banz'][i] = res_banz\n",
    "    results_dict_cext['shap'][i] = res_shap\n",
    "    "
   ]
  },
  {
   "cell_type": "code",
   "execution_count": null,
   "id": "7ca2a77d",
   "metadata": {},
   "outputs": [],
   "source": [
    "x = [i for i in results_dict_cext['banz']]\n",
    "a1 = [results_dict_cext['banz'][i] for i in results_dict_cext['banz']]\n",
    "a2 = [results_dict_cext['shap'][i] for i in results_dict_cext['shap']]\n",
    "\n",
    "y_values = {\"banz\": a1, \"treeshap\": a2}\n",
    "labels = [\"BANZ\", \"TREESHAP\"]\n",
    "\n",
    "fig, ax = plt.subplots()\n",
    "ax.stackplot(x, y_values.values(), labels=labels)\n",
    "\n",
    "ax.legend(loc='upper left')\n",
    "plt.show()"
   ]
  },
  {
   "cell_type": "code",
   "execution_count": null,
   "id": "94305fcc",
   "metadata": {},
   "outputs": [],
   "source": [
    "results_dict_py = {}\n",
    "results_dict_py['banz'] = {}\n",
    "results_dict_py['shap'] = {}"
   ]
  },
  {
   "cell_type": "code",
   "execution_count": null,
   "id": "92b31f0a",
   "metadata": {},
   "outputs": [],
   "source": [
    "for i in range(1, 10):\n",
    "    X, y = make_regression(n_samples=100 + 25 * i, n_features=6, n_informative=2,random_state=0, shuffle=False)\n",
    "\n",
    "    model = sklearn.ensemble.RandomForestRegressor(n_estimators=100 + 25 * i, max_depth=4)\n",
    "    model.fit(X, y)\n",
    "    \n",
    "    ex = TreeExplainer(model)\n",
    "    print('created model')\n",
    "    start = time.time()\n",
    "    res_shap_py = ex.shap_values(X)\n",
    "    time_shap_py = time.time() - start\n",
    "    \n",
    "    start = time.time()\n",
    "    res_banz_py = ex.banz_values(X)\n",
    "    time_banz_py = time.time() - start\n",
    "    \n",
    "    print(res_shap_py)\n",
    "    print(res_banz_py)\n",
    "    results_dict_py['banz'][i] = time_banz_py\n",
    "    results_dict_py['shap'][i] = time_shap_py\n",
    "    "
   ]
  },
  {
   "cell_type": "code",
   "execution_count": null,
   "id": "dd0d64a7",
   "metadata": {},
   "outputs": [],
   "source": [
    "x = [i for i in results_dict_py['banz']]\n",
    "a1 = [results_dict_py['banz'][i] for i in results_dict_py['banz']]\n",
    "a2 = [results_dict_py['shap'][i] for i in results_dict_py['shap']]\n",
    "\n",
    "y_values = {\"banz\": a1, \"treeshap\": a2}\n",
    "labels = [\"BANZ\", \"TREESHAP\"]\n",
    "\n",
    "fig, ax = plt.subplots()\n",
    "ax.stackplot(x, y_values.values(), labels=labels)\n",
    "\n",
    "ax.legend(loc='upper left')\n",
    "plt.show()"
   ]
  },
  {
   "cell_type": "code",
   "execution_count": null,
   "id": "a4a4a9fe",
   "metadata": {},
   "outputs": [],
   "source": []
  },
  {
   "cell_type": "code",
   "execution_count": null,
   "id": "028a93ff",
   "metadata": {},
   "outputs": [],
   "source": [
    "len(a1)"
   ]
  },
  {
   "cell_type": "code",
   "execution_count": null,
   "id": "3ee940d4",
   "metadata": {},
   "outputs": [],
   "source": [
    "len(a2)"
   ]
  },
  {
   "cell_type": "code",
   "execution_count": null,
   "id": "dc8596c7",
   "metadata": {},
   "outputs": [],
   "source": []
  },
  {
   "cell_type": "code",
   "execution_count": null,
   "id": "629e4d9f",
   "metadata": {},
   "outputs": [],
   "source": [
    "\n"
   ]
  },
  {
   "cell_type": "code",
   "execution_count": null,
   "id": "f62c8bd2",
   "metadata": {},
   "outputs": [],
   "source": []
  }
 ],
 "metadata": {
  "kernelspec": {
   "display_name": "Python 3 (ipykernel)",
   "language": "python",
   "name": "python3"
  },
  "language_info": {
   "codemirror_mode": {
    "name": "ipython",
    "version": 3
   },
   "file_extension": ".py",
   "mimetype": "text/x-python",
   "name": "python",
   "nbconvert_exporter": "python",
   "pygments_lexer": "ipython3",
   "version": "3.10.6"
  }
 },
 "nbformat": 4,
 "nbformat_minor": 5
}
