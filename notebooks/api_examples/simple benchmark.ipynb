{
 "cells": [
  {
   "cell_type": "code",
   "execution_count": 1,
   "id": "b81d52ad",
   "metadata": {},
   "outputs": [
    {
     "name": "stdout",
     "output_type": "stream",
     "text": [
      "3.10.6 (main, Nov  2 2022, 18:53:38) [GCC 11.3.0]\n"
     ]
    }
   ],
   "source": [
    "import sys\n",
    "print(sys.version)"
   ]
  },
  {
   "cell_type": "code",
   "execution_count": null,
   "id": "46959aa0",
   "metadata": {},
   "outputs": [],
   "source": []
  },
  {
   "cell_type": "code",
   "execution_count": 2,
   "id": "102718eb",
   "metadata": {},
   "outputs": [
    {
     "name": "stderr",
     "output_type": "stream",
     "text": [
      "/home/jarek/projects/shap/venv/lib/python3.10/site-packages/tqdm/auto.py:22: TqdmWarning: IProgress not found. Please update jupyter and ipywidgets. See https://ipywidgets.readthedocs.io/en/stable/user_install.html\n",
      "  from .autonotebook import tqdm as notebook_tqdm\n"
     ]
    }
   ],
   "source": [
    "import sklearn.ensemble\n",
    "import shap\n",
    "import numpy as np\n",
    "import numba\n",
    "import time\n",
    "import xgboost\n",
    "from sklearn.datasets import make_regression\n",
    "\n",
    "import matplotlib.pyplot as plt\n",
    "import seaborn as sns\n",
    "\n",
    "from sklearn.model_selection import train_test_split\n",
    "import shap.benchmark"
   ]
  },
  {
   "cell_type": "code",
   "execution_count": 3,
   "id": "5a1f0678",
   "metadata": {},
   "outputs": [
    {
     "name": "stderr",
     "output_type": "stream",
     "text": [
      "Function load_boston is deprecated; `load_boston` is deprecated in 1.0 and will be removed in 1.2.\n",
      "\n",
      "    The Boston housing prices dataset has an ethical problem. You can refer to\n",
      "    the documentation of this function for further details.\n",
      "\n",
      "    The scikit-learn maintainers therefore strongly discourage the use of this\n",
      "    dataset unless the purpose of the code is to study and educate about\n",
      "    ethical issues in data science and machine learning.\n",
      "\n",
      "    In this special case, you can fetch the dataset from the original\n",
      "    source::\n",
      "\n",
      "        import pandas as pd\n",
      "        import numpy as np\n",
      "\n",
      "        data_url = \"http://lib.stat.cmu.edu/datasets/boston\"\n",
      "        raw_df = pd.read_csv(data_url, sep=\"\\s+\", skiprows=22, header=None)\n",
      "        data = np.hstack([raw_df.values[::2, :], raw_df.values[1::2, :2]])\n",
      "        target = raw_df.values[1::2, 2]\n",
      "\n",
      "    Alternative datasets include the California housing dataset (i.e.\n",
      "    :func:`~sklearn.datasets.fetch_california_housing`) and the Ames housing\n",
      "    dataset. You can load the datasets as follows::\n",
      "\n",
      "        from sklearn.datasets import fetch_california_housing\n",
      "        housing = fetch_california_housing()\n",
      "\n",
      "    for the California housing dataset and::\n",
      "\n",
      "        from sklearn.datasets import fetch_openml\n",
      "        housing = fetch_openml(name=\"house_prices\", as_frame=True)\n",
      "\n",
      "    for the Ames housing dataset.\n"
     ]
    },
    {
     "data": {
      "text/plain": [
       "(506, 13)"
      ]
     },
     "execution_count": 3,
     "metadata": {},
     "output_type": "execute_result"
    }
   ],
   "source": [
    "X,y = shap.datasets.boston()\n",
    "X.shape"
   ]
  },
  {
   "cell_type": "code",
   "execution_count": 4,
   "id": "4422202b",
   "metadata": {},
   "outputs": [
    {
     "data": {
      "text/html": [
       "<style>#sk-container-id-1 {color: black;background-color: white;}#sk-container-id-1 pre{padding: 0;}#sk-container-id-1 div.sk-toggleable {background-color: white;}#sk-container-id-1 label.sk-toggleable__label {cursor: pointer;display: block;width: 100%;margin-bottom: 0;padding: 0.3em;box-sizing: border-box;text-align: center;}#sk-container-id-1 label.sk-toggleable__label-arrow:before {content: \"▸\";float: left;margin-right: 0.25em;color: #696969;}#sk-container-id-1 label.sk-toggleable__label-arrow:hover:before {color: black;}#sk-container-id-1 div.sk-estimator:hover label.sk-toggleable__label-arrow:before {color: black;}#sk-container-id-1 div.sk-toggleable__content {max-height: 0;max-width: 0;overflow: hidden;text-align: left;background-color: #f0f8ff;}#sk-container-id-1 div.sk-toggleable__content pre {margin: 0.2em;color: black;border-radius: 0.25em;background-color: #f0f8ff;}#sk-container-id-1 input.sk-toggleable__control:checked~div.sk-toggleable__content {max-height: 200px;max-width: 100%;overflow: auto;}#sk-container-id-1 input.sk-toggleable__control:checked~label.sk-toggleable__label-arrow:before {content: \"▾\";}#sk-container-id-1 div.sk-estimator input.sk-toggleable__control:checked~label.sk-toggleable__label {background-color: #d4ebff;}#sk-container-id-1 div.sk-label input.sk-toggleable__control:checked~label.sk-toggleable__label {background-color: #d4ebff;}#sk-container-id-1 input.sk-hidden--visually {border: 0;clip: rect(1px 1px 1px 1px);clip: rect(1px, 1px, 1px, 1px);height: 1px;margin: -1px;overflow: hidden;padding: 0;position: absolute;width: 1px;}#sk-container-id-1 div.sk-estimator {font-family: monospace;background-color: #f0f8ff;border: 1px dotted black;border-radius: 0.25em;box-sizing: border-box;margin-bottom: 0.5em;}#sk-container-id-1 div.sk-estimator:hover {background-color: #d4ebff;}#sk-container-id-1 div.sk-parallel-item::after {content: \"\";width: 100%;border-bottom: 1px solid gray;flex-grow: 1;}#sk-container-id-1 div.sk-label:hover label.sk-toggleable__label {background-color: #d4ebff;}#sk-container-id-1 div.sk-serial::before {content: \"\";position: absolute;border-left: 1px solid gray;box-sizing: border-box;top: 0;bottom: 0;left: 50%;z-index: 0;}#sk-container-id-1 div.sk-serial {display: flex;flex-direction: column;align-items: center;background-color: white;padding-right: 0.2em;padding-left: 0.2em;position: relative;}#sk-container-id-1 div.sk-item {position: relative;z-index: 1;}#sk-container-id-1 div.sk-parallel {display: flex;align-items: stretch;justify-content: center;background-color: white;position: relative;}#sk-container-id-1 div.sk-item::before, #sk-container-id-1 div.sk-parallel-item::before {content: \"\";position: absolute;border-left: 1px solid gray;box-sizing: border-box;top: 0;bottom: 0;left: 50%;z-index: -1;}#sk-container-id-1 div.sk-parallel-item {display: flex;flex-direction: column;z-index: 1;position: relative;background-color: white;}#sk-container-id-1 div.sk-parallel-item:first-child::after {align-self: flex-end;width: 50%;}#sk-container-id-1 div.sk-parallel-item:last-child::after {align-self: flex-start;width: 50%;}#sk-container-id-1 div.sk-parallel-item:only-child::after {width: 0;}#sk-container-id-1 div.sk-dashed-wrapped {border: 1px dashed gray;margin: 0 0.4em 0.5em 0.4em;box-sizing: border-box;padding-bottom: 0.4em;background-color: white;}#sk-container-id-1 div.sk-label label {font-family: monospace;font-weight: bold;display: inline-block;line-height: 1.2em;}#sk-container-id-1 div.sk-label-container {text-align: center;}#sk-container-id-1 div.sk-container {/* jupyter's `normalize.less` sets `[hidden] { display: none; }` but bootstrap.min.css set `[hidden] { display: none !important; }` so we also need the `!important` here to be able to override the default hidden behavior on the sphinx rendered scikit-learn.org. See: https://github.com/scikit-learn/scikit-learn/issues/21755 */display: inline-block !important;position: relative;}#sk-container-id-1 div.sk-text-repr-fallback {display: none;}</style><div id=\"sk-container-id-1\" class=\"sk-top-container\"><div class=\"sk-text-repr-fallback\"><pre>RandomForestRegressor(max_depth=10, n_estimators=1000)</pre><b>In a Jupyter environment, please rerun this cell to show the HTML representation or trust the notebook. <br />On GitHub, the HTML representation is unable to render, please try loading this page with nbviewer.org.</b></div><div class=\"sk-container\" hidden><div class=\"sk-item\"><div class=\"sk-estimator sk-toggleable\"><input class=\"sk-toggleable__control sk-hidden--visually\" id=\"sk-estimator-id-1\" type=\"checkbox\" checked><label for=\"sk-estimator-id-1\" class=\"sk-toggleable__label sk-toggleable__label-arrow\">RandomForestRegressor</label><div class=\"sk-toggleable__content\"><pre>RandomForestRegressor(max_depth=10, n_estimators=1000)</pre></div></div></div></div></div>"
      ],
      "text/plain": [
       "RandomForestRegressor(max_depth=10, n_estimators=1000)"
      ]
     },
     "execution_count": 4,
     "metadata": {},
     "output_type": "execute_result"
    }
   ],
   "source": [
    "X, y = make_regression(n_samples=400, n_features=16, n_informative=8,random_state=0, shuffle=False)\n",
    "\n",
    "model = sklearn.ensemble.RandomForestRegressor(n_estimators=1000, max_depth=10)\n",
    "model.fit(X, y)"
   ]
  },
  {
   "cell_type": "code",
   "execution_count": 5,
   "id": "c255f492",
   "metadata": {},
   "outputs": [],
   "source": [
    "# bst = xgboost.train({\"learning_rate\": 0.01, \"max_depth\": 4}, xgboost.DMatrix(X, label=y), 1000)"
   ]
  },
  {
   "cell_type": "code",
   "execution_count": 6,
   "id": "5ef0ac44",
   "metadata": {},
   "outputs": [],
   "source": [
    "# start = time.time()\n",
    "# shap_values = bst.predict(xgboost.DMatrix(X), pred_contribs=True)\n",
    "# print(time.time() - start)\n"
   ]
  },
  {
   "cell_type": "code",
   "execution_count": 7,
   "id": "791432a8",
   "metadata": {},
   "outputs": [
    {
     "data": {
      "text/plain": [
       "array([[ 1.76405235,  0.40015721,  0.97873798, ...,  0.12167502,\n",
       "         0.44386323,  0.33367433],\n",
       "       [ 1.49407907, -0.20515826,  0.3130677 , ...,  1.46935877,\n",
       "         0.15494743,  0.37816252],\n",
       "       [-0.88778575, -1.98079647, -0.34791215, ..., -0.4380743 ,\n",
       "        -1.25279536,  0.77749036],\n",
       "       ...,\n",
       "       [ 0.65717883,  0.69047822,  0.95895162, ..., -0.46446719,\n",
       "        -0.93891651,  1.21233882],\n",
       "       [-0.13056054,  0.21230901,  1.20128792, ..., -0.28799758,\n",
       "        -1.45415099,  0.24241493],\n",
       "       [ 1.22379834, -0.85122832,  1.52658725, ...,  0.34265399,\n",
       "        -0.09796724, -0.24024461]])"
      ]
     },
     "execution_count": 7,
     "metadata": {},
     "output_type": "execute_result"
    }
   ],
   "source": [
    "from shap.explainers.pytree import *\n",
    "\n",
    "# x = X.head()\n",
    "# x = X[:1]\n",
    "x = X\n",
    "x"
   ]
  },
  {
   "cell_type": "code",
   "execution_count": 8,
   "id": "e5530426",
   "metadata": {},
   "outputs": [
    {
     "name": "stdout",
     "output_type": "stream",
     "text": [
      "ile drzew cext? 1000\n",
      "uruchamiam z BANZ=False\n",
      "using treeshap and cext\n",
      "here37\n",
      "using dense_Tree_pred\n"
     ]
    },
    {
     "data": {
      "text/plain": [
       "13.3692045211792"
      ]
     },
     "execution_count": 8,
     "metadata": {},
     "output_type": "execute_result"
    }
   ],
   "source": [
    "from shap import TreeExplainer as TreeCext\n",
    "start = time.time()\n",
    "res_shap_cext = TreeCext(model).shap_values(x, banz=False)\n",
    "time_shap_cext = time.time() - start\n",
    "time_shap_cext"
   ]
  },
  {
   "cell_type": "code",
   "execution_count": 9,
   "id": "ae2cf1db",
   "metadata": {
    "scrolled": true
   },
   "outputs": [
    {
     "name": "stdout",
     "output_type": "stream",
     "text": [
      "ile drzew cext? 1000\n",
      "uruchamiam z BANZ=True\n",
      "using treeshap and cext\n",
      "using BANZ\n",
      "using cext banz\n"
     ]
    },
    {
     "data": {
      "text/plain": [
       "10.391015768051147"
      ]
     },
     "execution_count": 9,
     "metadata": {},
     "output_type": "execute_result"
    }
   ],
   "source": [
    "start = time.time()\n",
    "res_banz_cext = TreeCext(model).shap_values(x, banz=True)\n",
    "time_banz_cext = time.time() - start\n",
    "time_banz_cext"
   ]
  },
  {
   "cell_type": "code",
   "execution_count": null,
   "id": "7c740851",
   "metadata": {},
   "outputs": [],
   "source": []
  },
  {
   "cell_type": "code",
   "execution_count": 10,
   "id": "961d45d6",
   "metadata": {},
   "outputs": [
    {
     "name": "stderr",
     "output_type": "stream",
     "text": [
      "Function load_boston is deprecated; `load_boston` is deprecated in 1.0 and will be removed in 1.2.\n",
      "\n",
      "    The Boston housing prices dataset has an ethical problem. You can refer to\n",
      "    the documentation of this function for further details.\n",
      "\n",
      "    The scikit-learn maintainers therefore strongly discourage the use of this\n",
      "    dataset unless the purpose of the code is to study and educate about\n",
      "    ethical issues in data science and machine learning.\n",
      "\n",
      "    In this special case, you can fetch the dataset from the original\n",
      "    source::\n",
      "\n",
      "        import pandas as pd\n",
      "        import numpy as np\n",
      "\n",
      "        data_url = \"http://lib.stat.cmu.edu/datasets/boston\"\n",
      "        raw_df = pd.read_csv(data_url, sep=\"\\s+\", skiprows=22, header=None)\n",
      "        data = np.hstack([raw_df.values[::2, :], raw_df.values[1::2, :2]])\n",
      "        target = raw_df.values[1::2, 2]\n",
      "\n",
      "    Alternative datasets include the California housing dataset (i.e.\n",
      "    :func:`~sklearn.datasets.fetch_california_housing`) and the Ames housing\n",
      "    dataset. You can load the datasets as follows::\n",
      "\n",
      "        from sklearn.datasets import fetch_california_housing\n",
      "        housing = fetch_california_housing()\n",
      "\n",
      "    for the California housing dataset and::\n",
      "\n",
      "        from sklearn.datasets import fetch_openml\n",
      "        housing = fetch_openml(name=\"house_prices\", as_frame=True)\n",
      "\n",
      "    for the Ames housing dataset.\n",
      "`early_stopping_rounds` in `fit` method is deprecated for better compatibility with scikit-learn, use `early_stopping_rounds` in constructor or`set_params` instead.\n"
     ]
    }
   ],
   "source": [
    "model = xgboost.XGBRegressor(n_estimators=1000, subsample=0.3)\n",
    "X,y = shap.datasets.boston()\n",
    "X = X.values\n",
    "X_train, X_test, y_train, y_test = train_test_split(X, y, random_state=0)\n",
    "model.fit(X_train, y_train, eval_set=[(X_test, y_test)], early_stopping_rounds=10, verbose=False)\n",
    "\n",
    "X_eval = X_test[:]\n",
    "y_eval = y_test[:]\n",
    "\n",
    "# use an independent masker\n",
    "masker = shap.maskers.Independent(X_train)\n",
    "pmasker = shap.maskers.Partition(X_train)\n"
   ]
  },
  {
   "cell_type": "code",
   "execution_count": 11,
   "id": "c9fc6e8d",
   "metadata": {},
   "outputs": [
    {
     "name": "stdout",
     "output_type": "stream",
     "text": [
      "ile drzew cext? 44\n",
      "here37\n",
      "using dense_Tree_pred\n",
      "ile drzew cext? 44\n",
      "here37\n",
      "using dense_Tree_pred\n",
      "ile drzew cext? 44\n",
      "here37\n",
      "using dense_Tree_pred\n",
      "uruchomiono zmieniony\n"
     ]
    }
   ],
   "source": [
    "explainers = [\n",
    "    (\"Tree\", shap.explainers.Tree(model, masker)),\n",
    "    (\"TreeBanz\", shap.explainers.Tree(model, masker, use_banz=True)),\n",
    "    (\"Tree approx.\", shap.explainers.Tree(model, masker, approximate=True)),\n",
    "    (\"Exact\", shap.explainers.Exact(model.predict, masker)),\n",
    "]"
   ]
  },
  {
   "cell_type": "code",
   "execution_count": 12,
   "id": "de26803f",
   "metadata": {},
   "outputs": [],
   "source": [
    "def run_explain(name, explainer, data):\n",
    "    start = time.time()\n",
    "    values = exp(data)\n",
    "    end = time.time()\n",
    "    print(\"name: {}, time: {}\".format(name, end - start))\n",
    "    return (name, values)"
   ]
  },
  {
   "cell_type": "code",
   "execution_count": 13,
   "id": "2afa770f",
   "metadata": {},
   "outputs": [
    {
     "name": "stdout",
     "output_type": "stream",
     "text": [
      "uruchamiam z BANZ=False\n",
      "using treeshap and cext\n",
      "here37\n",
      "using dense_Tree_pred\n",
      "uruchamiam z BANZ=True\n",
      "using treeshap and cext\n",
      "using BANZ\n",
      "uruchamiam z BANZ=False\n",
      "using treeshap and cext\n",
      "here37\n",
      "using dense_Tree_pred\n",
      "using cext banz\n"
     ]
    },
    {
     "name": "stderr",
     "output_type": "stream",
     "text": [
      "Exact explainer: 128it [00:15,  2.54it/s]                                                                                                                                                                                                                                                                       \n"
     ]
    },
    {
     "name": "stdout",
     "output_type": "stream",
     "text": [
      "name: Tree, time: 15.360111713409424\n"
     ]
    },
    {
     "name": "stderr",
     "output_type": "stream",
     "text": [
      "Exact explainer: 128it [00:15,  2.69it/s]                                                                                                                                                                                                                                                                       \n"
     ]
    },
    {
     "name": "stdout",
     "output_type": "stream",
     "text": [
      "name: TreeBanz, time: 15.96930742263794\n"
     ]
    },
    {
     "name": "stderr",
     "output_type": "stream",
     "text": [
      "Exact explainer: 128it [00:17,  2.84it/s]                                                                                                                                                                                                                                                                       \n"
     ]
    },
    {
     "name": "stdout",
     "output_type": "stream",
     "text": [
      "name: Tree approx., time: 17.635498523712158\n"
     ]
    },
    {
     "name": "stderr",
     "output_type": "stream",
     "text": [
      "Exact explainer: 128it [00:19,  2.78it/s]                                                                                                                                                                                                                                                                       "
     ]
    },
    {
     "name": "stdout",
     "output_type": "stream",
     "text": [
      "name: Exact, time: 19.060742616653442\n"
     ]
    },
    {
     "name": "stderr",
     "output_type": "stream",
     "text": [
      "\n"
     ]
    }
   ],
   "source": [
    "# # dry run to get all the code warmed up for valid runtime measurements\n",
    "for name, exp in explainers:\n",
    "    exp(X_eval[:1])\n",
    "\n",
    "# explain with all the explainers\n",
    "attributions = [run_explain(name, exp, X_eval) for name, exp in explainers]"
   ]
  },
  {
   "cell_type": "code",
   "execution_count": null,
   "id": "0bbd4fc5",
   "metadata": {},
   "outputs": [],
   "source": []
  },
  {
   "cell_type": "code",
   "execution_count": null,
   "id": "b0754c61",
   "metadata": {},
   "outputs": [],
   "source": []
  },
  {
   "cell_type": "code",
   "execution_count": 14,
   "id": "7d56d824",
   "metadata": {},
   "outputs": [
    {
     "ename": "Exception",
     "evalue": "Model type not supported by TreeExplainer: <class 'xgboost.sklearn.XGBRegressor'>",
     "output_type": "error",
     "traceback": [
      "\u001b[0;31m---------------------------------------------------------------------------\u001b[0m",
      "\u001b[0;31mException\u001b[0m                                 Traceback (most recent call last)",
      "Input \u001b[0;32mIn [14]\u001b[0m, in \u001b[0;36m<cell line: 1>\u001b[0;34m()\u001b[0m\n\u001b[0;32m----> 1\u001b[0m ex \u001b[38;5;241m=\u001b[39m \u001b[43mTreeExplainer\u001b[49m\u001b[43m(\u001b[49m\u001b[43mmodel\u001b[49m\u001b[43m)\u001b[49m\n\u001b[1;32m      2\u001b[0m start \u001b[38;5;241m=\u001b[39m time\u001b[38;5;241m.\u001b[39mtime()\n\u001b[1;32m      3\u001b[0m res_shap_py \u001b[38;5;241m=\u001b[39m ex\u001b[38;5;241m.\u001b[39mshap_values(x)\n",
      "File \u001b[0;32m~/projects/shap/venv/lib/python3.10/site-packages/shap-0.40.1-py3.10-linux-x86_64.egg/shap/explainers/pytree.py:161\u001b[0m, in \u001b[0;36mTreeExplainer.__init__\u001b[0;34m(self, model, **kwargs)\u001b[0m\n\u001b[1;32m    159\u001b[0m     \u001b[38;5;28mself\u001b[39m\u001b[38;5;241m.\u001b[39mtrees \u001b[38;5;241m=\u001b[39m model\n\u001b[1;32m    160\u001b[0m \u001b[38;5;28;01melse\u001b[39;00m:\n\u001b[0;32m--> 161\u001b[0m     \u001b[38;5;28;01mraise\u001b[39;00m \u001b[38;5;167;01mException\u001b[39;00m(\u001b[38;5;124m\"\u001b[39m\u001b[38;5;124mModel type not supported by TreeExplainer: \u001b[39m\u001b[38;5;124m\"\u001b[39m \u001b[38;5;241m+\u001b[39m \u001b[38;5;28mstr\u001b[39m(\u001b[38;5;28mtype\u001b[39m(model)))\n\u001b[1;32m    162\u001b[0m \u001b[38;5;66;03m# self.trees = [self.trees[len(self.trees) - 1]]\u001b[39;00m\n\u001b[1;32m    164\u001b[0m \u001b[38;5;28;01mif\u001b[39;00m \u001b[38;5;28mself\u001b[39m\u001b[38;5;241m.\u001b[39mmodel_type \u001b[38;5;241m==\u001b[39m \u001b[38;5;124m\"\u001b[39m\u001b[38;5;124minternal\u001b[39m\u001b[38;5;124m\"\u001b[39m:\n\u001b[1;32m    165\u001b[0m     \u001b[38;5;66;03m# Preallocate space for the unique path data\u001b[39;00m\n",
      "\u001b[0;31mException\u001b[0m: Model type not supported by TreeExplainer: <class 'xgboost.sklearn.XGBRegressor'>"
     ]
    }
   ],
   "source": [
    "ex = TreeExplainer(model)\n",
    "start = time.time()\n",
    "res_shap_py = ex.shap_values(x)\n",
    "time_shap_py = time.time() - start"
   ]
  },
  {
   "cell_type": "code",
   "execution_count": null,
   "id": "6ad6cc0f",
   "metadata": {
    "scrolled": true
   },
   "outputs": [],
   "source": [
    "start = time.time()\n",
    "res_banz_py = ex.banz_values(x)\n",
    "time_banz_py = time.time() - start"
   ]
  },
  {
   "cell_type": "code",
   "execution_count": null,
   "id": "159df599",
   "metadata": {
    "scrolled": true
   },
   "outputs": [],
   "source": []
  },
  {
   "cell_type": "code",
   "execution_count": null,
   "id": "2ec44ed3",
   "metadata": {},
   "outputs": [],
   "source": [
    "line = np.asarray(x[:1])\n",
    "ex.brute_banz(line[0], 0)"
   ]
  },
  {
   "cell_type": "code",
   "execution_count": null,
   "id": "12c7c911",
   "metadata": {},
   "outputs": [],
   "source": [
    "ex.brute_shap(line[0], 0)"
   ]
  },
  {
   "cell_type": "code",
   "execution_count": null,
   "id": "c1cbd11d",
   "metadata": {},
   "outputs": [],
   "source": []
  },
  {
   "cell_type": "code",
   "execution_count": null,
   "id": "b227893d",
   "metadata": {},
   "outputs": [],
   "source": [
    "results_dict_cext = {}\n",
    "results_dict_cext['banz'] = {}\n",
    "results_dict_cext['shap'] = {}"
   ]
  },
  {
   "cell_type": "code",
   "execution_count": null,
   "id": "b1ae57c2",
   "metadata": {},
   "outputs": [],
   "source": [
    "for i in range(1, 10):\n",
    "    X, y = make_regression(n_samples=200 * i, n_features=16, n_informative=8,random_state=0, shuffle=False)\n",
    "\n",
    "    model = sklearn.ensemble.RandomForestRegressor(n_estimators=1000 + 100 * i, max_depth=10 + i)\n",
    "    model.fit(X, y)\n",
    "    \n",
    "    start = time.time()\n",
    "    res_shap_cext = TreeCext(model).shap_values(x, banz=False)\n",
    "    res_shap = time.time() - start\n",
    "    \n",
    "    start = time.time()\n",
    "    res_banz_cext = TreeCext(model).shap_values(x, banz=True)\n",
    "    res_banz = time.time() - start\n",
    "    \n",
    "    print(res_shap)\n",
    "    print(res_banz)\n",
    "    results_dict_cext['banz'][i] = res_banz\n",
    "    results_dict_cext['shap'][i] = res_shap\n",
    "    "
   ]
  },
  {
   "cell_type": "code",
   "execution_count": null,
   "id": "7ca2a77d",
   "metadata": {},
   "outputs": [],
   "source": [
    "x = [i for i in results_dict_cext['banz']]\n",
    "a1 = [results_dict_cext['banz'][i] for i in results_dict_cext['banz']]\n",
    "a2 = [results_dict_cext['shap'][i] for i in results_dict_cext['shap']]\n",
    "\n",
    "y_values = {\"banz\": a1, \"treeshap\": a2}\n",
    "labels = [\"BANZ\", \"TREESHAP\"]\n",
    "\n",
    "fig, ax = plt.subplots()\n",
    "ax.stackplot(x, y_values.values(), labels=labels)\n",
    "\n",
    "ax.legend(loc='upper left')\n",
    "plt.show()"
   ]
  },
  {
   "cell_type": "code",
   "execution_count": null,
   "id": "94305fcc",
   "metadata": {},
   "outputs": [],
   "source": [
    "results_dict_py = {}\n",
    "results_dict_py['banz'] = {}\n",
    "results_dict_py['shap'] = {}"
   ]
  },
  {
   "cell_type": "code",
   "execution_count": null,
   "id": "92b31f0a",
   "metadata": {},
   "outputs": [],
   "source": [
    "for i in range(1, 10):\n",
    "    X, y = make_regression(n_samples=100 + 25 * i, n_features=6, n_informative=2,random_state=0, shuffle=False)\n",
    "\n",
    "    model = sklearn.ensemble.RandomForestRegressor(n_estimators=100 + 25 * i, max_depth=4)\n",
    "    model.fit(X, y)\n",
    "    \n",
    "    ex = TreeExplainer(model)\n",
    "    print('created model')\n",
    "    start = time.time()\n",
    "    res_shap_py = ex.shap_values(X)\n",
    "    time_shap_py = time.time() - start\n",
    "    \n",
    "    start = time.time()\n",
    "    res_banz_py = ex.banz_values(X)\n",
    "    time_banz_py = time.time() - start\n",
    "    \n",
    "    print(res_shap_py)\n",
    "    print(res_banz_py)\n",
    "    results_dict_py['banz'][i] = time_banz_py\n",
    "    results_dict_py['shap'][i] = time_shap_py\n",
    "    "
   ]
  },
  {
   "cell_type": "code",
   "execution_count": null,
   "id": "dd0d64a7",
   "metadata": {},
   "outputs": [],
   "source": [
    "x = [i for i in results_dict_py['banz']]\n",
    "a1 = [results_dict_py['banz'][i] for i in results_dict_py['banz']]\n",
    "a2 = [results_dict_py['shap'][i] for i in results_dict_py['shap']]\n",
    "\n",
    "y_values = {\"banz\": a1, \"treeshap\": a2}\n",
    "labels = [\"BANZ\", \"TREESHAP\"]\n",
    "\n",
    "fig, ax = plt.subplots()\n",
    "ax.stackplot(x, y_values.values(), labels=labels)\n",
    "\n",
    "ax.legend(loc='upper left')\n",
    "plt.show()"
   ]
  },
  {
   "cell_type": "code",
   "execution_count": null,
   "id": "a4a4a9fe",
   "metadata": {},
   "outputs": [],
   "source": []
  },
  {
   "cell_type": "code",
   "execution_count": null,
   "id": "028a93ff",
   "metadata": {},
   "outputs": [],
   "source": [
    "len(a1)"
   ]
  },
  {
   "cell_type": "code",
   "execution_count": null,
   "id": "3ee940d4",
   "metadata": {},
   "outputs": [],
   "source": [
    "len(a2)"
   ]
  },
  {
   "cell_type": "code",
   "execution_count": null,
   "id": "dc8596c7",
   "metadata": {},
   "outputs": [],
   "source": []
  },
  {
   "cell_type": "code",
   "execution_count": null,
   "id": "629e4d9f",
   "metadata": {},
   "outputs": [],
   "source": [
    "\n"
   ]
  },
  {
   "cell_type": "code",
   "execution_count": null,
   "id": "f62c8bd2",
   "metadata": {},
   "outputs": [],
   "source": []
  }
 ],
 "metadata": {
  "kernelspec": {
   "display_name": "Python 3 (ipykernel)",
   "language": "python",
   "name": "python3"
  },
  "language_info": {
   "codemirror_mode": {
    "name": "ipython",
    "version": 3
   },
   "file_extension": ".py",
   "mimetype": "text/x-python",
   "name": "python",
   "nbconvert_exporter": "python",
   "pygments_lexer": "ipython3",
   "version": "3.10.6"
  }
 },
 "nbformat": 4,
 "nbformat_minor": 5
}
