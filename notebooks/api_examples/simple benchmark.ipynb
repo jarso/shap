{
 "cells": [
  {
   "cell_type": "code",
   "execution_count": 1,
   "id": "102718eb",
   "metadata": {},
   "outputs": [
    {
     "name": "stdout",
     "output_type": "stream",
     "text": [
      "3.10.6 (main, Nov  2 2022, 18:53:38) [GCC 11.3.0]\n"
     ]
    },
    {
     "name": "stderr",
     "output_type": "stream",
     "text": [
      "/home/jarek/projects/shap/venv/lib/python3.10/site-packages/tqdm/auto.py:22: TqdmWarning: IProgress not found. Please update jupyter and ipywidgets. See https://ipywidgets.readthedocs.io/en/stable/user_install.html\n",
      "  from .autonotebook import tqdm as notebook_tqdm\n"
     ]
    }
   ],
   "source": [
    "import sys\n",
    "print(sys.version)\n",
    "\n",
    "import sklearn.ensemble\n",
    "import shap\n",
    "import numpy as np\n",
    "import numba\n",
    "import time\n",
    "import json\n",
    "import xgboost\n",
    "from sklearn.datasets import make_regression\n",
    "from sklearn.model_selection import train_test_split\n",
    "\n",
    "import matplotlib.pyplot as plt\n",
    "import seaborn as sns\n",
    "\n",
    "from sklearn.model_selection import train_test_split\n",
    "import shap.benchmark\n",
    "\n",
    "from shap import TreeExplainer as TreeCext\n",
    "\n",
    "from shap.explainers.pytree import *"
   ]
  },
  {
   "cell_type": "code",
   "execution_count": null,
   "id": "d072a5d8",
   "metadata": {},
   "outputs": [],
   "source": []
  },
  {
   "cell_type": "code",
   "execution_count": 2,
   "id": "5a1f0678",
   "metadata": {},
   "outputs": [
    {
     "name": "stdout",
     "output_type": "stream",
     "text": [
      "['CRIM', 'ZN', 'INDUS', 'CHAS', 'NOX', 'RM', 'AGE', 'DIS', 'RAD', 'TAX', 'PTRATIO', 'B', 'LSTAT']\n",
      "13\n",
      "(506, 13)\n",
      "(506,)\n"
     ]
    },
    {
     "name": "stderr",
     "output_type": "stream",
     "text": [
      "Function load_boston is deprecated; `load_boston` is deprecated in 1.0 and will be removed in 1.2.\n",
      "\n",
      "    The Boston housing prices dataset has an ethical problem. You can refer to\n",
      "    the documentation of this function for further details.\n",
      "\n",
      "    The scikit-learn maintainers therefore strongly discourage the use of this\n",
      "    dataset unless the purpose of the code is to study and educate about\n",
      "    ethical issues in data science and machine learning.\n",
      "\n",
      "    In this special case, you can fetch the dataset from the original\n",
      "    source::\n",
      "\n",
      "        import pandas as pd\n",
      "        import numpy as np\n",
      "\n",
      "        data_url = \"http://lib.stat.cmu.edu/datasets/boston\"\n",
      "        raw_df = pd.read_csv(data_url, sep=\"\\s+\", skiprows=22, header=None)\n",
      "        data = np.hstack([raw_df.values[::2, :], raw_df.values[1::2, :2]])\n",
      "        target = raw_df.values[1::2, 2]\n",
      "\n",
      "    Alternative datasets include the California housing dataset (i.e.\n",
      "    :func:`~sklearn.datasets.fetch_california_housing`) and the Ames housing\n",
      "    dataset. You can load the datasets as follows::\n",
      "\n",
      "        from sklearn.datasets import fetch_california_housing\n",
      "        housing = fetch_california_housing()\n",
      "\n",
      "    for the California housing dataset and::\n",
      "\n",
      "        from sklearn.datasets import fetch_openml\n",
      "        housing = fetch_openml(name=\"house_prices\", as_frame=True)\n",
      "\n",
      "    for the Ames housing dataset.\n"
     ]
    }
   ],
   "source": [
    "np.set_printoptions(threshold=sys.maxsize)\n",
    "# X,y = shap.datasets.communitiesandcrime()\n",
    "X,y = shap.datasets.boston()\n",
    "print(X.columns.values.tolist())\n",
    "print(len(X.columns.values.tolist()))\n",
    "\n",
    "print(X.shape)\n",
    "print(y.shape)"
   ]
  },
  {
   "cell_type": "code",
   "execution_count": null,
   "id": "03124742",
   "metadata": {},
   "outputs": [],
   "source": [
    "# Zobaczmy na tym datasecie jaka glebokosc daje najlepsze wyszkolenie\n",
    "\n",
    "X,y = shap.datasets.boston()\n",
    "X = X.values\n",
    "X_train, X_test, y_train, y_test = train_test_split(X, y, random_state=0)\n",
    "\n",
    "scores = {}\n",
    "mean = 5\n",
    "\n",
    "for i in range(1,13):\n",
    "    pass\n",
    "    print(i)\n",
    "    scores[i] = 0\n",
    "    for j in range(mean):\n",
    "        model = sklearn.ensemble.RandomForestRegressor(n_estimators=1000, max_depth=i)\n",
    "        model.fit(X_train, y_train)\n",
    "        scores[i] = scores[i] + model.score(X_test, y_test)\n",
    "    scores[i] = scores[i] / mean\n",
    "\n",
    "scores"
   ]
  },
  {
   "cell_type": "code",
   "execution_count": null,
   "id": "e5b5c23d",
   "metadata": {},
   "outputs": [],
   "source": [
    "def item_generator(json_input, lookup_key):\n",
    "    if isinstance(json_input, dict):\n",
    "        for k, v in json_input.items():\n",
    "            if k == lookup_key:\n",
    "                yield v\n",
    "            else:\n",
    "                yield from item_generator(v, lookup_key)\n",
    "    elif isinstance(json_input, list):\n",
    "        for item in json_input:\n",
    "            yield from item_generator(item, lookup_key)\n",
    "\n",
    "def tree_depth(json_text):\n",
    "    json_input = json.loads(json_text)\n",
    "    return max(list(item_generator(json_input, 'depth'))) + 1\n"
   ]
  },
  {
   "cell_type": "code",
   "execution_count": null,
   "id": "f40077cf",
   "metadata": {},
   "outputs": [],
   "source": []
  },
  {
   "cell_type": "code",
   "execution_count": null,
   "id": "eb3c5546",
   "metadata": {},
   "outputs": [],
   "source": [
    "# Zobaczmy na tym datasecie jaka glebokosc daje najlepsze wyszkolenie\n",
    "\n",
    "X,y = shap.datasets.boston()\n",
    "X = X.values\n",
    "X_train, X_test, y_train, y_test = train_test_split(X, y, random_state=0)\n",
    "\n",
    "scores = {}\n",
    "mean_depths = {}\n",
    "stddev_depths = {}\n",
    "\n",
    "mean = 10\n",
    "\n",
    "for i in range(1,32,32):\n",
    "    print(i)\n",
    "    scores[i] = 0\n",
    "    mean_depths[i] = 0\n",
    "    stddev_depths[i] = 0\n",
    "    for j in range(mean):\n",
    "        model = xgboost.XGBRegressor(n_estimators=1000, max_depth=i, subsample=0.3)\n",
    "        X_train, X_test, y_train, y_test = train_test_split(X, y, random_state=0)\n",
    "        model.fit(X_train, y_train, eval_set=[(X_test, y_test)], early_stopping_rounds=10, verbose=False)\n",
    "        scores[i] = scores[i] + model.score(X_test, y_test)\n",
    "        \n",
    "        booster = model.get_booster()\n",
    "        tree_df = booster.trees_to_dataframe()\n",
    "        print(\"rysuje drzewo\")\n",
    "        xgboost.plotting.plot_tree(booster)\n",
    "        depths = [tree_depth(x) for x in booster.get_dump(dump_format = \"json\")]\n",
    "        mean_depths[i] = mean_depths[i] + np.mean(depths)\n",
    "        stddev_depths[i] = stddev_depths[i] + np.std(depths)\n",
    "        \n",
    "    scores[i] = scores[i] / mean\n",
    "    mean_depths[i] = mean_depths[i] / mean\n",
    "    stddev_depths[i] = stddev_depths[i] / mean\n",
    "\n",
    "print(scores)\n",
    "print(mean_depths)\n",
    "print(stddev_depths)"
   ]
  },
  {
   "cell_type": "code",
   "execution_count": null,
   "id": "0d2635e1",
   "metadata": {},
   "outputs": [],
   "source": [
    "model = xgboost.XGBRegressor(n_estimators=1000, max_depth=5, subsample=0.3)\n",
    "X_train, X_test, y_train, y_test = train_test_split(X, y, random_state=0)\n",
    "model.fit(X_train, y_train, eval_set=[(X_test, y_test)], early_stopping_rounds=10, verbose=False)\n",
    "\n",
    "booster = model.get_booster()\n",
    "tree_df = booster.trees_to_dataframe()"
   ]
  },
  {
   "cell_type": "code",
   "execution_count": null,
   "id": "addb1b9a",
   "metadata": {},
   "outputs": [],
   "source": [
    "tree_df"
   ]
  },
  {
   "cell_type": "code",
   "execution_count": null,
   "id": "fbba67ed",
   "metadata": {},
   "outputs": [],
   "source": [
    "plt.plot([x * 10 for x in scores.values()])\n",
    "plt.plot(mean_depths.values())\n",
    "plt.plot(stddev_depths.values())\n",
    "\n",
    "plt.show()\n",
    "\n",
    "# wychodza glebokosci po 13 jak da mu sie wolna reke"
   ]
  },
  {
   "cell_type": "code",
   "execution_count": null,
   "id": "31105c4e",
   "metadata": {},
   "outputs": [],
   "source": []
  },
  {
   "cell_type": "code",
   "execution_count": null,
   "id": "58738ffc",
   "metadata": {},
   "outputs": [],
   "source": [
    "res_shap_cext = {}\n",
    "res_banz_cext = {}\n",
    "\n",
    "time_shap_cext = {}\n",
    "time_banz_cext = {}"
   ]
  },
  {
   "cell_type": "code",
   "execution_count": null,
   "id": "af13298f",
   "metadata": {},
   "outputs": [],
   "source": [
    "for j in range (1, 10, 2):\n",
    "    if (j != 1):\n",
    "        pass\n",
    "    for i in range(100, 1000, 100):\n",
    "        model = sklearn.ensemble.RandomForestRegressor(n_estimators=i, max_depth=13)\n",
    "        model.fit(X, y)\n",
    "\n",
    "        start = time.time()\n",
    "        res_shap_cext[(i, j)] = TreeCext(model).shap_values(X, banz=False)\n",
    "        time_shap_cext[(i, j)] = time.time() - start\n",
    "        print(time_shap_cext[(i, j)])\n",
    "\n",
    "        start = time.time()\n",
    "        res_banz_cext[(i, j)] = TreeCext(model).shap_values(X, banz=True)\n",
    "        time_banz_cext[(i, j)] = time.time() - start\n",
    "        print(time_banz_cext[(i, j)])"
   ]
  },
  {
   "cell_type": "code",
   "execution_count": 3,
   "id": "de26803f",
   "metadata": {},
   "outputs": [],
   "source": [
    "def run_explain(name, explainer, data):\n",
    "    start = time.time()\n",
    "    values = explainer(data)\n",
    "    end = time.time()\n",
    "    print(\"name: {}, time: {}\".format(name, end - start))\n",
    "    return [name, values, end - start]"
   ]
  },
  {
   "cell_type": "code",
   "execution_count": 4,
   "id": "961d45d6",
   "metadata": {},
   "outputs": [
    {
     "name": "stderr",
     "output_type": "stream",
     "text": [
      "`early_stopping_rounds` in `fit` method is deprecated for better compatibility with scikit-learn, use `early_stopping_rounds` in constructor or`set_params` instead.\n"
     ]
    },
    {
     "name": "stdout",
     "output_type": "stream",
     "text": [
      "ile drzew cext? 44\n",
      "here37\n",
      "using dense_Tree_pred\n",
      "ile drzew cext? 44\n",
      "here37\n",
      "using dense_Tree_pred\n",
      "uruchamiam z BANZ=False\n",
      "using treeshap and cext\n",
      "here37\n",
      "using dense_Tree_pred\n",
      "oto values:\n",
      "[[ 0.21318493  0.07722376  0.73802213 -0.04667417 -0.31501428 -1.65673445\n",
      "   1.11148392 -0.94555685 -0.72587374 -1.9199459  -0.31327988  0.48039251\n",
      "   2.53480239]]\n",
      "name: Tree, time: 0.002173900604248047\n",
      "uruchamiam z BANZ=True\n",
      "using treeshap and cext\n",
      "using BANZ\n",
      "oto values:\n",
      "[[ 2.00278505  0.42326217 -0.12131251 -0.02057446  1.70961959 -2.12784965\n",
      "   1.76104569 -0.32109785 -0.4278016  -2.93084135  1.04772015  0.99269615\n",
      "   2.82780679]]\n",
      "name: TreeBanz, time: 0.0005772113800048828\n",
      "ile drzew cext? 44\n",
      "here37\n",
      "using dense_Tree_pred\n",
      "ile drzew cext? 44\n",
      "here37\n",
      "using dense_Tree_pred\n",
      "uruchamiam z BANZ=False\n",
      "using treeshap and cext\n",
      "here37\n",
      "using dense_Tree_pred\n",
      "oto values:\n",
      "[[ 0.21318493  0.07722376  0.73802213 -0.04667417 -0.31501428 -1.65673445\n",
      "   1.11148392 -0.94555685 -0.72587374 -1.9199459  -0.31327988  0.48039251\n",
      "   2.53480239]]\n",
      "name: Tree, time: 0.0026390552520751953\n",
      "uruchamiam z BANZ=True\n",
      "using treeshap and cext\n",
      "using BANZ\n",
      "oto values:\n",
      "[[ 2.00278505  0.42326217 -0.12131251 -0.02057446  1.70961959 -2.12784965\n",
      "   1.76104569 -0.32109785 -0.4278016  -2.93084135  1.04772015  0.99269615\n",
      "   2.82780679]]\n",
      "name: TreeBanz, time: 0.0005373954772949219\n",
      "ile drzew cext? 44\n",
      "here37\n",
      "using dense_Tree_pred\n",
      "ile drzew cext? 44\n",
      "here37\n",
      "using dense_Tree_pred\n",
      "uruchamiam z BANZ=False\n",
      "using treeshap and cext\n",
      "here37\n",
      "using dense_Tree_pred\n",
      "oto values:\n",
      "[[ 0.21318493  0.07722376  0.73802213 -0.04667417 -0.31501428 -1.65673445\n",
      "   1.11148392 -0.94555685 -0.72587374 -1.9199459  -0.31327988  0.48039251\n",
      "   2.53480239]]\n",
      "name: Tree, time: 0.002347707748413086\n",
      "uruchamiam z BANZ=True\n",
      "using treeshap and cext\n",
      "using BANZ\n",
      "oto values:\n",
      "[[ 2.00278505  0.42326217 -0.12131251 -0.02057446  1.70961959 -2.12784965\n",
      "   1.76104569 -0.32109785 -0.4278016  -2.93084135  1.04772015  0.99269615\n",
      "   2.82780679]]\n",
      "name: TreeBanz, time: 0.0006003379821777344\n",
      "ile drzew cext? 44\n",
      "here37\n",
      "using dense_Tree_pred\n",
      "ile drzew cext? 44\n",
      "here37\n",
      "using dense_Tree_pred\n",
      "uruchamiam z BANZ=False\n",
      "using treeshap and cext\n",
      "here37\n",
      "using dense_Tree_pred\n",
      "oto values:\n",
      "[[ 0.21318493  0.07722376  0.73802213 -0.04667417 -0.31501428 -1.65673445\n",
      "   1.11148392 -0.94555685 -0.72587374 -1.9199459  -0.31327988  0.48039251\n",
      "   2.53480239]]\n",
      "name: Tree, time: 0.0021092891693115234\n",
      "uruchamiam z BANZ=True\n",
      "using treeshap and cext\n",
      "using BANZ\n",
      "oto values:\n",
      "[[ 2.00278505  0.42326217 -0.12131251 -0.02057446  1.70961959 -2.12784965\n",
      "   1.76104569 -0.32109785 -0.4278016  -2.93084135  1.04772015  0.99269615\n",
      "   2.82780679]]\n",
      "name: TreeBanz, time: 0.000522613525390625\n",
      "ile drzew cext? 44\n",
      "here37\n",
      "using dense_Tree_pred\n",
      "ile drzew cext? 44\n",
      "here37\n",
      "using dense_Tree_pred\n",
      "uruchamiam z BANZ=False\n",
      "using treeshap and cext\n",
      "here37\n",
      "using dense_Tree_pred\n",
      "oto values:\n",
      "[[ 0.21318493  0.07722376  0.73802213 -0.04667417 -0.31501428 -1.65673445\n",
      "   1.11148392 -0.94555685 -0.72587374 -1.9199459  -0.31327988  0.48039251\n",
      "   2.53480239]]\n",
      "name: Tree, time: 0.002102375030517578\n",
      "uruchamiam z BANZ=True\n",
      "using treeshap and cext\n",
      "using BANZ\n",
      "oto values:\n",
      "[[ 2.00278505  0.42326217 -0.12131251 -0.02057446  1.70961959 -2.12784965\n",
      "   1.76104569 -0.32109785 -0.4278016  -2.93084135  1.04772015  0.99269615\n",
      "   2.82780679]]\n",
      "name: TreeBanz, time: 0.0005276203155517578\n",
      "ile drzew cext? 44\n",
      "here37\n",
      "using dense_Tree_pred\n",
      "ile drzew cext? 44\n",
      "here37\n",
      "using dense_Tree_pred\n",
      "uruchamiam z BANZ=False\n",
      "using treeshap and cext\n",
      "here37\n",
      "using dense_Tree_pred\n",
      "oto values:\n",
      "[[ 0.21318493  0.07722376  0.73802213 -0.04667417 -0.31501428 -1.65673445\n",
      "   1.11148392 -0.94555685 -0.72587374 -1.9199459  -0.31327988  0.48039251\n",
      "   2.53480239]]\n",
      "name: Tree, time: 0.002671957015991211\n",
      "uruchamiam z BANZ=True\n",
      "using treeshap and cext\n",
      "using BANZ\n",
      "oto values:\n",
      "[[ 2.00278505  0.42326217 -0.12131251 -0.02057446  1.70961959 -2.12784965\n",
      "   1.76104569 -0.32109785 -0.4278016  -2.93084135  1.04772015  0.99269615\n",
      "   2.82780679]]\n",
      "name: TreeBanz, time: 0.0007200241088867188\n",
      "ile drzew cext? 44\n",
      "here37\n",
      "using dense_Tree_pred\n",
      "ile drzew cext? 44\n",
      "here37\n",
      "using dense_Tree_pred\n",
      "uruchamiam z BANZ=False\n",
      "using treeshap and cext\n",
      "here37\n",
      "using dense_Tree_pred\n",
      "oto values:\n",
      "[[ 0.21318493  0.07722376  0.73802213 -0.04667417 -0.31501428 -1.65673445\n",
      "   1.11148392 -0.94555685 -0.72587374 -1.9199459  -0.31327988  0.48039251\n",
      "   2.53480239]]\n",
      "name: Tree, time: 0.002551555633544922\n",
      "uruchamiam z BANZ=True\n",
      "using treeshap and cext\n",
      "using BANZ\n",
      "oto values:\n",
      "[[ 2.00278505  0.42326217 -0.12131251 -0.02057446  1.70961959 -2.12784965\n",
      "   1.76104569 -0.32109785 -0.4278016  -2.93084135  1.04772015  0.99269615\n",
      "   2.82780679]]\n",
      "name: TreeBanz, time: 0.0005953311920166016\n",
      "ile drzew cext? 44\n",
      "here37\n",
      "using dense_Tree_pred\n",
      "ile drzew cext? 44\n",
      "here37\n",
      "using dense_Tree_pred\n",
      "uruchamiam z BANZ=False\n",
      "using treeshap and cext\n",
      "here37\n",
      "using dense_Tree_pred\n",
      "oto values:\n",
      "[[ 0.21318493  0.07722376  0.73802213 -0.04667417 -0.31501428 -1.65673445\n",
      "   1.11148392 -0.94555685 -0.72587374 -1.9199459  -0.31327988  0.48039251\n",
      "   2.53480239]]\n",
      "name: Tree, time: 0.002923250198364258\n",
      "uruchamiam z BANZ=True\n",
      "using treeshap and cext\n",
      "using BANZ\n",
      "oto values:\n",
      "[[ 2.00278505  0.42326217 -0.12131251 -0.02057446  1.70961959 -2.12784965\n",
      "   1.76104569 -0.32109785 -0.4278016  -2.93084135  1.04772015  0.99269615\n",
      "   2.82780679]]\n",
      "name: TreeBanz, time: 0.0008318424224853516\n",
      "ile drzew cext? 44\n",
      "here37\n",
      "using dense_Tree_pred\n",
      "ile drzew cext? 44\n",
      "here37\n",
      "using dense_Tree_pred\n",
      "uruchamiam z BANZ=False\n",
      "using treeshap and cext\n",
      "here37\n",
      "using dense_Tree_pred\n",
      "oto values:\n",
      "[[ 0.21318493  0.07722376  0.73802213 -0.04667417 -0.31501428 -1.65673445\n",
      "   1.11148392 -0.94555685 -0.72587374 -1.9199459  -0.31327988  0.48039251\n",
      "   2.53480239]]\n",
      "name: Tree, time: 0.002502918243408203\n",
      "uruchamiam z BANZ=True\n",
      "using treeshap and cext\n",
      "using BANZ\n",
      "oto values:\n",
      "[[ 2.00278505  0.42326217 -0.12131251 -0.02057446  1.70961959 -2.12784965\n",
      "   1.76104569 -0.32109785 -0.4278016  -2.93084135  1.04772015  0.99269615\n",
      "   2.82780679]]\n",
      "name: TreeBanz, time: 0.0007143020629882812\n",
      "ile drzew cext? 44\n",
      "here37\n",
      "using dense_Tree_pred\n",
      "ile drzew cext? 44\n",
      "here37\n",
      "using dense_Tree_pred\n",
      "uruchamiam z BANZ=False\n",
      "using treeshap and cext\n",
      "here37\n",
      "using dense_Tree_pred\n",
      "oto values:\n",
      "[[ 0.21318493  0.07722376  0.73802213 -0.04667417 -0.31501428 -1.65673445\n",
      "   1.11148392 -0.94555685 -0.72587374 -1.9199459  -0.31327988  0.48039251\n",
      "   2.53480239]]\n",
      "name: Tree, time: 0.0019898414611816406\n",
      "uruchamiam z BANZ=True\n",
      "using treeshap and cext\n",
      "using BANZ\n",
      "oto values:\n",
      "[[ 2.00278505  0.42326217 -0.12131251 -0.02057446  1.70961959 -2.12784965\n",
      "   1.76104569 -0.32109785 -0.4278016  -2.93084135  1.04772015  0.99269615\n",
      "   2.82780679]]\n",
      "name: TreeBanz, time: 0.0005748271942138672\n"
     ]
    }
   ],
   "source": [
    "attributions = {}\n",
    "\n",
    "for i in range(1000, 2000, 100):\n",
    "    model = xgboost.XGBRegressor(n_estimators=1000, max_depth=32, subsample=0.3)\n",
    "    X_train, X_test, y_train, y_test = train_test_split(X, y, random_state=0)\n",
    "    model.fit(X_train, y_train, eval_set=[(X_test, y_test)], early_stopping_rounds=10, verbose=False)\n",
    "\n",
    "    X_eval = X_test[:1]\n",
    "    y_eval = y_test[:1]\n",
    "\n",
    "    # use an independent masker\n",
    "    masker = shap.maskers.Independent(X_train)\n",
    "    pmasker = shap.maskers.Partition(X_train)\n",
    "\n",
    "    explainers = [\n",
    "        (\"Tree\", shap.explainers.Tree(model, masker)),\n",
    "        (\"TreeBanz\", shap.explainers.Tree(model, masker, use_banz=True)),\n",
    "    #     (\"Tree approx.\", shap.explainers.Tree(model, masker, approximate=True)),\n",
    "    #     (\"Exact\", shap.explainers.Exact(model.predict, masker)),\n",
    "    ]\n",
    "\n",
    "    attributions[i] = [run_explain(name, exp, X_eval) for name, exp in explainers]"
   ]
  },
  {
   "cell_type": "code",
   "execution_count": 10,
   "id": "c9fc6e8d",
   "metadata": {},
   "outputs": [
    {
     "name": "stdout",
     "output_type": "stream",
     "text": [
      ".values =\n",
      "array([[ 0.21318493,  0.07722376,  0.73802213, -0.04667417, -0.31501428,\n",
      "        -1.65673445,  1.11148392, -0.94555685, -0.72587374, -1.9199459 ,\n",
      "        -0.31327988,  0.48039251,  2.53480239]])\n",
      "\n",
      ".base_values =\n",
      "array([21.40108713])\n",
      "\n",
      ".data =\n",
      "array([[6.7240e-02, 0.0000e+00, 3.2400e+00, 0.0000e+00, 4.6000e-01,\n",
      "        6.3330e+00, 1.7200e+01, 5.2146e+00, 4.0000e+00, 4.3000e+02,\n",
      "        1.6900e+01, 3.7521e+02, 7.3400e+00]])\n"
     ]
    },
    {
     "data": {
      "image/png": "[encoded data removed]",
      "text/plain": [
       "<Figure size 432x288 with 1 Axes>"
      ]
     },
     "metadata": {
      "needs_background": "light"
     },
     "output_type": "display_data"
    },
    {
     "data": {
      "image/png": "[encoded data removed]",
      "text/plain": [
       "<Figure size 576x468 with 3 Axes>"
      ]
     },
     "metadata": {},
     "output_type": "display_data"
    },
    {
     "data": {
      "image/png": "[encoded data removed]",
      "text/plain": [
       "<Figure size 576x468 with 3 Axes>"
      ]
     },
     "metadata": {},
     "output_type": "display_data"
    }
   ],
   "source": [
    "a = attributions[1000]\n",
    "print(a[0][1])\n",
    "\n",
    "\n",
    "plt.stackplot(range(len(a[0][1].values[0])), a[0][1].values[0], a[1][1].values[0])\n",
    "# plt.subplot(a)\n",
    "plt.show()\n",
    "\n",
    "shap.plots.waterfall(a[0][1][0]) #tree\n",
    "shap.plots.waterfall(a[1][1][0]) #treeBanz"
   ]
  },
  {
   "cell_type": "code",
   "execution_count": 6,
   "id": "cdb9e284",
   "metadata": {},
   "outputs": [
    {
     "data": {
      "image/png": "[encoded data removed]",
      "text/plain": [
       "<Figure size 576x396 with 2 Axes>"
      ]
     },
     "metadata": {
      "needs_background": "light"
     },
     "output_type": "display_data"
    },
    {
     "data": {
      "image/png": "[encoded data removed]",
      "text/plain": [
       "<Figure size 576x396 with 2 Axes>"
      ]
     },
     "metadata": {
      "needs_background": "light"
     },
     "output_type": "display_data"
    }
   ],
   "source": [
    "shap.plots.beeswarm(a[0][1])\n",
    "shap.plots.beeswarm(a[1][1])"
   ]
  },
  {
   "cell_type": "code",
   "execution_count": null,
   "id": "2afa770f",
   "metadata": {},
   "outputs": [],
   "source": [
    "# # dry run to get all the code warmed up for valid runtime measurements\n",
    "# for name, exp in explainers:\n",
    "#     exp(X_eval[:1])\n",
    "\n",
    "# explain with all the explainers\n",
    "attributions = [run_explain(name, exp, X_eval) for name, exp in explainers]"
   ]
  },
  {
   "cell_type": "code",
   "execution_count": null,
   "id": "2a3156f5",
   "metadata": {},
   "outputs": [],
   "source": []
  },
  {
   "cell_type": "code",
   "execution_count": null,
   "id": "4422202b",
   "metadata": {},
   "outputs": [],
   "source": [
    "X, y = make_regression(n_samples=400, n_features=16, n_informative=8,random_state=0, shuffle=False)\n",
    "\n",
    "model = sklearn.ensemble.RandomForestRegressor(n_estimators=1000, max_depth=10)\n",
    "model.fit(X, y)"
   ]
  },
  {
   "cell_type": "code",
   "execution_count": null,
   "id": "c255f492",
   "metadata": {},
   "outputs": [],
   "source": [
    "# bst = xgboost.train({\"learning_rate\": 0.01, \"max_depth\": 4}, xgboost.DMatrix(X, label=y), 1000)"
   ]
  },
  {
   "cell_type": "code",
   "execution_count": null,
   "id": "5ef0ac44",
   "metadata": {},
   "outputs": [],
   "source": [
    "# start = time.time()\n",
    "# shap_values = bst.predict(xgboost.DMatrix(X), pred_contribs=True)\n",
    "# print(time.time() - start)\n"
   ]
  },
  {
   "cell_type": "code",
   "execution_count": null,
   "id": "791432a8",
   "metadata": {},
   "outputs": [],
   "source": [
    "\n",
    "# x = X.head()\n",
    "# x = X[:1]\n",
    "x = X\n",
    "x"
   ]
  },
  {
   "cell_type": "code",
   "execution_count": null,
   "id": "e5530426",
   "metadata": {},
   "outputs": [],
   "source": [
    "start = time.time()\n",
    "res_shap_cext = TreeCext(model).shap_values(X, banz=False)\n",
    "time_shap_cext = time.time() - start\n",
    "time_shap_cext"
   ]
  },
  {
   "cell_type": "code",
   "execution_count": null,
   "id": "ae2cf1db",
   "metadata": {
    "scrolled": true
   },
   "outputs": [],
   "source": [
    "start = time.time()\n",
    "res_banz_cext = TreeCext(model).shap_values(X, banz=True)\n",
    "time_banz_cext = time.time() - start\n",
    "time_banz_cext"
   ]
  },
  {
   "cell_type": "code",
   "execution_count": null,
   "id": "7c740851",
   "metadata": {},
   "outputs": [],
   "source": [
    "res_shap_cext"
   ]
  },
  {
   "cell_type": "code",
   "execution_count": null,
   "id": "0bbd4fc5",
   "metadata": {},
   "outputs": [],
   "source": [
    "res_banz_cext"
   ]
  },
  {
   "cell_type": "code",
   "execution_count": null,
   "id": "b0754c61",
   "metadata": {},
   "outputs": [],
   "source": []
  },
  {
   "cell_type": "code",
   "execution_count": null,
   "id": "7d56d824",
   "metadata": {},
   "outputs": [],
   "source": [
    "ex = TreeExplainer(model)\n",
    "start = time.time()\n",
    "res_shap_py = ex.shap_values(x)\n",
    "time_shap_py = time.time() - start"
   ]
  },
  {
   "cell_type": "code",
   "execution_count": null,
   "id": "6ad6cc0f",
   "metadata": {
    "scrolled": true
   },
   "outputs": [],
   "source": [
    "start = time.time()\n",
    "res_banz_py = ex.banz_values(x)\n",
    "time_banz_py = time.time() - start"
   ]
  },
  {
   "cell_type": "code",
   "execution_count": null,
   "id": "159df599",
   "metadata": {
    "scrolled": true
   },
   "outputs": [],
   "source": []
  },
  {
   "cell_type": "code",
   "execution_count": null,
   "id": "2ec44ed3",
   "metadata": {},
   "outputs": [],
   "source": [
    "line = np.asarray(x[:1])\n",
    "ex.brute_banz(line[0], 0)"
   ]
  },
  {
   "cell_type": "code",
   "execution_count": null,
   "id": "12c7c911",
   "metadata": {},
   "outputs": [],
   "source": [
    "ex.brute_shap(line[0], 0)"
   ]
  },
  {
   "cell_type": "code",
   "execution_count": null,
   "id": "c1cbd11d",
   "metadata": {},
   "outputs": [],
   "source": []
  },
  {
   "cell_type": "code",
   "execution_count": null,
   "id": "b227893d",
   "metadata": {},
   "outputs": [],
   "source": [
    "results_dict_cext = {}\n",
    "results_dict_cext['banz'] = {}\n",
    "results_dict_cext['shap'] = {}"
   ]
  },
  {
   "cell_type": "code",
   "execution_count": null,
   "id": "b1ae57c2",
   "metadata": {},
   "outputs": [],
   "source": [
    "for i in range(1, 10):\n",
    "    X, y = make_regression(n_samples=200 * i, n_features=16, n_informative=8,random_state=0, shuffle=False)\n",
    "\n",
    "    model = sklearn.ensemble.RandomForestRegressor(n_estimators=1000 + 100 * i, max_depth=10 + i)\n",
    "    model.fit(X, y)\n",
    "    \n",
    "    start = time.time()\n",
    "    res_shap_cext = TreeCext(model).shap_values(x, banz=False)\n",
    "    res_shap = time.time() - start\n",
    "    \n",
    "    start = time.time()\n",
    "    res_banz_cext = TreeCext(model).shap_values(x, banz=True)\n",
    "    res_banz = time.time() - start\n",
    "    \n",
    "    print(res_shap)\n",
    "    print(res_banz)\n",
    "    results_dict_cext['banz'][i] = res_banz\n",
    "    results_dict_cext['shap'][i] = res_shap\n",
    "    "
   ]
  },
  {
   "cell_type": "code",
   "execution_count": null,
   "id": "7ca2a77d",
   "metadata": {},
   "outputs": [],
   "source": [
    "x = [i for i in results_dict_cext['banz']]\n",
    "a1 = [results_dict_cext['banz'][i] for i in results_dict_cext['banz']]\n",
    "a2 = [results_dict_cext['shap'][i] for i in results_dict_cext['shap']]\n",
    "\n",
    "y_values = {\"banz\": a1, \"treeshap\": a2}\n",
    "labels = [\"BANZ\", \"TREESHAP\"]\n",
    "\n",
    "fig, ax = plt.subplots()\n",
    "ax.stackplot(x, y_values.values(), labels=labels)\n",
    "\n",
    "ax.legend(loc='upper left')\n",
    "plt.show()"
   ]
  },
  {
   "cell_type": "code",
   "execution_count": null,
   "id": "94305fcc",
   "metadata": {},
   "outputs": [],
   "source": [
    "results_dict_py = {}\n",
    "results_dict_py['banz'] = {}\n",
    "results_dict_py['shap'] = {}"
   ]
  },
  {
   "cell_type": "code",
   "execution_count": null,
   "id": "92b31f0a",
   "metadata": {},
   "outputs": [],
   "source": [
    "for i in range(1, 10):\n",
    "    X, y = make_regression(n_samples=100 + 25 * i, n_features=6, n_informative=2,random_state=0, shuffle=False)\n",
    "\n",
    "    model = sklearn.ensemble.RandomForestRegressor(n_estimators=100 + 25 * i, max_depth=4)\n",
    "    model.fit(X, y)\n",
    "    \n",
    "    ex = TreeExplainer(model)\n",
    "    print('created model')\n",
    "    start = time.time()\n",
    "    res_shap_py = ex.shap_values(X)\n",
    "    time_shap_py = time.time() - start\n",
    "    \n",
    "    start = time.time()\n",
    "    res_banz_py = ex.banz_values(X)\n",
    "    time_banz_py = time.time() - start\n",
    "    \n",
    "    print(res_shap_py)\n",
    "    print(res_banz_py)\n",
    "    results_dict_py['banz'][i] = time_banz_py\n",
    "    results_dict_py['shap'][i] = time_shap_py\n",
    "    "
   ]
  },
  {
   "cell_type": "code",
   "execution_count": null,
   "id": "dd0d64a7",
   "metadata": {},
   "outputs": [],
   "source": [
    "x = [i for i in results_dict_py['banz']]\n",
    "a1 = [results_dict_py['banz'][i] for i in results_dict_py['banz']]\n",
    "a2 = [results_dict_py['shap'][i] for i in results_dict_py['shap']]\n",
    "\n",
    "y_values = {\"banz\": a1, \"treeshap\": a2}\n",
    "labels = [\"BANZ\", \"TREESHAP\"]\n",
    "\n",
    "fig, ax = plt.subplots()\n",
    "ax.stackplot(x, y_values.values(), labels=labels)\n",
    "\n",
    "ax.legend(loc='upper left')\n",
    "plt.show()"
   ]
  },
  {
   "cell_type": "code",
   "execution_count": null,
   "id": "a4a4a9fe",
   "metadata": {},
   "outputs": [],
   "source": []
  },
  {
   "cell_type": "code",
   "execution_count": null,
   "id": "028a93ff",
   "metadata": {},
   "outputs": [],
   "source": [
    "len(a1)"
   ]
  },
  {
   "cell_type": "code",
   "execution_count": null,
   "id": "3ee940d4",
   "metadata": {},
   "outputs": [],
   "source": [
    "len(a2)"
   ]
  },
  {
   "cell_type": "code",
   "execution_count": null,
   "id": "dc8596c7",
   "metadata": {},
   "outputs": [],
   "source": []
  },
  {
   "cell_type": "code",
   "execution_count": null,
   "id": "629e4d9f",
   "metadata": {},
   "outputs": [],
   "source": [
    "\n"
   ]
  },
  {
   "cell_type": "code",
   "execution_count": null,
   "id": "f62c8bd2",
   "metadata": {},
   "outputs": [],
   "source": []
  }
 ],
 "metadata": {
  "kernelspec": {
   "display_name": "Python 3 (ipykernel)",
   "language": "python",
   "name": "python3"
  },
  "language_info": {
   "codemirror_mode": {
    "name": "ipython",
    "version": 3
   },
   "file_extension": ".py",
   "mimetype": "text/x-python",
   "name": "python",
   "nbconvert_exporter": "python",
   "pygments_lexer": "ipython3",
   "version": "3.10.6"
  }
 },
 "nbformat": 4,
 "nbformat_minor": 5
}
