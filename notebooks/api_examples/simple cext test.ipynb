{
 "cells": [
  {
   "cell_type": "code",
   "execution_count": 1,
   "id": "9a0935f2",
   "metadata": {},
   "outputs": [
    {
     "data": {
      "text/plain": [
       "RandomForestRegressor(max_depth=8, random_state=0)"
      ]
     },
     "execution_count": 1,
     "metadata": {},
     "output_type": "execute_result"
    }
   ],
   "source": [
    "import shap\n",
    "\n",
    "from sklearn.ensemble import RandomForestRegressor\n",
    "from sklearn.datasets import make_regression\n",
    "import time\n",
    "\n",
    "X, y = make_regression(n_features=8, n_informative=2,random_state=0, shuffle=False)\n",
    "regr = RandomForestRegressor(max_depth=8, random_state=0)\n",
    "regr.fit(X, y)"
   ]
  },
  {
   "cell_type": "code",
   "execution_count": 2,
   "id": "83eb48a8",
   "metadata": {
    "scrolled": true
   },
   "outputs": [
    {
     "name": "stdout",
     "output_type": "stream",
     "text": [
      "nasza implementacja banz values\n",
      "other model type\n",
      "uzywajac pythonowego banzhafa\n",
      "dwa wymiary\n",
      "ile drzew? 100\n",
      "betas orig:\n",
      "[1.     0.28   0.2625 ... 1.     1.     1.    ]\n",
      "0.24405550956726074\n"
     ]
    }
   ],
   "source": [
    "from shap.explainers.pytree import *\n",
    "texp = TreeExplainer(regr)\n",
    "start = time.time()\n",
    "texp.banz_values(X[:1])\n",
    "print(time.time() - start)"
   ]
  },
  {
   "cell_type": "code",
   "execution_count": 3,
   "id": "658c5fbc",
   "metadata": {},
   "outputs": [
    {
     "name": "stdout",
     "output_type": "stream",
     "text": [
      "oryginalna implemenacja shap_values\n",
      "other model type\n",
      "using slow python treeshap\n",
      "0.503122091293335\n"
     ]
    }
   ],
   "source": [
    "start = time.time()\n",
    "texp.shap_values(X[:1])\n",
    "print(time.time() - start)"
   ]
  },
  {
   "cell_type": "code",
   "execution_count": 4,
   "id": "ff18ceea",
   "metadata": {},
   "outputs": [],
   "source": [
    "# for i in range(len(X[0])):\n",
    "#     print(texp.brute_banz(X[0], i))"
   ]
  },
  {
   "cell_type": "code",
   "execution_count": null,
   "id": "eaccf2e5",
   "metadata": {
    "scrolled": true
   },
   "outputs": [],
   "source": [
    "from shap import TreeExplainer as TreeCext\n",
    "texp_cext = TreeCext(regr)\n",
    "line = np.asarray(X[:1])\n",
    "\n",
    "start = time.time()\n",
    "res_cext_banz = texp_cext.shap_values(line, banz=True, check_additivity=False)\n",
    "print(time.time() - start)"
   ]
  },
  {
   "cell_type": "code",
   "execution_count": null,
   "id": "f145ec39",
   "metadata": {
    "scrolled": true
   },
   "outputs": [],
   "source": [
    "start = time.time()\n",
    "res_cext_shap = texp_cext.shap_values(line, banz=False)\n",
    "print(time.time() - start)"
   ]
  },
  {
   "cell_type": "code",
   "execution_count": null,
   "id": "b0fc3680",
   "metadata": {},
   "outputs": [],
   "source": [
    "res_cext_shap"
   ]
  },
  {
   "cell_type": "code",
   "execution_count": null,
   "id": "25874715",
   "metadata": {},
   "outputs": [],
   "source": [
    "res_cext_banz"
   ]
  },
  {
   "cell_type": "code",
   "execution_count": null,
   "id": "629cd2fb",
   "metadata": {},
   "outputs": [],
   "source": [
    "X[:1]"
   ]
  },
  {
   "cell_type": "code",
   "execution_count": null,
   "id": "6f0b6fe5",
   "metadata": {},
   "outputs": [],
   "source": [
    "X,y = shap.datasets.boston()\n",
    "max_depth=2  # bylo 10\n",
    "model = RandomForestRegressor(max_depth=max_depth, random_state=0)\n",
    "model.fit(X, y)"
   ]
  },
  {
   "cell_type": "code",
   "execution_count": null,
   "id": "6c14dc57",
   "metadata": {},
   "outputs": [],
   "source": [
    "np.asarray(X[:1])"
   ]
  },
  {
   "cell_type": "code",
   "execution_count": null,
   "id": "22832e52",
   "metadata": {},
   "outputs": [],
   "source": [
    "texp_cext = TreeCext(model)\n",
    "line = np.asarray(X[:1])"
   ]
  },
  {
   "cell_type": "code",
   "execution_count": null,
   "id": "eba75c40",
   "metadata": {},
   "outputs": [],
   "source": [
    "res_cext_shap = texp_cext.shap_values(line, banz=False)"
   ]
  },
  {
   "cell_type": "code",
   "execution_count": null,
   "id": "4acca447",
   "metadata": {},
   "outputs": [],
   "source": [
    "res_cext_banz = texp_cext.shap_values(line, banz=True, check_additivity=False)"
   ]
  },
  {
   "cell_type": "code",
   "execution_count": null,
   "id": "b755c44e",
   "metadata": {},
   "outputs": [],
   "source": [
    "res_cext_shap"
   ]
  },
  {
   "cell_type": "code",
   "execution_count": null,
   "id": "26fc446d",
   "metadata": {},
   "outputs": [],
   "source": [
    "res_cext_banz"
   ]
  },
  {
   "cell_type": "code",
   "execution_count": null,
   "id": "8c6901cc",
   "metadata": {},
   "outputs": [],
   "source": [
    "t = TreeExplainer(model)\n",
    "t.shap_values(X[:1])"
   ]
  },
  {
   "cell_type": "code",
   "execution_count": null,
   "id": "9099e213",
   "metadata": {
    "scrolled": true
   },
   "outputs": [],
   "source": [
    "t.banz_values(X[:1])"
   ]
  },
  {
   "cell_type": "code",
   "execution_count": null,
   "id": "4644b377",
   "metadata": {},
   "outputs": [],
   "source": [
    "for i in range(len(line[0])):\n",
    "    print(t.brute_banz(line[0], i))"
   ]
  },
  {
   "cell_type": "code",
   "execution_count": null,
   "id": "cf170ab4",
   "metadata": {},
   "outputs": [],
   "source": [
    "for i in range(len(line[0])):\n",
    "    print(t.brute_shap(line[0], i))"
   ]
  },
  {
   "cell_type": "code",
   "execution_count": null,
   "id": "4e574f5a",
   "metadata": {},
   "outputs": [],
   "source": [
    "import time\n",
    "start = time.time()\n",
    "res_cext_shap = texp_cext.shap_values(line, banz=False)\n",
    "print(time.time() - start)"
   ]
  },
  {
   "cell_type": "code",
   "execution_count": null,
   "id": "f18d7aff",
   "metadata": {},
   "outputs": [],
   "source": [
    "start = time.time()\n",
    "res_cext_shap = texp_cext.shap_values(line, banz=True, check_additivity=False)\n",
    "print(time.time() - start)"
   ]
  },
  {
   "cell_type": "code",
   "execution_count": null,
   "id": "7d8f2376",
   "metadata": {},
   "outputs": [],
   "source": []
  }
 ],
 "metadata": {
  "kernelspec": {
   "display_name": "Python 3 (ipykernel)",
   "language": "python",
   "name": "python3"
  },
  "language_info": {
   "codemirror_mode": {
    "name": "ipython",
    "version": 3
   },
   "file_extension": ".py",
   "mimetype": "text/x-python",
   "name": "python",
   "nbconvert_exporter": "python",
   "pygments_lexer": "ipython3",
   "version": "3.7.5"
  }
 },
 "nbformat": 4,
 "nbformat_minor": 5
}
