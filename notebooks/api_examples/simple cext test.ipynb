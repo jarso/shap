{
 "cells": [
  {
   "cell_type": "code",
   "execution_count": 1,
   "id": "9a0935f2",
   "metadata": {},
   "outputs": [
    {
     "data": {
      "text/html": [
       "<style>#sk-container-id-1 {color: black;background-color: white;}#sk-container-id-1 pre{padding: 0;}#sk-container-id-1 div.sk-toggleable {background-color: white;}#sk-container-id-1 label.sk-toggleable__label {cursor: pointer;display: block;width: 100%;margin-bottom: 0;padding: 0.3em;box-sizing: border-box;text-align: center;}#sk-container-id-1 label.sk-toggleable__label-arrow:before {content: \"▸\";float: left;margin-right: 0.25em;color: #696969;}#sk-container-id-1 label.sk-toggleable__label-arrow:hover:before {color: black;}#sk-container-id-1 div.sk-estimator:hover label.sk-toggleable__label-arrow:before {color: black;}#sk-container-id-1 div.sk-toggleable__content {max-height: 0;max-width: 0;overflow: hidden;text-align: left;background-color: #f0f8ff;}#sk-container-id-1 div.sk-toggleable__content pre {margin: 0.2em;color: black;border-radius: 0.25em;background-color: #f0f8ff;}#sk-container-id-1 input.sk-toggleable__control:checked~div.sk-toggleable__content {max-height: 200px;max-width: 100%;overflow: auto;}#sk-container-id-1 input.sk-toggleable__control:checked~label.sk-toggleable__label-arrow:before {content: \"▾\";}#sk-container-id-1 div.sk-estimator input.sk-toggleable__control:checked~label.sk-toggleable__label {background-color: #d4ebff;}#sk-container-id-1 div.sk-label input.sk-toggleable__control:checked~label.sk-toggleable__label {background-color: #d4ebff;}#sk-container-id-1 input.sk-hidden--visually {border: 0;clip: rect(1px 1px 1px 1px);clip: rect(1px, 1px, 1px, 1px);height: 1px;margin: -1px;overflow: hidden;padding: 0;position: absolute;width: 1px;}#sk-container-id-1 div.sk-estimator {font-family: monospace;background-color: #f0f8ff;border: 1px dotted black;border-radius: 0.25em;box-sizing: border-box;margin-bottom: 0.5em;}#sk-container-id-1 div.sk-estimator:hover {background-color: #d4ebff;}#sk-container-id-1 div.sk-parallel-item::after {content: \"\";width: 100%;border-bottom: 1px solid gray;flex-grow: 1;}#sk-container-id-1 div.sk-label:hover label.sk-toggleable__label {background-color: #d4ebff;}#sk-container-id-1 div.sk-serial::before {content: \"\";position: absolute;border-left: 1px solid gray;box-sizing: border-box;top: 0;bottom: 0;left: 50%;z-index: 0;}#sk-container-id-1 div.sk-serial {display: flex;flex-direction: column;align-items: center;background-color: white;padding-right: 0.2em;padding-left: 0.2em;position: relative;}#sk-container-id-1 div.sk-item {position: relative;z-index: 1;}#sk-container-id-1 div.sk-parallel {display: flex;align-items: stretch;justify-content: center;background-color: white;position: relative;}#sk-container-id-1 div.sk-item::before, #sk-container-id-1 div.sk-parallel-item::before {content: \"\";position: absolute;border-left: 1px solid gray;box-sizing: border-box;top: 0;bottom: 0;left: 50%;z-index: -1;}#sk-container-id-1 div.sk-parallel-item {display: flex;flex-direction: column;z-index: 1;position: relative;background-color: white;}#sk-container-id-1 div.sk-parallel-item:first-child::after {align-self: flex-end;width: 50%;}#sk-container-id-1 div.sk-parallel-item:last-child::after {align-self: flex-start;width: 50%;}#sk-container-id-1 div.sk-parallel-item:only-child::after {width: 0;}#sk-container-id-1 div.sk-dashed-wrapped {border: 1px dashed gray;margin: 0 0.4em 0.5em 0.4em;box-sizing: border-box;padding-bottom: 0.4em;background-color: white;}#sk-container-id-1 div.sk-label label {font-family: monospace;font-weight: bold;display: inline-block;line-height: 1.2em;}#sk-container-id-1 div.sk-label-container {text-align: center;}#sk-container-id-1 div.sk-container {/* jupyter's `normalize.less` sets `[hidden] { display: none; }` but bootstrap.min.css set `[hidden] { display: none !important; }` so we also need the `!important` here to be able to override the default hidden behavior on the sphinx rendered scikit-learn.org. See: https://github.com/scikit-learn/scikit-learn/issues/21755 */display: inline-block !important;position: relative;}#sk-container-id-1 div.sk-text-repr-fallback {display: none;}</style><div id=\"sk-container-id-1\" class=\"sk-top-container\"><div class=\"sk-text-repr-fallback\"><pre>RandomForestRegressor(max_depth=2, random_state=0)</pre><b>In a Jupyter environment, please rerun this cell to show the HTML representation or trust the notebook. <br />On GitHub, the HTML representation is unable to render, please try loading this page with nbviewer.org.</b></div><div class=\"sk-container\" hidden><div class=\"sk-item\"><div class=\"sk-estimator sk-toggleable\"><input class=\"sk-toggleable__control sk-hidden--visually\" id=\"sk-estimator-id-1\" type=\"checkbox\" checked><label for=\"sk-estimator-id-1\" class=\"sk-toggleable__label sk-toggleable__label-arrow\">RandomForestRegressor</label><div class=\"sk-toggleable__content\"><pre>RandomForestRegressor(max_depth=2, random_state=0)</pre></div></div></div></div></div>"
      ],
      "text/plain": [
       "RandomForestRegressor(max_depth=2, random_state=0)"
      ]
     },
     "execution_count": 1,
     "metadata": {},
     "output_type": "execute_result"
    }
   ],
   "source": [
    "import shap\n",
    "\n",
    "from sklearn.ensemble import RandomForestRegressor\n",
    "from sklearn.datasets import make_regression\n",
    "\n",
    "X, y = make_regression(n_features=6, n_informative=2,random_state=0, shuffle=False)\n",
    "regr = RandomForestRegressor(max_depth=2, random_state=0)\n",
    "regr.fit(X, y)"
   ]
  },
  {
   "cell_type": "code",
   "execution_count": 2,
   "id": "83eb48a8",
   "metadata": {
    "scrolled": false
   },
   "outputs": [
    {
     "name": "stdout",
     "output_type": "stream",
     "text": [
      "nasza implementacja banz values\n",
      "other model type\n",
      "uzywajac pythonowego banzhafa\n",
      "{'children_default': array([ 1,  2, -1, -1,  5, -1, -1], dtype=int32),\n",
      " 'children_left': array([ 1,  2, -1, -1,  5, -1, -1], dtype=int32),\n",
      " 'children_right': array([ 4,  3, -1, -1,  6, -1, -1], dtype=int32),\n",
      " 'features': array([ 0,  0, -2, -2,  0, -2, -2], dtype=int32),\n",
      " 'max_depth': 2,\n",
      " 'node_sample_weight': array([100.,  60.,  25.,  35.,  40.,  26.,  14.]),\n",
      " 'thresholds': array([ 0.47623609, -0.74883819, -2.        , -2.        ,  1.13948375,\n",
      "       -2.        , -2.        ]),\n",
      " 'values': array([[  4.75668875],\n",
      "       [-39.54852605],\n",
      "       [-73.59966521],\n",
      "       [-15.22628379],\n",
      "       [ 71.21451095],\n",
      "       [ 52.0915725 ],\n",
      "       [106.72853949]])}\n",
      "dwa wymiary\n",
      "ile drzew? 1\n",
      "betas: 0.125\n",
      "values: [-73.59966521]\n",
      "betas: 0.17500000000000002\n",
      "values: [-15.22628379]\n",
      "S[lewy]: -9.199958151631254\n",
      "S[prawy]: -2.664599662837922\n",
      "nowy S[1]: -11.864557814469176\n",
      "betas: 0.13\n",
      "values: [52.0915725]\n",
      "betas: 0.5700000000000001\n",
      "values: [106.72853949]\n",
      "S[lewy]: 6.771904424755823\n",
      "S[prawy]: 60.83526751039738\n",
      "nowy S[4]: 67.6071719351532\n",
      "dla node 1 i cechy: 0\n",
      "0.0\n",
      "0.0\n",
      "dla node 2 i cechy: 0\n",
      "-9.199958151631254\n",
      "0.0\n",
      "dla node 3 i cechy: 0\n",
      "-2.664599662837922\n",
      "0.0\n",
      "dla node 4 i cechy: 0\n",
      "0.0\n",
      "2.5\n",
      "dla node 5 i cechy: 0\n",
      "6.771904424755823\n",
      "0.0\n",
      "dla node 6 i cechy: 0\n",
      "60.83526751039738\n",
      "7.142857142857143\n",
      "betas orig:\n",
      "[1.    0.3   0.125 0.175 0.7   0.13  0.57  1.    1.    1.    1.    1.\n",
      " 1.    1.    1.    1.    1.    1.    1.    1.    1.    1.    1.    1.\n",
      " 1.    1.    1.    1.    1.    1.    1.    1.    1.    1.    1.    1.\n",
      " 1.    1.    1.    1.    1.    1.    1.    1.    1.    1.    1.    1.\n",
      " 1.    1.    1.    1.    1.    1.    1.    1.    1.    1.    1.    1.\n",
      " 1.    1.    1.    1.    1.    1.    1.    1.    1.    1.    1.    1.\n",
      " 1.    1.    1.    1.    1.    1.    1.    1.    1.    1.    1.    1.\n",
      " 1.    1.    1.    1.    1.    1.    1.    1.    1.    1.    1.    1.\n",
      " 1.    1.    1.    1.    1.   ]\n"
     ]
    },
    {
     "data": {
      "text/plain": [
       "[[101.97185074248242, 0.0, 0.0, 0.0, 0.0, 0.0]]"
      ]
     },
     "execution_count": 2,
     "metadata": {},
     "output_type": "execute_result"
    }
   ],
   "source": [
    "from shap.explainers.pytree import *\n",
    "texp = TreeExplainer(regr)\n",
    "texp.banz_values(X[:1])"
   ]
  },
  {
   "cell_type": "code",
   "execution_count": 3,
   "id": "658c5fbc",
   "metadata": {},
   "outputs": [
    {
     "name": "stdout",
     "output_type": "stream",
     "text": [
      "oryginalna implemenacja shap_values\n",
      "other model type\n",
      "using slow python treeshap\n"
     ]
    },
    {
     "data": {
      "text/plain": [
       "array([[101.97185074,   0.        ,   0.        ,   0.        ,\n",
       "          0.        ,   0.        ,   4.75668875]])"
      ]
     },
     "execution_count": 3,
     "metadata": {},
     "output_type": "execute_result"
    }
   ],
   "source": [
    "texp.shap_values(X[:1])"
   ]
  },
  {
   "cell_type": "code",
   "execution_count": 4,
   "id": "eaccf2e5",
   "metadata": {
    "scrolled": true
   },
   "outputs": [
    {
     "name": "stdout",
     "output_type": "stream",
     "text": [
      "{'children_default': array([ 1,  2, -1, -1,  5, -1, -1], dtype=int32),\n",
      " 'children_left': array([ 1,  2, -1, -1,  5, -1, -1], dtype=int32),\n",
      " 'children_right': array([ 4,  3, -1, -1,  6, -1, -1], dtype=int32),\n",
      " 'features': array([ 0,  0, -2, -2,  0, -2, -2], dtype=int32),\n",
      " 'max_depth': 2,\n",
      " 'node_sample_weight': array([100.,  60.,  25.,  35.,  40.,  26.,  14.]),\n",
      " 'thresholds': array([ 0.47623609, -0.74883819, -2.        , -2.        ,  1.13948375,\n",
      "       -2.        , -2.        ]),\n",
      " 'values': array([[ 0.04756689],\n",
      "       [-0.39548526],\n",
      "       [-0.73599665],\n",
      "       [-0.15226284],\n",
      "       [ 0.71214511],\n",
      "       [ 0.52091572],\n",
      "       [ 1.06728539]])}\n",
      "using treeshap and cext\n",
      "zaczynamy!\n"
     ]
    }
   ],
   "source": [
    "from shap import TreeExplainer as TreeCext\n",
    "texp_cext = TreeCext(regr)\n",
    "line = np.asarray(X[:1])\n",
    "\n",
    "res_cext_banz = texp_cext.shap_values(line, banz=True, check_additivity=False)"
   ]
  },
  {
   "cell_type": "code",
   "execution_count": 5,
   "id": "f145ec39",
   "metadata": {
    "scrolled": true
   },
   "outputs": [
    {
     "name": "stdout",
     "output_type": "stream",
     "text": [
      "using treeshap and cext\n",
      "here37\n",
      "using dense_Tree_pred\n"
     ]
    }
   ],
   "source": [
    "res_cext_shap = texp_cext.shap_values(line, banz=False)"
   ]
  },
  {
   "cell_type": "code",
   "execution_count": 6,
   "id": "b0fc3680",
   "metadata": {},
   "outputs": [
    {
     "data": {
      "text/plain": [
       "array([[ 1.06666101e+02,  1.21872088e+00,  0.00000000e+00,\n",
       "         0.00000000e+00, -4.14870751e-02,  0.00000000e+00]])"
      ]
     },
     "execution_count": 6,
     "metadata": {},
     "output_type": "execute_result"
    }
   ],
   "source": [
    "res_cext_shap"
   ]
  },
  {
   "cell_type": "code",
   "execution_count": 7,
   "id": "25874715",
   "metadata": {},
   "outputs": [
    {
     "data": {
      "text/plain": [
       "array([[0., 0., 0., 0., 0., 0.]])"
      ]
     },
     "execution_count": 7,
     "metadata": {},
     "output_type": "execute_result"
    }
   ],
   "source": [
    "res_cext_banz"
   ]
  },
  {
   "cell_type": "code",
   "execution_count": 8,
   "id": "6f0b6fe5",
   "metadata": {},
   "outputs": [
    {
     "name": "stderr",
     "output_type": "stream",
     "text": [
      "Function load_boston is deprecated; `load_boston` is deprecated in 1.0 and will be removed in 1.2.\n",
      "\n",
      "    The Boston housing prices dataset has an ethical problem. You can refer to\n",
      "    the documentation of this function for further details.\n",
      "\n",
      "    The scikit-learn maintainers therefore strongly discourage the use of this\n",
      "    dataset unless the purpose of the code is to study and educate about\n",
      "    ethical issues in data science and machine learning.\n",
      "\n",
      "    In this special case, you can fetch the dataset from the original\n",
      "    source::\n",
      "\n",
      "        import pandas as pd\n",
      "        import numpy as np\n",
      "\n",
      "        data_url = \"http://lib.stat.cmu.edu/datasets/boston\"\n",
      "        raw_df = pd.read_csv(data_url, sep=\"\\s+\", skiprows=22, header=None)\n",
      "        data = np.hstack([raw_df.values[::2, :], raw_df.values[1::2, :2]])\n",
      "        target = raw_df.values[1::2, 2]\n",
      "\n",
      "    Alternative datasets include the California housing dataset (i.e.\n",
      "    :func:`~sklearn.datasets.fetch_california_housing`) and the Ames housing\n",
      "    dataset. You can load the datasets as follows::\n",
      "\n",
      "        from sklearn.datasets import fetch_california_housing\n",
      "        housing = fetch_california_housing()\n",
      "\n",
      "    for the California housing dataset and::\n",
      "\n",
      "        from sklearn.datasets import fetch_openml\n",
      "        housing = fetch_openml(name=\"house_prices\", as_frame=True)\n",
      "\n",
      "    for the Ames housing dataset.\n"
     ]
    },
    {
     "data": {
      "text/html": [
       "<style>#sk-container-id-2 {color: black;background-color: white;}#sk-container-id-2 pre{padding: 0;}#sk-container-id-2 div.sk-toggleable {background-color: white;}#sk-container-id-2 label.sk-toggleable__label {cursor: pointer;display: block;width: 100%;margin-bottom: 0;padding: 0.3em;box-sizing: border-box;text-align: center;}#sk-container-id-2 label.sk-toggleable__label-arrow:before {content: \"▸\";float: left;margin-right: 0.25em;color: #696969;}#sk-container-id-2 label.sk-toggleable__label-arrow:hover:before {color: black;}#sk-container-id-2 div.sk-estimator:hover label.sk-toggleable__label-arrow:before {color: black;}#sk-container-id-2 div.sk-toggleable__content {max-height: 0;max-width: 0;overflow: hidden;text-align: left;background-color: #f0f8ff;}#sk-container-id-2 div.sk-toggleable__content pre {margin: 0.2em;color: black;border-radius: 0.25em;background-color: #f0f8ff;}#sk-container-id-2 input.sk-toggleable__control:checked~div.sk-toggleable__content {max-height: 200px;max-width: 100%;overflow: auto;}#sk-container-id-2 input.sk-toggleable__control:checked~label.sk-toggleable__label-arrow:before {content: \"▾\";}#sk-container-id-2 div.sk-estimator input.sk-toggleable__control:checked~label.sk-toggleable__label {background-color: #d4ebff;}#sk-container-id-2 div.sk-label input.sk-toggleable__control:checked~label.sk-toggleable__label {background-color: #d4ebff;}#sk-container-id-2 input.sk-hidden--visually {border: 0;clip: rect(1px 1px 1px 1px);clip: rect(1px, 1px, 1px, 1px);height: 1px;margin: -1px;overflow: hidden;padding: 0;position: absolute;width: 1px;}#sk-container-id-2 div.sk-estimator {font-family: monospace;background-color: #f0f8ff;border: 1px dotted black;border-radius: 0.25em;box-sizing: border-box;margin-bottom: 0.5em;}#sk-container-id-2 div.sk-estimator:hover {background-color: #d4ebff;}#sk-container-id-2 div.sk-parallel-item::after {content: \"\";width: 100%;border-bottom: 1px solid gray;flex-grow: 1;}#sk-container-id-2 div.sk-label:hover label.sk-toggleable__label {background-color: #d4ebff;}#sk-container-id-2 div.sk-serial::before {content: \"\";position: absolute;border-left: 1px solid gray;box-sizing: border-box;top: 0;bottom: 0;left: 50%;z-index: 0;}#sk-container-id-2 div.sk-serial {display: flex;flex-direction: column;align-items: center;background-color: white;padding-right: 0.2em;padding-left: 0.2em;position: relative;}#sk-container-id-2 div.sk-item {position: relative;z-index: 1;}#sk-container-id-2 div.sk-parallel {display: flex;align-items: stretch;justify-content: center;background-color: white;position: relative;}#sk-container-id-2 div.sk-item::before, #sk-container-id-2 div.sk-parallel-item::before {content: \"\";position: absolute;border-left: 1px solid gray;box-sizing: border-box;top: 0;bottom: 0;left: 50%;z-index: -1;}#sk-container-id-2 div.sk-parallel-item {display: flex;flex-direction: column;z-index: 1;position: relative;background-color: white;}#sk-container-id-2 div.sk-parallel-item:first-child::after {align-self: flex-end;width: 50%;}#sk-container-id-2 div.sk-parallel-item:last-child::after {align-self: flex-start;width: 50%;}#sk-container-id-2 div.sk-parallel-item:only-child::after {width: 0;}#sk-container-id-2 div.sk-dashed-wrapped {border: 1px dashed gray;margin: 0 0.4em 0.5em 0.4em;box-sizing: border-box;padding-bottom: 0.4em;background-color: white;}#sk-container-id-2 div.sk-label label {font-family: monospace;font-weight: bold;display: inline-block;line-height: 1.2em;}#sk-container-id-2 div.sk-label-container {text-align: center;}#sk-container-id-2 div.sk-container {/* jupyter's `normalize.less` sets `[hidden] { display: none; }` but bootstrap.min.css set `[hidden] { display: none !important; }` so we also need the `!important` here to be able to override the default hidden behavior on the sphinx rendered scikit-learn.org. See: https://github.com/scikit-learn/scikit-learn/issues/21755 */display: inline-block !important;position: relative;}#sk-container-id-2 div.sk-text-repr-fallback {display: none;}</style><div id=\"sk-container-id-2\" class=\"sk-top-container\"><div class=\"sk-text-repr-fallback\"><pre>RandomForestRegressor(max_depth=2, random_state=0)</pre><b>In a Jupyter environment, please rerun this cell to show the HTML representation or trust the notebook. <br />On GitHub, the HTML representation is unable to render, please try loading this page with nbviewer.org.</b></div><div class=\"sk-container\" hidden><div class=\"sk-item\"><div class=\"sk-estimator sk-toggleable\"><input class=\"sk-toggleable__control sk-hidden--visually\" id=\"sk-estimator-id-2\" type=\"checkbox\" checked><label for=\"sk-estimator-id-2\" class=\"sk-toggleable__label sk-toggleable__label-arrow\">RandomForestRegressor</label><div class=\"sk-toggleable__content\"><pre>RandomForestRegressor(max_depth=2, random_state=0)</pre></div></div></div></div></div>"
      ],
      "text/plain": [
       "RandomForestRegressor(max_depth=2, random_state=0)"
      ]
     },
     "execution_count": 8,
     "metadata": {},
     "output_type": "execute_result"
    }
   ],
   "source": [
    "X,y = shap.datasets.boston()\n",
    "max_depth=2  # bylo 10\n",
    "model = RandomForestRegressor(max_depth=max_depth, random_state=0)\n",
    "model.fit(X, y)"
   ]
  },
  {
   "cell_type": "code",
   "execution_count": 9,
   "id": "6c14dc57",
   "metadata": {},
   "outputs": [
    {
     "data": {
      "text/plain": [
       "array([[6.320e-03, 1.800e+01, 2.310e+00, 0.000e+00, 5.380e-01, 6.575e+00,\n",
       "        6.520e+01, 4.090e+00, 1.000e+00, 2.960e+02, 1.530e+01, 3.969e+02,\n",
       "        4.980e+00]])"
      ]
     },
     "execution_count": 9,
     "metadata": {},
     "output_type": "execute_result"
    }
   ],
   "source": [
    "np.asarray(X[:1])"
   ]
  },
  {
   "cell_type": "code",
   "execution_count": 10,
   "id": "22832e52",
   "metadata": {},
   "outputs": [
    {
     "name": "stdout",
     "output_type": "stream",
     "text": [
      "{'children_default': array([ 1,  2, -1, -1,  5, -1, -1], dtype=int32),\n",
      " 'children_left': array([ 1,  2, -1, -1,  5, -1, -1], dtype=int32),\n",
      " 'children_right': array([ 4,  3, -1, -1,  6, -1, -1], dtype=int32),\n",
      " 'features': array([12,  5, -2, -2,  4, -2, -2], dtype=int32),\n",
      " 'max_depth': 2,\n",
      " 'node_sample_weight': array([506., 210., 162.,  48., 296., 204.,  92.]),\n",
      " 'thresholds': array([ 9.95000029,  7.01149988, -2.        , -2.        ,  0.66349998,\n",
      "       -2.        , -2.        ]),\n",
      " 'values': array([[0.22312253],\n",
      "       [0.29101429],\n",
      "       [0.25925309],\n",
      "       [0.39820833],\n",
      "       [0.17495608],\n",
      "       [0.19410294],\n",
      "       [0.1325    ]])}\n"
     ]
    }
   ],
   "source": [
    "texp_cext = TreeCext(model)\n",
    "line = np.asarray(X[:1])"
   ]
  },
  {
   "cell_type": "code",
   "execution_count": 11,
   "id": "eba75c40",
   "metadata": {},
   "outputs": [
    {
     "name": "stdout",
     "output_type": "stream",
     "text": [
      "using treeshap and cext\n",
      "here37\n",
      "using dense_Tree_pred\n"
     ]
    }
   ],
   "source": [
    "res_cext_shap = texp_cext.shap_values(line, banz=False)"
   ]
  },
  {
   "cell_type": "code",
   "execution_count": 12,
   "id": "4acca447",
   "metadata": {},
   "outputs": [
    {
     "name": "stdout",
     "output_type": "stream",
     "text": [
      "using treeshap and cext\n",
      "zaczynamy!\n"
     ]
    }
   ],
   "source": [
    "res_cext_banz = texp_cext.shap_values(line, banz=True, check_additivity=False)"
   ]
  },
  {
   "cell_type": "code",
   "execution_count": 13,
   "id": "b755c44e",
   "metadata": {},
   "outputs": [
    {
     "data": {
      "text/plain": [
       "array([[ 4.26715730e-02,  0.00000000e+00,  0.00000000e+00,\n",
       "         0.00000000e+00,  5.60026738e-03, -2.23547026e+00,\n",
       "         0.00000000e+00,  4.08082785e-03,  0.00000000e+00,\n",
       "         0.00000000e+00,  0.00000000e+00,  0.00000000e+00,\n",
       "         4.35142591e+00]])"
      ]
     },
     "execution_count": 13,
     "metadata": {},
     "output_type": "execute_result"
    }
   ],
   "source": [
    "res_cext_shap"
   ]
  },
  {
   "cell_type": "code",
   "execution_count": 14,
   "id": "26fc446d",
   "metadata": {},
   "outputs": [
    {
     "data": {
      "text/plain": [
       "array([[0.        , 0.        , 0.        , 0.        , 0.        ,\n",
       "        0.        , 0.        , 0.        , 0.        , 0.        ,\n",
       "        1.43283582, 0.        , 0.        ]])"
      ]
     },
     "execution_count": 14,
     "metadata": {},
     "output_type": "execute_result"
    }
   ],
   "source": [
    "res_cext_banz"
   ]
  },
  {
   "cell_type": "code",
   "execution_count": 15,
   "id": "8c6901cc",
   "metadata": {},
   "outputs": [
    {
     "name": "stdout",
     "output_type": "stream",
     "text": [
      "oryginalna implemenacja shap_values\n",
      "other model type\n",
      "using slow python treeshap\n"
     ]
    },
    {
     "data": {
      "text/plain": [
       "array([[ 4.26715730e-02,  0.00000000e+00,  0.00000000e+00,\n",
       "         0.00000000e+00,  5.60026738e-03, -2.23547026e+00,\n",
       "         0.00000000e+00,  4.08082785e-03,  0.00000000e+00,\n",
       "         0.00000000e+00,  0.00000000e+00,  0.00000000e+00,\n",
       "         4.35142591e+00,  2.25138735e+01]])"
      ]
     },
     "execution_count": 15,
     "metadata": {},
     "output_type": "execute_result"
    }
   ],
   "source": [
    "t = TreeExplainer(model)\n",
    "t.shap_values(X[:1])"
   ]
  },
  {
   "cell_type": "code",
   "execution_count": 16,
   "id": "9099e213",
   "metadata": {
    "scrolled": true
   },
   "outputs": [
    {
     "name": "stdout",
     "output_type": "stream",
     "text": [
      "nasza implementacja banz values\n",
      "other model type\n",
      "uzywajac pythonowego banzhafa\n",
      "{'children_default': array([ 1,  2, -1, -1,  5, -1, -1], dtype=int32),\n",
      " 'children_left': array([ 1,  2, -1, -1,  5, -1, -1], dtype=int32),\n",
      " 'children_right': array([ 4,  3, -1, -1,  6, -1, -1], dtype=int32),\n",
      " 'features': array([12,  5, -2, -2,  4, -2, -2], dtype=int32),\n",
      " 'max_depth': 2,\n",
      " 'node_sample_weight': array([506., 210., 162.,  48., 296., 204.,  92.]),\n",
      " 'thresholds': array([ 9.95000029,  7.01149988, -2.        , -2.        ,  0.66349998,\n",
      "       -2.        , -2.        ]),\n",
      " 'values': array([[22.31225296],\n",
      "       [29.10142857],\n",
      "       [25.92530864],\n",
      "       [39.82083333],\n",
      "       [17.49560811],\n",
      "       [19.41029412],\n",
      "       [13.25      ]])}\n",
      "dwa wymiary\n",
      "ile drzew? 1\n",
      "betas: 0.6266516092603048\n",
      "values: [25.92530864]\n",
      "betas: 0.08085827216261998\n",
      "values: [39.82083333]\n",
      "S[lewy]: 16.246136381063913\n",
      "S[prawy]: 3.2198437794089965\n",
      "nowy S[1]: 19.46598016047291\n",
      "betas: 0.24703557312252966\n",
      "values: [19.41029412]\n",
      "betas: 0.045454545454545456\n",
      "values: [13.25]\n",
      "S[lewy]: 4.795033131829806\n",
      "S[prawy]: 0.6022727272727271\n",
      "nowy S[4]: 5.3973058591025325\n",
      "dla node 1 i cechy: 12\n",
      "19.46598016047291\n",
      "2.4095238095238094\n",
      "dla node 2 i cechy: 5\n",
      "16.246136381063913\n",
      "1.2962962962962963\n",
      "dla node 3 i cechy: 5\n",
      "3.2198437794089965\n",
      "0.0\n",
      "dla node 4 i cechy: 12\n",
      "5.3973058591025325\n",
      "0.0\n",
      "dla node 5 i cechy: 4\n",
      "4.795033131829806\n",
      "1.4509803921568627\n",
      "dla node 6 i cechy: 4\n",
      "0.6022727272727271\n",
      "0.0\n",
      "betas orig:\n",
      "[1.         0.70750988 0.62665161 0.08085827 0.29249012 0.24703557\n",
      " 0.04545455 1.         1.         1.         1.         1.\n",
      " 1.         1.         1.         1.         1.         1.\n",
      " 1.         1.         1.         1.         1.         1.\n",
      " 1.         1.         1.         1.         1.         1.\n",
      " 1.         1.         1.         1.         1.         1.\n",
      " 1.         1.         1.         1.         1.         1.\n",
      " 1.         1.         1.         1.         1.         1.\n",
      " 1.         1.         1.         1.         1.         1.\n",
      " 1.         1.         1.         1.         1.         1.\n",
      " 1.         1.         1.         1.         1.         1.\n",
      " 1.         1.         1.         1.         1.         1.\n",
      " 1.         1.         1.         1.         1.         1.\n",
      " 1.         1.         1.         1.         1.         1.\n",
      " 1.         1.         1.         1.         1.         1.\n",
      " 1.         1.         1.         1.         1.         1.\n",
      " 1.         1.         1.         1.         1.        ]\n"
     ]
    },
    {
     "data": {
      "text/plain": [
       "[[0.0,\n",
       "  0.0,\n",
       "  0.0,\n",
       "  0.0,\n",
       "  0.560026737967914,\n",
       "  -2.2471362346724675,\n",
       "  0.0,\n",
       "  0.0,\n",
       "  0.0,\n",
       "  0.0,\n",
       "  0.0,\n",
       "  0.0,\n",
       "  5.300165174252982]]"
      ]
     },
     "execution_count": 16,
     "metadata": {},
     "output_type": "execute_result"
    }
   ],
   "source": [
    "t.banz_values(X[:1])"
   ]
  },
  {
   "cell_type": "code",
   "execution_count": 17,
   "id": "4644b377",
   "metadata": {},
   "outputs": [
    {
     "name": "stdout",
     "output_type": "stream",
     "text": [
      "[0.]\n",
      "[0.]\n",
      "[0.]\n",
      "[0.]\n",
      "[0.56002674]\n",
      "[-2.24713623]\n",
      "[0.]\n",
      "[0.]\n",
      "[0.]\n",
      "[0.]\n",
      "[0.]\n",
      "[0.]\n",
      "[5.30016517]\n"
     ]
    }
   ],
   "source": [
    "for i in range(len(line[0])):\n",
    "    print(t.brute_banz(line[0], i))"
   ]
  },
  {
   "cell_type": "code",
   "execution_count": 18,
   "id": "cf170ab4",
   "metadata": {},
   "outputs": [
    {
     "name": "stdout",
     "output_type": "stream",
     "text": [
      "[0.]\n",
      "[0.]\n",
      "[0.]\n",
      "[0.]\n",
      "[0.56002674]\n",
      "[-2.24713623]\n",
      "[0.]\n",
      "[0.]\n",
      "[0.]\n",
      "[0.]\n",
      "[0.]\n",
      "[0.]\n",
      "[5.30016517]\n"
     ]
    }
   ],
   "source": [
    "for i in range(len(line[0])):\n",
    "    print(t.brute_shap(line[0], i))"
   ]
  },
  {
   "cell_type": "code",
   "execution_count": null,
   "id": "4e574f5a",
   "metadata": {},
   "outputs": [],
   "source": []
  }
 ],
 "metadata": {
  "kernelspec": {
   "display_name": "Python 3 (ipykernel)",
   "language": "python",
   "name": "python3"
  },
  "language_info": {
   "codemirror_mode": {
    "name": "ipython",
    "version": 3
   },
   "file_extension": ".py",
   "mimetype": "text/x-python",
   "name": "python",
   "nbconvert_exporter": "python",
   "pygments_lexer": "ipython3",
   "version": "3.10.4"
  }
 },
 "nbformat": 4,
 "nbformat_minor": 5
}
