{
 "cells": [
  {
   "cell_type": "code",
   "execution_count": 2,
   "id": "9a0935f2",
   "metadata": {},
   "outputs": [
    {
     "name": "stderr",
     "output_type": "stream",
     "text": [
      "/home/jarek/projects/shap/venv/lib/python3.10/site-packages/tqdm/auto.py:22: TqdmWarning: IProgress not found. Please update jupyter and ipywidgets. See https://ipywidgets.readthedocs.io/en/stable/user_install.html\n",
      "  from .autonotebook import tqdm as notebook_tqdm\n"
     ]
    },
    {
     "data": {
      "text/html": [
       "<style>#sk-container-id-1 {color: black;background-color: white;}#sk-container-id-1 pre{padding: 0;}#sk-container-id-1 div.sk-toggleable {background-color: white;}#sk-container-id-1 label.sk-toggleable__label {cursor: pointer;display: block;width: 100%;margin-bottom: 0;padding: 0.3em;box-sizing: border-box;text-align: center;}#sk-container-id-1 label.sk-toggleable__label-arrow:before {content: \"▸\";float: left;margin-right: 0.25em;color: #696969;}#sk-container-id-1 label.sk-toggleable__label-arrow:hover:before {color: black;}#sk-container-id-1 div.sk-estimator:hover label.sk-toggleable__label-arrow:before {color: black;}#sk-container-id-1 div.sk-toggleable__content {max-height: 0;max-width: 0;overflow: hidden;text-align: left;background-color: #f0f8ff;}#sk-container-id-1 div.sk-toggleable__content pre {margin: 0.2em;color: black;border-radius: 0.25em;background-color: #f0f8ff;}#sk-container-id-1 input.sk-toggleable__control:checked~div.sk-toggleable__content {max-height: 200px;max-width: 100%;overflow: auto;}#sk-container-id-1 input.sk-toggleable__control:checked~label.sk-toggleable__label-arrow:before {content: \"▾\";}#sk-container-id-1 div.sk-estimator input.sk-toggleable__control:checked~label.sk-toggleable__label {background-color: #d4ebff;}#sk-container-id-1 div.sk-label input.sk-toggleable__control:checked~label.sk-toggleable__label {background-color: #d4ebff;}#sk-container-id-1 input.sk-hidden--visually {border: 0;clip: rect(1px 1px 1px 1px);clip: rect(1px, 1px, 1px, 1px);height: 1px;margin: -1px;overflow: hidden;padding: 0;position: absolute;width: 1px;}#sk-container-id-1 div.sk-estimator {font-family: monospace;background-color: #f0f8ff;border: 1px dotted black;border-radius: 0.25em;box-sizing: border-box;margin-bottom: 0.5em;}#sk-container-id-1 div.sk-estimator:hover {background-color: #d4ebff;}#sk-container-id-1 div.sk-parallel-item::after {content: \"\";width: 100%;border-bottom: 1px solid gray;flex-grow: 1;}#sk-container-id-1 div.sk-label:hover label.sk-toggleable__label {background-color: #d4ebff;}#sk-container-id-1 div.sk-serial::before {content: \"\";position: absolute;border-left: 1px solid gray;box-sizing: border-box;top: 0;bottom: 0;left: 50%;z-index: 0;}#sk-container-id-1 div.sk-serial {display: flex;flex-direction: column;align-items: center;background-color: white;padding-right: 0.2em;padding-left: 0.2em;position: relative;}#sk-container-id-1 div.sk-item {position: relative;z-index: 1;}#sk-container-id-1 div.sk-parallel {display: flex;align-items: stretch;justify-content: center;background-color: white;position: relative;}#sk-container-id-1 div.sk-item::before, #sk-container-id-1 div.sk-parallel-item::before {content: \"\";position: absolute;border-left: 1px solid gray;box-sizing: border-box;top: 0;bottom: 0;left: 50%;z-index: -1;}#sk-container-id-1 div.sk-parallel-item {display: flex;flex-direction: column;z-index: 1;position: relative;background-color: white;}#sk-container-id-1 div.sk-parallel-item:first-child::after {align-self: flex-end;width: 50%;}#sk-container-id-1 div.sk-parallel-item:last-child::after {align-self: flex-start;width: 50%;}#sk-container-id-1 div.sk-parallel-item:only-child::after {width: 0;}#sk-container-id-1 div.sk-dashed-wrapped {border: 1px dashed gray;margin: 0 0.4em 0.5em 0.4em;box-sizing: border-box;padding-bottom: 0.4em;background-color: white;}#sk-container-id-1 div.sk-label label {font-family: monospace;font-weight: bold;display: inline-block;line-height: 1.2em;}#sk-container-id-1 div.sk-label-container {text-align: center;}#sk-container-id-1 div.sk-container {/* jupyter's `normalize.less` sets `[hidden] { display: none; }` but bootstrap.min.css set `[hidden] { display: none !important; }` so we also need the `!important` here to be able to override the default hidden behavior on the sphinx rendered scikit-learn.org. See: https://github.com/scikit-learn/scikit-learn/issues/21755 */display: inline-block !important;position: relative;}#sk-container-id-1 div.sk-text-repr-fallback {display: none;}</style><div id=\"sk-container-id-1\" class=\"sk-top-container\"><div class=\"sk-text-repr-fallback\"><pre>RandomForestRegressor(max_depth=2, n_estimators=2, random_state=0)</pre><b>In a Jupyter environment, please rerun this cell to show the HTML representation or trust the notebook. <br />On GitHub, the HTML representation is unable to render, please try loading this page with nbviewer.org.</b></div><div class=\"sk-container\" hidden><div class=\"sk-item\"><div class=\"sk-estimator sk-toggleable\"><input class=\"sk-toggleable__control sk-hidden--visually\" id=\"sk-estimator-id-1\" type=\"checkbox\" checked><label for=\"sk-estimator-id-1\" class=\"sk-toggleable__label sk-toggleable__label-arrow\">RandomForestRegressor</label><div class=\"sk-toggleable__content\"><pre>RandomForestRegressor(max_depth=2, n_estimators=2, random_state=0)</pre></div></div></div></div></div>"
      ],
      "text/plain": [
       "RandomForestRegressor(max_depth=2, n_estimators=2, random_state=0)"
      ]
     },
     "execution_count": 2,
     "metadata": {},
     "output_type": "execute_result"
    }
   ],
   "source": [
    "import shap\n",
    "\n",
    "from sklearn.ensemble import RandomForestRegressor\n",
    "from sklearn.datasets import make_regression\n",
    "\n",
    "X, y = make_regression(n_features=4, n_informative=2,random_state=0, shuffle=False)\n",
    "regr = RandomForestRegressor(max_depth=2, random_state=0, n_estimators=2)\n",
    "regr.fit(X, y)"
   ]
  },
  {
   "cell_type": "code",
   "execution_count": 26,
   "id": "83eb48a8",
   "metadata": {
    "scrolled": false
   },
   "outputs": [
    {
     "name": "stdout",
     "output_type": "stream",
     "text": [
      "oryginalna implemenacja shap_values\n",
      "other model type\n",
      "using slow python treeshap\n"
     ]
    },
    {
     "data": {
      "text/plain": [
       "array([[22.48506813, 44.11025254,  0.        ,  0.        , -2.96816224]])"
      ]
     },
     "execution_count": 26,
     "metadata": {},
     "output_type": "execute_result"
    }
   ],
   "source": [
    "from shap.explainers.pytree import *\n",
    "texp = TreeExplainer(regr)\n",
    "texp.shap_values(X[:1])"
   ]
  },
  {
   "cell_type": "code",
   "execution_count": 16,
   "id": "89e12e1d",
   "metadata": {},
   "outputs": [
    {
     "data": {
      "text/plain": [
       "array([24.28813233])"
      ]
     },
     "execution_count": 16,
     "metadata": {},
     "output_type": "execute_result"
    }
   ],
   "source": [
    "texp.brute_shap(X[0], 0)"
   ]
  },
  {
   "cell_type": "code",
   "execution_count": 15,
   "id": "72b63e5e",
   "metadata": {},
   "outputs": [
    {
     "data": {
      "text/plain": [
       "array([24.28813233])"
      ]
     },
     "execution_count": 15,
     "metadata": {},
     "output_type": "execute_result"
    }
   ],
   "source": [
    "texp.brute_banz(X[0], 0)"
   ]
  },
  {
   "cell_type": "code",
   "execution_count": 17,
   "id": "db1a15a8",
   "metadata": {},
   "outputs": [
    {
     "name": "stdout",
     "output_type": "stream",
     "text": [
      "nasza implementacja banz values\n",
      "other model type\n",
      "uzywajac pythonowego banzhafa\n",
      "{'children_default': array([ 1,  2, -1, -1,  5, -1, -1], dtype=int32),\n",
      " 'children_left': array([ 1,  2, -1, -1,  5, -1, -1], dtype=int32),\n",
      " 'children_right': array([ 4,  3, -1, -1,  6, -1, -1], dtype=int32),\n",
      " 'features': array([ 1,  0, -2, -2,  0, -2, -2], dtype=int32),\n",
      " 'max_depth': 2,\n",
      " 'node_sample_weight': array([100.,  64.,  37.,  27.,  36.,  26.,  10.]),\n",
      " 'thresholds': array([ 0.10953759,  0.43508366, -2.        , -2.        ,  0.76641414,\n",
      "       -2.        , -2.        ]),\n",
      " 'values': array([[ -2.0710816 ],\n",
      "       [-19.7675118 ],\n",
      "       [-34.58580269],\n",
      "       [  0.53903498],\n",
      "       [ 29.38923875],\n",
      "       [ 19.32700042],\n",
      "       [ 55.55105841]])}\n",
      "jeden wymiar\n",
      "ile drzew? 1\n",
      "betas orig:\n",
      "[1.         0.32       0.0925     0.2275     0.68       0.24555556\n",
      " 0.43444444 1.         1.         1.         1.         1.\n",
      " 1.         1.         1.         1.         1.         1.\n",
      " 1.         1.         1.         1.         1.         1.\n",
      " 1.         1.         1.         1.         1.         1.\n",
      " 1.         1.         1.         1.         1.         1.\n",
      " 1.         1.         1.         1.         1.         1.\n",
      " 1.         1.         1.         1.         1.         1.\n",
      " 1.         1.         1.         1.         1.         1.\n",
      " 1.         1.         1.         1.         1.         1.\n",
      " 1.         1.         1.         1.         1.         1.\n",
      " 1.         1.         1.         1.         1.         1.\n",
      " 1.         1.         1.         1.         1.         1.\n",
      " 1.         1.         1.         1.         1.         1.\n",
      " 1.         1.         1.         1.         1.         1.\n",
      " 1.         1.         1.         1.         1.         1.\n",
      " 1.         1.         1.         1.         1.         1.\n",
      " 1.         1.        ]\n"
     ]
    },
    {
     "data": {
      "text/plain": [
       "[24.288132332460496, 33.33400767387868, 0.0, 0.0]"
      ]
     },
     "execution_count": 17,
     "metadata": {},
     "output_type": "execute_result"
    }
   ],
   "source": [
    "texp.banz_values(X[0])"
   ]
  },
  {
   "cell_type": "code",
   "execution_count": 8,
   "id": "eaccf2e5",
   "metadata": {
    "scrolled": true
   },
   "outputs": [
    {
     "name": "stdout",
     "output_type": "stream",
     "text": [
      "using treeshap and cext\n",
      "tree:\n",
      "{'base_offset': array([0.]),\n",
      " 'cat_feature_indices': None,\n",
      " 'children_default': array([[ 1,  2, -1, -1,  5, -1, -1],\n",
      "       [ 1,  2, -1, -1,  5, -1, -1]], dtype=int32),\n",
      " 'children_left': array([[ 1,  2, -1, -1,  5, -1, -1],\n",
      "       [ 1,  2, -1, -1,  5, -1, -1]], dtype=int32),\n",
      " 'children_right': array([[ 4,  3, -1, -1,  6, -1, -1],\n",
      "       [ 4,  3, -1, -1,  6, -1, -1]], dtype=int32),\n",
      " 'data': None,\n",
      " 'data_missing': None,\n",
      " 'features': array([[ 1,  0, -2, -2,  0, -2, -2],\n",
      "       [ 1,  1, -2, -2,  0, -2, -2]], dtype=int32),\n",
      " 'fully_defined_weighting': True,\n",
      " 'input_dtype': <class 'numpy.float32'>,\n",
      " 'internal_dtype': <class 'numpy.float64'>,\n",
      " 'max_depth': 2,\n",
      " 'model_output': 'raw',\n",
      " 'model_type': 'internal',\n",
      " 'node_sample_weight': array([[100.,  64.,  37.,  27.,  36.,  26.,  10.],\n",
      "       [100.,  67.,  19.,  48.,  33.,  20.,  13.]]),\n",
      " 'num_nodes': array([7, 7], dtype=int32),\n",
      " 'num_outputs': 1,\n",
      " 'num_stacked_models': 1,\n",
      " 'objective': None,\n",
      " 'thresholds': array([[ 0.10953759,  0.43508366, -2.        , -2.        ,  0.76641414,\n",
      "        -2.        , -2.        ],\n",
      "       [ 0.39371884, -1.36135513, -2.        , -2.        ,  0.68105644,\n",
      "        -2.        , -2.        ]]),\n",
      " 'tree_limit': None,\n",
      " 'tree_output': 'raw_value',\n",
      " 'trees': [<shap.explainers._tree.SingleTree object at 0x7fc5f273f4c0>,\n",
      "           <shap.explainers._tree.SingleTree object at 0x7fc5f273e8f0>],\n",
      " 'values': array([[[ -1.0355408 ],\n",
      "        [ -9.8837559 ],\n",
      "        [-17.29290134],\n",
      "        [  0.26951749],\n",
      "        [ 14.69461938],\n",
      "        [  9.66350021],\n",
      "        [ 27.7755292 ]],\n",
      "\n",
      "       [[ -1.93262144],\n",
      "        [-12.88363291],\n",
      "        [-28.5398326 ],\n",
      "        [ -6.6863872 ],\n",
      "        [ 20.30125034],\n",
      "        [ 10.19350405],\n",
      "        [ 35.85162923]]])}\n",
      "dense tree banz\n"
     ]
    },
    {
     "data": {
      "text/plain": [
       "array([11.24253407, 17.73910925,  0.        ,  0.        ])"
      ]
     },
     "execution_count": 8,
     "metadata": {},
     "output_type": "execute_result"
    },
    {
     "name": "stdout",
     "output_type": "stream",
     "text": [
      "dense tree banz 2\n",
      "banz 1\n",
      "22.4851\n",
      "35.4782\n",
      "0\n",
      "0\n",
      "banz 2\n",
      "dense tree banz 3\n"
     ]
    }
   ],
   "source": [
    "from shap import TreeExplainer as TreeCext\n",
    "texp_cext = TreeCext(regr)\n",
    "\n",
    "texp_cext.shap_values(X[0], banz=True, check_additivity=False)"
   ]
  },
  {
   "cell_type": "code",
   "execution_count": 25,
   "id": "8a5489b0",
   "metadata": {},
   "outputs": [
    {
     "name": "stdout",
     "output_type": "stream",
     "text": [
      "using treeshap and cext\n",
      "tree:\n",
      "{'base_offset': array([0.]),\n",
      " 'cat_feature_indices': None,\n",
      " 'children_default': array([[ 1,  2, -1, -1,  5, -1, -1],\n",
      "       [ 1,  2, -1, -1,  5, -1, -1]], dtype=int32),\n",
      " 'children_left': array([[ 1,  2, -1, -1,  5, -1, -1],\n",
      "       [ 1,  2, -1, -1,  5, -1, -1]], dtype=int32),\n",
      " 'children_right': array([[ 4,  3, -1, -1,  6, -1, -1],\n",
      "       [ 4,  3, -1, -1,  6, -1, -1]], dtype=int32),\n",
      " 'data': None,\n",
      " 'data_missing': None,\n",
      " 'features': array([[ 1,  0, -2, -2,  0, -2, -2],\n",
      "       [ 1,  1, -2, -2,  0, -2, -2]], dtype=int32),\n",
      " 'fully_defined_weighting': True,\n",
      " 'input_dtype': <class 'numpy.float32'>,\n",
      " 'internal_dtype': <class 'numpy.float64'>,\n",
      " 'max_depth': 2,\n",
      " 'model_output': 'raw',\n",
      " 'model_type': 'internal',\n",
      " 'node_sample_weight': array([[100.,  64.,  37.,  27.,  36.,  26.,  10.],\n",
      "       [100.,  67.,  19.,  48.,  33.,  20.,  13.]]),\n",
      " 'num_nodes': array([7, 7], dtype=int32),\n",
      " 'num_outputs': 1,\n",
      " 'num_stacked_models': 1,\n",
      " 'objective': None,\n",
      " 'thresholds': array([[ 0.10953759,  0.43508366, -2.        , -2.        ,  0.76641414,\n",
      "        -2.        , -2.        ],\n",
      "       [ 0.39371884, -1.36135513, -2.        , -2.        ,  0.68105644,\n",
      "        -2.        , -2.        ]]),\n",
      " 'tree_limit': None,\n",
      " 'tree_output': 'raw_value',\n",
      " 'trees': [<shap.explainers._tree.SingleTree object at 0x7fc5f273f4c0>,\n",
      "           <shap.explainers._tree.SingleTree object at 0x7fc5f273e8f0>],\n",
      " 'values': array([[[ -1.0355408 ],\n",
      "        [ -9.8837559 ],\n",
      "        [-17.29290134],\n",
      "        [  0.26951749],\n",
      "        [ 14.69461938],\n",
      "        [  9.66350021],\n",
      "        [ 27.7755292 ]],\n",
      "\n",
      "       [[ -1.93262144],\n",
      "        [-12.88363291],\n",
      "        [-28.5398326 ],\n",
      "        [ -6.6863872 ],\n",
      "        [ 20.30125034],\n",
      "        [ 10.19350405],\n",
      "        [ 35.85162923]]])}\n",
      "here37\n",
      "using dense_Tree_pred\n",
      "dense tree shap\n",
      "test\n"
     ]
    },
    {
     "data": {
      "text/plain": [
       "array([22.48506813, 44.11025254,  0.        ,  0.        ])"
      ]
     },
     "execution_count": 25,
     "metadata": {},
     "output_type": "execute_result"
    }
   ],
   "source": [
    "texp_cext.shap_values(X[0], banz=False)"
   ]
  },
  {
   "cell_type": "code",
   "execution_count": 22,
   "id": "f145ec39",
   "metadata": {},
   "outputs": [
    {
     "data": {
      "text/plain": [
       "array([1.76405235, 0.40015721, 0.97873798, 2.2408932 ])"
      ]
     },
     "execution_count": 22,
     "metadata": {},
     "output_type": "execute_result"
    }
   ],
   "source": [
    "X[0]\n"
   ]
  },
  {
   "cell_type": "code",
   "execution_count": 24,
   "id": "6b62096f",
   "metadata": {},
   "outputs": [
    {
     "ename": "AttributeError",
     "evalue": "'numpy.ndarray' object has no attribute 'iloc'",
     "output_type": "error",
     "traceback": [
      "\u001b[0;31m---------------------------------------------------------------------------\u001b[0m",
      "\u001b[0;31mAttributeError\u001b[0m                            Traceback (most recent call last)",
      "Input \u001b[0;32mIn [24]\u001b[0m, in \u001b[0;36m<cell line: 1>\u001b[0;34m()\u001b[0m\n\u001b[0;32m----> 1\u001b[0m \u001b[43mX\u001b[49m\u001b[38;5;241;43m.\u001b[39;49m\u001b[43miloc\u001b[49m[\u001b[38;5;241m0\u001b[39m]\n",
      "\u001b[0;31mAttributeError\u001b[0m: 'numpy.ndarray' object has no attribute 'iloc'"
     ]
    }
   ],
   "source": [
    "X.iloc[0]"
   ]
  },
  {
   "cell_type": "code",
   "execution_count": null,
   "id": "fd46735b",
   "metadata": {},
   "outputs": [],
   "source": []
  }
 ],
 "metadata": {
  "kernelspec": {
   "display_name": "Python 3 (ipykernel)",
   "language": "python",
   "name": "python3"
  },
  "language_info": {
   "codemirror_mode": {
    "name": "ipython",
    "version": 3
   },
   "file_extension": ".py",
   "mimetype": "text/x-python",
   "name": "python",
   "nbconvert_exporter": "python",
   "pygments_lexer": "ipython3",
   "version": "3.10.4"
  }
 },
 "nbformat": 4,
 "nbformat_minor": 5
}
