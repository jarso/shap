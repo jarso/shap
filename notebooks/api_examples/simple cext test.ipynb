{
 "cells": [
  {
   "cell_type": "code",
   "execution_count": 1,
   "id": "9a0935f2",
   "metadata": {},
   "outputs": [
    {
     "data": {
      "text/plain": [
       "RandomForestRegressor(max_depth=12, n_estimators=300, random_state=0)"
      ]
     },
     "execution_count": 1,
     "metadata": {},
     "output_type": "execute_result"
    }
   ],
   "source": [
    "import shap\n",
    "\n",
    "from sklearn.ensemble import RandomForestRegressor\n",
    "from sklearn.datasets import make_regression\n",
    "import time\n",
    "\n",
    "from shap.explainers.pytree import *\n",
    "\n",
    "X, y = make_regression(n_samples=100, n_features=8, n_informative=2,random_state=0, shuffle=False)\n",
    "regr = RandomForestRegressor(max_depth=12, n_estimators=300, random_state=0)\n",
    "regr.fit(X, y)"
   ]
  },
  {
   "cell_type": "code",
   "execution_count": null,
   "id": "83eb48a8",
   "metadata": {
    "scrolled": true
   },
   "outputs": [],
   "source": [
    "texp = TreeExplainer(regr)\n",
    "start = time.time()\n",
    "res = texp.shap_values(X)\n",
    "print(time.time() - start)\n",
    "res"
   ]
  },
  {
   "cell_type": "code",
   "execution_count": null,
   "id": "658c5fbc",
   "metadata": {},
   "outputs": [],
   "source": [
    "start = time.time()\n",
    "res = texp.banz_values(X)\n",
    "print(time.time() - start)\n",
    "res"
   ]
  },
  {
   "cell_type": "code",
   "execution_count": null,
   "id": "5ccdbf06",
   "metadata": {},
   "outputs": [],
   "source": [
    "# start = time.time()\n",
    "# res = texp.banz_values(X, jit=True)\n",
    "# print(time.time() - start)\n",
    "# res"
   ]
  },
  {
   "cell_type": "code",
   "execution_count": null,
   "id": "ff18ceea",
   "metadata": {},
   "outputs": [],
   "source": [
    "# for i in range(len(X[0])):\n",
    "#     print(texp.brute_banz(X[0], i))"
   ]
  },
  {
   "cell_type": "code",
   "execution_count": 2,
   "id": "eaccf2e5",
   "metadata": {
    "scrolled": true
   },
   "outputs": [
    {
     "name": "stdout",
     "output_type": "stream",
     "text": [
      "ile drzew cext? 300\n"
     ]
    }
   ],
   "source": [
    "from shap import TreeExplainer as TreeCext\n",
    "texp_cext = TreeCext(regr)\n",
    "line = np.asarray(X[:1])"
   ]
  },
  {
   "cell_type": "code",
   "execution_count": 3,
   "id": "f145ec39",
   "metadata": {
    "scrolled": true
   },
   "outputs": [
    {
     "name": "stdout",
     "output_type": "stream",
     "text": [
      "using treeshap and cext\n",
      "banz = False\n",
      "here37\n",
      "using dense_Tree_pred\n",
      "0.340076208114624\n"
     ]
    }
   ],
   "source": [
    "start = time.time()\n",
    "res_cext_shap = texp_cext.shap_values(X, banz=False)\n",
    "print(time.time() - start)"
   ]
  },
  {
   "cell_type": "code",
   "execution_count": 4,
   "id": "f6e3e17f",
   "metadata": {},
   "outputs": [
    {
     "name": "stdout",
     "output_type": "stream",
     "text": [
      "using treeshap and cext\n",
      "using our BANZ\n",
      "banz = True\n",
      "0.5011136531829834\n"
     ]
    }
   ],
   "source": [
    "start = time.time()\n",
    "res_cext_banz = texp_cext.shap_values(X, banz=True)\n",
    "print(time.time() - start)"
   ]
  },
  {
   "cell_type": "code",
   "execution_count": null,
   "id": "b0fc3680",
   "metadata": {},
   "outputs": [],
   "source": [
    "res_cext_shap"
   ]
  },
  {
   "cell_type": "code",
   "execution_count": null,
   "id": "25874715",
   "metadata": {},
   "outputs": [],
   "source": [
    "res_cext_banz"
   ]
  },
  {
   "cell_type": "code",
   "execution_count": null,
   "id": "0ff6dac4",
   "metadata": {},
   "outputs": [],
   "source": []
  },
  {
   "cell_type": "code",
   "execution_count": null,
   "id": "629cd2fb",
   "metadata": {},
   "outputs": [],
   "source": [
    "X[:1]"
   ]
  },
  {
   "cell_type": "code",
   "execution_count": 10,
   "id": "6f0b6fe5",
   "metadata": {},
   "outputs": [
    {
     "name": "stderr",
     "output_type": "stream",
     "text": [
      "Function load_boston is deprecated; `load_boston` is deprecated in 1.0 and will be removed in 1.2.\n",
      "\n",
      "    The Boston housing prices dataset has an ethical problem. You can refer to\n",
      "    the documentation of this function for further details.\n",
      "\n",
      "    The scikit-learn maintainers therefore strongly discourage the use of this\n",
      "    dataset unless the purpose of the code is to study and educate about\n",
      "    ethical issues in data science and machine learning.\n",
      "\n",
      "    In this special case, you can fetch the dataset from the original\n",
      "    source::\n",
      "\n",
      "        import pandas as pd\n",
      "        import numpy as np\n",
      "\n",
      "\n",
      "        data_url = \"http://lib.stat.cmu.edu/datasets/boston\"\n",
      "        raw_df = pd.read_csv(data_url, sep=\"\\s+\", skiprows=22, header=None)\n",
      "        data = np.hstack([raw_df.values[::2, :], raw_df.values[1::2, :2]])\n",
      "        target = raw_df.values[1::2, 2]\n",
      "\n",
      "    Alternative datasets include the California housing dataset (i.e.\n",
      "    :func:`~sklearn.datasets.fetch_california_housing`) and the Ames housing\n",
      "    dataset. You can load the datasets as follows::\n",
      "\n",
      "        from sklearn.datasets import fetch_california_housing\n",
      "        housing = fetch_california_housing()\n",
      "\n",
      "    for the California housing dataset and::\n",
      "\n",
      "        from sklearn.datasets import fetch_openml\n",
      "        housing = fetch_openml(name=\"house_prices\", as_frame=True)\n",
      "\n",
      "    for the Ames housing dataset.\n",
      "    \n"
     ]
    },
    {
     "data": {
      "text/plain": [
       "RandomForestRegressor(max_depth=2, n_estimators=300, random_state=0)"
      ]
     },
     "execution_count": 10,
     "metadata": {},
     "output_type": "execute_result"
    }
   ],
   "source": [
    "X,y = shap.datasets.boston()\n",
    "max_depth=2  # bylo 10\n",
    "model = RandomForestRegressor(max_depth=max_depth, random_state=0, n_estimators=300)\n",
    "model.fit(X, y)"
   ]
  },
  {
   "cell_type": "code",
   "execution_count": null,
   "id": "6c14dc57",
   "metadata": {},
   "outputs": [],
   "source": [
    "# np.asarray(X[:1])"
   ]
  },
  {
   "cell_type": "code",
   "execution_count": 11,
   "id": "22832e52",
   "metadata": {},
   "outputs": [
    {
     "name": "stdout",
     "output_type": "stream",
     "text": [
      "ile drzew cext? 300\n"
     ]
    }
   ],
   "source": [
    "texp_cext = TreeCext(model)\n",
    "line = X # np.asarray(X[:1])"
   ]
  },
  {
   "cell_type": "code",
   "execution_count": null,
   "id": "eba75c40",
   "metadata": {},
   "outputs": [],
   "source": [
    "# res_cext_shap = texp_cext.shap_values(line, banz=False)"
   ]
  },
  {
   "cell_type": "code",
   "execution_count": null,
   "id": "4acca447",
   "metadata": {},
   "outputs": [],
   "source": [
    "# res_cext_banz = texp_cext.shap_values(line, banz=True, check_additivity=False)"
   ]
  },
  {
   "cell_type": "code",
   "execution_count": null,
   "id": "b755c44e",
   "metadata": {},
   "outputs": [],
   "source": [
    "# res_cext_shap"
   ]
  },
  {
   "cell_type": "code",
   "execution_count": null,
   "id": "26fc446d",
   "metadata": {},
   "outputs": [],
   "source": [
    "# res_cext_banz"
   ]
  },
  {
   "cell_type": "code",
   "execution_count": null,
   "id": "8c6901cc",
   "metadata": {},
   "outputs": [],
   "source": [
    "# t = TreeExplainer(model)\n",
    "# t.shap_values(X[:1])"
   ]
  },
  {
   "cell_type": "code",
   "execution_count": null,
   "id": "9099e213",
   "metadata": {
    "scrolled": true
   },
   "outputs": [],
   "source": [
    "# t.banz_values(X[:1])"
   ]
  },
  {
   "cell_type": "code",
   "execution_count": null,
   "id": "4644b377",
   "metadata": {},
   "outputs": [],
   "source": [
    "# for i in range(len(line[0])):\n",
    "#     print(t.brute_banz(line[0], i))"
   ]
  },
  {
   "cell_type": "code",
   "execution_count": null,
   "id": "cf170ab4",
   "metadata": {},
   "outputs": [],
   "source": [
    "# for i in range(len(line[0])):\n",
    "#     print(t.brute_shap(line[0], i))"
   ]
  },
  {
   "cell_type": "code",
   "execution_count": 12,
   "id": "4e574f5a",
   "metadata": {},
   "outputs": [
    {
     "name": "stdout",
     "output_type": "stream",
     "text": [
      "using treeshap and cext\n",
      "banz = False\n",
      "here37\n",
      "using dense_Tree_pred\n",
      "0.2062849998474121\n"
     ]
    }
   ],
   "source": [
    "import time\n",
    "start = time.time()\n",
    "res_cext_shap = texp_cext.shap_values(line, banz=False)\n",
    "print(time.time() - start)"
   ]
  },
  {
   "cell_type": "code",
   "execution_count": 13,
   "id": "f18d7aff",
   "metadata": {},
   "outputs": [
    {
     "name": "stdout",
     "output_type": "stream",
     "text": [
      "using treeshap and cext\n",
      "banz = True\n",
      "0.10482335090637207\n"
     ]
    }
   ],
   "source": [
    "start = time.time()\n",
    "res_cext_shap = texp_cext.shap_values(line, banz=True)\n",
    "print(time.time() - start)"
   ]
  },
  {
   "cell_type": "code",
   "execution_count": null,
   "id": "7d8f2376",
   "metadata": {},
   "outputs": [],
   "source": []
  }
 ],
 "metadata": {
  "kernelspec": {
   "display_name": "Python 3 (ipykernel)",
   "language": "python",
   "name": "python3"
  },
  "language_info": {
   "codemirror_mode": {
    "name": "ipython",
    "version": 3
   },
   "file_extension": ".py",
   "mimetype": "text/x-python",
   "name": "python",
   "nbconvert_exporter": "python",
   "pygments_lexer": "ipython3",
   "version": "3.7.5"
  }
 },
 "nbformat": 4,
 "nbformat_minor": 5
}
