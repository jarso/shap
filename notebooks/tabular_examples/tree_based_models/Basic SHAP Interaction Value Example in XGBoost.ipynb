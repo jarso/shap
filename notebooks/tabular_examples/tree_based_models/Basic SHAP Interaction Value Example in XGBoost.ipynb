{
 "cells": [
  {
   "cell_type": "markdown",
   "metadata": {
    "pycharm": {
     "name": "#%% md\n"
    }
   },
   "source": [
    "# Basic SHAP Interaction Value Example in XGBoost\n",
    "\n",
    "This notebook shows how the SHAP interaction values for a very simple function are computed. We start with a simple linear function, and then add an interaction term to see how it changes the SHAP values and the SHAP interaction values."
   ]
  },
  {
   "cell_type": "code",
   "execution_count": 1,
<<<<<<< HEAD
   "metadata": {},
   "outputs": [
    {
     "name": "stderr",
     "output_type": "stream",
     "text": [
      "/home/jarek/projects/shap/venv/lib/python3.10/site-packages/tqdm/auto.py:22: TqdmWarning: IProgress not found. Please update jupyter and ipywidgets. See https://ipywidgets.readthedocs.io/en/stable/user_install.html\n",
      "  from .autonotebook import tqdm as notebook_tqdm\n",
      "\"is\" with a literal. Did you mean \"==\"?\n",
      "\"is\" with a literal. Did you mean \"==\"?\n",
      "\"is\" with a literal. Did you mean \"==\"?\n",
      "\"is\" with a literal. Did you mean \"==\"?\n",
      "\"is not\" with a literal. Did you mean \"!=\"?\n",
      "\"is not\" with a literal. Did you mean \"!=\"?\n"
     ]
    }
   ],
=======
   "metadata": {
    "pycharm": {
     "is_executing": true,
     "name": "#%%\n"
    }
   },
   "outputs": [],
>>>>>>> 2b0090342866646ab1ce07765a46564c69f9263e
   "source": [
    "import xgboost\n",
    "import numpy as np\n",
    "import shap"
   ]
  },
  {
   "cell_type": "markdown",
   "metadata": {
    "pycharm": {
     "name": "#%% md\n"
    }
   },
   "source": [
    "## Explain a linear function with no interactions"
   ]
  },
  {
   "cell_type": "code",
   "execution_count": 2,
   "metadata": {
    "pycharm": {
     "is_executing": true,
     "name": "#%%\n"
    }
   },
   "outputs": [],
   "source": [
    "# simulate some binary data and a linear outcome with an interaction term\n",
    "# note we make the features in X perfectly independent of each other to make\n",
    "# it easy to solve for the exact SHAP values\n",
    "N = 2000\n",
    "X = np.zeros((N,5))\n",
    "X[:1000,0] = 1\n",
    "X[:500,1] = 1\n",
    "X[1000:1500,1] = 1\n",
    "X[:250,2] = 1\n",
    "X[500:750,2] = 1\n",
    "X[1000:1250,2] = 1\n",
    "X[1500:1750,2] = 1\n",
    "X[:,0:3] -= 0.5\n",
    "y = 2*X[:,0] - 3*X[:,1]"
   ]
  },
  {
   "cell_type": "code",
   "execution_count": 3,
   "metadata": {
    "pycharm": {
     "name": "#%%\n"
    }
   },
   "outputs": [
    {
     "data": {
      "text/plain": [
       "array([[0.25012506, 0.        , 0.        , 0.        , 0.        ],\n",
       "       [0.        , 0.25012506, 0.        , 0.        , 0.        ],\n",
       "       [0.        , 0.        , 0.25012506, 0.        , 0.        ],\n",
       "       [0.        , 0.        , 0.        , 0.        , 0.        ],\n",
       "       [0.        , 0.        , 0.        , 0.        , 0.        ]])"
      ]
     },
     "execution_count": 3,
     "metadata": {},
     "output_type": "execute_result"
    }
   ],
   "source": [
    "# ensure the variables are independent\n",
    "np.cov(X.T)"
   ]
  },
  {
   "cell_type": "code",
   "execution_count": 4,
   "metadata": {
    "pycharm": {
     "name": "#%%\n"
    }
   },
   "outputs": [
    {
     "data": {
      "text/plain": [
       "array([0., 0., 0., 0., 0.])"
      ]
     },
     "execution_count": 4,
     "metadata": {},
     "output_type": "execute_result"
    }
   ],
   "source": [
    "# and mean centered\n",
    "X.mean(0)"
   ]
  },
  {
   "cell_type": "code",
   "execution_count": 5,
   "metadata": {
    "pycharm": {
     "name": "#%%\n"
    }
   },
   "outputs": [
    {
     "name": "stdout",
     "output_type": "stream",
     "text": [
      "Model error = 0.0\n",
      "0:[f1<0] yes=1,no=2,missing=1,gain=4500,cover=2000\n",
      "\t1:[f0<0] yes=3,no=4,missing=3,gain=1000,cover=1000\n",
      "\t\t3:leaf=0.5,cover=500\n",
      "\t\t4:leaf=2.5,cover=500\n",
      "\t2:[f0<0] yes=5,no=6,missing=5,gain=1000,cover=1000\n",
      "\t\t5:leaf=-2.5,cover=500\n",
      "\t\t6:leaf=-0.5,cover=500\n",
      "\n"
     ]
    }
   ],
   "source": [
    "# train a model with single tree\n",
    "Xd = xgboost.DMatrix(X, label=y)\n",
    "model = xgboost.train({\n",
    "    'eta':1, 'max_depth':3, 'base_score': 0, \"lambda\": 0\n",
    "}, Xd, 1)\n",
    "print(\"Model error =\", np.linalg.norm(y-model.predict(Xd)))\n",
    "print(model.get_dump(with_stats=True)[0])"
   ]
  },
  {
   "cell_type": "code",
   "execution_count": 6,
   "metadata": {
    "pycharm": {
     "name": "#%%\n"
    }
   },
   "outputs": [
    {
     "data": {
      "text/plain": [
       "0.0"
      ]
     },
     "execution_count": 6,
     "metadata": {},
     "output_type": "execute_result"
    }
   ],
   "source": [
    "# make sure the SHAP values add up to marginal predictions\n",
    "pred = model.predict(Xd, output_margin=True)\n",
    "explainer = shap.TreeExplainer(model)\n",
    "shap_values = explainer.shap_values(Xd)\n",
    "np.abs(shap_values.sum(1) + explainer.expected_value - pred).max()"
   ]
  },
  {
   "cell_type": "markdown",
   "metadata": {
    "pycharm": {
     "name": "#%% md\n"
    }
   },
   "source": [
    "If we build a summary plot we see that only features 1 and 2 have any effect, and that their effects only have two possible magnitudes (one for -0.5 and for 0.5)."
   ]
  },
  {
   "cell_type": "code",
   "execution_count": 7,
   "metadata": {
    "pycharm": {
     "name": "#%%\n"
    }
   },
   "outputs": [
    {
     "data": {
<<<<<<< HEAD
      "image/png": "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\n",
=======
      "image/png": "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\n",
>>>>>>> 2b0090342866646ab1ce07765a46564c69f9263e
      "text/plain": [
       "<Figure size 576x252 with 2 Axes>"
      ]
     },
     "metadata": {
      "needs_background": "light"
     },
     "output_type": "display_data"
    }
   ],
   "source": [
    "shap.summary_plot(shap_values, X)"
   ]
  },
  {
   "cell_type": "code",
   "execution_count": 8,
   "metadata": {
    "pycharm": {
     "name": "#%%\n"
    }
   },
   "outputs": [
    {
     "data": {
      "text/plain": [
       "array([ 2., -3.,  0.,  0.,  0.])"
      ]
     },
     "execution_count": 8,
     "metadata": {},
     "output_type": "execute_result"
    }
   ],
   "source": [
    "# train a linear model\n",
    "from sklearn import linear_model\n",
    "lr = linear_model.LinearRegression()\n",
    "lr.fit(X, y)\n",
    "lr_pred = lr.predict(X)\n",
    "lr.coef_.round(2)"
   ]
  },
  {
   "cell_type": "code",
   "execution_count": 9,
   "metadata": {
    "pycharm": {
     "name": "#%%\n"
    }
   },
   "outputs": [
    {
     "data": {
      "text/plain": [
<<<<<<< HEAD
       "1.7901808365247238e-13"
=======
       "3.4697834078323924e-13"
>>>>>>> 2b0090342866646ab1ce07765a46564c69f9263e
      ]
     },
     "execution_count": 9,
     "metadata": {},
     "output_type": "execute_result"
    }
   ],
   "source": [
    "# Make sure the computed SHAP values match the true SHAP values\n",
    "# (we can compute the true SHAP values directly for this simple case)\n",
    "main_effect_shap_values = lr.coef_ * (X - X.mean(0))\n",
    "np.linalg.norm(shap_values - main_effect_shap_values)"
   ]
  },
  {
   "cell_type": "markdown",
   "metadata": {
    "pycharm": {
     "name": "#%% md\n"
    }
   },
   "source": [
    "### SHAP Interaction Values\n",
    "\n",
    "Note that when there are no interactions present the SHAP interaction values are just a diagonal matrix with the SHAP values on the diagonal."
   ]
  },
  {
   "cell_type": "code",
   "execution_count": 10,
   "metadata": {
    "pycharm": {
     "name": "#%%\n"
    }
   },
   "outputs": [
    {
     "data": {
      "text/plain": [
       "array([[ 1. ,  0. ,  0. ,  0. ,  0. ],\n",
       "       [ 0. , -1.5,  0. ,  0. ,  0. ],\n",
       "       [ 0. ,  0. ,  0. ,  0. ,  0. ],\n",
       "       [ 0. ,  0. ,  0. ,  0. ,  0. ],\n",
       "       [ 0. ,  0. ,  0. ,  0. ,  0. ]], dtype=float32)"
      ]
     },
     "execution_count": 10,
     "metadata": {},
     "output_type": "execute_result"
    }
   ],
   "source": [
    "shap_interaction_values = explainer.shap_interaction_values(Xd)\n",
    "shap_interaction_values[0]"
   ]
  },
  {
   "cell_type": "code",
   "execution_count": 11,
   "metadata": {
    "pycharm": {
     "name": "#%%\n"
    }
   },
   "outputs": [
    {
     "data": {
      "text/plain": [
       "0.0"
      ]
     },
     "execution_count": 11,
     "metadata": {},
     "output_type": "execute_result"
    }
   ],
   "source": [
    "# ensure the SHAP interaction values sum to the marginal predictions\n",
    "np.abs(shap_interaction_values.sum((1,2)) + explainer.expected_value - pred).max()"
   ]
  },
  {
   "cell_type": "code",
   "execution_count": 12,
   "metadata": {
    "pycharm": {
     "name": "#%%\n"
    }
   },
   "outputs": [
    {
     "data": {
      "text/plain": [
<<<<<<< HEAD
       "1.1102230246251565e-11"
=======
       "2.0858640356498003e-11"
>>>>>>> 2b0090342866646ab1ce07765a46564c69f9263e
      ]
     },
     "execution_count": 12,
     "metadata": {},
     "output_type": "execute_result"
    }
   ],
   "source": [
    "# ensure the main effects from the SHAP interaction values match those from a linear model\n",
    "dinds = np.diag_indices(shap_interaction_values.shape[1])\n",
    "total = 0\n",
    "for i in range(N):\n",
    "    for j in range(5):\n",
    "        total += np.abs(shap_interaction_values[i,j,j] - main_effect_shap_values[i,j])\n",
    "total"
   ]
  },
  {
   "cell_type": "markdown",
   "metadata": {
    "pycharm": {
     "name": "#%% md\n"
    }
   },
   "source": [
    "## Explain a linear model with one interaction"
   ]
  },
  {
   "cell_type": "code",
   "execution_count": 13,
   "metadata": {
    "pycharm": {
     "name": "#%%\n"
    }
   },
   "outputs": [],
   "source": [
    "# simulate some binary data and a linear outcome with an interaction term\n",
    "# note we make the features in X perfectly independent of each other to make\n",
    "# it easy to solve for the exact SHAP values\n",
    "N = 2000\n",
    "X = np.zeros((N,5))\n",
    "X[:1000,0] = 1\n",
    "\n",
    "X[:500,1] = 1\n",
    "X[1000:1500,1] = 1\n",
    "\n",
    "X[:250,2] = 1\n",
    "X[500:750,2] = 1\n",
    "X[1000:1250,2] = 1\n",
    "X[1500:1750,2] = 1\n",
    "\n",
    "X[:125,3] = 1\n",
    "X[250:375,3] = 1\n",
    "X[500:625,3] = 1\n",
    "X[750:875,3] = 1\n",
    "X[1000:1125,3] = 1\n",
    "X[1250:1375,3] = 1\n",
    "X[1500:1625,3] = 1\n",
    "X[1750:1875,3] = 1\n",
    "X[:,:4] -= 0.4999 # we can't exactly mean center the data or XGBoost has trouble finding the splits\n",
    "y = 2* X[:,0] - 3 * X[:,1] + 2 * X[:,1] * X[:,2]"
   ]
  },
  {
   "cell_type": "code",
   "execution_count": 14,
   "metadata": {
    "pycharm": {
     "name": "#%%\n"
    }
   },
   "outputs": [
    {
     "data": {
      "text/plain": [
       "array([1.e-04, 1.e-04, 1.e-04, 1.e-04, 0.e+00])"
      ]
     },
     "execution_count": 14,
     "metadata": {},
     "output_type": "execute_result"
    }
   ],
   "source": [
    "X.mean(0)"
   ]
  },
  {
   "cell_type": "code",
   "execution_count": 15,
   "metadata": {
    "pycharm": {
     "name": "#%%\n"
    }
   },
   "outputs": [
    {
     "name": "stdout",
     "output_type": "stream",
     "text": [
<<<<<<< HEAD
      "Model error = 1.7365037830677595e-06\n",
=======
      "Model error = 1.7365037830677591e-06\n",
>>>>>>> 2b0090342866646ab1ce07765a46564c69f9263e
      "0:[f1<0.000100001693] yes=1,no=2,missing=1,gain=4499.40039,cover=2000\n",
      "\t1:[f0<0.000100001693] yes=3,no=4,missing=3,gain=999.999756,cover=1000\n",
      "\t\t3:[f2<0.000100001693] yes=7,no=8,missing=7,gain=124.949997,cover=500\n",
      "\t\t\t7:leaf=0.99970001,cover=250\n",
      "\t\t\t8:leaf=-9.99800031e-05,cover=250\n",
      "\t\t4:[f2<0.000100001693] yes=9,no=10,missing=9,gain=124.949951,cover=500\n",
      "\t\t\t9:leaf=2.99970007,cover=250\n",
      "\t\t\t10:leaf=1.99989998,cover=250\n",
      "\t2:[f0<0.000100001693] yes=5,no=6,missing=5,gain=999.999756,cover=1000\n",
      "\t\t5:[f2<0.000100001693] yes=11,no=12,missing=11,gain=125.050049,cover=500\n",
      "\t\t\t11:leaf=-3.0000999,cover=250\n",
      "\t\t\t12:leaf=-1.99989998,cover=250\n",
      "\t\t6:[f2<0.000100001693] yes=13,no=14,missing=13,gain=125.050018,cover=500\n",
      "\t\t\t13:leaf=-1.00010002,cover=250\n",
      "\t\t\t14:leaf=0.000100019999,cover=250\n",
      "\n"
     ]
    }
   ],
   "source": [
    "# train a model with single tree\n",
    "Xd = xgboost.DMatrix(X, label=y)\n",
    "model = xgboost.train({\n",
    "    'eta':1, 'max_depth':4, 'base_score': 0, \"lambda\": 0\n",
    "}, Xd, 1)\n",
    "print(\"Model error =\", np.linalg.norm(y-model.predict(Xd)))\n",
    "print(model.get_dump(with_stats=True)[0])"
   ]
  },
  {
   "cell_type": "code",
   "execution_count": 16,
   "metadata": {
    "pycharm": {
     "name": "#%%\n"
    }
   },
   "outputs": [
    {
     "data": {
      "text/plain": [
       "4.7683716e-07"
      ]
     },
     "execution_count": 16,
     "metadata": {},
     "output_type": "execute_result"
    }
   ],
   "source": [
    "# make sure the SHAP values add up to marginal predictions\n",
    "pred = model.predict(Xd, output_margin=True)\n",
    "explainer = shap.TreeExplainer(model)\n",
    "shap_values = explainer.shap_values(Xd)\n",
    "np.abs(shap_values.sum(1) + explainer.expected_value - pred).max()"
   ]
  },
  {
   "cell_type": "markdown",
   "metadata": {
    "pycharm": {
     "name": "#%% md\n"
    }
   },
   "source": [
    "If we build a summary plot we see that now only features 3 and 4 don't matter, and that feature 1 can have four possible effect sizes due to interactions."
   ]
  },
  {
   "cell_type": "code",
   "execution_count": 17,
   "metadata": {
    "pycharm": {
     "name": "#%%\n"
    }
   },
   "outputs": [
    {
     "data": {
<<<<<<< HEAD
      "image/png": "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\n",
=======
      "image/png": "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\n",
>>>>>>> 2b0090342866646ab1ce07765a46564c69f9263e
      "text/plain": [
       "<Figure size 576x252 with 2 Axes>"
      ]
     },
     "metadata": {
      "needs_background": "light"
     },
     "output_type": "display_data"
    }
   ],
   "source": [
    "shap.summary_plot(shap_values, X)"
   ]
  },
  {
   "cell_type": "code",
   "execution_count": 18,
   "metadata": {
    "pycharm": {
     "name": "#%%\n"
    }
   },
   "outputs": [
    {
     "data": {
      "text/plain": [
       "array([ 2., -3.,  0., -0.,  0.])"
      ]
     },
     "execution_count": 18,
     "metadata": {},
     "output_type": "execute_result"
    }
   ],
   "source": [
    "# train a linear model\n",
    "lr = linear_model.LinearRegression()\n",
    "lr.fit(X, y)\n",
    "lr_pred = lr.predict(X)\n",
    "lr.coef_.round(2)"
   ]
  },
  {
   "cell_type": "code",
   "execution_count": 19,
   "metadata": {
    "pycharm": {
     "name": "#%%\n"
    }
   },
   "outputs": [
    {
     "data": {
      "text/plain": [
<<<<<<< HEAD
       "15.811387829626868"
=======
       "15.811387829626844"
>>>>>>> 2b0090342866646ab1ce07765a46564c69f9263e
      ]
     },
     "execution_count": 19,
     "metadata": {},
     "output_type": "execute_result"
    }
   ],
   "source": [
    "# Note that the SHAP values no longer match the main effects because they now include interaction effects\n",
    "main_effect_shap_values = lr.coef_ * (X - X.mean(0))\n",
    "np.linalg.norm(shap_values - main_effect_shap_values)"
   ]
  },
  {
   "cell_type": "markdown",
   "metadata": {
    "pycharm": {
     "name": "#%% md\n"
    }
   },
   "source": [
    "### SHAP interaction values"
   ]
  },
  {
   "cell_type": "code",
   "execution_count": 20,
   "metadata": {
    "pycharm": {
     "name": "#%%\n"
    }
   },
   "outputs": [
    {
     "data": {
      "text/plain": [
       "array([[ 1.  ,  0.  ,  0.  ,  0.  ,  0.  ],\n",
       "       [ 0.  , -1.5 ,  0.25,  0.  ,  0.  ],\n",
       "       [ 0.  ,  0.25,  0.  ,  0.  ,  0.  ],\n",
       "       [ 0.  ,  0.  ,  0.  ,  0.  ,  0.  ],\n",
       "       [ 0.  ,  0.  ,  0.  ,  0.  ,  0.  ]], dtype=float32)"
      ]
     },
     "execution_count": 20,
     "metadata": {},
     "output_type": "execute_result"
    }
   ],
   "source": [
    "# SHAP interaction contributions:\n",
    "shap_interaction_values = explainer.shap_interaction_values(Xd)\n",
    "shap_interaction_values[0].round(2)"
   ]
  },
  {
   "cell_type": "code",
   "execution_count": 21,
   "metadata": {
    "pycharm": {
     "name": "#%%\n"
    }
   },
   "outputs": [
    {
     "data": {
      "text/plain": [
       "4.7683716e-07"
      ]
     },
     "execution_count": 21,
     "metadata": {},
     "output_type": "execute_result"
    }
   ],
   "source": [
    "# ensure the SHAP interaction values sum to the marginal predictions\n",
    "np.abs(shap_interaction_values.sum((1,2)) + explainer.expected_value - pred).max()"
   ]
  },
  {
   "cell_type": "code",
   "execution_count": 22,
   "metadata": {
    "pycharm": {
     "name": "#%%\n"
    }
   },
   "outputs": [
    {
     "data": {
      "text/plain": [
<<<<<<< HEAD
       "0.0005347490439899614"
=======
       "0.0005347490463769409"
>>>>>>> 2b0090342866646ab1ce07765a46564c69f9263e
      ]
     },
     "execution_count": 22,
     "metadata": {},
     "output_type": "execute_result"
    }
   ],
   "source": [
    "# ensure the main effects from the SHAP interaction values match those from a linear model.\n",
    "# while the main effects no longer match the SHAP values when interactions are present, they do match\n",
    "# the main effects on the diagonal of the SHAP interaction value matrix\n",
    "dinds = np.diag_indices(shap_interaction_values.shape[1])\n",
    "total = 0\n",
    "for i in range(N):\n",
    "    for j in range(5):\n",
    "        total += np.abs(shap_interaction_values[i,j,j] - main_effect_shap_values[i,j])\n",
    "total"
   ]
  },
  {
   "cell_type": "markdown",
   "metadata": {
    "pycharm": {
     "name": "#%% md\n"
    }
   },
   "source": [
    "If we build a dependence plot for feature 0 we that it only takes two values and that these values are entirely dependent on the value of the feature (the value of feature 0 entirely determines it's effect because it has no interactions with other features)."
   ]
  },
  {
   "cell_type": "code",
   "execution_count": 23,
   "metadata": {
    "pycharm": {
     "name": "#%%\n"
    }
   },
   "outputs": [
    {
     "data": {
<<<<<<< HEAD
      "image/png": "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\n",
=======
      "image/png": "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\n",
>>>>>>> 2b0090342866646ab1ce07765a46564c69f9263e
      "text/plain": [
       "<Figure size 540x360 with 2 Axes>"
      ]
     },
     "metadata": {
      "needs_background": "light"
     },
     "output_type": "display_data"
    }
   ],
   "source": [
    "shap.dependence_plot(0, shap_values, X)"
   ]
  },
  {
   "cell_type": "markdown",
   "metadata": {
    "pycharm": {
     "name": "#%% md\n"
    }
   },
   "source": [
    "In contrast if we build a dependence plot for feature 2 we see that it takes 4 possible values and they are not entirely determined by the value of feature 2, instead they also depend on the value of feature 3. This vertical spread in a dependence plot represents the effects of non-linear interactions."
   ]
  },
  {
   "cell_type": "code",
   "execution_count": 24,
   "metadata": {
    "pycharm": {
     "name": "#%%\n"
    }
   },
   "outputs": [
    {
     "name": "stderr",
     "output_type": "stream",
     "text": [
      "invalid value encountered in true_divide\n",
      "invalid value encountered in true_divide\n"
     ]
    },
    {
     "data": {
      "image/png": "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\n",
      "text/plain": [
       "<Figure size 432x360 with 1 Axes>"
      ]
     },
     "metadata": {
      "needs_background": "light"
     },
     "output_type": "display_data"
    }
   ],
   "source": [
    "shap.dependence_plot(2, shap_values, X)"
   ]
  }
 ],
 "metadata": {
  "anaconda-cloud": {},
  "kernelspec": {
   "display_name": "Python 3 (ipykernel)",
   "language": "python",
   "name": "python3"
  },
  "language_info": {
   "codemirror_mode": {
    "name": "ipython",
    "version": 3
   },
   "file_extension": ".py",
   "mimetype": "text/x-python",
   "name": "python",
   "nbconvert_exporter": "python",
   "pygments_lexer": "ipython3",
<<<<<<< HEAD
   "version": "3.10.4"
=======
   "version": "3.7.5"
>>>>>>> 2b0090342866646ab1ce07765a46564c69f9263e
  }
 },
 "nbformat": 4,
 "nbformat_minor": 1
}